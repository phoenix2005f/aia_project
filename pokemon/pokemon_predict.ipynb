{
 "cells": [
  {
   "cell_type": "code",
   "execution_count": 6,
   "metadata": {},
   "outputs": [],
   "source": [
    "import pandas as pd\n",
    "import matplotlib.pyplot as plt\n",
    "import numpy as np\n",
    "import tensorflow as tf\n",
    "from imblearn.over_sampling import RandomOverSampler\n",
    "%matplotlib inline"
   ]
  },
  {
   "cell_type": "code",
   "execution_count": 7,
   "metadata": {},
   "outputs": [
    {
     "name": "stderr",
     "output_type": "stream",
     "text": [
      "/opt/conda/lib/python3.6/site-packages/IPython/core/interactiveshell.py:2785: DtypeWarning: Columns (26) have mixed types. Specify dtype option on import or set low_memory=False.\n",
      "  interactivity=interactivity, compiler=compiler, result=result)\n"
     ]
    }
   ],
   "source": [
    "train_df = pd.read_csv('./train.csv')\n",
    "test_df = pd.read_csv('./test.csv')"
   ]
  },
  {
   "cell_type": "code",
   "execution_count": 8,
   "metadata": {},
   "outputs": [
    {
     "name": "stderr",
     "output_type": "stream",
     "text": [
      "/opt/conda/lib/python3.6/site-packages/pandas/core/frame.py:6211: FutureWarning: Sorting because non-concatenation axis is not aligned. A future version\n",
      "of pandas will change to not sort by default.\n",
      "\n",
      "To accept the future behavior, pass 'sort=False'.\n",
      "\n",
      "To retain the current behavior and silence the warning, pass 'sort=True'.\n",
      "\n",
      "  sort=sort)\n"
     ]
    }
   ],
   "source": [
    "all_data = train_df.append(test_df)\n",
    "all_data.reset_index(inplace=True,drop=True)"
   ]
  },
  {
   "cell_type": "code",
   "execution_count": 9,
   "metadata": {},
   "outputs": [],
   "source": [
    "split_index = train_df.shape[0]\n",
    "train_data = all_data[:split_index]"
   ]
  },
  {
   "cell_type": "code",
   "execution_count": null,
   "metadata": {},
   "outputs": [],
   "source": []
  },
  {
   "cell_type": "code",
   "execution_count": null,
   "metadata": {},
   "outputs": [],
   "source": []
  },
  {
   "cell_type": "code",
   "execution_count": 5,
   "metadata": {},
   "outputs": [
    {
     "data": {
      "text/html": [
       "<div>\n",
       "<style scoped>\n",
       "    .dataframe tbody tr th:only-of-type {\n",
       "        vertical-align: middle;\n",
       "    }\n",
       "\n",
       "    .dataframe tbody tr th {\n",
       "        vertical-align: top;\n",
       "    }\n",
       "\n",
       "    .dataframe thead th {\n",
       "        text-align: right;\n",
       "    }\n",
       "</style>\n",
       "<table border=\"1\" class=\"dataframe\">\n",
       "  <thead>\n",
       "    <tr style=\"text-align: right;\">\n",
       "      <th></th>\n",
       "      <th>class__0.0</th>\n",
       "      <th>class__1.0</th>\n",
       "      <th>class__2.0</th>\n",
       "      <th>class__3.0</th>\n",
       "      <th>class__4.0</th>\n",
       "      <th>class__5.0</th>\n",
       "    </tr>\n",
       "  </thead>\n",
       "  <tbody>\n",
       "    <tr>\n",
       "      <th>0</th>\n",
       "      <td>1</td>\n",
       "      <td>0</td>\n",
       "      <td>0</td>\n",
       "      <td>0</td>\n",
       "      <td>0</td>\n",
       "      <td>0</td>\n",
       "    </tr>\n",
       "    <tr>\n",
       "      <th>1</th>\n",
       "      <td>1</td>\n",
       "      <td>0</td>\n",
       "      <td>0</td>\n",
       "      <td>0</td>\n",
       "      <td>0</td>\n",
       "      <td>0</td>\n",
       "    </tr>\n",
       "    <tr>\n",
       "      <th>2</th>\n",
       "      <td>1</td>\n",
       "      <td>0</td>\n",
       "      <td>0</td>\n",
       "      <td>0</td>\n",
       "      <td>0</td>\n",
       "      <td>0</td>\n",
       "    </tr>\n",
       "    <tr>\n",
       "      <th>3</th>\n",
       "      <td>1</td>\n",
       "      <td>0</td>\n",
       "      <td>0</td>\n",
       "      <td>0</td>\n",
       "      <td>0</td>\n",
       "      <td>0</td>\n",
       "    </tr>\n",
       "    <tr>\n",
       "      <th>4</th>\n",
       "      <td>1</td>\n",
       "      <td>0</td>\n",
       "      <td>0</td>\n",
       "      <td>0</td>\n",
       "      <td>0</td>\n",
       "      <td>0</td>\n",
       "    </tr>\n",
       "  </tbody>\n",
       "</table>\n",
       "</div>"
      ],
      "text/plain": [
       "   class__0.0  class__1.0  class__2.0  class__3.0  class__4.0  class__5.0\n",
       "0           1           0           0           0           0           0\n",
       "1           1           0           0           0           0           0\n",
       "2           1           0           0           0           0           0\n",
       "3           1           0           0           0           0           0\n",
       "4           1           0           0           0           0           0"
      ]
     },
     "execution_count": 5,
     "metadata": {},
     "output_type": "execute_result"
    }
   ],
   "source": [
    "y_train = pd.get_dummies(all_data[:split_index]['class'],prefix='class_')\n",
    "y_train.head()"
   ]
  },
  {
   "cell_type": "code",
   "execution_count": 153,
   "metadata": {},
   "outputs": [
    {
     "data": {
      "text/plain": [
       "Index(['_id', 'appearedHour', 'appearedMinute', 'appearedTimeOfDay', 'city',\n",
       "       'class', 'closeToWater', 'continent', 'cooc_1', 'cooc_10',\n",
       "       ...\n",
       "       'pressure', 'rural', 'suburban', 'temperature', 'terrainType', 'urban',\n",
       "       'weather', 'weatherIcon', 'windBearing', 'windSpeed'],\n",
       "      dtype='object', length=185)"
      ]
     },
     "execution_count": 153,
     "metadata": {},
     "output_type": "execute_result"
    }
   ],
   "source": [
    "all_data.columns"
   ]
  },
  {
   "cell_type": "markdown",
   "metadata": {},
   "source": [
    "> 分成category 和continous"
   ]
  },
  {
   "cell_type": "code",
   "execution_count": 154,
   "metadata": {},
   "outputs": [],
   "source": [
    "category_type = ['appearedTimeOfDay','terrainType','closeToWater','city','continent','weather','weatherIcon','rural'\n",
    "                 ,'rural','midurban','suburban','urban','gymIn1000m', 'gymIn100m', 'gymIn2500m', 'gymIn250m', \n",
    "                 'gymIn5000m','gymIn500m','pokestopIn1000m', 'pokestopIn100m', 'pokestopIn2500m',\n",
    "       'pokestopIn250m', 'pokestopIn5000m', 'pokestopIn500m']\n",
    "\n",
    "for i in range(151):\n",
    "    cooc_name = 'cooc_'+str(i+1)\n",
    "    category_type.append(cooc_name)\n",
    "    \n",
    "continous_type=['appearedHour','appearedMinute','temperature','windSpeed','windBearing','pressure','population_density','gymDistanceKm',\n",
    "               'pokestopDistanceKm']"
   ]
  },
  {
   "cell_type": "markdown",
   "metadata": {},
   "source": [
    "> 將['appearedTimeOfDay','terrainType','city','continent','weather','weatherIcon'] getdummy後再把原來drop掉"
   ]
  },
  {
   "cell_type": "code",
   "execution_count": 155,
   "metadata": {},
   "outputs": [],
   "source": [
    "temp_col = all_data[category_type].select_dtypes(exclude=['bool']).columns\n",
    "\n",
    "for col in temp_col:\n",
    "    temp_df = pd.get_dummies(all_data[col],prefix=str(col)+'_')\n",
    "    all_data=pd.concat([all_data,temp_df],axis=1)"
   ]
  },
  {
   "cell_type": "markdown",
   "metadata": {},
   "source": [
    "> drop 不用的column"
   ]
  },
  {
   "cell_type": "code",
   "execution_count": 156,
   "metadata": {},
   "outputs": [],
   "source": [
    "all_data.drop(['appearedTimeOfDay','terrainType','city','continent','weather','weatherIcon'],axis=1,inplace=True)"
   ]
  },
  {
   "cell_type": "code",
   "execution_count": 157,
   "metadata": {},
   "outputs": [],
   "source": [
    "all_data.drop(['_id'],axis=1,inplace=True)"
   ]
  },
  {
   "cell_type": "code",
   "execution_count": 158,
   "metadata": {},
   "outputs": [],
   "source": [
    "all_data.drop(['class'],axis=1,inplace=True)"
   ]
  },
  {
   "cell_type": "markdown",
   "metadata": {},
   "source": [
    "> 將boolean 轉成0,1"
   ]
  },
  {
   "cell_type": "code",
   "execution_count": 159,
   "metadata": {},
   "outputs": [
    {
     "data": {
      "text/plain": [
       "Index(['closeToWater', 'cooc_1', 'cooc_10', 'cooc_100', 'cooc_101', 'cooc_102',\n",
       "       'cooc_103', 'cooc_104', 'cooc_105', 'cooc_106',\n",
       "       ...\n",
       "       'midurban', 'pokestopIn1000m', 'pokestopIn100m', 'pokestopIn2500m',\n",
       "       'pokestopIn250m', 'pokestopIn5000m', 'pokestopIn500m', 'rural',\n",
       "       'suburban', 'urban'],\n",
       "      dtype='object', length=168)"
      ]
     },
     "execution_count": 159,
     "metadata": {},
     "output_type": "execute_result"
    }
   ],
   "source": [
    "all_data.select_dtypes(include=['bool']).columns"
   ]
  },
  {
   "cell_type": "code",
   "execution_count": 160,
   "metadata": {},
   "outputs": [],
   "source": [
    "all_data[all_data.select_dtypes(include=['bool']).columns] = all_data.select_dtypes(include=['bool'])*1\n"
   ]
  },
  {
   "cell_type": "code",
   "execution_count": 161,
   "metadata": {},
   "outputs": [
    {
     "data": {
      "text/html": [
       "<div>\n",
       "<style scoped>\n",
       "    .dataframe tbody tr th:only-of-type {\n",
       "        vertical-align: middle;\n",
       "    }\n",
       "\n",
       "    .dataframe tbody tr th {\n",
       "        vertical-align: top;\n",
       "    }\n",
       "\n",
       "    .dataframe thead th {\n",
       "        text-align: right;\n",
       "    }\n",
       "</style>\n",
       "<table border=\"1\" class=\"dataframe\">\n",
       "  <thead>\n",
       "    <tr style=\"text-align: right;\">\n",
       "      <th></th>\n",
       "      <th>appearedHour</th>\n",
       "      <th>appearedMinute</th>\n",
       "      <th>closeToWater</th>\n",
       "      <th>cooc_1</th>\n",
       "      <th>cooc_10</th>\n",
       "      <th>cooc_100</th>\n",
       "      <th>cooc_101</th>\n",
       "      <th>cooc_102</th>\n",
       "      <th>cooc_103</th>\n",
       "      <th>cooc_104</th>\n",
       "      <th>...</th>\n",
       "      <th>weather__Windy</th>\n",
       "      <th>weather__WindyandFoggy</th>\n",
       "      <th>weatherIcon__clear-day</th>\n",
       "      <th>weatherIcon__clear-night</th>\n",
       "      <th>weatherIcon__cloudy</th>\n",
       "      <th>weatherIcon__fog</th>\n",
       "      <th>weatherIcon__partly-cloudy-day</th>\n",
       "      <th>weatherIcon__partly-cloudy-night</th>\n",
       "      <th>weatherIcon__rain</th>\n",
       "      <th>weatherIcon__wind</th>\n",
       "    </tr>\n",
       "  </thead>\n",
       "  <tbody>\n",
       "    <tr>\n",
       "      <th>0</th>\n",
       "      <td>8</td>\n",
       "      <td>2</td>\n",
       "      <td>0</td>\n",
       "      <td>0</td>\n",
       "      <td>0</td>\n",
       "      <td>0</td>\n",
       "      <td>0</td>\n",
       "      <td>0</td>\n",
       "      <td>0</td>\n",
       "      <td>0</td>\n",
       "      <td>...</td>\n",
       "      <td>0</td>\n",
       "      <td>0</td>\n",
       "      <td>0</td>\n",
       "      <td>1</td>\n",
       "      <td>0</td>\n",
       "      <td>0</td>\n",
       "      <td>0</td>\n",
       "      <td>0</td>\n",
       "      <td>0</td>\n",
       "      <td>0</td>\n",
       "    </tr>\n",
       "    <tr>\n",
       "      <th>1</th>\n",
       "      <td>4</td>\n",
       "      <td>41</td>\n",
       "      <td>0</td>\n",
       "      <td>0</td>\n",
       "      <td>1</td>\n",
       "      <td>0</td>\n",
       "      <td>0</td>\n",
       "      <td>0</td>\n",
       "      <td>0</td>\n",
       "      <td>0</td>\n",
       "      <td>...</td>\n",
       "      <td>0</td>\n",
       "      <td>0</td>\n",
       "      <td>0</td>\n",
       "      <td>1</td>\n",
       "      <td>0</td>\n",
       "      <td>0</td>\n",
       "      <td>0</td>\n",
       "      <td>0</td>\n",
       "      <td>0</td>\n",
       "      <td>0</td>\n",
       "    </tr>\n",
       "    <tr>\n",
       "      <th>2</th>\n",
       "      <td>3</td>\n",
       "      <td>6</td>\n",
       "      <td>0</td>\n",
       "      <td>0</td>\n",
       "      <td>0</td>\n",
       "      <td>0</td>\n",
       "      <td>0</td>\n",
       "      <td>0</td>\n",
       "      <td>0</td>\n",
       "      <td>1</td>\n",
       "      <td>...</td>\n",
       "      <td>0</td>\n",
       "      <td>0</td>\n",
       "      <td>1</td>\n",
       "      <td>0</td>\n",
       "      <td>0</td>\n",
       "      <td>0</td>\n",
       "      <td>0</td>\n",
       "      <td>0</td>\n",
       "      <td>0</td>\n",
       "      <td>0</td>\n",
       "    </tr>\n",
       "    <tr>\n",
       "      <th>3</th>\n",
       "      <td>23</td>\n",
       "      <td>33</td>\n",
       "      <td>1</td>\n",
       "      <td>0</td>\n",
       "      <td>1</td>\n",
       "      <td>0</td>\n",
       "      <td>0</td>\n",
       "      <td>0</td>\n",
       "      <td>0</td>\n",
       "      <td>0</td>\n",
       "      <td>...</td>\n",
       "      <td>0</td>\n",
       "      <td>0</td>\n",
       "      <td>0</td>\n",
       "      <td>0</td>\n",
       "      <td>0</td>\n",
       "      <td>0</td>\n",
       "      <td>0</td>\n",
       "      <td>0</td>\n",
       "      <td>1</td>\n",
       "      <td>0</td>\n",
       "    </tr>\n",
       "    <tr>\n",
       "      <th>4</th>\n",
       "      <td>14</td>\n",
       "      <td>48</td>\n",
       "      <td>0</td>\n",
       "      <td>0</td>\n",
       "      <td>0</td>\n",
       "      <td>0</td>\n",
       "      <td>0</td>\n",
       "      <td>0</td>\n",
       "      <td>0</td>\n",
       "      <td>0</td>\n",
       "      <td>...</td>\n",
       "      <td>0</td>\n",
       "      <td>0</td>\n",
       "      <td>1</td>\n",
       "      <td>0</td>\n",
       "      <td>0</td>\n",
       "      <td>0</td>\n",
       "      <td>0</td>\n",
       "      <td>0</td>\n",
       "      <td>0</td>\n",
       "      <td>0</td>\n",
       "    </tr>\n",
       "  </tbody>\n",
       "</table>\n",
       "<p>5 rows × 318 columns</p>\n",
       "</div>"
      ],
      "text/plain": [
       "   appearedHour  appearedMinute closeToWater cooc_1 cooc_10 cooc_100 cooc_101  \\\n",
       "0             8               2            0      0       0        0        0   \n",
       "1             4              41            0      0       1        0        0   \n",
       "2             3               6            0      0       0        0        0   \n",
       "3            23              33            1      0       1        0        0   \n",
       "4            14              48            0      0       0        0        0   \n",
       "\n",
       "  cooc_102 cooc_103 cooc_104        ...        weather__Windy  \\\n",
       "0        0        0        0        ...                     0   \n",
       "1        0        0        0        ...                     0   \n",
       "2        0        0        1        ...                     0   \n",
       "3        0        0        0        ...                     0   \n",
       "4        0        0        0        ...                     0   \n",
       "\n",
       "  weather__WindyandFoggy weatherIcon__clear-day weatherIcon__clear-night  \\\n",
       "0                      0                      0                        1   \n",
       "1                      0                      0                        1   \n",
       "2                      0                      1                        0   \n",
       "3                      0                      0                        0   \n",
       "4                      0                      1                        0   \n",
       "\n",
       "  weatherIcon__cloudy weatherIcon__fog weatherIcon__partly-cloudy-day  \\\n",
       "0                   0                0                              0   \n",
       "1                   0                0                              0   \n",
       "2                   0                0                              0   \n",
       "3                   0                0                              0   \n",
       "4                   0                0                              0   \n",
       "\n",
       "  weatherIcon__partly-cloudy-night weatherIcon__rain weatherIcon__wind  \n",
       "0                                0                 0                 0  \n",
       "1                                0                 0                 0  \n",
       "2                                0                 0                 0  \n",
       "3                                0                 1                 0  \n",
       "4                                0                 0                 0  \n",
       "\n",
       "[5 rows x 318 columns]"
      ]
     },
     "execution_count": 161,
     "metadata": {},
     "output_type": "execute_result"
    }
   ],
   "source": [
    "all_data.head()"
   ]
  },
  {
   "cell_type": "markdown",
   "metadata": {},
   "source": [
    "> 出現的時間和分鐘全都轉成分鐘"
   ]
  },
  {
   "cell_type": "code",
   "execution_count": 162,
   "metadata": {},
   "outputs": [
    {
     "data": {
      "text/html": [
       "<div>\n",
       "<style scoped>\n",
       "    .dataframe tbody tr th:only-of-type {\n",
       "        vertical-align: middle;\n",
       "    }\n",
       "\n",
       "    .dataframe tbody tr th {\n",
       "        vertical-align: top;\n",
       "    }\n",
       "\n",
       "    .dataframe thead th {\n",
       "        text-align: right;\n",
       "    }\n",
       "</style>\n",
       "<table border=\"1\" class=\"dataframe\">\n",
       "  <thead>\n",
       "    <tr style=\"text-align: right;\">\n",
       "      <th></th>\n",
       "      <th>appear_to_minutes</th>\n",
       "    </tr>\n",
       "  </thead>\n",
       "  <tbody>\n",
       "    <tr>\n",
       "      <th>0</th>\n",
       "      <td>482</td>\n",
       "    </tr>\n",
       "    <tr>\n",
       "      <th>1</th>\n",
       "      <td>281</td>\n",
       "    </tr>\n",
       "    <tr>\n",
       "      <th>2</th>\n",
       "      <td>186</td>\n",
       "    </tr>\n",
       "    <tr>\n",
       "      <th>3</th>\n",
       "      <td>1413</td>\n",
       "    </tr>\n",
       "    <tr>\n",
       "      <th>4</th>\n",
       "      <td>888</td>\n",
       "    </tr>\n",
       "  </tbody>\n",
       "</table>\n",
       "</div>"
      ],
      "text/plain": [
       "   appear_to_minutes\n",
       "0                482\n",
       "1                281\n",
       "2                186\n",
       "3               1413\n",
       "4                888"
      ]
     },
     "execution_count": 162,
     "metadata": {},
     "output_type": "execute_result"
    }
   ],
   "source": [
    "all_data['appear_to_minutes'] = all_data['appearedHour']*60+all_data['appearedMinute']\n",
    "all_data[['appear_to_minutes']].head()"
   ]
  },
  {
   "cell_type": "code",
   "execution_count": 163,
   "metadata": {},
   "outputs": [],
   "source": [
    "all_data.drop(['appearedHour','appearedMinute'],axis=1,inplace=True)"
   ]
  },
  {
   "cell_type": "code",
   "execution_count": 164,
   "metadata": {},
   "outputs": [
    {
     "data": {
      "text/plain": [
       "object     169\n",
       "uint8      141\n",
       "float64      5\n",
       "int64        2\n",
       "dtype: int64"
      ]
     },
     "execution_count": 164,
     "metadata": {},
     "output_type": "execute_result"
    }
   ],
   "source": [
    "all_data.dtypes.value_counts()"
   ]
  },
  {
   "cell_type": "markdown",
   "metadata": {},
   "source": [
    "> object轉成float"
   ]
  },
  {
   "cell_type": "code",
   "execution_count": null,
   "metadata": {},
   "outputs": [],
   "source": []
  },
  {
   "cell_type": "code",
   "execution_count": 174,
   "metadata": {},
   "outputs": [],
   "source": [
    "all_data[all_data.select_dtypes(include=['object']).columns] = all_data.select_dtypes(include=['object'])*1\n",
    "\n"
   ]
  },
  {
   "cell_type": "code",
   "execution_count": 175,
   "metadata": {},
   "outputs": [],
   "source": [
    "all_data[all_data.select_dtypes(include=['object']).columns] = all_data[all_data.select_dtypes(include=['object']).columns].astype('float64')\n",
    "\n"
   ]
  },
  {
   "cell_type": "code",
   "execution_count": 167,
   "metadata": {},
   "outputs": [],
   "source": [
    "all_data['pokestopDistanceKm']=pd.to_numeric(all_data['pokestopDistanceKm'],errors='coerce')"
   ]
  },
  {
   "cell_type": "markdown",
   "metadata": {},
   "source": [
    "> pokestopDistanceKm 有缺值"
   ]
  },
  {
   "cell_type": "code",
   "execution_count": 168,
   "metadata": {},
   "outputs": [
    {
     "data": {
      "text/plain": [
       "Series([], dtype: int64)"
      ]
     },
     "execution_count": 168,
     "metadata": {},
     "output_type": "execute_result"
    }
   ],
   "source": [
    "train_data.isnull().sum()[train_data.isnull().sum()!=0]"
   ]
  },
  {
   "cell_type": "code",
   "execution_count": 169,
   "metadata": {},
   "outputs": [
    {
     "data": {
      "text/plain": [
       "4"
      ]
     },
     "execution_count": 169,
     "metadata": {},
     "output_type": "execute_result"
    }
   ],
   "source": [
    "all_data['pokestopDistanceKm'].isnull().sum()"
   ]
  },
  {
   "cell_type": "markdown",
   "metadata": {},
   "source": [
    "> 先補平均值"
   ]
  },
  {
   "cell_type": "code",
   "execution_count": 170,
   "metadata": {},
   "outputs": [
    {
     "data": {
      "text/plain": [
       "[<matplotlib.lines.Line2D at 0x7fc84aa8c2e8>]"
      ]
     },
     "execution_count": 170,
     "metadata": {},
     "output_type": "execute_result"
    },
    {
     "data": {
      "image/png": "[encoded data removed]",
      "text/plain": [
       "<Figure size 432x288 with 1 Axes>"
      ]
     },
     "metadata": {},
     "output_type": "display_data"
    }
   ],
   "source": [
    "plt.plot(np.arange(len(all_data['pokestopDistanceKm'])),all_data['pokestopDistanceKm'],'.')"
   ]
  },
  {
   "cell_type": "code",
   "execution_count": 171,
   "metadata": {},
   "outputs": [],
   "source": [
    "pokestopDistanceKm_mean = all_data['pokestopDistanceKm'][all_data['pokestopDistanceKm']<20].mean()\n",
    "                                                         \n",
    "                                                         "
   ]
  },
  {
   "cell_type": "code",
   "execution_count": 172,
   "metadata": {},
   "outputs": [],
   "source": [
    "all_data['pokestopDistanceKm'].fillna(pokestopDistanceKm_mean,inplace=True)"
   ]
  },
  {
   "cell_type": "code",
   "execution_count": 173,
   "metadata": {},
   "outputs": [
    {
     "data": {
      "text/plain": [
       "object     168\n",
       "uint8      141\n",
       "float64      6\n",
       "int64        2\n",
       "dtype: int64"
      ]
     },
     "execution_count": 173,
     "metadata": {},
     "output_type": "execute_result"
    }
   ],
   "source": [
    "all_data.dtypes.value_counts()"
   ]
  },
  {
   "cell_type": "markdown",
   "metadata": {},
   "source": [
    "# 觀察\n"
   ]
  },
  {
   "cell_type": "code",
   "execution_count": 75,
   "metadata": {},
   "outputs": [
    {
     "data": {
      "text/html": [
       "<div>\n",
       "<style scoped>\n",
       "    .dataframe tbody tr th:only-of-type {\n",
       "        vertical-align: middle;\n",
       "    }\n",
       "\n",
       "    .dataframe tbody tr th {\n",
       "        vertical-align: top;\n",
       "    }\n",
       "\n",
       "    .dataframe thead th {\n",
       "        text-align: right;\n",
       "    }\n",
       "</style>\n",
       "<table border=\"1\" class=\"dataframe\">\n",
       "  <thead>\n",
       "    <tr style=\"text-align: right;\">\n",
       "      <th></th>\n",
       "      <th>closeToWater</th>\n",
       "      <th>cooc_1</th>\n",
       "      <th>cooc_10</th>\n",
       "      <th>cooc_100</th>\n",
       "      <th>cooc_101</th>\n",
       "      <th>cooc_102</th>\n",
       "      <th>cooc_103</th>\n",
       "      <th>cooc_104</th>\n",
       "      <th>cooc_105</th>\n",
       "      <th>cooc_106</th>\n",
       "      <th>...</th>\n",
       "      <th>weather__WindyandFoggy</th>\n",
       "      <th>weatherIcon__clear-day</th>\n",
       "      <th>weatherIcon__clear-night</th>\n",
       "      <th>weatherIcon__cloudy</th>\n",
       "      <th>weatherIcon__fog</th>\n",
       "      <th>weatherIcon__partly-cloudy-day</th>\n",
       "      <th>weatherIcon__partly-cloudy-night</th>\n",
       "      <th>weatherIcon__rain</th>\n",
       "      <th>weatherIcon__wind</th>\n",
       "      <th>appear_to_minutes</th>\n",
       "    </tr>\n",
       "  </thead>\n",
       "  <tbody>\n",
       "    <tr>\n",
       "      <th>0</th>\n",
       "      <td>0.0</td>\n",
       "      <td>0.0</td>\n",
       "      <td>0.0</td>\n",
       "      <td>0.0</td>\n",
       "      <td>0.0</td>\n",
       "      <td>0.0</td>\n",
       "      <td>0.0</td>\n",
       "      <td>0.0</td>\n",
       "      <td>0.0</td>\n",
       "      <td>0.0</td>\n",
       "      <td>...</td>\n",
       "      <td>0</td>\n",
       "      <td>0</td>\n",
       "      <td>1</td>\n",
       "      <td>0</td>\n",
       "      <td>0</td>\n",
       "      <td>0</td>\n",
       "      <td>0</td>\n",
       "      <td>0</td>\n",
       "      <td>0</td>\n",
       "      <td>482</td>\n",
       "    </tr>\n",
       "    <tr>\n",
       "      <th>1</th>\n",
       "      <td>0.0</td>\n",
       "      <td>0.0</td>\n",
       "      <td>1.0</td>\n",
       "      <td>0.0</td>\n",
       "      <td>0.0</td>\n",
       "      <td>0.0</td>\n",
       "      <td>0.0</td>\n",
       "      <td>0.0</td>\n",
       "      <td>0.0</td>\n",
       "      <td>0.0</td>\n",
       "      <td>...</td>\n",
       "      <td>0</td>\n",
       "      <td>0</td>\n",
       "      <td>1</td>\n",
       "      <td>0</td>\n",
       "      <td>0</td>\n",
       "      <td>0</td>\n",
       "      <td>0</td>\n",
       "      <td>0</td>\n",
       "      <td>0</td>\n",
       "      <td>281</td>\n",
       "    </tr>\n",
       "    <tr>\n",
       "      <th>2</th>\n",
       "      <td>0.0</td>\n",
       "      <td>0.0</td>\n",
       "      <td>0.0</td>\n",
       "      <td>0.0</td>\n",
       "      <td>0.0</td>\n",
       "      <td>0.0</td>\n",
       "      <td>0.0</td>\n",
       "      <td>1.0</td>\n",
       "      <td>0.0</td>\n",
       "      <td>0.0</td>\n",
       "      <td>...</td>\n",
       "      <td>0</td>\n",
       "      <td>1</td>\n",
       "      <td>0</td>\n",
       "      <td>0</td>\n",
       "      <td>0</td>\n",
       "      <td>0</td>\n",
       "      <td>0</td>\n",
       "      <td>0</td>\n",
       "      <td>0</td>\n",
       "      <td>186</td>\n",
       "    </tr>\n",
       "    <tr>\n",
       "      <th>3</th>\n",
       "      <td>1.0</td>\n",
       "      <td>0.0</td>\n",
       "      <td>1.0</td>\n",
       "      <td>0.0</td>\n",
       "      <td>0.0</td>\n",
       "      <td>0.0</td>\n",
       "      <td>0.0</td>\n",
       "      <td>0.0</td>\n",
       "      <td>0.0</td>\n",
       "      <td>0.0</td>\n",
       "      <td>...</td>\n",
       "      <td>0</td>\n",
       "      <td>0</td>\n",
       "      <td>0</td>\n",
       "      <td>0</td>\n",
       "      <td>0</td>\n",
       "      <td>0</td>\n",
       "      <td>0</td>\n",
       "      <td>1</td>\n",
       "      <td>0</td>\n",
       "      <td>1413</td>\n",
       "    </tr>\n",
       "    <tr>\n",
       "      <th>4</th>\n",
       "      <td>0.0</td>\n",
       "      <td>0.0</td>\n",
       "      <td>0.0</td>\n",
       "      <td>0.0</td>\n",
       "      <td>0.0</td>\n",
       "      <td>0.0</td>\n",
       "      <td>0.0</td>\n",
       "      <td>0.0</td>\n",
       "      <td>0.0</td>\n",
       "      <td>0.0</td>\n",
       "      <td>...</td>\n",
       "      <td>0</td>\n",
       "      <td>1</td>\n",
       "      <td>0</td>\n",
       "      <td>0</td>\n",
       "      <td>0</td>\n",
       "      <td>0</td>\n",
       "      <td>0</td>\n",
       "      <td>0</td>\n",
       "      <td>0</td>\n",
       "      <td>888</td>\n",
       "    </tr>\n",
       "  </tbody>\n",
       "</table>\n",
       "<p>5 rows × 317 columns</p>\n",
       "</div>"
      ],
      "text/plain": [
       "   closeToWater  cooc_1  cooc_10  cooc_100  cooc_101  cooc_102  cooc_103  \\\n",
       "0           0.0     0.0      0.0       0.0       0.0       0.0       0.0   \n",
       "1           0.0     0.0      1.0       0.0       0.0       0.0       0.0   \n",
       "2           0.0     0.0      0.0       0.0       0.0       0.0       0.0   \n",
       "3           1.0     0.0      1.0       0.0       0.0       0.0       0.0   \n",
       "4           0.0     0.0      0.0       0.0       0.0       0.0       0.0   \n",
       "\n",
       "   cooc_104  cooc_105  cooc_106        ...          weather__WindyandFoggy  \\\n",
       "0       0.0       0.0       0.0        ...                               0   \n",
       "1       0.0       0.0       0.0        ...                               0   \n",
       "2       1.0       0.0       0.0        ...                               0   \n",
       "3       0.0       0.0       0.0        ...                               0   \n",
       "4       0.0       0.0       0.0        ...                               0   \n",
       "\n",
       "   weatherIcon__clear-day  weatherIcon__clear-night  weatherIcon__cloudy  \\\n",
       "0                       0                         1                    0   \n",
       "1                       0                         1                    0   \n",
       "2                       1                         0                    0   \n",
       "3                       0                         0                    0   \n",
       "4                       1                         0                    0   \n",
       "\n",
       "   weatherIcon__fog  weatherIcon__partly-cloudy-day  \\\n",
       "0                 0                               0   \n",
       "1                 0                               0   \n",
       "2                 0                               0   \n",
       "3                 0                               0   \n",
       "4                 0                               0   \n",
       "\n",
       "   weatherIcon__partly-cloudy-night  weatherIcon__rain  weatherIcon__wind  \\\n",
       "0                                 0                  0                  0   \n",
       "1                                 0                  0                  0   \n",
       "2                                 0                  0                  0   \n",
       "3                                 0                  1                  0   \n",
       "4                                 0                  0                  0   \n",
       "\n",
       "   appear_to_minutes  \n",
       "0                482  \n",
       "1                281  \n",
       "2                186  \n",
       "3               1413  \n",
       "4                888  \n",
       "\n",
       "[5 rows x 317 columns]"
      ]
     },
     "execution_count": 75,
     "metadata": {},
     "output_type": "execute_result"
    }
   ],
   "source": [
    "temp_train_data = all_data[:split_index]\n",
    "temp_train_data.head()"
   ]
  },
  {
   "cell_type": "code",
   "execution_count": 83,
   "metadata": {},
   "outputs": [
    {
     "data": {
      "text/plain": [
       "array([1400, 1428,  858, 3117, 1976, 1935], dtype=uint64)"
      ]
     },
     "execution_count": 83,
     "metadata": {},
     "output_type": "execute_result"
    }
   ],
   "source": [
    "np.sum(y_train.values,axis=0)"
   ]
  },
  {
   "cell_type": "markdown",
   "metadata": {},
   "source": [
    "> float和int轉小一點"
   ]
  },
  {
   "cell_type": "code",
   "execution_count": 59,
   "metadata": {},
   "outputs": [],
   "source": [
    "all_data[all_data.columns[all_data.dtypes.values == 'int64']]=all_data[all_data.columns[all_data.dtypes.values == 'int64']].astype('int16')"
   ]
  },
  {
   "cell_type": "code",
   "execution_count": 60,
   "metadata": {},
   "outputs": [],
   "source": [
    "all_data[all_data.select_dtypes(include=['float64']).columns] = all_data[all_data.select_dtypes(include=['float64']).columns].astype('float16')"
   ]
  },
  {
   "cell_type": "code",
   "execution_count": 129,
   "metadata": {},
   "outputs": [],
   "source": [
    "y_train = y_train.values"
   ]
  },
  {
   "cell_type": "markdown",
   "metadata": {},
   "source": [
    "# data normalize"
   ]
  },
  {
   "cell_type": "code",
   "execution_count": 176,
   "metadata": {},
   "outputs": [],
   "source": [
    "from sklearn.preprocessing import scale"
   ]
  },
  {
   "cell_type": "code",
   "execution_count": 177,
   "metadata": {},
   "outputs": [],
   "source": [
    "scale_all_data = scale(all_data)\n",
    "train_data = scale_all_data[:split_index].copy()\n",
    "test_data = scale_all_data[split_index:].copy()"
   ]
  },
  {
   "cell_type": "code",
   "execution_count": 178,
   "metadata": {},
   "outputs": [
    {
     "data": {
      "text/plain": [
       "(10714, 317)"
      ]
     },
     "execution_count": 178,
     "metadata": {},
     "output_type": "execute_result"
    }
   ],
   "source": [
    "train_data.shape"
   ]
  },
  {
   "cell_type": "code",
   "execution_count": 179,
   "metadata": {},
   "outputs": [],
   "source": [
    "y_train_nosplit = y_train"
   ]
  },
  {
   "cell_type": "code",
   "execution_count": 29,
   "metadata": {},
   "outputs": [
    {
     "data": {
      "text/plain": [
       "(10714, 6)"
      ]
     },
     "execution_count": 29,
     "metadata": {},
     "output_type": "execute_result"
    }
   ],
   "source": [
    "y_train_nosplit.shape"
   ]
  },
  {
   "cell_type": "code",
   "execution_count": null,
   "metadata": {},
   "outputs": [],
   "source": [
    "\n",
    "        "
   ]
  },
  {
   "cell_type": "code",
   "execution_count": null,
   "metadata": {
    "collapsed": true
   },
   "outputs": [],
   "source": []
  },
  {
   "cell_type": "markdown",
   "metadata": {},
   "source": [
    "# split training and validating data"
   ]
  },
  {
   "cell_type": "code",
   "execution_count": 88,
   "metadata": {},
   "outputs": [],
   "source": [
    "from sklearn.model_selection import train_test_split\n"
   ]
  },
  {
   "cell_type": "code",
   "execution_count": 90,
   "metadata": {},
   "outputs": [
    {
     "data": {
      "text/plain": [
       "3"
      ]
     },
     "execution_count": 90,
     "metadata": {},
     "output_type": "execute_result"
    }
   ],
   "source": [
    "np.random.choice([0.1,0.2,0.3])"
   ]
  },
  {
   "cell_type": "code",
   "execution_count": 98,
   "metadata": {},
   "outputs": [],
   "source": [
    "from sklearn.utils import shuffle"
   ]
  },
  {
   "cell_type": "code",
   "execution_count": null,
   "metadata": {},
   "outputs": [],
   "source": []
  },
  {
   "cell_type": "code",
   "execution_count": 110,
   "metadata": {},
   "outputs": [
    {
     "name": "stdout",
     "output_type": "stream",
     "text": [
      "[[1, 1, 1, 1, 1], [1, 2, 3, 4, 5]]\n",
      "[[1, 1, 1, 1, 1], [1, 2, 3, 4, 5]]\n",
      "[[1, 1, 1, 1, 1], [1, 2, 3, 4, 5]]\n",
      "[[1, 1, 1, 1, 1], [1, 2, 3, 4, 5]]\n",
      "[[1, 2, 3, 4, 5], [1, 1, 1, 1, 1]]\n",
      "[[1, 1, 1, 1, 1], [1, 2, 3, 4, 5]]\n",
      "[[1, 2, 3, 4, 5], [1, 1, 1, 1, 1]]\n",
      "[[1, 2, 3, 4, 5], [1, 1, 1, 1, 1]]\n"
     ]
    }
   ],
   "source": [
    "for i in range(8):\n",
    "    print(shuffle([[1,2,3,4,5],[1,1,1,1,1]]))"
   ]
  },
  {
   "cell_type": "code",
   "execution_count": null,
   "metadata": {},
   "outputs": [],
   "source": []
  },
  {
   "cell_type": "code",
   "execution_count": 126,
   "metadata": {},
   "outputs": [
    {
     "data": {
      "text/html": [
       "<div>\n",
       "<style scoped>\n",
       "    .dataframe tbody tr th:only-of-type {\n",
       "        vertical-align: middle;\n",
       "    }\n",
       "\n",
       "    .dataframe tbody tr th {\n",
       "        vertical-align: top;\n",
       "    }\n",
       "\n",
       "    .dataframe thead th {\n",
       "        text-align: right;\n",
       "    }\n",
       "</style>\n",
       "<table border=\"1\" class=\"dataframe\">\n",
       "  <thead>\n",
       "    <tr style=\"text-align: right;\">\n",
       "      <th></th>\n",
       "      <th>closeToWater</th>\n",
       "      <th>cooc_1</th>\n",
       "      <th>cooc_10</th>\n",
       "      <th>cooc_100</th>\n",
       "      <th>cooc_101</th>\n",
       "      <th>cooc_102</th>\n",
       "      <th>cooc_103</th>\n",
       "      <th>cooc_104</th>\n",
       "      <th>cooc_105</th>\n",
       "      <th>cooc_106</th>\n",
       "      <th>...</th>\n",
       "      <th>weather__WindyandFoggy</th>\n",
       "      <th>weatherIcon__clear-day</th>\n",
       "      <th>weatherIcon__clear-night</th>\n",
       "      <th>weatherIcon__cloudy</th>\n",
       "      <th>weatherIcon__fog</th>\n",
       "      <th>weatherIcon__partly-cloudy-day</th>\n",
       "      <th>weatherIcon__partly-cloudy-night</th>\n",
       "      <th>weatherIcon__rain</th>\n",
       "      <th>weatherIcon__wind</th>\n",
       "      <th>appear_to_minutes</th>\n",
       "    </tr>\n",
       "  </thead>\n",
       "  <tbody>\n",
       "    <tr>\n",
       "      <th>0</th>\n",
       "      <td>0.0</td>\n",
       "      <td>0.0</td>\n",
       "      <td>0.0</td>\n",
       "      <td>0.0</td>\n",
       "      <td>0.0</td>\n",
       "      <td>0.0</td>\n",
       "      <td>0.0</td>\n",
       "      <td>0.0</td>\n",
       "      <td>0.0</td>\n",
       "      <td>0.0</td>\n",
       "      <td>...</td>\n",
       "      <td>0</td>\n",
       "      <td>0</td>\n",
       "      <td>1</td>\n",
       "      <td>0</td>\n",
       "      <td>0</td>\n",
       "      <td>0</td>\n",
       "      <td>0</td>\n",
       "      <td>0</td>\n",
       "      <td>0</td>\n",
       "      <td>482</td>\n",
       "    </tr>\n",
       "    <tr>\n",
       "      <th>1</th>\n",
       "      <td>0.0</td>\n",
       "      <td>0.0</td>\n",
       "      <td>1.0</td>\n",
       "      <td>0.0</td>\n",
       "      <td>0.0</td>\n",
       "      <td>0.0</td>\n",
       "      <td>0.0</td>\n",
       "      <td>0.0</td>\n",
       "      <td>0.0</td>\n",
       "      <td>0.0</td>\n",
       "      <td>...</td>\n",
       "      <td>0</td>\n",
       "      <td>0</td>\n",
       "      <td>1</td>\n",
       "      <td>0</td>\n",
       "      <td>0</td>\n",
       "      <td>0</td>\n",
       "      <td>0</td>\n",
       "      <td>0</td>\n",
       "      <td>0</td>\n",
       "      <td>281</td>\n",
       "    </tr>\n",
       "    <tr>\n",
       "      <th>2</th>\n",
       "      <td>0.0</td>\n",
       "      <td>0.0</td>\n",
       "      <td>0.0</td>\n",
       "      <td>0.0</td>\n",
       "      <td>0.0</td>\n",
       "      <td>0.0</td>\n",
       "      <td>0.0</td>\n",
       "      <td>1.0</td>\n",
       "      <td>0.0</td>\n",
       "      <td>0.0</td>\n",
       "      <td>...</td>\n",
       "      <td>0</td>\n",
       "      <td>1</td>\n",
       "      <td>0</td>\n",
       "      <td>0</td>\n",
       "      <td>0</td>\n",
       "      <td>0</td>\n",
       "      <td>0</td>\n",
       "      <td>0</td>\n",
       "      <td>0</td>\n",
       "      <td>186</td>\n",
       "    </tr>\n",
       "    <tr>\n",
       "      <th>3</th>\n",
       "      <td>1.0</td>\n",
       "      <td>0.0</td>\n",
       "      <td>1.0</td>\n",
       "      <td>0.0</td>\n",
       "      <td>0.0</td>\n",
       "      <td>0.0</td>\n",
       "      <td>0.0</td>\n",
       "      <td>0.0</td>\n",
       "      <td>0.0</td>\n",
       "      <td>0.0</td>\n",
       "      <td>...</td>\n",
       "      <td>0</td>\n",
       "      <td>0</td>\n",
       "      <td>0</td>\n",
       "      <td>0</td>\n",
       "      <td>0</td>\n",
       "      <td>0</td>\n",
       "      <td>0</td>\n",
       "      <td>1</td>\n",
       "      <td>0</td>\n",
       "      <td>1413</td>\n",
       "    </tr>\n",
       "    <tr>\n",
       "      <th>4</th>\n",
       "      <td>0.0</td>\n",
       "      <td>0.0</td>\n",
       "      <td>0.0</td>\n",
       "      <td>0.0</td>\n",
       "      <td>0.0</td>\n",
       "      <td>0.0</td>\n",
       "      <td>0.0</td>\n",
       "      <td>0.0</td>\n",
       "      <td>0.0</td>\n",
       "      <td>0.0</td>\n",
       "      <td>...</td>\n",
       "      <td>0</td>\n",
       "      <td>1</td>\n",
       "      <td>0</td>\n",
       "      <td>0</td>\n",
       "      <td>0</td>\n",
       "      <td>0</td>\n",
       "      <td>0</td>\n",
       "      <td>0</td>\n",
       "      <td>0</td>\n",
       "      <td>888</td>\n",
       "    </tr>\n",
       "  </tbody>\n",
       "</table>\n",
       "<p>5 rows × 317 columns</p>\n",
       "</div>"
      ],
      "text/plain": [
       "   closeToWater  cooc_1  cooc_10  cooc_100  cooc_101  cooc_102  cooc_103  \\\n",
       "0           0.0     0.0      0.0       0.0       0.0       0.0       0.0   \n",
       "1           0.0     0.0      1.0       0.0       0.0       0.0       0.0   \n",
       "2           0.0     0.0      0.0       0.0       0.0       0.0       0.0   \n",
       "3           1.0     0.0      1.0       0.0       0.0       0.0       0.0   \n",
       "4           0.0     0.0      0.0       0.0       0.0       0.0       0.0   \n",
       "\n",
       "   cooc_104  cooc_105  cooc_106        ...          weather__WindyandFoggy  \\\n",
       "0       0.0       0.0       0.0        ...                               0   \n",
       "1       0.0       0.0       0.0        ...                               0   \n",
       "2       1.0       0.0       0.0        ...                               0   \n",
       "3       0.0       0.0       0.0        ...                               0   \n",
       "4       0.0       0.0       0.0        ...                               0   \n",
       "\n",
       "   weatherIcon__clear-day  weatherIcon__clear-night  weatherIcon__cloudy  \\\n",
       "0                       0                         1                    0   \n",
       "1                       0                         1                    0   \n",
       "2                       1                         0                    0   \n",
       "3                       0                         0                    0   \n",
       "4                       1                         0                    0   \n",
       "\n",
       "   weatherIcon__fog  weatherIcon__partly-cloudy-day  \\\n",
       "0                 0                               0   \n",
       "1                 0                               0   \n",
       "2                 0                               0   \n",
       "3                 0                               0   \n",
       "4                 0                               0   \n",
       "\n",
       "   weatherIcon__partly-cloudy-night  weatherIcon__rain  weatherIcon__wind  \\\n",
       "0                                 0                  0                  0   \n",
       "1                                 0                  0                  0   \n",
       "2                                 0                  0                  0   \n",
       "3                                 0                  1                  0   \n",
       "4                                 0                  0                  0   \n",
       "\n",
       "   appear_to_minutes  \n",
       "0                482  \n",
       "1                281  \n",
       "2                186  \n",
       "3               1413  \n",
       "4                888  \n",
       "\n",
       "[5 rows x 317 columns]"
      ]
     },
     "execution_count": 126,
     "metadata": {},
     "output_type": "execute_result"
    }
   ],
   "source": [
    "all_data.head()"
   ]
  },
  {
   "cell_type": "code",
   "execution_count": 138,
   "metadata": {},
   "outputs": [],
   "source": [
    "from sklearn.model_selection import train_test_split"
   ]
  },
  {
   "cell_type": "code",
   "execution_count": 139,
   "metadata": {},
   "outputs": [],
   "source": [
    "X_train, X_validate, y_train, y_validate = train_test_split(train_data,y_train_nosplit,test_size=0.3,random_state=42,stratify=y_train_nosplit)\n"
   ]
  },
  {
   "cell_type": "code",
   "execution_count": 43,
   "metadata": {},
   "outputs": [
    {
     "data": {
      "text/plain": [
       "(7499, 317)"
      ]
     },
     "execution_count": 43,
     "metadata": {},
     "output_type": "execute_result"
    }
   ],
   "source": [
    "X_train.shape"
   ]
  },
  {
   "cell_type": "code",
   "execution_count": 44,
   "metadata": {},
   "outputs": [
    {
     "data": {
      "text/plain": [
       "(7499, 6)"
      ]
     },
     "execution_count": 44,
     "metadata": {},
     "output_type": "execute_result"
    }
   ],
   "source": [
    "y_train.shape"
   ]
  },
  {
   "cell_type": "markdown",
   "metadata": {},
   "source": [
    "# save best model"
   ]
  },
  {
   "cell_type": "code",
   "execution_count": 140,
   "metadata": {},
   "outputs": [],
   "source": [
    "import os"
   ]
  },
  {
   "cell_type": "code",
   "execution_count": 141,
   "metadata": {},
   "outputs": [],
   "source": [
    "\n",
    "#先指定主路徑\n",
    "maindir='./models'\n",
    "if not os.path.exists(maindir):\n",
    "    os.makedirs(maindir)\n",
    "    "
   ]
  },
  {
   "cell_type": "markdown",
   "metadata": {},
   "source": [
    "# train data batch generator"
   ]
  },
  {
   "cell_type": "code",
   "execution_count": 142,
   "metadata": {},
   "outputs": [],
   "source": [
    "from sklearn.utils import shuffle\n",
    "def train_batch_generator(x, y, bs, shape):\n",
    "    x_train_ = np.array([]).reshape((0, shape))\n",
    "    y_train_ = np.array([]).reshape((0, y.shape[1]))\n",
    "    while True:\n",
    "        new_ind = shuffle(range(len(x)))\n",
    "        x = np.take(x,new_ind,axis=0)\n",
    "        y = np.take(y, new_ind, axis=0)\n",
    "\n",
    "#         return np.row_stack([x_train_, x[0]])\n",
    "        \n",
    "        for i in range(len(x)):\n",
    "            x_train_ = np.row_stack([x_train_, x[i]])\n",
    "            y_train_ = np.row_stack([y_train_, y[i]])\n",
    "            if x_train_.shape[0] == bs:\n",
    "                x_batch = x_train_.copy()\n",
    "                y_batch = y_train_.copy()\n",
    "                x_train_ = np.array([]).reshape((0 ,shape))\n",
    "                y_train_ = np.array([]).reshape((0 ,y.shape[1]))        \n",
    "                yield x_batch, y_batch"
   ]
  },
  {
   "cell_type": "markdown",
   "metadata": {},
   "source": [
    "# create graph"
   ]
  },
  {
   "cell_type": "code",
   "execution_count": 186,
   "metadata": {},
   "outputs": [],
   "source": [
    "tf.reset_default_graph() \n",
    "\n",
    "input_data = tf.placeholder(dtype=tf.float32, \n",
    "                           shape=[None, X_train.shape[1]],\n",
    "                           name='input_data')\n",
    "\n",
    "y_true = tf.placeholder(dtype=tf.float32, \n",
    "                        shape=[None, y_train.shape[1]],\n",
    "                        name='y_true')\n",
    "\n",
    "drp_rate = tf.placeholder(dtype=tf.float32, name = 'dropout')\n",
    "is_train = tf.placeholder(dtype=tf.bool)\n",
    "\n",
    "#新增l2 placeholder\n",
    "# l2 = tf.placeholder(dtype=tf.float32, name = 'l2_regulizers')  \n",
    "\n",
    "#### define variables(weight/bias) ####\n",
    "x1 = tf.layers.dense(input_data, \n",
    "                     512, \n",
    "                     activation=tf.nn.relu, \n",
    "                     name='hidden1', \n",
    "                     )\n",
    "\n",
    "x1 = tf.layers.dropout(inputs=x1, rate=drp_rate, training=is_train)\n",
    "\n",
    "x2 = tf.layers.dense(x1, \n",
    "                     512, \n",
    "                     activation=tf.nn.relu, \n",
    "                     name='hidden2',\n",
    "                     )\n",
    "\n",
    "x2 = tf.layers.dropout(inputs=x2, rate=drp_rate, training=is_train)\n",
    "\n",
    "x3 = tf.layers.dense(x2, \n",
    "                     128, \n",
    "                     activation=tf.nn.relu, \n",
    "                     name='hidden3',\n",
    "                     )\n",
    "x3 = tf.layers.dropout(inputs=x3, rate=drp_rate, training=is_train)\n",
    "\n",
    "out = tf.layers.dense(x3, y_train.shape[1], name='output')\n",
    "\n",
    "y_pred = tf.nn.softmax(out)\n",
    "\n",
    "\n",
    "cross_entropy = tf.reduce_mean(tf.nn.softmax_cross_entropy_with_logits(labels=y_true, logits=out))\n",
    "opt = tf.train.AdamOptimizer(learning_rate=0.0002)\n",
    "\n",
    "reg = tf.get_collection(tf.GraphKeys.REGULARIZATION_LOSSES)\n",
    "loss = cross_entropy + tf.reduce_sum(reg)\n",
    "update = opt.minimize(loss)\n"
   ]
  },
  {
   "cell_type": "code",
   "execution_count": null,
   "metadata": {},
   "outputs": [],
   "source": []
  },
  {
   "cell_type": "code",
   "execution_count": 187,
   "metadata": {},
   "outputs": [],
   "source": [
    "from tqdm import tqdm_notebook\n",
    "import time\n",
    "from sklearn.metrics import accuracy_score"
   ]
  },
  {
   "cell_type": "code",
   "execution_count": 194,
   "metadata": {},
   "outputs": [],
   "source": [
    "epochs = 100\n",
    "bs = 64\n",
    "update_per_epoch = 50\n",
    "drop_rate = 0.4\n",
    "n_estimaor=15"
   ]
  },
  {
   "cell_type": "code",
   "execution_count": null,
   "metadata": {},
   "outputs": [],
   "source": []
  },
  {
   "cell_type": "code",
   "execution_count": 189,
   "metadata": {},
   "outputs": [],
   "source": [
    "from sklearn.model_selection import KFold"
   ]
  },
  {
   "cell_type": "code",
   "execution_count": 190,
   "metadata": {},
   "outputs": [],
   "source": [
    "# X_train_list = []\n",
    "# y_train_list = []\n",
    "# X_test_list = []\n",
    "# y_test_list = []\n",
    "\n",
    "# kf = KFold(n_splits=5,random_state=None,shuffle=False)\n",
    "# for train_index,test_index in kf.split(train_data):\n",
    "#     X_train , X_test = train_data[train_index],train_data[test_index]\n",
    "#     y_train , y_test = y_train_nosplit[train_index],y_train_nosplit[test_index]\n",
    "    \n",
    "#     X_train_list.append(X_train)\n",
    "#     y_train_list.append(y_train)\n",
    "#     X_test_list.append(X_test)\n",
    "#     y_test_list.append(y_test)\n",
    "    \n",
    "# X_train_list.append(train_data)\n",
    "# y_train_list.append(y_train_nosplit)\n",
    "# X_test_list.append(X_validate)\n",
    "# y_test_list.append(y_validate)"
   ]
  },
  {
   "cell_type": "code",
   "execution_count": 195,
   "metadata": {
    "scrolled": false
   },
   "outputs": [
    {
     "name": "stdout",
     "output_type": "stream",
     "text": [
      "start modelling!\n",
      "model 0 start!\n"
     ]
    },
    {
     "data": {
      "application/vnd.jupyter.widget-view+json": {
       "model_id": "64d46c62654543d19bc3693841ec05a6",
       "version_major": 2,
       "version_minor": 0
      },
      "text/plain": [
       "HBox(children=(IntProgress(value=0, max=50), HTML(value='')))"
      ]
     },
     "metadata": {},
     "output_type": "display_data"
    },
    {
     "name": "stdout",
     "output_type": "stream",
     "text": [
      "epoch 1: training loss 98.11544096469879 ; testing loss 1.7040787935256958\n"
     ]
    },
    {
     "data": {
      "application/vnd.jupyter.widget-view+json": {
       "model_id": "305db18e1ca345fe9f23cb041e2d7d0c",
       "version_major": 2,
       "version_minor": 0
      },
      "text/plain": [
       "HBox(children=(IntProgress(value=0, max=50), HTML(value='')))"
      ]
     },
     "metadata": {},
     "output_type": "display_data"
    },
    {
     "name": "stdout",
     "output_type": "stream",
     "text": [
      "epoch 2: training loss 87.88147616386414 ; testing loss 1.659920334815979\n"
     ]
    },
    {
     "data": {
      "application/vnd.jupyter.widget-view+json": {
       "model_id": "0b727df2cd614bf6b81918990206b67c",
       "version_major": 2,
       "version_minor": 0
      },
      "text/plain": [
       "HBox(children=(IntProgress(value=0, max=50), HTML(value='')))"
      ]
     },
     "metadata": {},
     "output_type": "display_data"
    },
    {
     "name": "stdout",
     "output_type": "stream",
     "text": [
      "epoch 3: training loss 84.48099398612976 ; testing loss 1.611864686012268\n"
     ]
    },
    {
     "data": {
      "application/vnd.jupyter.widget-view+json": {
       "model_id": "e9c1f70bfe404046a51ee08190ee27c0",
       "version_major": 2,
       "version_minor": 0
      },
      "text/plain": [
       "HBox(children=(IntProgress(value=0, max=50), HTML(value='')))"
      ]
     },
     "metadata": {},
     "output_type": "display_data"
    },
    {
     "name": "stdout",
     "output_type": "stream",
     "text": [
      "epoch 4: training loss 82.12687623500824 ; testing loss 1.5548192262649536\n"
     ]
    },
    {
     "data": {
      "application/vnd.jupyter.widget-view+json": {
       "model_id": "d4bddf4d57c84366b94b5c1722cb37a5",
       "version_major": 2,
       "version_minor": 0
      },
      "text/plain": [
       "HBox(children=(IntProgress(value=0, max=50), HTML(value='')))"
      ]
     },
     "metadata": {},
     "output_type": "display_data"
    },
    {
     "name": "stdout",
     "output_type": "stream",
     "text": [
      "epoch 5: training loss 80.4517891407013 ; testing loss 1.4908859729766846\n"
     ]
    },
    {
     "data": {
      "application/vnd.jupyter.widget-view+json": {
       "model_id": "8570c19915874592a71f15610ad00356",
       "version_major": 2,
       "version_minor": 0
      },
      "text/plain": [
       "HBox(children=(IntProgress(value=0, max=50), HTML(value='')))"
      ]
     },
     "metadata": {},
     "output_type": "display_data"
    },
    {
     "name": "stdout",
     "output_type": "stream",
     "text": [
      "epoch 6: training loss 77.6776909828186 ; testing loss 1.4383461475372314\n"
     ]
    },
    {
     "data": {
      "application/vnd.jupyter.widget-view+json": {
       "model_id": "f68fc4c9fbc746e3904ca09ea59ac23d",
       "version_major": 2,
       "version_minor": 0
      },
      "text/plain": [
       "HBox(children=(IntProgress(value=0, max=50), HTML(value='')))"
      ]
     },
     "metadata": {},
     "output_type": "display_data"
    },
    {
     "name": "stdout",
     "output_type": "stream",
     "text": [
      "epoch 7: training loss 74.89913702011108 ; testing loss 1.391761064529419\n"
     ]
    },
    {
     "data": {
      "application/vnd.jupyter.widget-view+json": {
       "model_id": "a44c2e57757a49f3a152eca4f5665de3",
       "version_major": 2,
       "version_minor": 0
      },
      "text/plain": [
       "HBox(children=(IntProgress(value=0, max=50), HTML(value='')))"
      ]
     },
     "metadata": {},
     "output_type": "display_data"
    },
    {
     "name": "stdout",
     "output_type": "stream",
     "text": [
      "epoch 8: training loss 73.80837321281433 ; testing loss 1.3730062246322632\n"
     ]
    },
    {
     "data": {
      "application/vnd.jupyter.widget-view+json": {
       "model_id": "8e32884466754ed58f96deb2af510f8b",
       "version_major": 2,
       "version_minor": 0
      },
      "text/plain": [
       "HBox(children=(IntProgress(value=0, max=50), HTML(value='')))"
      ]
     },
     "metadata": {},
     "output_type": "display_data"
    },
    {
     "name": "stdout",
     "output_type": "stream",
     "text": [
      "epoch 9: training loss 71.41403412818909 ; testing loss 1.3388007879257202\n"
     ]
    },
    {
     "data": {
      "application/vnd.jupyter.widget-view+json": {
       "model_id": "34d58170b1c44910a4da8e22a2935092",
       "version_major": 2,
       "version_minor": 0
      },
      "text/plain": [
       "HBox(children=(IntProgress(value=0, max=50), HTML(value='')))"
      ]
     },
     "metadata": {},
     "output_type": "display_data"
    },
    {
     "name": "stdout",
     "output_type": "stream",
     "text": [
      "epoch 10: training loss 68.98647320270538 ; testing loss 1.3165374994277954\n"
     ]
    },
    {
     "data": {
      "application/vnd.jupyter.widget-view+json": {
       "model_id": "5a992791d0b64e3581f69b6b829da888",
       "version_major": 2,
       "version_minor": 0
      },
      "text/plain": [
       "HBox(children=(IntProgress(value=0, max=50), HTML(value='')))"
      ]
     },
     "metadata": {},
     "output_type": "display_data"
    },
    {
     "name": "stdout",
     "output_type": "stream",
     "text": [
      "epoch 11: training loss 68.0743715763092 ; testing loss 1.3004120588302612\n"
     ]
    },
    {
     "data": {
      "application/vnd.jupyter.widget-view+json": {
       "model_id": "dd5b485d8be24dcd8200f6621b521104",
       "version_major": 2,
       "version_minor": 0
      },
      "text/plain": [
       "HBox(children=(IntProgress(value=0, max=50), HTML(value='')))"
      ]
     },
     "metadata": {},
     "output_type": "display_data"
    },
    {
     "name": "stdout",
     "output_type": "stream",
     "text": [
      "epoch 12: training loss 67.82842636108398 ; testing loss 1.285227656364441\n"
     ]
    },
    {
     "data": {
      "application/vnd.jupyter.widget-view+json": {
       "model_id": "00f6e383d64a424ca04b31ca0dfe60d5",
       "version_major": 2,
       "version_minor": 0
      },
      "text/plain": [
       "HBox(children=(IntProgress(value=0, max=50), HTML(value='')))"
      ]
     },
     "metadata": {},
     "output_type": "display_data"
    },
    {
     "name": "stdout",
     "output_type": "stream",
     "text": [
      "epoch 13: training loss 66.19547641277313 ; testing loss 1.2837949991226196\n"
     ]
    },
    {
     "data": {
      "application/vnd.jupyter.widget-view+json": {
       "model_id": "1c8d462e5ce843e7ab4d474161d6fe39",
       "version_major": 2,
       "version_minor": 0
      },
      "text/plain": [
       "HBox(children=(IntProgress(value=0, max=50), HTML(value='')))"
      ]
     },
     "metadata": {},
     "output_type": "display_data"
    },
    {
     "name": "stdout",
     "output_type": "stream",
     "text": [
      "epoch 14: training loss 66.90879392623901 ; testing loss 1.270026445388794\n"
     ]
    },
    {
     "data": {
      "application/vnd.jupyter.widget-view+json": {
       "model_id": "b1509def91474230983b65a51ed4f638",
       "version_major": 2,
       "version_minor": 0
      },
      "text/plain": [
       "HBox(children=(IntProgress(value=0, max=50), HTML(value='')))"
      ]
     },
     "metadata": {},
     "output_type": "display_data"
    },
    {
     "name": "stdout",
     "output_type": "stream",
     "text": [
      "epoch 15: training loss 64.98859876394272 ; testing loss 1.2694898843765259\n"
     ]
    },
    {
     "data": {
      "application/vnd.jupyter.widget-view+json": {
       "model_id": "0695b24ea5514f598a71e394b0098f47",
       "version_major": 2,
       "version_minor": 0
      },
      "text/plain": [
       "HBox(children=(IntProgress(value=0, max=50), HTML(value='')))"
      ]
     },
     "metadata": {},
     "output_type": "display_data"
    },
    {
     "name": "stdout",
     "output_type": "stream",
     "text": [
      "epoch 16: training loss 65.66220927238464 ; testing loss 1.259925365447998\n"
     ]
    },
    {
     "data": {
      "application/vnd.jupyter.widget-view+json": {
       "model_id": "13a62e88728f49b39cbe35a1ed3f9bdd",
       "version_major": 2,
       "version_minor": 0
      },
      "text/plain": [
       "HBox(children=(IntProgress(value=0, max=50), HTML(value='')))"
      ]
     },
     "metadata": {},
     "output_type": "display_data"
    },
    {
     "name": "stdout",
     "output_type": "stream",
     "text": [
      "epoch 17: training loss 63.56484651565552 ; testing loss 1.2510241270065308\n"
     ]
    },
    {
     "data": {
      "application/vnd.jupyter.widget-view+json": {
       "model_id": "d384b5cd18af46d09bf980ce8800ef50",
       "version_major": 2,
       "version_minor": 0
      },
      "text/plain": [
       "HBox(children=(IntProgress(value=0, max=50), HTML(value='')))"
      ]
     },
     "metadata": {},
     "output_type": "display_data"
    },
    {
     "name": "stdout",
     "output_type": "stream",
     "text": [
      "epoch 18: training loss 63.78894478082657 ; testing loss 1.2470394372940063\n"
     ]
    },
    {
     "data": {
      "application/vnd.jupyter.widget-view+json": {
       "model_id": "97bbfdc6b40f42858d099dd4e0aa976a",
       "version_major": 2,
       "version_minor": 0
      },
      "text/plain": [
       "HBox(children=(IntProgress(value=0, max=50), HTML(value='')))"
      ]
     },
     "metadata": {},
     "output_type": "display_data"
    },
    {
     "name": "stdout",
     "output_type": "stream",
     "text": [
      "epoch 19: training loss 63.94642496109009 ; testing loss 1.243561863899231\n"
     ]
    },
    {
     "data": {
      "application/vnd.jupyter.widget-view+json": {
       "model_id": "ed6f011f68df4bd0b1ab2f5007633eb7",
       "version_major": 2,
       "version_minor": 0
      },
      "text/plain": [
       "HBox(children=(IntProgress(value=0, max=50), HTML(value='')))"
      ]
     },
     "metadata": {},
     "output_type": "display_data"
    },
    {
     "name": "stdout",
     "output_type": "stream",
     "text": [
      "epoch 20: training loss 62.63631296157837 ; testing loss 1.2395401000976562\n"
     ]
    },
    {
     "data": {
      "application/vnd.jupyter.widget-view+json": {
       "model_id": "8b915605eb1f4eb9a114f9c68351d017",
       "version_major": 2,
       "version_minor": 0
      },
      "text/plain": [
       "HBox(children=(IntProgress(value=0, max=50), HTML(value='')))"
      ]
     },
     "metadata": {},
     "output_type": "display_data"
    },
    {
     "name": "stdout",
     "output_type": "stream",
     "text": [
      "epoch 21: training loss 61.94228261709213 ; testing loss 1.2359181642532349\n"
     ]
    },
    {
     "data": {
      "application/vnd.jupyter.widget-view+json": {
       "model_id": "68eaa42776944ec49a46e82b7be019ae",
       "version_major": 2,
       "version_minor": 0
      },
      "text/plain": [
       "HBox(children=(IntProgress(value=0, max=50), HTML(value='')))"
      ]
     },
     "metadata": {},
     "output_type": "display_data"
    },
    {
     "name": "stdout",
     "output_type": "stream",
     "text": [
      "epoch 22: training loss 61.326852321624756 ; testing loss 1.2346380949020386\n"
     ]
    },
    {
     "data": {
      "application/vnd.jupyter.widget-view+json": {
       "model_id": "05c4998de511433aa528102ffb546d1a",
       "version_major": 2,
       "version_minor": 0
      },
      "text/plain": [
       "HBox(children=(IntProgress(value=0, max=50), HTML(value='')))"
      ]
     },
     "metadata": {},
     "output_type": "display_data"
    },
    {
     "name": "stdout",
     "output_type": "stream",
     "text": [
      "epoch 23: training loss 61.253249764442444 ; testing loss 1.2341185808181763\n"
     ]
    },
    {
     "data": {
      "application/vnd.jupyter.widget-view+json": {
       "model_id": "a3571671b97c40e0a40fc42ae8536e12",
       "version_major": 2,
       "version_minor": 0
      },
      "text/plain": [
       "HBox(children=(IntProgress(value=0, max=50), HTML(value='')))"
      ]
     },
     "metadata": {},
     "output_type": "display_data"
    },
    {
     "name": "stdout",
     "output_type": "stream",
     "text": [
      "epoch 24: training loss 61.28368026018143 ; testing loss 1.2310173511505127\n"
     ]
    },
    {
     "data": {
      "application/vnd.jupyter.widget-view+json": {
       "model_id": "aba916f43e4442b4845795ece1725f7c",
       "version_major": 2,
       "version_minor": 0
      },
      "text/plain": [
       "HBox(children=(IntProgress(value=0, max=50), HTML(value='')))"
      ]
     },
     "metadata": {},
     "output_type": "display_data"
    },
    {
     "name": "stdout",
     "output_type": "stream",
     "text": [
      "epoch 25: training loss 62.08267802000046 ; testing loss 1.2342935800552368\n"
     ]
    },
    {
     "data": {
      "application/vnd.jupyter.widget-view+json": {
       "model_id": "fd7660985e0c43ef865f48174f7002fa",
       "version_major": 2,
       "version_minor": 0
      },
      "text/plain": [
       "HBox(children=(IntProgress(value=0, max=50), HTML(value='')))"
      ]
     },
     "metadata": {},
     "output_type": "display_data"
    },
    {
     "name": "stdout",
     "output_type": "stream",
     "text": [
      "epoch 26: training loss 60.92836630344391 ; testing loss 1.2352954149246216\n"
     ]
    },
    {
     "data": {
      "application/vnd.jupyter.widget-view+json": {
       "model_id": "67cfdc43d7964db2bf2a3bf7831778a9",
       "version_major": 2,
       "version_minor": 0
      },
      "text/plain": [
       "HBox(children=(IntProgress(value=0, max=50), HTML(value='')))"
      ]
     },
     "metadata": {},
     "output_type": "display_data"
    },
    {
     "name": "stdout",
     "output_type": "stream",
     "text": [
      "epoch 27: training loss 58.94994407892227 ; testing loss 1.227941632270813\n"
     ]
    },
    {
     "data": {
      "application/vnd.jupyter.widget-view+json": {
       "model_id": "9c6d4da3508540f98c6e93433b782cdd",
       "version_major": 2,
       "version_minor": 0
      },
      "text/plain": [
       "HBox(children=(IntProgress(value=0, max=50), HTML(value='')))"
      ]
     },
     "metadata": {},
     "output_type": "display_data"
    },
    {
     "name": "stdout",
     "output_type": "stream",
     "text": [
      "epoch 28: training loss 60.21414637565613 ; testing loss 1.2301748991012573\n"
     ]
    },
    {
     "data": {
      "application/vnd.jupyter.widget-view+json": {
       "model_id": "095701107ec34afdb5b0c8f4097ac2b9",
       "version_major": 2,
       "version_minor": 0
      },
      "text/plain": [
       "HBox(children=(IntProgress(value=0, max=50), HTML(value='')))"
      ]
     },
     "metadata": {},
     "output_type": "display_data"
    },
    {
     "name": "stdout",
     "output_type": "stream",
     "text": [
      "epoch 29: training loss 59.18633568286896 ; testing loss 1.2261531352996826\n",
      "The model didn't improve for 5 rounds, break it!\n",
      "model 1 start!\n"
     ]
    },
    {
     "data": {
      "application/vnd.jupyter.widget-view+json": {
       "model_id": "19ec611073d647f19a367086912ffc15",
       "version_major": 2,
       "version_minor": 0
      },
      "text/plain": [
       "HBox(children=(IntProgress(value=0, max=50), HTML(value='')))"
      ]
     },
     "metadata": {},
     "output_type": "display_data"
    },
    {
     "name": "stdout",
     "output_type": "stream",
     "text": [
      "epoch 1: training loss 95.13217830657959 ; testing loss 1.672585129737854\n"
     ]
    },
    {
     "data": {
      "application/vnd.jupyter.widget-view+json": {
       "model_id": "371300ee536244d587f31adbceea0f48",
       "version_major": 2,
       "version_minor": 0
      },
      "text/plain": [
       "HBox(children=(IntProgress(value=0, max=50), HTML(value='')))"
      ]
     },
     "metadata": {},
     "output_type": "display_data"
    },
    {
     "name": "stdout",
     "output_type": "stream",
     "text": [
      "epoch 2: training loss 87.91807889938354 ; testing loss 1.621600866317749\n"
     ]
    },
    {
     "data": {
      "application/vnd.jupyter.widget-view+json": {
       "model_id": "eb977cc4a7f944cdb383f2b977aba397",
       "version_major": 2,
       "version_minor": 0
      },
      "text/plain": [
       "HBox(children=(IntProgress(value=0, max=50), HTML(value='')))"
      ]
     },
     "metadata": {},
     "output_type": "display_data"
    },
    {
     "name": "stdout",
     "output_type": "stream",
     "text": [
      "epoch 3: training loss 83.99244093894958 ; testing loss 1.5621944665908813\n"
     ]
    },
    {
     "data": {
      "application/vnd.jupyter.widget-view+json": {
       "model_id": "9089322c9a0c462da08bca18b33dcf48",
       "version_major": 2,
       "version_minor": 0
      },
      "text/plain": [
       "HBox(children=(IntProgress(value=0, max=50), HTML(value='')))"
      ]
     },
     "metadata": {},
     "output_type": "display_data"
    },
    {
     "name": "stdout",
     "output_type": "stream",
     "text": [
      "epoch 4: training loss 81.80376994609833 ; testing loss 1.511938214302063\n"
     ]
    },
    {
     "data": {
      "application/vnd.jupyter.widget-view+json": {
       "model_id": "adddd05aa9fb4431999de84a13c6660d",
       "version_major": 2,
       "version_minor": 0
      },
      "text/plain": [
       "HBox(children=(IntProgress(value=0, max=50), HTML(value='')))"
      ]
     },
     "metadata": {},
     "output_type": "display_data"
    },
    {
     "name": "stdout",
     "output_type": "stream",
     "text": [
      "epoch 5: training loss 78.22616589069366 ; testing loss 1.4537322521209717\n"
     ]
    },
    {
     "data": {
      "application/vnd.jupyter.widget-view+json": {
       "model_id": "2bc9ffa193814ace8dedf80ffa65d5b8",
       "version_major": 2,
       "version_minor": 0
      },
      "text/plain": [
       "HBox(children=(IntProgress(value=0, max=50), HTML(value='')))"
      ]
     },
     "metadata": {},
     "output_type": "display_data"
    },
    {
     "name": "stdout",
     "output_type": "stream",
     "text": [
      "epoch 6: training loss 74.55750405788422 ; testing loss 1.4079358577728271\n"
     ]
    },
    {
     "data": {
      "application/vnd.jupyter.widget-view+json": {
       "model_id": "ddc55f6083814094b6a346afbc1299ae",
       "version_major": 2,
       "version_minor": 0
      },
      "text/plain": [
       "HBox(children=(IntProgress(value=0, max=50), HTML(value='')))"
      ]
     },
     "metadata": {},
     "output_type": "display_data"
    },
    {
     "name": "stdout",
     "output_type": "stream",
     "text": [
      "epoch 7: training loss 74.71983706951141 ; testing loss 1.386031985282898\n"
     ]
    },
    {
     "data": {
      "application/vnd.jupyter.widget-view+json": {
       "model_id": "528d99e1a4ed4343bf2b285ffff88c9a",
       "version_major": 2,
       "version_minor": 0
      },
      "text/plain": [
       "HBox(children=(IntProgress(value=0, max=50), HTML(value='')))"
      ]
     },
     "metadata": {},
     "output_type": "display_data"
    },
    {
     "name": "stdout",
     "output_type": "stream",
     "text": [
      "epoch 8: training loss 71.97323834896088 ; testing loss 1.3617212772369385\n"
     ]
    },
    {
     "data": {
      "application/vnd.jupyter.widget-view+json": {
       "model_id": "b9583f07c4804d688e0497d0c9b8555f",
       "version_major": 2,
       "version_minor": 0
      },
      "text/plain": [
       "HBox(children=(IntProgress(value=0, max=50), HTML(value='')))"
      ]
     },
     "metadata": {},
     "output_type": "display_data"
    },
    {
     "name": "stdout",
     "output_type": "stream",
     "text": [
      "epoch 9: training loss 69.1486269235611 ; testing loss 1.3327301740646362\n"
     ]
    },
    {
     "data": {
      "application/vnd.jupyter.widget-view+json": {
       "model_id": "f95c7578564a437ea8253012e6316891",
       "version_major": 2,
       "version_minor": 0
      },
      "text/plain": [
       "HBox(children=(IntProgress(value=0, max=50), HTML(value='')))"
      ]
     },
     "metadata": {},
     "output_type": "display_data"
    },
    {
     "name": "stdout",
     "output_type": "stream",
     "text": [
      "epoch 10: training loss 67.97363102436066 ; testing loss 1.319932460784912\n"
     ]
    },
    {
     "data": {
      "application/vnd.jupyter.widget-view+json": {
       "model_id": "7630f9bc2c6e464a90d9e81c0181d51a",
       "version_major": 2,
       "version_minor": 0
      },
      "text/plain": [
       "HBox(children=(IntProgress(value=0, max=50), HTML(value='')))"
      ]
     },
     "metadata": {},
     "output_type": "display_data"
    },
    {
     "name": "stdout",
     "output_type": "stream",
     "text": [
      "epoch 11: training loss 68.55831050872803 ; testing loss 1.3059312105178833\n"
     ]
    },
    {
     "data": {
      "application/vnd.jupyter.widget-view+json": {
       "model_id": "60acae3cbebc47c6a81e4f34033271f3",
       "version_major": 2,
       "version_minor": 0
      },
      "text/plain": [
       "HBox(children=(IntProgress(value=0, max=50), HTML(value='')))"
      ]
     },
     "metadata": {},
     "output_type": "display_data"
    },
    {
     "name": "stdout",
     "output_type": "stream",
     "text": [
      "epoch 12: training loss 67.16106176376343 ; testing loss 1.289218783378601\n"
     ]
    },
    {
     "data": {
      "application/vnd.jupyter.widget-view+json": {
       "model_id": "84eab084857541d289040bee3e7e2589",
       "version_major": 2,
       "version_minor": 0
      },
      "text/plain": [
       "HBox(children=(IntProgress(value=0, max=50), HTML(value='')))"
      ]
     },
     "metadata": {},
     "output_type": "display_data"
    },
    {
     "name": "stdout",
     "output_type": "stream",
     "text": [
      "epoch 13: training loss 65.99934947490692 ; testing loss 1.2841143608093262\n"
     ]
    },
    {
     "data": {
      "application/vnd.jupyter.widget-view+json": {
       "model_id": "79c1d510ba7641579849b75a680a6625",
       "version_major": 2,
       "version_minor": 0
      },
      "text/plain": [
       "HBox(children=(IntProgress(value=0, max=50), HTML(value='')))"
      ]
     },
     "metadata": {},
     "output_type": "display_data"
    },
    {
     "name": "stdout",
     "output_type": "stream",
     "text": [
      "epoch 14: training loss 65.90893256664276 ; testing loss 1.2737996578216553\n"
     ]
    },
    {
     "data": {
      "application/vnd.jupyter.widget-view+json": {
       "model_id": "e752858d6b314bd9aa122546eeac45d5",
       "version_major": 2,
       "version_minor": 0
      },
      "text/plain": [
       "HBox(children=(IntProgress(value=0, max=50), HTML(value='')))"
      ]
     },
     "metadata": {},
     "output_type": "display_data"
    },
    {
     "name": "stdout",
     "output_type": "stream",
     "text": [
      "epoch 15: training loss 66.0894228219986 ; testing loss 1.2758079767227173\n"
     ]
    },
    {
     "data": {
      "application/vnd.jupyter.widget-view+json": {
       "model_id": "1d4321a4d4c24ea6a475567b062fe346",
       "version_major": 2,
       "version_minor": 0
      },
      "text/plain": [
       "HBox(children=(IntProgress(value=0, max=50), HTML(value='')))"
      ]
     },
     "metadata": {},
     "output_type": "display_data"
    },
    {
     "name": "stdout",
     "output_type": "stream",
     "text": [
      "epoch 16: training loss 63.609004855155945 ; testing loss 1.2616244554519653\n"
     ]
    },
    {
     "data": {
      "application/vnd.jupyter.widget-view+json": {
       "model_id": "790dddde64f24cba82e978f3fdd57df1",
       "version_major": 2,
       "version_minor": 0
      },
      "text/plain": [
       "HBox(children=(IntProgress(value=0, max=50), HTML(value='')))"
      ]
     },
     "metadata": {},
     "output_type": "display_data"
    },
    {
     "name": "stdout",
     "output_type": "stream",
     "text": [
      "epoch 17: training loss 63.99820411205292 ; testing loss 1.2626680135726929\n"
     ]
    },
    {
     "data": {
      "application/vnd.jupyter.widget-view+json": {
       "model_id": "8ba0d3d1f8a74344879d3c0581bed2a0",
       "version_major": 2,
       "version_minor": 0
      },
      "text/plain": [
       "HBox(children=(IntProgress(value=0, max=50), HTML(value='')))"
      ]
     },
     "metadata": {},
     "output_type": "display_data"
    },
    {
     "name": "stdout",
     "output_type": "stream",
     "text": [
      "epoch 18: training loss 62.286426424980164 ; testing loss 1.251347541809082\n"
     ]
    },
    {
     "data": {
      "application/vnd.jupyter.widget-view+json": {
       "model_id": "cced4e69a2714a60b9a563b9cecd814e",
       "version_major": 2,
       "version_minor": 0
      },
      "text/plain": [
       "HBox(children=(IntProgress(value=0, max=50), HTML(value='')))"
      ]
     },
     "metadata": {},
     "output_type": "display_data"
    },
    {
     "name": "stdout",
     "output_type": "stream",
     "text": [
      "epoch 19: training loss 62.77039051055908 ; testing loss 1.2508355379104614\n"
     ]
    },
    {
     "data": {
      "application/vnd.jupyter.widget-view+json": {
       "model_id": "5a5c9c21fd7349f79e577af9b6a92d64",
       "version_major": 2,
       "version_minor": 0
      },
      "text/plain": [
       "HBox(children=(IntProgress(value=0, max=50), HTML(value='')))"
      ]
     },
     "metadata": {},
     "output_type": "display_data"
    },
    {
     "name": "stdout",
     "output_type": "stream",
     "text": [
      "epoch 20: training loss 61.975268483161926 ; testing loss 1.2467405796051025\n"
     ]
    },
    {
     "data": {
      "application/vnd.jupyter.widget-view+json": {
       "model_id": "51ebcef5a55543cfb5ec955775a08ba7",
       "version_major": 2,
       "version_minor": 0
      },
      "text/plain": [
       "HBox(children=(IntProgress(value=0, max=50), HTML(value='')))"
      ]
     },
     "metadata": {},
     "output_type": "display_data"
    },
    {
     "name": "stdout",
     "output_type": "stream",
     "text": [
      "epoch 21: training loss 60.925711274147034 ; testing loss 1.2469145059585571\n"
     ]
    },
    {
     "data": {
      "application/vnd.jupyter.widget-view+json": {
       "model_id": "26fde3fc4ec94e38a98b4f28290521f8",
       "version_major": 2,
       "version_minor": 0
      },
      "text/plain": [
       "HBox(children=(IntProgress(value=0, max=50), HTML(value='')))"
      ]
     },
     "metadata": {},
     "output_type": "display_data"
    },
    {
     "name": "stdout",
     "output_type": "stream",
     "text": [
      "epoch 22: training loss 59.907105565071106 ; testing loss 1.245286226272583\n"
     ]
    },
    {
     "data": {
      "application/vnd.jupyter.widget-view+json": {
       "model_id": "b707bc4ae8014b1a8a9443e2c4435400",
       "version_major": 2,
       "version_minor": 0
      },
      "text/plain": [
       "HBox(children=(IntProgress(value=0, max=50), HTML(value='')))"
      ]
     },
     "metadata": {},
     "output_type": "display_data"
    },
    {
     "name": "stdout",
     "output_type": "stream",
     "text": [
      "epoch 23: training loss 60.676749765872955 ; testing loss 1.2453237771987915\n"
     ]
    },
    {
     "data": {
      "application/vnd.jupyter.widget-view+json": {
       "model_id": "b2198b58593d4c4eae8c61585ddd0cf5",
       "version_major": 2,
       "version_minor": 0
      },
      "text/plain": [
       "HBox(children=(IntProgress(value=0, max=50), HTML(value='')))"
      ]
     },
     "metadata": {},
     "output_type": "display_data"
    },
    {
     "name": "stdout",
     "output_type": "stream",
     "text": [
      "epoch 24: training loss 60.71449398994446 ; testing loss 1.244229793548584\n"
     ]
    },
    {
     "data": {
      "application/vnd.jupyter.widget-view+json": {
       "model_id": "2d7e5b1e7e66448782d388f113b6ed93",
       "version_major": 2,
       "version_minor": 0
      },
      "text/plain": [
       "HBox(children=(IntProgress(value=0, max=50), HTML(value='')))"
      ]
     },
     "metadata": {},
     "output_type": "display_data"
    },
    {
     "name": "stdout",
     "output_type": "stream",
     "text": [
      "epoch 25: training loss 59.00353288650513 ; testing loss 1.2409679889678955\n"
     ]
    },
    {
     "data": {
      "application/vnd.jupyter.widget-view+json": {
       "model_id": "4a7dd122c010446384f672730d0574a5",
       "version_major": 2,
       "version_minor": 0
      },
      "text/plain": [
       "HBox(children=(IntProgress(value=0, max=50), HTML(value='')))"
      ]
     },
     "metadata": {},
     "output_type": "display_data"
    },
    {
     "name": "stdout",
     "output_type": "stream",
     "text": [
      "epoch 26: training loss 59.882609367370605 ; testing loss 1.240647315979004\n"
     ]
    },
    {
     "data": {
      "application/vnd.jupyter.widget-view+json": {
       "model_id": "9dbe6903becc455ba393045998721f04",
       "version_major": 2,
       "version_minor": 0
      },
      "text/plain": [
       "HBox(children=(IntProgress(value=0, max=50), HTML(value='')))"
      ]
     },
     "metadata": {},
     "output_type": "display_data"
    },
    {
     "name": "stdout",
     "output_type": "stream",
     "text": [
      "epoch 27: training loss 59.52090901136398 ; testing loss 1.2394492626190186\n"
     ]
    },
    {
     "data": {
      "application/vnd.jupyter.widget-view+json": {
       "model_id": "267d70c618b245c185db91a2acf0281c",
       "version_major": 2,
       "version_minor": 0
      },
      "text/plain": [
       "HBox(children=(IntProgress(value=0, max=50), HTML(value='')))"
      ]
     },
     "metadata": {},
     "output_type": "display_data"
    },
    {
     "name": "stdout",
     "output_type": "stream",
     "text": [
      "epoch 28: training loss 60.02181625366211 ; testing loss 1.2361961603164673\n"
     ]
    },
    {
     "data": {
      "application/vnd.jupyter.widget-view+json": {
       "model_id": "bfd309f3ff794fa183353200bd73536d",
       "version_major": 2,
       "version_minor": 0
      },
      "text/plain": [
       "HBox(children=(IntProgress(value=0, max=50), HTML(value='')))"
      ]
     },
     "metadata": {},
     "output_type": "display_data"
    },
    {
     "name": "stdout",
     "output_type": "stream",
     "text": [
      "epoch 29: training loss 58.08910936117172 ; testing loss 1.239122748374939\n"
     ]
    },
    {
     "data": {
      "application/vnd.jupyter.widget-view+json": {
       "model_id": "c07e4527c39d434e8d4d68d8b01eb29b",
       "version_major": 2,
       "version_minor": 0
      },
      "text/plain": [
       "HBox(children=(IntProgress(value=0, max=50), HTML(value='')))"
      ]
     },
     "metadata": {},
     "output_type": "display_data"
    },
    {
     "name": "stdout",
     "output_type": "stream",
     "text": [
      "epoch 30: training loss 58.107120513916016 ; testing loss 1.237292766571045\n"
     ]
    },
    {
     "data": {
      "application/vnd.jupyter.widget-view+json": {
       "model_id": "63e9ff474ce74e83a1daf6ba1b874ce6",
       "version_major": 2,
       "version_minor": 0
      },
      "text/plain": [
       "HBox(children=(IntProgress(value=0, max=50), HTML(value='')))"
      ]
     },
     "metadata": {},
     "output_type": "display_data"
    },
    {
     "name": "stdout",
     "output_type": "stream",
     "text": [
      "epoch 31: training loss 57.972320795059204 ; testing loss 1.2358250617980957\n"
     ]
    },
    {
     "data": {
      "application/vnd.jupyter.widget-view+json": {
       "model_id": "7bcb0777691b4a8bb323ed992f20e1cf",
       "version_major": 2,
       "version_minor": 0
      },
      "text/plain": [
       "HBox(children=(IntProgress(value=0, max=50), HTML(value='')))"
      ]
     },
     "metadata": {},
     "output_type": "display_data"
    },
    {
     "name": "stdout",
     "output_type": "stream",
     "text": [
      "epoch 32: training loss 59.359303414821625 ; testing loss 1.2359554767608643\n"
     ]
    },
    {
     "data": {
      "application/vnd.jupyter.widget-view+json": {
       "model_id": "c6c90f1629c248bc82e0c42c1447b1ab",
       "version_major": 2,
       "version_minor": 0
      },
      "text/plain": [
       "HBox(children=(IntProgress(value=0, max=50), HTML(value='')))"
      ]
     },
     "metadata": {},
     "output_type": "display_data"
    },
    {
     "name": "stdout",
     "output_type": "stream",
     "text": [
      "epoch 33: training loss 57.60480558872223 ; testing loss 1.2361210584640503\n",
      "The model didn't improve for 5 rounds, break it!\n",
      "model 2 start!\n"
     ]
    },
    {
     "data": {
      "application/vnd.jupyter.widget-view+json": {
       "model_id": "3b3b2c2f6eb74309b9a9357df0965725",
       "version_major": 2,
       "version_minor": 0
      },
      "text/plain": [
       "HBox(children=(IntProgress(value=0, max=50), HTML(value='')))"
      ]
     },
     "metadata": {},
     "output_type": "display_data"
    },
    {
     "name": "stdout",
     "output_type": "stream",
     "text": [
      "epoch 1: training loss 94.73364639282227 ; testing loss 1.683030128479004\n"
     ]
    },
    {
     "data": {
      "application/vnd.jupyter.widget-view+json": {
       "model_id": "83576e6feace4e91be2e487c12cd1c13",
       "version_major": 2,
       "version_minor": 0
      },
      "text/plain": [
       "HBox(children=(IntProgress(value=0, max=50), HTML(value='')))"
      ]
     },
     "metadata": {},
     "output_type": "display_data"
    },
    {
     "name": "stdout",
     "output_type": "stream",
     "text": [
      "epoch 2: training loss 88.62835359573364 ; testing loss 1.633242130279541\n"
     ]
    },
    {
     "data": {
      "application/vnd.jupyter.widget-view+json": {
       "model_id": "2d7e6b7ef30b4799a44c9d368bcd8bff",
       "version_major": 2,
       "version_minor": 0
      },
      "text/plain": [
       "HBox(children=(IntProgress(value=0, max=50), HTML(value='')))"
      ]
     },
     "metadata": {},
     "output_type": "display_data"
    },
    {
     "name": "stdout",
     "output_type": "stream",
     "text": [
      "epoch 3: training loss 84.4397361278534 ; testing loss 1.5740457773208618\n"
     ]
    },
    {
     "data": {
      "application/vnd.jupyter.widget-view+json": {
       "model_id": "028ff115de2c48dcabbdd5de662f5d43",
       "version_major": 2,
       "version_minor": 0
      },
      "text/plain": [
       "HBox(children=(IntProgress(value=0, max=50), HTML(value='')))"
      ]
     },
     "metadata": {},
     "output_type": "display_data"
    },
    {
     "name": "stdout",
     "output_type": "stream",
     "text": [
      "epoch 4: training loss 80.42845821380615 ; testing loss 1.514142394065857\n"
     ]
    },
    {
     "data": {
      "application/vnd.jupyter.widget-view+json": {
       "model_id": "c7bd496566364fd5beedbd83714c30b2",
       "version_major": 2,
       "version_minor": 0
      },
      "text/plain": [
       "HBox(children=(IntProgress(value=0, max=50), HTML(value='')))"
      ]
     },
     "metadata": {},
     "output_type": "display_data"
    },
    {
     "name": "stdout",
     "output_type": "stream",
     "text": [
      "epoch 5: training loss 78.69503784179688 ; testing loss 1.4528722763061523\n"
     ]
    },
    {
     "data": {
      "application/vnd.jupyter.widget-view+json": {
       "model_id": "b4c8c3ea73984fea9ec2986faaefda06",
       "version_major": 2,
       "version_minor": 0
      },
      "text/plain": [
       "HBox(children=(IntProgress(value=0, max=50), HTML(value='')))"
      ]
     },
     "metadata": {},
     "output_type": "display_data"
    },
    {
     "name": "stdout",
     "output_type": "stream",
     "text": [
      "epoch 6: training loss 75.73851990699768 ; testing loss 1.402382731437683\n"
     ]
    },
    {
     "data": {
      "application/vnd.jupyter.widget-view+json": {
       "model_id": "0ee823ab895d4a7bab18ae3922a8417a",
       "version_major": 2,
       "version_minor": 0
      },
      "text/plain": [
       "HBox(children=(IntProgress(value=0, max=50), HTML(value='')))"
      ]
     },
     "metadata": {},
     "output_type": "display_data"
    },
    {
     "name": "stdout",
     "output_type": "stream",
     "text": [
      "epoch 7: training loss 72.88168692588806 ; testing loss 1.3545345067977905\n"
     ]
    },
    {
     "data": {
      "application/vnd.jupyter.widget-view+json": {
       "model_id": "a6e1834d07774dbda231b9c44265ab9e",
       "version_major": 2,
       "version_minor": 0
      },
      "text/plain": [
       "HBox(children=(IntProgress(value=0, max=50), HTML(value='')))"
      ]
     },
     "metadata": {},
     "output_type": "display_data"
    },
    {
     "name": "stdout",
     "output_type": "stream",
     "text": [
      "epoch 8: training loss 71.96776914596558 ; testing loss 1.328991174697876\n"
     ]
    },
    {
     "data": {
      "application/vnd.jupyter.widget-view+json": {
       "model_id": "c083613a5b1648ddbef4503e64ec9045",
       "version_major": 2,
       "version_minor": 0
      },
      "text/plain": [
       "HBox(children=(IntProgress(value=0, max=50), HTML(value='')))"
      ]
     },
     "metadata": {},
     "output_type": "display_data"
    },
    {
     "name": "stdout",
     "output_type": "stream",
     "text": [
      "epoch 9: training loss 70.32137894630432 ; testing loss 1.3048522472381592\n"
     ]
    },
    {
     "data": {
      "application/vnd.jupyter.widget-view+json": {
       "model_id": "810b7f7029bd44dfae5c29f9dd3a4152",
       "version_major": 2,
       "version_minor": 0
      },
      "text/plain": [
       "HBox(children=(IntProgress(value=0, max=50), HTML(value='')))"
      ]
     },
     "metadata": {},
     "output_type": "display_data"
    },
    {
     "name": "stdout",
     "output_type": "stream",
     "text": [
      "epoch 10: training loss 69.77681088447571 ; testing loss 1.2854650020599365\n"
     ]
    },
    {
     "data": {
      "application/vnd.jupyter.widget-view+json": {
       "model_id": "37019fc8bcc54a5982dbb249692d3fac",
       "version_major": 2,
       "version_minor": 0
      },
      "text/plain": [
       "HBox(children=(IntProgress(value=0, max=50), HTML(value='')))"
      ]
     },
     "metadata": {},
     "output_type": "display_data"
    },
    {
     "name": "stdout",
     "output_type": "stream",
     "text": [
      "epoch 11: training loss 68.35936391353607 ; testing loss 1.2765175104141235\n"
     ]
    },
    {
     "data": {
      "application/vnd.jupyter.widget-view+json": {
       "model_id": "8eaebf4bf9804146b930ceb32a558147",
       "version_major": 2,
       "version_minor": 0
      },
      "text/plain": [
       "HBox(children=(IntProgress(value=0, max=50), HTML(value='')))"
      ]
     },
     "metadata": {},
     "output_type": "display_data"
    },
    {
     "name": "stdout",
     "output_type": "stream",
     "text": [
      "epoch 12: training loss 67.28023171424866 ; testing loss 1.2603665590286255\n"
     ]
    },
    {
     "data": {
      "application/vnd.jupyter.widget-view+json": {
       "model_id": "daf37fb82841426bba05d927b6c8d06d",
       "version_major": 2,
       "version_minor": 0
      },
      "text/plain": [
       "HBox(children=(IntProgress(value=0, max=50), HTML(value='')))"
      ]
     },
     "metadata": {},
     "output_type": "display_data"
    },
    {
     "name": "stdout",
     "output_type": "stream",
     "text": [
      "epoch 13: training loss 65.5095522403717 ; testing loss 1.2580082416534424\n"
     ]
    },
    {
     "data": {
      "application/vnd.jupyter.widget-view+json": {
       "model_id": "4b044755815a491f8eecf73547896546",
       "version_major": 2,
       "version_minor": 0
      },
      "text/plain": [
       "HBox(children=(IntProgress(value=0, max=50), HTML(value='')))"
      ]
     },
     "metadata": {},
     "output_type": "display_data"
    },
    {
     "name": "stdout",
     "output_type": "stream",
     "text": [
      "epoch 14: training loss 67.13106524944305 ; testing loss 1.2462469339370728\n"
     ]
    },
    {
     "data": {
      "application/vnd.jupyter.widget-view+json": {
       "model_id": "870637f69ca84cb39aeeb76aa6fdce24",
       "version_major": 2,
       "version_minor": 0
      },
      "text/plain": [
       "HBox(children=(IntProgress(value=0, max=50), HTML(value='')))"
      ]
     },
     "metadata": {},
     "output_type": "display_data"
    },
    {
     "name": "stdout",
     "output_type": "stream",
     "text": [
      "epoch 15: training loss 64.62055718898773 ; testing loss 1.2473617792129517\n"
     ]
    },
    {
     "data": {
      "application/vnd.jupyter.widget-view+json": {
       "model_id": "095827eb32af4d99816828374d312fe0",
       "version_major": 2,
       "version_minor": 0
      },
      "text/plain": [
       "HBox(children=(IntProgress(value=0, max=50), HTML(value='')))"
      ]
     },
     "metadata": {},
     "output_type": "display_data"
    },
    {
     "name": "stdout",
     "output_type": "stream",
     "text": [
      "epoch 16: training loss 65.40386712551117 ; testing loss 1.2464191913604736\n"
     ]
    },
    {
     "data": {
      "application/vnd.jupyter.widget-view+json": {
       "model_id": "9b9b4c55375e427ea38bd26143527738",
       "version_major": 2,
       "version_minor": 0
      },
      "text/plain": [
       "HBox(children=(IntProgress(value=0, max=50), HTML(value='')))"
      ]
     },
     "metadata": {},
     "output_type": "display_data"
    },
    {
     "name": "stdout",
     "output_type": "stream",
     "text": [
      "epoch 17: training loss 64.53255236148834 ; testing loss 1.236124038696289\n",
      "The model didn't improve for 5 rounds, break it!\n",
      "model 3 start!\n"
     ]
    },
    {
     "data": {
      "application/vnd.jupyter.widget-view+json": {
       "model_id": "167336e518f34dd39d8eadf868bc84fd",
       "version_major": 2,
       "version_minor": 0
      },
      "text/plain": [
       "HBox(children=(IntProgress(value=0, max=50), HTML(value='')))"
      ]
     },
     "metadata": {},
     "output_type": "display_data"
    },
    {
     "name": "stdout",
     "output_type": "stream",
     "text": [
      "epoch 1: training loss 98.16510546207428 ; testing loss 1.6727339029312134\n"
     ]
    },
    {
     "data": {
      "application/vnd.jupyter.widget-view+json": {
       "model_id": "6c1eab2aaf3c4c7f84437c35ffa0e5c8",
       "version_major": 2,
       "version_minor": 0
      },
      "text/plain": [
       "HBox(children=(IntProgress(value=0, max=50), HTML(value='')))"
      ]
     },
     "metadata": {},
     "output_type": "display_data"
    },
    {
     "name": "stdout",
     "output_type": "stream",
     "text": [
      "epoch 2: training loss 87.93470871448517 ; testing loss 1.6212068796157837\n"
     ]
    },
    {
     "data": {
      "application/vnd.jupyter.widget-view+json": {
       "model_id": "058a605a17ad401686bdef1b162ab585",
       "version_major": 2,
       "version_minor": 0
      },
      "text/plain": [
       "HBox(children=(IntProgress(value=0, max=50), HTML(value='')))"
      ]
     },
     "metadata": {},
     "output_type": "display_data"
    },
    {
     "name": "stdout",
     "output_type": "stream",
     "text": [
      "epoch 3: training loss 84.32796704769135 ; testing loss 1.565996766090393\n"
     ]
    },
    {
     "data": {
      "application/vnd.jupyter.widget-view+json": {
       "model_id": "f6036d1656c843c8ba97086c5eb81c62",
       "version_major": 2,
       "version_minor": 0
      },
      "text/plain": [
       "HBox(children=(IntProgress(value=0, max=50), HTML(value='')))"
      ]
     },
     "metadata": {},
     "output_type": "display_data"
    },
    {
     "name": "stdout",
     "output_type": "stream",
     "text": [
      "epoch 4: training loss 81.12656044960022 ; testing loss 1.499802827835083\n"
     ]
    },
    {
     "data": {
      "application/vnd.jupyter.widget-view+json": {
       "model_id": "11412f2596b54c9fbdb523bcfe1db50b",
       "version_major": 2,
       "version_minor": 0
      },
      "text/plain": [
       "HBox(children=(IntProgress(value=0, max=50), HTML(value='')))"
      ]
     },
     "metadata": {},
     "output_type": "display_data"
    },
    {
     "name": "stdout",
     "output_type": "stream",
     "text": [
      "epoch 5: training loss 78.90067541599274 ; testing loss 1.440428614616394\n"
     ]
    },
    {
     "data": {
      "application/vnd.jupyter.widget-view+json": {
       "model_id": "810d9b8df97243e3b61a05210f843ff7",
       "version_major": 2,
       "version_minor": 0
      },
      "text/plain": [
       "HBox(children=(IntProgress(value=0, max=50), HTML(value='')))"
      ]
     },
     "metadata": {},
     "output_type": "display_data"
    },
    {
     "name": "stdout",
     "output_type": "stream",
     "text": [
      "epoch 6: training loss 75.5123804807663 ; testing loss 1.3979405164718628\n"
     ]
    },
    {
     "data": {
      "application/vnd.jupyter.widget-view+json": {
       "model_id": "5695e0dcc0994223b4797af9afad3e35",
       "version_major": 2,
       "version_minor": 0
      },
      "text/plain": [
       "HBox(children=(IntProgress(value=0, max=50), HTML(value='')))"
      ]
     },
     "metadata": {},
     "output_type": "display_data"
    },
    {
     "name": "stdout",
     "output_type": "stream",
     "text": [
      "epoch 7: training loss 74.33021914958954 ; testing loss 1.3628685474395752\n"
     ]
    },
    {
     "data": {
      "application/vnd.jupyter.widget-view+json": {
       "model_id": "7422dee3db114abebf59ac09e345ec23",
       "version_major": 2,
       "version_minor": 0
      },
      "text/plain": [
       "HBox(children=(IntProgress(value=0, max=50), HTML(value='')))"
      ]
     },
     "metadata": {},
     "output_type": "display_data"
    },
    {
     "name": "stdout",
     "output_type": "stream",
     "text": [
      "epoch 8: training loss 71.81042623519897 ; testing loss 1.341435432434082\n"
     ]
    },
    {
     "data": {
      "application/vnd.jupyter.widget-view+json": {
       "model_id": "5f8a60ab5a7b4e54b92d1677192f7821",
       "version_major": 2,
       "version_minor": 0
      },
      "text/plain": [
       "HBox(children=(IntProgress(value=0, max=50), HTML(value='')))"
      ]
     },
     "metadata": {},
     "output_type": "display_data"
    },
    {
     "name": "stdout",
     "output_type": "stream",
     "text": [
      "epoch 9: training loss 72.31974422931671 ; testing loss 1.3159937858581543\n"
     ]
    },
    {
     "data": {
      "application/vnd.jupyter.widget-view+json": {
       "model_id": "06ad731c4a7748d88da87d3177ec0598",
       "version_major": 2,
       "version_minor": 0
      },
      "text/plain": [
       "HBox(children=(IntProgress(value=0, max=50), HTML(value='')))"
      ]
     },
     "metadata": {},
     "output_type": "display_data"
    },
    {
     "name": "stdout",
     "output_type": "stream",
     "text": [
      "epoch 10: training loss 68.76080214977264 ; testing loss 1.2901630401611328\n"
     ]
    },
    {
     "data": {
      "application/vnd.jupyter.widget-view+json": {
       "model_id": "e607d1660da94a0dba3dddfd78c32cbe",
       "version_major": 2,
       "version_minor": 0
      },
      "text/plain": [
       "HBox(children=(IntProgress(value=0, max=50), HTML(value='')))"
      ]
     },
     "metadata": {},
     "output_type": "display_data"
    },
    {
     "name": "stdout",
     "output_type": "stream",
     "text": [
      "epoch 11: training loss 68.20835292339325 ; testing loss 1.2718452215194702\n"
     ]
    },
    {
     "data": {
      "application/vnd.jupyter.widget-view+json": {
       "model_id": "81254fc6952345b78955a67b68f69721",
       "version_major": 2,
       "version_minor": 0
      },
      "text/plain": [
       "HBox(children=(IntProgress(value=0, max=50), HTML(value='')))"
      ]
     },
     "metadata": {},
     "output_type": "display_data"
    },
    {
     "name": "stdout",
     "output_type": "stream",
     "text": [
      "epoch 12: training loss 67.32594561576843 ; testing loss 1.2723503112792969\n"
     ]
    },
    {
     "data": {
      "application/vnd.jupyter.widget-view+json": {
       "model_id": "715b21af0e874f12b563fa351b13429c",
       "version_major": 2,
       "version_minor": 0
      },
      "text/plain": [
       "HBox(children=(IntProgress(value=0, max=50), HTML(value='')))"
      ]
     },
     "metadata": {},
     "output_type": "display_data"
    },
    {
     "name": "stdout",
     "output_type": "stream",
     "text": [
      "epoch 13: training loss 66.03315615653992 ; testing loss 1.2614399194717407\n"
     ]
    },
    {
     "data": {
      "application/vnd.jupyter.widget-view+json": {
       "model_id": "bd7e5eb94a8f4407b8ae6b7f7d17a768",
       "version_major": 2,
       "version_minor": 0
      },
      "text/plain": [
       "HBox(children=(IntProgress(value=0, max=50), HTML(value='')))"
      ]
     },
     "metadata": {},
     "output_type": "display_data"
    },
    {
     "name": "stdout",
     "output_type": "stream",
     "text": [
      "epoch 14: training loss 65.96232211589813 ; testing loss 1.254211187362671\n"
     ]
    },
    {
     "data": {
      "application/vnd.jupyter.widget-view+json": {
       "model_id": "f55c0d33feb34c028e0124963593cd68",
       "version_major": 2,
       "version_minor": 0
      },
      "text/plain": [
       "HBox(children=(IntProgress(value=0, max=50), HTML(value='')))"
      ]
     },
     "metadata": {},
     "output_type": "display_data"
    },
    {
     "name": "stdout",
     "output_type": "stream",
     "text": [
      "epoch 15: training loss 65.82646203041077 ; testing loss 1.2545362710952759\n"
     ]
    },
    {
     "data": {
      "application/vnd.jupyter.widget-view+json": {
       "model_id": "b519dccf65534924878a9eec39ee8adc",
       "version_major": 2,
       "version_minor": 0
      },
      "text/plain": [
       "HBox(children=(IntProgress(value=0, max=50), HTML(value='')))"
      ]
     },
     "metadata": {},
     "output_type": "display_data"
    },
    {
     "name": "stdout",
     "output_type": "stream",
     "text": [
      "epoch 16: training loss 64.16680574417114 ; testing loss 1.2388359308242798\n"
     ]
    },
    {
     "data": {
      "application/vnd.jupyter.widget-view+json": {
       "model_id": "e7cc5e21b4a04cda9d49be8dd6e5026d",
       "version_major": 2,
       "version_minor": 0
      },
      "text/plain": [
       "HBox(children=(IntProgress(value=0, max=50), HTML(value='')))"
      ]
     },
     "metadata": {},
     "output_type": "display_data"
    },
    {
     "name": "stdout",
     "output_type": "stream",
     "text": [
      "epoch 17: training loss 63.22259974479675 ; testing loss 1.2367653846740723\n"
     ]
    },
    {
     "data": {
      "application/vnd.jupyter.widget-view+json": {
       "model_id": "5764a7d9374a42afb7a3fdbe1d7bee6c",
       "version_major": 2,
       "version_minor": 0
      },
      "text/plain": [
       "HBox(children=(IntProgress(value=0, max=50), HTML(value='')))"
      ]
     },
     "metadata": {},
     "output_type": "display_data"
    },
    {
     "name": "stdout",
     "output_type": "stream",
     "text": [
      "epoch 18: training loss 64.22261667251587 ; testing loss 1.2383161783218384\n"
     ]
    },
    {
     "data": {
      "application/vnd.jupyter.widget-view+json": {
       "model_id": "b9ea82fdf93f446796260428a3a95e0c",
       "version_major": 2,
       "version_minor": 0
      },
      "text/plain": [
       "HBox(children=(IntProgress(value=0, max=50), HTML(value='')))"
      ]
     },
     "metadata": {},
     "output_type": "display_data"
    },
    {
     "name": "stdout",
     "output_type": "stream",
     "text": [
      "epoch 19: training loss 62.72348415851593 ; testing loss 1.2323304414749146\n"
     ]
    },
    {
     "data": {
      "application/vnd.jupyter.widget-view+json": {
       "model_id": "cf9db779ff0548899b654741353cc746",
       "version_major": 2,
       "version_minor": 0
      },
      "text/plain": [
       "HBox(children=(IntProgress(value=0, max=50), HTML(value='')))"
      ]
     },
     "metadata": {},
     "output_type": "display_data"
    },
    {
     "name": "stdout",
     "output_type": "stream",
     "text": [
      "epoch 20: training loss 62.67002010345459 ; testing loss 1.2332209348678589\n"
     ]
    },
    {
     "data": {
      "application/vnd.jupyter.widget-view+json": {
       "model_id": "2df1082c33be4818815625866a81658e",
       "version_major": 2,
       "version_minor": 0
      },
      "text/plain": [
       "HBox(children=(IntProgress(value=0, max=50), HTML(value='')))"
      ]
     },
     "metadata": {},
     "output_type": "display_data"
    },
    {
     "name": "stdout",
     "output_type": "stream",
     "text": [
      "epoch 21: training loss 62.66682070493698 ; testing loss 1.233418345451355\n"
     ]
    },
    {
     "data": {
      "application/vnd.jupyter.widget-view+json": {
       "model_id": "619976a3d73e49878a26f1293381a524",
       "version_major": 2,
       "version_minor": 0
      },
      "text/plain": [
       "HBox(children=(IntProgress(value=0, max=50), HTML(value='')))"
      ]
     },
     "metadata": {},
     "output_type": "display_data"
    },
    {
     "name": "stdout",
     "output_type": "stream",
     "text": [
      "epoch 22: training loss 59.92929083108902 ; testing loss 1.2246921062469482\n"
     ]
    },
    {
     "data": {
      "application/vnd.jupyter.widget-view+json": {
       "model_id": "e47317cef7cb406285f48faedacc18a2",
       "version_major": 2,
       "version_minor": 0
      },
      "text/plain": [
       "HBox(children=(IntProgress(value=0, max=50), HTML(value='')))"
      ]
     },
     "metadata": {},
     "output_type": "display_data"
    },
    {
     "name": "stdout",
     "output_type": "stream",
     "text": [
      "epoch 23: training loss 60.773786664009094 ; testing loss 1.2269704341888428\n"
     ]
    },
    {
     "data": {
      "application/vnd.jupyter.widget-view+json": {
       "model_id": "57f6e2509d8e45f08041ff65f1a922aa",
       "version_major": 2,
       "version_minor": 0
      },
      "text/plain": [
       "HBox(children=(IntProgress(value=0, max=50), HTML(value='')))"
      ]
     },
     "metadata": {},
     "output_type": "display_data"
    },
    {
     "name": "stdout",
     "output_type": "stream",
     "text": [
      "epoch 24: training loss 61.727741837501526 ; testing loss 1.2266433238983154\n"
     ]
    },
    {
     "data": {
      "application/vnd.jupyter.widget-view+json": {
       "model_id": "fc80f9bc09b444cf9dd6dee76f0d218d",
       "version_major": 2,
       "version_minor": 0
      },
      "text/plain": [
       "HBox(children=(IntProgress(value=0, max=50), HTML(value='')))"
      ]
     },
     "metadata": {},
     "output_type": "display_data"
    },
    {
     "name": "stdout",
     "output_type": "stream",
     "text": [
      "epoch 25: training loss 60.55465924739838 ; testing loss 1.2192182540893555\n"
     ]
    },
    {
     "data": {
      "application/vnd.jupyter.widget-view+json": {
       "model_id": "ef3c03a3fa12488a989591e71d7b1bf1",
       "version_major": 2,
       "version_minor": 0
      },
      "text/plain": [
       "HBox(children=(IntProgress(value=0, max=50), HTML(value='')))"
      ]
     },
     "metadata": {},
     "output_type": "display_data"
    },
    {
     "name": "stdout",
     "output_type": "stream",
     "text": [
      "epoch 26: training loss 59.70230048894882 ; testing loss 1.2235474586486816\n"
     ]
    },
    {
     "data": {
      "application/vnd.jupyter.widget-view+json": {
       "model_id": "a943f99c70d0428b96810d75fb994fb1",
       "version_major": 2,
       "version_minor": 0
      },
      "text/plain": [
       "HBox(children=(IntProgress(value=0, max=50), HTML(value='')))"
      ]
     },
     "metadata": {},
     "output_type": "display_data"
    },
    {
     "name": "stdout",
     "output_type": "stream",
     "text": [
      "epoch 27: training loss 59.07283544540405 ; testing loss 1.2167917490005493\n"
     ]
    },
    {
     "data": {
      "application/vnd.jupyter.widget-view+json": {
       "model_id": "ca32e065d1714c1d9a3672b265705631",
       "version_major": 2,
       "version_minor": 0
      },
      "text/plain": [
       "HBox(children=(IntProgress(value=0, max=50), HTML(value='')))"
      ]
     },
     "metadata": {},
     "output_type": "display_data"
    },
    {
     "name": "stdout",
     "output_type": "stream",
     "text": [
      "epoch 28: training loss 60.07044714689255 ; testing loss 1.2195452451705933\n"
     ]
    },
    {
     "data": {
      "application/vnd.jupyter.widget-view+json": {
       "model_id": "71e4c8086d2b4a8e83461ab3f7aead2b",
       "version_major": 2,
       "version_minor": 0
      },
      "text/plain": [
       "HBox(children=(IntProgress(value=0, max=50), HTML(value='')))"
      ]
     },
     "metadata": {},
     "output_type": "display_data"
    },
    {
     "name": "stdout",
     "output_type": "stream",
     "text": [
      "epoch 29: training loss 59.09125864505768 ; testing loss 1.216005802154541\n"
     ]
    },
    {
     "data": {
      "application/vnd.jupyter.widget-view+json": {
       "model_id": "2f023aeb535d49459de78991b2e4c9eb",
       "version_major": 2,
       "version_minor": 0
      },
      "text/plain": [
       "HBox(children=(IntProgress(value=0, max=50), HTML(value='')))"
      ]
     },
     "metadata": {},
     "output_type": "display_data"
    },
    {
     "name": "stdout",
     "output_type": "stream",
     "text": [
      "epoch 30: training loss 58.89971882104874 ; testing loss 1.2157807350158691\n",
      "The model didn't improve for 5 rounds, break it!\n",
      "model 4 start!\n"
     ]
    },
    {
     "data": {
      "application/vnd.jupyter.widget-view+json": {
       "model_id": "0fc6f25bbd8544c1ba61a8e6bc822e0e",
       "version_major": 2,
       "version_minor": 0
      },
      "text/plain": [
       "HBox(children=(IntProgress(value=0, max=50), HTML(value='')))"
      ]
     },
     "metadata": {},
     "output_type": "display_data"
    },
    {
     "name": "stdout",
     "output_type": "stream",
     "text": [
      "epoch 1: training loss 94.25697994232178 ; testing loss 1.6772273778915405\n"
     ]
    },
    {
     "data": {
      "application/vnd.jupyter.widget-view+json": {
       "model_id": "9cfcfa744ca64b6887840a31612e4103",
       "version_major": 2,
       "version_minor": 0
      },
      "text/plain": [
       "HBox(children=(IntProgress(value=0, max=50), HTML(value='')))"
      ]
     },
     "metadata": {},
     "output_type": "display_data"
    },
    {
     "name": "stdout",
     "output_type": "stream",
     "text": [
      "epoch 2: training loss 87.453134059906 ; testing loss 1.6441677808761597\n"
     ]
    },
    {
     "data": {
      "application/vnd.jupyter.widget-view+json": {
       "model_id": "cf9eb1c1c1804a2eb044b9a8fa0df685",
       "version_major": 2,
       "version_minor": 0
      },
      "text/plain": [
       "HBox(children=(IntProgress(value=0, max=50), HTML(value='')))"
      ]
     },
     "metadata": {},
     "output_type": "display_data"
    },
    {
     "name": "stdout",
     "output_type": "stream",
     "text": [
      "epoch 3: training loss 85.00433194637299 ; testing loss 1.5882110595703125\n"
     ]
    },
    {
     "data": {
      "application/vnd.jupyter.widget-view+json": {
       "model_id": "8f57b00845ca495c823cf8320e064e2e",
       "version_major": 2,
       "version_minor": 0
      },
      "text/plain": [
       "HBox(children=(IntProgress(value=0, max=50), HTML(value='')))"
      ]
     },
     "metadata": {},
     "output_type": "display_data"
    },
    {
     "name": "stdout",
     "output_type": "stream",
     "text": [
      "epoch 4: training loss 81.78776097297668 ; testing loss 1.5279179811477661\n"
     ]
    },
    {
     "data": {
      "application/vnd.jupyter.widget-view+json": {
       "model_id": "5dcbd665eec140b5b64b4461d004dc45",
       "version_major": 2,
       "version_minor": 0
      },
      "text/plain": [
       "HBox(children=(IntProgress(value=0, max=50), HTML(value='')))"
      ]
     },
     "metadata": {},
     "output_type": "display_data"
    },
    {
     "name": "stdout",
     "output_type": "stream",
     "text": [
      "epoch 5: training loss 77.63532793521881 ; testing loss 1.441457748413086\n"
     ]
    },
    {
     "data": {
      "application/vnd.jupyter.widget-view+json": {
       "model_id": "e87a87d63d2a4468957a5647ff8e8777",
       "version_major": 2,
       "version_minor": 0
      },
      "text/plain": [
       "HBox(children=(IntProgress(value=0, max=50), HTML(value='')))"
      ]
     },
     "metadata": {},
     "output_type": "display_data"
    },
    {
     "name": "stdout",
     "output_type": "stream",
     "text": [
      "epoch 6: training loss 75.77579748630524 ; testing loss 1.3982112407684326\n"
     ]
    },
    {
     "data": {
      "application/vnd.jupyter.widget-view+json": {
       "model_id": "d53f3f2e287b4adb9b3a89d027cce873",
       "version_major": 2,
       "version_minor": 0
      },
      "text/plain": [
       "HBox(children=(IntProgress(value=0, max=50), HTML(value='')))"
      ]
     },
     "metadata": {},
     "output_type": "display_data"
    },
    {
     "name": "stdout",
     "output_type": "stream",
     "text": [
      "epoch 7: training loss 74.26218640804291 ; testing loss 1.3781603574752808\n"
     ]
    },
    {
     "data": {
      "application/vnd.jupyter.widget-view+json": {
       "model_id": "e6e7578806cd40e4a12403afdc0fe7ff",
       "version_major": 2,
       "version_minor": 0
      },
      "text/plain": [
       "HBox(children=(IntProgress(value=0, max=50), HTML(value='')))"
      ]
     },
     "metadata": {},
     "output_type": "display_data"
    },
    {
     "name": "stdout",
     "output_type": "stream",
     "text": [
      "epoch 8: training loss 70.76930439472198 ; testing loss 1.3404022455215454\n"
     ]
    },
    {
     "data": {
      "application/vnd.jupyter.widget-view+json": {
       "model_id": "c410805499eb4fba83d5dd1008c35075",
       "version_major": 2,
       "version_minor": 0
      },
      "text/plain": [
       "HBox(children=(IntProgress(value=0, max=50), HTML(value='')))"
      ]
     },
     "metadata": {},
     "output_type": "display_data"
    },
    {
     "name": "stdout",
     "output_type": "stream",
     "text": [
      "epoch 9: training loss 71.37835276126862 ; testing loss 1.3342605829238892\n"
     ]
    },
    {
     "data": {
      "application/vnd.jupyter.widget-view+json": {
       "model_id": "f04806e488ba442398d5ace302aef7fc",
       "version_major": 2,
       "version_minor": 0
      },
      "text/plain": [
       "HBox(children=(IntProgress(value=0, max=50), HTML(value='')))"
      ]
     },
     "metadata": {},
     "output_type": "display_data"
    },
    {
     "name": "stdout",
     "output_type": "stream",
     "text": [
      "epoch 10: training loss 68.55960297584534 ; testing loss 1.3077312707901\n"
     ]
    },
    {
     "data": {
      "application/vnd.jupyter.widget-view+json": {
       "model_id": "076e862e10fe4066a47bfadfb15b1403",
       "version_major": 2,
       "version_minor": 0
      },
      "text/plain": [
       "HBox(children=(IntProgress(value=0, max=50), HTML(value='')))"
      ]
     },
     "metadata": {},
     "output_type": "display_data"
    },
    {
     "name": "stdout",
     "output_type": "stream",
     "text": [
      "epoch 11: training loss 68.15700948238373 ; testing loss 1.2890342473983765\n"
     ]
    },
    {
     "data": {
      "application/vnd.jupyter.widget-view+json": {
       "model_id": "f0a0998e19dc4fb6a555297004c7b736",
       "version_major": 2,
       "version_minor": 0
      },
      "text/plain": [
       "HBox(children=(IntProgress(value=0, max=50), HTML(value='')))"
      ]
     },
     "metadata": {},
     "output_type": "display_data"
    },
    {
     "name": "stdout",
     "output_type": "stream",
     "text": [
      "epoch 12: training loss 66.61240458488464 ; testing loss 1.2829415798187256\n"
     ]
    },
    {
     "data": {
      "application/vnd.jupyter.widget-view+json": {
       "model_id": "5d812732b2424d59bb0af8871c5cc057",
       "version_major": 2,
       "version_minor": 0
      },
      "text/plain": [
       "HBox(children=(IntProgress(value=0, max=50), HTML(value='')))"
      ]
     },
     "metadata": {},
     "output_type": "display_data"
    },
    {
     "name": "stdout",
     "output_type": "stream",
     "text": [
      "epoch 13: training loss 65.63678097724915 ; testing loss 1.2716249227523804\n"
     ]
    },
    {
     "data": {
      "application/vnd.jupyter.widget-view+json": {
       "model_id": "e2f4ddff05324357992f00b5e3cfe8ac",
       "version_major": 2,
       "version_minor": 0
      },
      "text/plain": [
       "HBox(children=(IntProgress(value=0, max=50), HTML(value='')))"
      ]
     },
     "metadata": {},
     "output_type": "display_data"
    },
    {
     "name": "stdout",
     "output_type": "stream",
     "text": [
      "epoch 14: training loss 65.68168687820435 ; testing loss 1.2622759342193604\n"
     ]
    },
    {
     "data": {
      "application/vnd.jupyter.widget-view+json": {
       "model_id": "1d2bdb22d904404db03e568b9bd5e053",
       "version_major": 2,
       "version_minor": 0
      },
      "text/plain": [
       "HBox(children=(IntProgress(value=0, max=50), HTML(value='')))"
      ]
     },
     "metadata": {},
     "output_type": "display_data"
    },
    {
     "name": "stdout",
     "output_type": "stream",
     "text": [
      "epoch 15: training loss 64.24271392822266 ; testing loss 1.2551465034484863\n"
     ]
    },
    {
     "data": {
      "application/vnd.jupyter.widget-view+json": {
       "model_id": "7912d99fcee1419991048713bdf25b8a",
       "version_major": 2,
       "version_minor": 0
      },
      "text/plain": [
       "HBox(children=(IntProgress(value=0, max=50), HTML(value='')))"
      ]
     },
     "metadata": {},
     "output_type": "display_data"
    },
    {
     "name": "stdout",
     "output_type": "stream",
     "text": [
      "epoch 16: training loss 64.9100638628006 ; testing loss 1.2558131217956543\n"
     ]
    },
    {
     "data": {
      "application/vnd.jupyter.widget-view+json": {
       "model_id": "d915cb4b0bcb42ce8a9a53f91380e5e3",
       "version_major": 2,
       "version_minor": 0
      },
      "text/plain": [
       "HBox(children=(IntProgress(value=0, max=50), HTML(value='')))"
      ]
     },
     "metadata": {},
     "output_type": "display_data"
    },
    {
     "name": "stdout",
     "output_type": "stream",
     "text": [
      "epoch 17: training loss 62.502429604530334 ; testing loss 1.2466963529586792\n"
     ]
    },
    {
     "data": {
      "application/vnd.jupyter.widget-view+json": {
       "model_id": "632280d3c7614ea890119144f32b9d54",
       "version_major": 2,
       "version_minor": 0
      },
      "text/plain": [
       "HBox(children=(IntProgress(value=0, max=50), HTML(value='')))"
      ]
     },
     "metadata": {},
     "output_type": "display_data"
    },
    {
     "name": "stdout",
     "output_type": "stream",
     "text": [
      "epoch 18: training loss 62.60739040374756 ; testing loss 1.2496734857559204\n"
     ]
    },
    {
     "data": {
      "application/vnd.jupyter.widget-view+json": {
       "model_id": "16fe5d83b7ad4239bddb08f37849b2ef",
       "version_major": 2,
       "version_minor": 0
      },
      "text/plain": [
       "HBox(children=(IntProgress(value=0, max=50), HTML(value='')))"
      ]
     },
     "metadata": {},
     "output_type": "display_data"
    },
    {
     "name": "stdout",
     "output_type": "stream",
     "text": [
      "epoch 19: training loss 62.777783155441284 ; testing loss 1.240713357925415\n"
     ]
    },
    {
     "data": {
      "application/vnd.jupyter.widget-view+json": {
       "model_id": "8fc16ce3fe114f55b5e0f6494fde4ae0",
       "version_major": 2,
       "version_minor": 0
      },
      "text/plain": [
       "HBox(children=(IntProgress(value=0, max=50), HTML(value='')))"
      ]
     },
     "metadata": {},
     "output_type": "display_data"
    },
    {
     "name": "stdout",
     "output_type": "stream",
     "text": [
      "epoch 20: training loss 61.68962848186493 ; testing loss 1.2371866703033447\n",
      "The model didn't improve for 5 rounds, break it!\n",
      "model 5 start!\n"
     ]
    },
    {
     "data": {
      "application/vnd.jupyter.widget-view+json": {
       "model_id": "ca12175dcc1b4959a380f08ef09eccfd",
       "version_major": 2,
       "version_minor": 0
      },
      "text/plain": [
       "HBox(children=(IntProgress(value=0, max=50), HTML(value='')))"
      ]
     },
     "metadata": {},
     "output_type": "display_data"
    },
    {
     "name": "stdout",
     "output_type": "stream",
     "text": [
      "epoch 1: training loss 96.52491223812103 ; testing loss 1.6421751976013184\n"
     ]
    },
    {
     "data": {
      "application/vnd.jupyter.widget-view+json": {
       "model_id": "36cdf9675f494d99985b75e90ffe5882",
       "version_major": 2,
       "version_minor": 0
      },
      "text/plain": [
       "HBox(children=(IntProgress(value=0, max=50), HTML(value='')))"
      ]
     },
     "metadata": {},
     "output_type": "display_data"
    },
    {
     "name": "stdout",
     "output_type": "stream",
     "text": [
      "epoch 2: training loss 87.19936406612396 ; testing loss 1.5844976902008057\n"
     ]
    },
    {
     "data": {
      "application/vnd.jupyter.widget-view+json": {
       "model_id": "5caa43b15f4943308e6439f32a654ecf",
       "version_major": 2,
       "version_minor": 0
      },
      "text/plain": [
       "HBox(children=(IntProgress(value=0, max=50), HTML(value='')))"
      ]
     },
     "metadata": {},
     "output_type": "display_data"
    },
    {
     "name": "stdout",
     "output_type": "stream",
     "text": [
      "epoch 3: training loss 83.48477792739868 ; testing loss 1.5364187955856323\n"
     ]
    },
    {
     "data": {
      "application/vnd.jupyter.widget-view+json": {
       "model_id": "426efa8fef504a9885c67eb57fd16cba",
       "version_major": 2,
       "version_minor": 0
      },
      "text/plain": [
       "HBox(children=(IntProgress(value=0, max=50), HTML(value='')))"
      ]
     },
     "metadata": {},
     "output_type": "display_data"
    },
    {
     "name": "stdout",
     "output_type": "stream",
     "text": [
      "epoch 4: training loss 79.82835280895233 ; testing loss 1.4785751104354858\n"
     ]
    },
    {
     "data": {
      "application/vnd.jupyter.widget-view+json": {
       "model_id": "89d24c28556f4ad9b0be5905f90dbeab",
       "version_major": 2,
       "version_minor": 0
      },
      "text/plain": [
       "HBox(children=(IntProgress(value=0, max=50), HTML(value='')))"
      ]
     },
     "metadata": {},
     "output_type": "display_data"
    },
    {
     "name": "stdout",
     "output_type": "stream",
     "text": [
      "epoch 5: training loss 77.28463411331177 ; testing loss 1.433444857597351\n"
     ]
    },
    {
     "data": {
      "application/vnd.jupyter.widget-view+json": {
       "model_id": "7a562e00e01444cb9c41a93aadeac52d",
       "version_major": 2,
       "version_minor": 0
      },
      "text/plain": [
       "HBox(children=(IntProgress(value=0, max=50), HTML(value='')))"
      ]
     },
     "metadata": {},
     "output_type": "display_data"
    },
    {
     "name": "stdout",
     "output_type": "stream",
     "text": [
      "epoch 6: training loss 74.55703806877136 ; testing loss 1.3872692584991455\n"
     ]
    },
    {
     "data": {
      "application/vnd.jupyter.widget-view+json": {
       "model_id": "e5fbbd4a6e09487aab782adc3eed9413",
       "version_major": 2,
       "version_minor": 0
      },
      "text/plain": [
       "HBox(children=(IntProgress(value=0, max=50), HTML(value='')))"
      ]
     },
     "metadata": {},
     "output_type": "display_data"
    },
    {
     "name": "stdout",
     "output_type": "stream",
     "text": [
      "epoch 7: training loss 73.67088735103607 ; testing loss 1.357693076133728\n"
     ]
    },
    {
     "data": {
      "application/vnd.jupyter.widget-view+json": {
       "model_id": "22a3031bbee846e88bdafd91181141f9",
       "version_major": 2,
       "version_minor": 0
      },
      "text/plain": [
       "HBox(children=(IntProgress(value=0, max=50), HTML(value='')))"
      ]
     },
     "metadata": {},
     "output_type": "display_data"
    },
    {
     "name": "stdout",
     "output_type": "stream",
     "text": [
      "epoch 8: training loss 70.51336979866028 ; testing loss 1.3296853303909302\n"
     ]
    },
    {
     "data": {
      "application/vnd.jupyter.widget-view+json": {
       "model_id": "be9297bda8be4797a38dfacc200220a1",
       "version_major": 2,
       "version_minor": 0
      },
      "text/plain": [
       "HBox(children=(IntProgress(value=0, max=50), HTML(value='')))"
      ]
     },
     "metadata": {},
     "output_type": "display_data"
    },
    {
     "name": "stdout",
     "output_type": "stream",
     "text": [
      "epoch 9: training loss 71.10227191448212 ; testing loss 1.313806414604187\n"
     ]
    },
    {
     "data": {
      "application/vnd.jupyter.widget-view+json": {
       "model_id": "8c2df2ad8ccb4ac3868293bdba8e6b03",
       "version_major": 2,
       "version_minor": 0
      },
      "text/plain": [
       "HBox(children=(IntProgress(value=0, max=50), HTML(value='')))"
      ]
     },
     "metadata": {},
     "output_type": "display_data"
    },
    {
     "name": "stdout",
     "output_type": "stream",
     "text": [
      "epoch 10: training loss 68.3146208524704 ; testing loss 1.2923623323440552\n"
     ]
    },
    {
     "data": {
      "application/vnd.jupyter.widget-view+json": {
       "model_id": "0b9889e8b1bf4d5fae901d08b76315cd",
       "version_major": 2,
       "version_minor": 0
      },
      "text/plain": [
       "HBox(children=(IntProgress(value=0, max=50), HTML(value='')))"
      ]
     },
     "metadata": {},
     "output_type": "display_data"
    },
    {
     "name": "stdout",
     "output_type": "stream",
     "text": [
      "epoch 11: training loss 67.81841707229614 ; testing loss 1.2750098705291748\n"
     ]
    },
    {
     "data": {
      "application/vnd.jupyter.widget-view+json": {
       "model_id": "44876376039c4ae2b5b35ef2a6bc6124",
       "version_major": 2,
       "version_minor": 0
      },
      "text/plain": [
       "HBox(children=(IntProgress(value=0, max=50), HTML(value='')))"
      ]
     },
     "metadata": {},
     "output_type": "display_data"
    },
    {
     "name": "stdout",
     "output_type": "stream",
     "text": [
      "epoch 12: training loss 67.70627987384796 ; testing loss 1.271476149559021\n"
     ]
    },
    {
     "data": {
      "application/vnd.jupyter.widget-view+json": {
       "model_id": "256d74d419754d08ba2f9ebd7cd80178",
       "version_major": 2,
       "version_minor": 0
      },
      "text/plain": [
       "HBox(children=(IntProgress(value=0, max=50), HTML(value='')))"
      ]
     },
     "metadata": {},
     "output_type": "display_data"
    },
    {
     "name": "stdout",
     "output_type": "stream",
     "text": [
      "epoch 13: training loss 67.18055951595306 ; testing loss 1.2627195119857788\n"
     ]
    },
    {
     "data": {
      "application/vnd.jupyter.widget-view+json": {
       "model_id": "7733b3901ae34756a4d922668f788fff",
       "version_major": 2,
       "version_minor": 0
      },
      "text/plain": [
       "HBox(children=(IntProgress(value=0, max=50), HTML(value='')))"
      ]
     },
     "metadata": {},
     "output_type": "display_data"
    },
    {
     "name": "stdout",
     "output_type": "stream",
     "text": [
      "epoch 14: training loss 65.79227149486542 ; testing loss 1.248581886291504\n"
     ]
    },
    {
     "data": {
      "application/vnd.jupyter.widget-view+json": {
       "model_id": "17965c87691c44ddb2ef94bea0d3ddf1",
       "version_major": 2,
       "version_minor": 0
      },
      "text/plain": [
       "HBox(children=(IntProgress(value=0, max=50), HTML(value='')))"
      ]
     },
     "metadata": {},
     "output_type": "display_data"
    },
    {
     "name": "stdout",
     "output_type": "stream",
     "text": [
      "epoch 15: training loss 63.862831115722656 ; testing loss 1.2443145513534546\n"
     ]
    },
    {
     "data": {
      "application/vnd.jupyter.widget-view+json": {
       "model_id": "3492173c4e71464096d8dd7e90ab9f8b",
       "version_major": 2,
       "version_minor": 0
      },
      "text/plain": [
       "HBox(children=(IntProgress(value=0, max=50), HTML(value='')))"
      ]
     },
     "metadata": {},
     "output_type": "display_data"
    },
    {
     "name": "stdout",
     "output_type": "stream",
     "text": [
      "epoch 16: training loss 64.52504169940948 ; testing loss 1.2384955883026123\n"
     ]
    },
    {
     "data": {
      "application/vnd.jupyter.widget-view+json": {
       "model_id": "adb73c93f1784249972bfbdbe086ce05",
       "version_major": 2,
       "version_minor": 0
      },
      "text/plain": [
       "HBox(children=(IntProgress(value=0, max=50), HTML(value='')))"
      ]
     },
     "metadata": {},
     "output_type": "display_data"
    },
    {
     "name": "stdout",
     "output_type": "stream",
     "text": [
      "epoch 17: training loss 64.14656674861908 ; testing loss 1.234371304512024\n",
      "The model didn't improve for 5 rounds, break it!\n",
      "model 6 start!\n"
     ]
    },
    {
     "data": {
      "application/vnd.jupyter.widget-view+json": {
       "model_id": "b4b041571b9f4532b50e105465989956",
       "version_major": 2,
       "version_minor": 0
      },
      "text/plain": [
       "HBox(children=(IntProgress(value=0, max=50), HTML(value='')))"
      ]
     },
     "metadata": {},
     "output_type": "display_data"
    },
    {
     "name": "stdout",
     "output_type": "stream",
     "text": [
      "epoch 1: training loss 95.19993257522583 ; testing loss 1.674275279045105\n"
     ]
    },
    {
     "data": {
      "application/vnd.jupyter.widget-view+json": {
       "model_id": "ca9a84ed888d45dcaaa18f5bc7231cef",
       "version_major": 2,
       "version_minor": 0
      },
      "text/plain": [
       "HBox(children=(IntProgress(value=0, max=50), HTML(value='')))"
      ]
     },
     "metadata": {},
     "output_type": "display_data"
    },
    {
     "name": "stdout",
     "output_type": "stream",
     "text": [
      "epoch 2: training loss 87.18118357658386 ; testing loss 1.6180764436721802\n"
     ]
    },
    {
     "data": {
      "application/vnd.jupyter.widget-view+json": {
       "model_id": "fc4b7f0960e94678b0e241c38adbb009",
       "version_major": 2,
       "version_minor": 0
      },
      "text/plain": [
       "HBox(children=(IntProgress(value=0, max=50), HTML(value='')))"
      ]
     },
     "metadata": {},
     "output_type": "display_data"
    },
    {
     "name": "stdout",
     "output_type": "stream",
     "text": [
      "epoch 3: training loss 83.36090421676636 ; testing loss 1.5463519096374512\n"
     ]
    },
    {
     "data": {
      "application/vnd.jupyter.widget-view+json": {
       "model_id": "8a30c936223e44b48ee62c3717819d4c",
       "version_major": 2,
       "version_minor": 0
      },
      "text/plain": [
       "HBox(children=(IntProgress(value=0, max=50), HTML(value='')))"
      ]
     },
     "metadata": {},
     "output_type": "display_data"
    },
    {
     "name": "stdout",
     "output_type": "stream",
     "text": [
      "epoch 4: training loss 80.0768027305603 ; testing loss 1.4663013219833374\n"
     ]
    },
    {
     "data": {
      "application/vnd.jupyter.widget-view+json": {
       "model_id": "b8993253b2314e9eaab7d48ecfa44f8a",
       "version_major": 2,
       "version_minor": 0
      },
      "text/plain": [
       "HBox(children=(IntProgress(value=0, max=50), HTML(value='')))"
      ]
     },
     "metadata": {},
     "output_type": "display_data"
    },
    {
     "name": "stdout",
     "output_type": "stream",
     "text": [
      "epoch 5: training loss 76.3807487487793 ; testing loss 1.407400131225586\n"
     ]
    },
    {
     "data": {
      "application/vnd.jupyter.widget-view+json": {
       "model_id": "a35cd781fb4a4afba9325339dafd5256",
       "version_major": 2,
       "version_minor": 0
      },
      "text/plain": [
       "HBox(children=(IntProgress(value=0, max=50), HTML(value='')))"
      ]
     },
     "metadata": {},
     "output_type": "display_data"
    },
    {
     "name": "stdout",
     "output_type": "stream",
     "text": [
      "epoch 6: training loss 75.06688225269318 ; testing loss 1.363284945487976\n"
     ]
    },
    {
     "data": {
      "application/vnd.jupyter.widget-view+json": {
       "model_id": "d2e1c26d103c4553a4c1da0fe5c97575",
       "version_major": 2,
       "version_minor": 0
      },
      "text/plain": [
       "HBox(children=(IntProgress(value=0, max=50), HTML(value='')))"
      ]
     },
     "metadata": {},
     "output_type": "display_data"
    },
    {
     "name": "stdout",
     "output_type": "stream",
     "text": [
      "epoch 7: training loss 74.53116738796234 ; testing loss 1.3371118307113647\n"
     ]
    },
    {
     "data": {
      "application/vnd.jupyter.widget-view+json": {
       "model_id": "9e60360c681a4053a768cdf290598f98",
       "version_major": 2,
       "version_minor": 0
      },
      "text/plain": [
       "HBox(children=(IntProgress(value=0, max=50), HTML(value='')))"
      ]
     },
     "metadata": {},
     "output_type": "display_data"
    },
    {
     "name": "stdout",
     "output_type": "stream",
     "text": [
      "epoch 8: training loss 71.22333109378815 ; testing loss 1.3143826723098755\n"
     ]
    },
    {
     "data": {
      "application/vnd.jupyter.widget-view+json": {
       "model_id": "0cc20d9aca7c4b749afb32a702db3456",
       "version_major": 2,
       "version_minor": 0
      },
      "text/plain": [
       "HBox(children=(IntProgress(value=0, max=50), HTML(value='')))"
      ]
     },
     "metadata": {},
     "output_type": "display_data"
    },
    {
     "name": "stdout",
     "output_type": "stream",
     "text": [
      "epoch 9: training loss 71.66386449337006 ; testing loss 1.297829031944275\n"
     ]
    },
    {
     "data": {
      "application/vnd.jupyter.widget-view+json": {
       "model_id": "47c53e9d61ec41408d5c8b9331dc1a57",
       "version_major": 2,
       "version_minor": 0
      },
      "text/plain": [
       "HBox(children=(IntProgress(value=0, max=50), HTML(value='')))"
      ]
     },
     "metadata": {},
     "output_type": "display_data"
    },
    {
     "name": "stdout",
     "output_type": "stream",
     "text": [
      "epoch 10: training loss 68.70262324810028 ; testing loss 1.277574896812439\n"
     ]
    },
    {
     "data": {
      "application/vnd.jupyter.widget-view+json": {
       "model_id": "e4a3ee8392ac4bfd828ede5e03a83a1d",
       "version_major": 2,
       "version_minor": 0
      },
      "text/plain": [
       "HBox(children=(IntProgress(value=0, max=50), HTML(value='')))"
      ]
     },
     "metadata": {},
     "output_type": "display_data"
    },
    {
     "name": "stdout",
     "output_type": "stream",
     "text": [
      "epoch 11: training loss 68.09074664115906 ; testing loss 1.25709867477417\n"
     ]
    },
    {
     "data": {
      "application/vnd.jupyter.widget-view+json": {
       "model_id": "706ab5f3832f4a86b05e45cd115522d1",
       "version_major": 2,
       "version_minor": 0
      },
      "text/plain": [
       "HBox(children=(IntProgress(value=0, max=50), HTML(value='')))"
      ]
     },
     "metadata": {},
     "output_type": "display_data"
    },
    {
     "name": "stdout",
     "output_type": "stream",
     "text": [
      "epoch 12: training loss 66.64819431304932 ; testing loss 1.2461880445480347\n"
     ]
    },
    {
     "data": {
      "application/vnd.jupyter.widget-view+json": {
       "model_id": "44ff8f83ba0143dfb5b51db5671e6eaf",
       "version_major": 2,
       "version_minor": 0
      },
      "text/plain": [
       "HBox(children=(IntProgress(value=0, max=50), HTML(value='')))"
      ]
     },
     "metadata": {},
     "output_type": "display_data"
    },
    {
     "name": "stdout",
     "output_type": "stream",
     "text": [
      "epoch 13: training loss 66.59667193889618 ; testing loss 1.2404273748397827\n"
     ]
    },
    {
     "data": {
      "application/vnd.jupyter.widget-view+json": {
       "model_id": "eaeefd83b2d94c5c8c9828efe788346f",
       "version_major": 2,
       "version_minor": 0
      },
      "text/plain": [
       "HBox(children=(IntProgress(value=0, max=50), HTML(value='')))"
      ]
     },
     "metadata": {},
     "output_type": "display_data"
    },
    {
     "name": "stdout",
     "output_type": "stream",
     "text": [
      "epoch 14: training loss 65.32101273536682 ; testing loss 1.2359870672225952\n"
     ]
    },
    {
     "data": {
      "application/vnd.jupyter.widget-view+json": {
       "model_id": "a77c4d69c1bb43c7b5c3df7a767600f6",
       "version_major": 2,
       "version_minor": 0
      },
      "text/plain": [
       "HBox(children=(IntProgress(value=0, max=50), HTML(value='')))"
      ]
     },
     "metadata": {},
     "output_type": "display_data"
    },
    {
     "name": "stdout",
     "output_type": "stream",
     "text": [
      "epoch 15: training loss 64.08354365825653 ; testing loss 1.2271803617477417\n"
     ]
    },
    {
     "data": {
      "application/vnd.jupyter.widget-view+json": {
       "model_id": "1d5e66267d23423c8e20e7704d6e03cd",
       "version_major": 2,
       "version_minor": 0
      },
      "text/plain": [
       "HBox(children=(IntProgress(value=0, max=50), HTML(value='')))"
      ]
     },
     "metadata": {},
     "output_type": "display_data"
    },
    {
     "name": "stdout",
     "output_type": "stream",
     "text": [
      "epoch 16: training loss 64.4208755493164 ; testing loss 1.2208701372146606\n"
     ]
    },
    {
     "data": {
      "application/vnd.jupyter.widget-view+json": {
       "model_id": "8147877cd823440392adf53861ef138f",
       "version_major": 2,
       "version_minor": 0
      },
      "text/plain": [
       "HBox(children=(IntProgress(value=0, max=50), HTML(value='')))"
      ]
     },
     "metadata": {},
     "output_type": "display_data"
    },
    {
     "name": "stdout",
     "output_type": "stream",
     "text": [
      "epoch 17: training loss 64.21748578548431 ; testing loss 1.2204970121383667\n"
     ]
    },
    {
     "data": {
      "application/vnd.jupyter.widget-view+json": {
       "model_id": "94920d1e8e28466b9277587beed2f19d",
       "version_major": 2,
       "version_minor": 0
      },
      "text/plain": [
       "HBox(children=(IntProgress(value=0, max=50), HTML(value='')))"
      ]
     },
     "metadata": {},
     "output_type": "display_data"
    },
    {
     "name": "stdout",
     "output_type": "stream",
     "text": [
      "epoch 18: training loss 63.859328627586365 ; testing loss 1.213025450706482\n"
     ]
    },
    {
     "data": {
      "application/vnd.jupyter.widget-view+json": {
       "model_id": "86245c687dc1495fb078d33ef45dbf51",
       "version_major": 2,
       "version_minor": 0
      },
      "text/plain": [
       "HBox(children=(IntProgress(value=0, max=50), HTML(value='')))"
      ]
     },
     "metadata": {},
     "output_type": "display_data"
    },
    {
     "name": "stdout",
     "output_type": "stream",
     "text": [
      "epoch 19: training loss 62.69502055644989 ; testing loss 1.2083996534347534\n"
     ]
    },
    {
     "data": {
      "application/vnd.jupyter.widget-view+json": {
       "model_id": "8043687bd40c4fe7aeb2feb05bf664d1",
       "version_major": 2,
       "version_minor": 0
      },
      "text/plain": [
       "HBox(children=(IntProgress(value=0, max=50), HTML(value='')))"
      ]
     },
     "metadata": {},
     "output_type": "display_data"
    },
    {
     "name": "stdout",
     "output_type": "stream",
     "text": [
      "epoch 20: training loss 61.528725028038025 ; testing loss 1.204810619354248\n"
     ]
    },
    {
     "data": {
      "application/vnd.jupyter.widget-view+json": {
       "model_id": "7553c4fe69444837ab7315ef1942c7c1",
       "version_major": 2,
       "version_minor": 0
      },
      "text/plain": [
       "HBox(children=(IntProgress(value=0, max=50), HTML(value='')))"
      ]
     },
     "metadata": {},
     "output_type": "display_data"
    },
    {
     "name": "stdout",
     "output_type": "stream",
     "text": [
      "epoch 21: training loss 63.074589133262634 ; testing loss 1.2041995525360107\n"
     ]
    },
    {
     "data": {
      "application/vnd.jupyter.widget-view+json": {
       "model_id": "87a52bca9efe4e9ea6875897f2191d68",
       "version_major": 2,
       "version_minor": 0
      },
      "text/plain": [
       "HBox(children=(IntProgress(value=0, max=50), HTML(value='')))"
      ]
     },
     "metadata": {},
     "output_type": "display_data"
    },
    {
     "name": "stdout",
     "output_type": "stream",
     "text": [
      "epoch 22: training loss 61.1412832736969 ; testing loss 1.2021795511245728\n"
     ]
    },
    {
     "data": {
      "application/vnd.jupyter.widget-view+json": {
       "model_id": "e5787054ed8140069f74af6b867553d3",
       "version_major": 2,
       "version_minor": 0
      },
      "text/plain": [
       "HBox(children=(IntProgress(value=0, max=50), HTML(value='')))"
      ]
     },
     "metadata": {},
     "output_type": "display_data"
    },
    {
     "name": "stdout",
     "output_type": "stream",
     "text": [
      "epoch 23: training loss 62.43103891611099 ; testing loss 1.1991459131240845\n"
     ]
    },
    {
     "data": {
      "application/vnd.jupyter.widget-view+json": {
       "model_id": "f500ee3c75d9421f8f3d722c96c66b0d",
       "version_major": 2,
       "version_minor": 0
      },
      "text/plain": [
       "HBox(children=(IntProgress(value=0, max=50), HTML(value='')))"
      ]
     },
     "metadata": {},
     "output_type": "display_data"
    },
    {
     "name": "stdout",
     "output_type": "stream",
     "text": [
      "epoch 24: training loss 61.1336053609848 ; testing loss 1.1990752220153809\n"
     ]
    },
    {
     "data": {
      "application/vnd.jupyter.widget-view+json": {
       "model_id": "7ea4fc970cb840e7a76a3ceba39aa81b",
       "version_major": 2,
       "version_minor": 0
      },
      "text/plain": [
       "HBox(children=(IntProgress(value=0, max=50), HTML(value='')))"
      ]
     },
     "metadata": {},
     "output_type": "display_data"
    },
    {
     "name": "stdout",
     "output_type": "stream",
     "text": [
      "epoch 25: training loss 61.082144141197205 ; testing loss 1.1951515674591064\n"
     ]
    },
    {
     "data": {
      "application/vnd.jupyter.widget-view+json": {
       "model_id": "ffce8f9eda6f4010980702931e24c03b",
       "version_major": 2,
       "version_minor": 0
      },
      "text/plain": [
       "HBox(children=(IntProgress(value=0, max=50), HTML(value='')))"
      ]
     },
     "metadata": {},
     "output_type": "display_data"
    },
    {
     "name": "stdout",
     "output_type": "stream",
     "text": [
      "epoch 26: training loss 60.9459490776062 ; testing loss 1.1957107782363892\n"
     ]
    },
    {
     "data": {
      "application/vnd.jupyter.widget-view+json": {
       "model_id": "ffef9c11702543bfa88ae3dc376f25ab",
       "version_major": 2,
       "version_minor": 0
      },
      "text/plain": [
       "HBox(children=(IntProgress(value=0, max=50), HTML(value='')))"
      ]
     },
     "metadata": {},
     "output_type": "display_data"
    },
    {
     "name": "stdout",
     "output_type": "stream",
     "text": [
      "epoch 27: training loss 59.730116844177246 ; testing loss 1.1934422254562378\n"
     ]
    },
    {
     "data": {
      "application/vnd.jupyter.widget-view+json": {
       "model_id": "f62c8ac9a4bd4f34997f9c817fd7c395",
       "version_major": 2,
       "version_minor": 0
      },
      "text/plain": [
       "HBox(children=(IntProgress(value=0, max=50), HTML(value='')))"
      ]
     },
     "metadata": {},
     "output_type": "display_data"
    },
    {
     "name": "stdout",
     "output_type": "stream",
     "text": [
      "epoch 28: training loss 61.04138273000717 ; testing loss 1.1928642988204956\n",
      "The model didn't improve for 5 rounds, break it!\n",
      "model 7 start!\n"
     ]
    },
    {
     "data": {
      "application/vnd.jupyter.widget-view+json": {
       "model_id": "7e12ae0280c24b229f55e939d14855ca",
       "version_major": 2,
       "version_minor": 0
      },
      "text/plain": [
       "HBox(children=(IntProgress(value=0, max=50), HTML(value='')))"
      ]
     },
     "metadata": {},
     "output_type": "display_data"
    },
    {
     "name": "stdout",
     "output_type": "stream",
     "text": [
      "epoch 1: training loss 96.37666201591492 ; testing loss 1.662088394165039\n"
     ]
    },
    {
     "data": {
      "application/vnd.jupyter.widget-view+json": {
       "model_id": "fcda2139382f4f09821ff7a4f721f850",
       "version_major": 2,
       "version_minor": 0
      },
      "text/plain": [
       "HBox(children=(IntProgress(value=0, max=50), HTML(value='')))"
      ]
     },
     "metadata": {},
     "output_type": "display_data"
    },
    {
     "name": "stdout",
     "output_type": "stream",
     "text": [
      "epoch 2: training loss 87.75711512565613 ; testing loss 1.6008071899414062\n"
     ]
    },
    {
     "data": {
      "application/vnd.jupyter.widget-view+json": {
       "model_id": "f3a1fc170e414f7d845a0c763f5c9c17",
       "version_major": 2,
       "version_minor": 0
      },
      "text/plain": [
       "HBox(children=(IntProgress(value=0, max=50), HTML(value='')))"
      ]
     },
     "metadata": {},
     "output_type": "display_data"
    },
    {
     "name": "stdout",
     "output_type": "stream",
     "text": [
      "epoch 3: training loss 83.22958362102509 ; testing loss 1.540610671043396\n"
     ]
    },
    {
     "data": {
      "application/vnd.jupyter.widget-view+json": {
       "model_id": "354620c30de04bc2a40765b475eb8c57",
       "version_major": 2,
       "version_minor": 0
      },
      "text/plain": [
       "HBox(children=(IntProgress(value=0, max=50), HTML(value='')))"
      ]
     },
     "metadata": {},
     "output_type": "display_data"
    },
    {
     "name": "stdout",
     "output_type": "stream",
     "text": [
      "epoch 4: training loss 79.81291162967682 ; testing loss 1.466353416442871\n"
     ]
    },
    {
     "data": {
      "application/vnd.jupyter.widget-view+json": {
       "model_id": "90a365a3253c4aa7a43461a30512532d",
       "version_major": 2,
       "version_minor": 0
      },
      "text/plain": [
       "HBox(children=(IntProgress(value=0, max=50), HTML(value='')))"
      ]
     },
     "metadata": {},
     "output_type": "display_data"
    },
    {
     "name": "stdout",
     "output_type": "stream",
     "text": [
      "epoch 5: training loss 76.47516429424286 ; testing loss 1.4158947467803955\n"
     ]
    },
    {
     "data": {
      "application/vnd.jupyter.widget-view+json": {
       "model_id": "f6969b02b8434c8985fa2a6c6bff2cca",
       "version_major": 2,
       "version_minor": 0
      },
      "text/plain": [
       "HBox(children=(IntProgress(value=0, max=50), HTML(value='')))"
      ]
     },
     "metadata": {},
     "output_type": "display_data"
    },
    {
     "name": "stdout",
     "output_type": "stream",
     "text": [
      "epoch 6: training loss 75.42538571357727 ; testing loss 1.390866994857788\n"
     ]
    },
    {
     "data": {
      "application/vnd.jupyter.widget-view+json": {
       "model_id": "51a62a9367f04833bdfd4f7dce96b6a6",
       "version_major": 2,
       "version_minor": 0
      },
      "text/plain": [
       "HBox(children=(IntProgress(value=0, max=50), HTML(value='')))"
      ]
     },
     "metadata": {},
     "output_type": "display_data"
    },
    {
     "name": "stdout",
     "output_type": "stream",
     "text": [
      "epoch 7: training loss 74.09106183052063 ; testing loss 1.3636244535446167\n"
     ]
    },
    {
     "data": {
      "application/vnd.jupyter.widget-view+json": {
       "model_id": "2315254d4f164fc0838c9a67cae3b051",
       "version_major": 2,
       "version_minor": 0
      },
      "text/plain": [
       "HBox(children=(IntProgress(value=0, max=50), HTML(value='')))"
      ]
     },
     "metadata": {},
     "output_type": "display_data"
    },
    {
     "name": "stdout",
     "output_type": "stream",
     "text": [
      "epoch 8: training loss 70.53349423408508 ; testing loss 1.332567811012268\n"
     ]
    },
    {
     "data": {
      "application/vnd.jupyter.widget-view+json": {
       "model_id": "db0993fd86b14e14a56a1c5092d2cd96",
       "version_major": 2,
       "version_minor": 0
      },
      "text/plain": [
       "HBox(children=(IntProgress(value=0, max=50), HTML(value='')))"
      ]
     },
     "metadata": {},
     "output_type": "display_data"
    },
    {
     "name": "stdout",
     "output_type": "stream",
     "text": [
      "epoch 9: training loss 71.34200656414032 ; testing loss 1.3206449747085571\n"
     ]
    },
    {
     "data": {
      "application/vnd.jupyter.widget-view+json": {
       "model_id": "253492c15e754115a325e9b23404e931",
       "version_major": 2,
       "version_minor": 0
      },
      "text/plain": [
       "HBox(children=(IntProgress(value=0, max=50), HTML(value='')))"
      ]
     },
     "metadata": {},
     "output_type": "display_data"
    },
    {
     "name": "stdout",
     "output_type": "stream",
     "text": [
      "epoch 10: training loss 68.08373761177063 ; testing loss 1.2971497774124146\n"
     ]
    },
    {
     "data": {
      "application/vnd.jupyter.widget-view+json": {
       "model_id": "6a068467b8c9436b82b81210f56cda9c",
       "version_major": 2,
       "version_minor": 0
      },
      "text/plain": [
       "HBox(children=(IntProgress(value=0, max=50), HTML(value='')))"
      ]
     },
     "metadata": {},
     "output_type": "display_data"
    },
    {
     "name": "stdout",
     "output_type": "stream",
     "text": [
      "epoch 11: training loss 68.80959355831146 ; testing loss 1.2887954711914062\n"
     ]
    },
    {
     "data": {
      "application/vnd.jupyter.widget-view+json": {
       "model_id": "d6e8f52dd32044a4be98cbb0cab871bf",
       "version_major": 2,
       "version_minor": 0
      },
      "text/plain": [
       "HBox(children=(IntProgress(value=0, max=50), HTML(value='')))"
      ]
     },
     "metadata": {},
     "output_type": "display_data"
    },
    {
     "name": "stdout",
     "output_type": "stream",
     "text": [
      "epoch 12: training loss 67.06638252735138 ; testing loss 1.2812045812606812\n"
     ]
    },
    {
     "data": {
      "application/vnd.jupyter.widget-view+json": {
       "model_id": "9b6c64b03ab047e5bbb56ee9ab6e6c63",
       "version_major": 2,
       "version_minor": 0
      },
      "text/plain": [
       "HBox(children=(IntProgress(value=0, max=50), HTML(value='')))"
      ]
     },
     "metadata": {},
     "output_type": "display_data"
    },
    {
     "name": "stdout",
     "output_type": "stream",
     "text": [
      "epoch 13: training loss 65.83324921131134 ; testing loss 1.2722233533859253\n"
     ]
    },
    {
     "data": {
      "application/vnd.jupyter.widget-view+json": {
       "model_id": "3bc18047b3ef4d489ef1c28580bafa51",
       "version_major": 2,
       "version_minor": 0
      },
      "text/plain": [
       "HBox(children=(IntProgress(value=0, max=50), HTML(value='')))"
      ]
     },
     "metadata": {},
     "output_type": "display_data"
    },
    {
     "name": "stdout",
     "output_type": "stream",
     "text": [
      "epoch 14: training loss 64.31173264980316 ; testing loss 1.2589101791381836\n"
     ]
    },
    {
     "data": {
      "application/vnd.jupyter.widget-view+json": {
       "model_id": "ee441576ec794ae1a7aa4bc680f9d6b9",
       "version_major": 2,
       "version_minor": 0
      },
      "text/plain": [
       "HBox(children=(IntProgress(value=0, max=50), HTML(value='')))"
      ]
     },
     "metadata": {},
     "output_type": "display_data"
    },
    {
     "name": "stdout",
     "output_type": "stream",
     "text": [
      "epoch 15: training loss 63.94380259513855 ; testing loss 1.257097601890564\n"
     ]
    },
    {
     "data": {
      "application/vnd.jupyter.widget-view+json": {
       "model_id": "63a39921b2fc47d198c3901be0e3bbee",
       "version_major": 2,
       "version_minor": 0
      },
      "text/plain": [
       "HBox(children=(IntProgress(value=0, max=50), HTML(value='')))"
      ]
     },
     "metadata": {},
     "output_type": "display_data"
    },
    {
     "name": "stdout",
     "output_type": "stream",
     "text": [
      "epoch 16: training loss 63.38641583919525 ; testing loss 1.2504780292510986\n"
     ]
    },
    {
     "data": {
      "application/vnd.jupyter.widget-view+json": {
       "model_id": "c9f8fa967cbb47c3b5f4b2e2891a0633",
       "version_major": 2,
       "version_minor": 0
      },
      "text/plain": [
       "HBox(children=(IntProgress(value=0, max=50), HTML(value='')))"
      ]
     },
     "metadata": {},
     "output_type": "display_data"
    },
    {
     "name": "stdout",
     "output_type": "stream",
     "text": [
      "epoch 17: training loss 64.96122992038727 ; testing loss 1.2578766345977783\n"
     ]
    },
    {
     "data": {
      "application/vnd.jupyter.widget-view+json": {
       "model_id": "7447b3b4472443bd805477a10157d326",
       "version_major": 2,
       "version_minor": 0
      },
      "text/plain": [
       "HBox(children=(IntProgress(value=0, max=50), HTML(value='')))"
      ]
     },
     "metadata": {},
     "output_type": "display_data"
    },
    {
     "name": "stdout",
     "output_type": "stream",
     "text": [
      "epoch 18: training loss 63.21169447898865 ; testing loss 1.2444156408309937\n"
     ]
    },
    {
     "data": {
      "application/vnd.jupyter.widget-view+json": {
       "model_id": "690abce866714a8cacc6d008f4668e93",
       "version_major": 2,
       "version_minor": 0
      },
      "text/plain": [
       "HBox(children=(IntProgress(value=0, max=50), HTML(value='')))"
      ]
     },
     "metadata": {},
     "output_type": "display_data"
    },
    {
     "name": "stdout",
     "output_type": "stream",
     "text": [
      "epoch 19: training loss 62.14921224117279 ; testing loss 1.240168571472168\n"
     ]
    },
    {
     "data": {
      "application/vnd.jupyter.widget-view+json": {
       "model_id": "e3c219c46be148e29795b9022f33ab20",
       "version_major": 2,
       "version_minor": 0
      },
      "text/plain": [
       "HBox(children=(IntProgress(value=0, max=50), HTML(value='')))"
      ]
     },
     "metadata": {},
     "output_type": "display_data"
    },
    {
     "name": "stdout",
     "output_type": "stream",
     "text": [
      "epoch 20: training loss 62.15932631492615 ; testing loss 1.2390589714050293\n"
     ]
    },
    {
     "data": {
      "application/vnd.jupyter.widget-view+json": {
       "model_id": "4520e5f82a7342c3b56f9dbc15641ee6",
       "version_major": 2,
       "version_minor": 0
      },
      "text/plain": [
       "HBox(children=(IntProgress(value=0, max=50), HTML(value='')))"
      ]
     },
     "metadata": {},
     "output_type": "display_data"
    },
    {
     "name": "stdout",
     "output_type": "stream",
     "text": [
      "epoch 21: training loss 61.491921067237854 ; testing loss 1.239912509918213\n"
     ]
    },
    {
     "data": {
      "application/vnd.jupyter.widget-view+json": {
       "model_id": "2f038f7e0aa646558ffbcc69b42f133a",
       "version_major": 2,
       "version_minor": 0
      },
      "text/plain": [
       "HBox(children=(IntProgress(value=0, max=50), HTML(value='')))"
      ]
     },
     "metadata": {},
     "output_type": "display_data"
    },
    {
     "name": "stdout",
     "output_type": "stream",
     "text": [
      "epoch 22: training loss 60.18107318878174 ; testing loss 1.2399659156799316\n"
     ]
    },
    {
     "data": {
      "application/vnd.jupyter.widget-view+json": {
       "model_id": "272e0ab8bf7a46ef89a3125cade68a9e",
       "version_major": 2,
       "version_minor": 0
      },
      "text/plain": [
       "HBox(children=(IntProgress(value=0, max=50), HTML(value='')))"
      ]
     },
     "metadata": {},
     "output_type": "display_data"
    },
    {
     "name": "stdout",
     "output_type": "stream",
     "text": [
      "epoch 23: training loss 60.7739674448967 ; testing loss 1.2357873916625977\n"
     ]
    },
    {
     "data": {
      "application/vnd.jupyter.widget-view+json": {
       "model_id": "ac1f81cf44ce45fdac26f36b5725969b",
       "version_major": 2,
       "version_minor": 0
      },
      "text/plain": [
       "HBox(children=(IntProgress(value=0, max=50), HTML(value='')))"
      ]
     },
     "metadata": {},
     "output_type": "display_data"
    },
    {
     "name": "stdout",
     "output_type": "stream",
     "text": [
      "epoch 24: training loss 59.55513596534729 ; testing loss 1.2373460531234741\n"
     ]
    },
    {
     "data": {
      "application/vnd.jupyter.widget-view+json": {
       "model_id": "8692e18f3a70440091b64edc63d7e0f2",
       "version_major": 2,
       "version_minor": 0
      },
      "text/plain": [
       "HBox(children=(IntProgress(value=0, max=50), HTML(value='')))"
      ]
     },
     "metadata": {},
     "output_type": "display_data"
    },
    {
     "name": "stdout",
     "output_type": "stream",
     "text": [
      "epoch 25: training loss 59.90276962518692 ; testing loss 1.2342063188552856\n",
      "The model didn't improve for 5 rounds, break it!\n",
      "model 8 start!\n"
     ]
    },
    {
     "data": {
      "application/vnd.jupyter.widget-view+json": {
       "model_id": "b26d76db1c14428ba60f6d919b31617f",
       "version_major": 2,
       "version_minor": 0
      },
      "text/plain": [
       "HBox(children=(IntProgress(value=0, max=50), HTML(value='')))"
      ]
     },
     "metadata": {},
     "output_type": "display_data"
    },
    {
     "name": "stdout",
     "output_type": "stream",
     "text": [
      "epoch 1: training loss 96.36266469955444 ; testing loss 1.6660466194152832\n"
     ]
    },
    {
     "data": {
      "application/vnd.jupyter.widget-view+json": {
       "model_id": "3bbd4b73a6c74037b333bbc4be4ed8e6",
       "version_major": 2,
       "version_minor": 0
      },
      "text/plain": [
       "HBox(children=(IntProgress(value=0, max=50), HTML(value='')))"
      ]
     },
     "metadata": {},
     "output_type": "display_data"
    },
    {
     "name": "stdout",
     "output_type": "stream",
     "text": [
      "epoch 2: training loss 87.40989232063293 ; testing loss 1.6231235265731812\n"
     ]
    },
    {
     "data": {
      "application/vnd.jupyter.widget-view+json": {
       "model_id": "c8d270a080914ec9bf5536b8e4a6804f",
       "version_major": 2,
       "version_minor": 0
      },
      "text/plain": [
       "HBox(children=(IntProgress(value=0, max=50), HTML(value='')))"
      ]
     },
     "metadata": {},
     "output_type": "display_data"
    },
    {
     "name": "stdout",
     "output_type": "stream",
     "text": [
      "epoch 3: training loss 83.7126008272171 ; testing loss 1.5686259269714355\n"
     ]
    },
    {
     "data": {
      "application/vnd.jupyter.widget-view+json": {
       "model_id": "f9915b997aa443b09173be139ceff396",
       "version_major": 2,
       "version_minor": 0
      },
      "text/plain": [
       "HBox(children=(IntProgress(value=0, max=50), HTML(value='')))"
      ]
     },
     "metadata": {},
     "output_type": "display_data"
    },
    {
     "name": "stdout",
     "output_type": "stream",
     "text": [
      "epoch 4: training loss 81.05947124958038 ; testing loss 1.4946259260177612\n"
     ]
    },
    {
     "data": {
      "application/vnd.jupyter.widget-view+json": {
       "model_id": "4e3712760e9740b18e0454160894d579",
       "version_major": 2,
       "version_minor": 0
      },
      "text/plain": [
       "HBox(children=(IntProgress(value=0, max=50), HTML(value='')))"
      ]
     },
     "metadata": {},
     "output_type": "display_data"
    },
    {
     "name": "stdout",
     "output_type": "stream",
     "text": [
      "epoch 5: training loss 78.81134355068207 ; testing loss 1.4335335493087769\n"
     ]
    },
    {
     "data": {
      "application/vnd.jupyter.widget-view+json": {
       "model_id": "75bf0ec3e8b54b589f13cbf94f50a878",
       "version_major": 2,
       "version_minor": 0
      },
      "text/plain": [
       "HBox(children=(IntProgress(value=0, max=50), HTML(value='')))"
      ]
     },
     "metadata": {},
     "output_type": "display_data"
    },
    {
     "name": "stdout",
     "output_type": "stream",
     "text": [
      "epoch 6: training loss 75.11326777935028 ; testing loss 1.3803642988204956\n"
     ]
    },
    {
     "data": {
      "application/vnd.jupyter.widget-view+json": {
       "model_id": "18e207569d9943fd93d843639297bcf2",
       "version_major": 2,
       "version_minor": 0
      },
      "text/plain": [
       "HBox(children=(IntProgress(value=0, max=50), HTML(value='')))"
      ]
     },
     "metadata": {},
     "output_type": "display_data"
    },
    {
     "name": "stdout",
     "output_type": "stream",
     "text": [
      "epoch 7: training loss 73.66490542888641 ; testing loss 1.3504538536071777\n"
     ]
    },
    {
     "data": {
      "application/vnd.jupyter.widget-view+json": {
       "model_id": "01bc00fc582440b3ab722939814c4021",
       "version_major": 2,
       "version_minor": 0
      },
      "text/plain": [
       "HBox(children=(IntProgress(value=0, max=50), HTML(value='')))"
      ]
     },
     "metadata": {},
     "output_type": "display_data"
    },
    {
     "name": "stdout",
     "output_type": "stream",
     "text": [
      "epoch 8: training loss 72.72536754608154 ; testing loss 1.333814263343811\n"
     ]
    },
    {
     "data": {
      "application/vnd.jupyter.widget-view+json": {
       "model_id": "1678e4314ddc4c42bc980046eb1a5c93",
       "version_major": 2,
       "version_minor": 0
      },
      "text/plain": [
       "HBox(children=(IntProgress(value=0, max=50), HTML(value='')))"
      ]
     },
     "metadata": {},
     "output_type": "display_data"
    },
    {
     "name": "stdout",
     "output_type": "stream",
     "text": [
      "epoch 9: training loss 69.8238091468811 ; testing loss 1.3064244985580444\n"
     ]
    },
    {
     "data": {
      "application/vnd.jupyter.widget-view+json": {
       "model_id": "47a375786d564a3bbeef35b910127fab",
       "version_major": 2,
       "version_minor": 0
      },
      "text/plain": [
       "HBox(children=(IntProgress(value=0, max=50), HTML(value='')))"
      ]
     },
     "metadata": {},
     "output_type": "display_data"
    },
    {
     "name": "stdout",
     "output_type": "stream",
     "text": [
      "epoch 10: training loss 69.3501923084259 ; testing loss 1.29007887840271\n"
     ]
    },
    {
     "data": {
      "application/vnd.jupyter.widget-view+json": {
       "model_id": "b59aadc681a84a9388392b2703e34f0e",
       "version_major": 2,
       "version_minor": 0
      },
      "text/plain": [
       "HBox(children=(IntProgress(value=0, max=50), HTML(value='')))"
      ]
     },
     "metadata": {},
     "output_type": "display_data"
    },
    {
     "name": "stdout",
     "output_type": "stream",
     "text": [
      "epoch 11: training loss 67.76431012153625 ; testing loss 1.2772444486618042\n"
     ]
    },
    {
     "data": {
      "application/vnd.jupyter.widget-view+json": {
       "model_id": "eb8cc5789ca24a0a9715ab1342841280",
       "version_major": 2,
       "version_minor": 0
      },
      "text/plain": [
       "HBox(children=(IntProgress(value=0, max=50), HTML(value='')))"
      ]
     },
     "metadata": {},
     "output_type": "display_data"
    },
    {
     "name": "stdout",
     "output_type": "stream",
     "text": [
      "epoch 12: training loss 67.74185717105865 ; testing loss 1.2663785219192505\n"
     ]
    },
    {
     "data": {
      "application/vnd.jupyter.widget-view+json": {
       "model_id": "b5cc026d7e364765902f40215752f8dd",
       "version_major": 2,
       "version_minor": 0
      },
      "text/plain": [
       "HBox(children=(IntProgress(value=0, max=50), HTML(value='')))"
      ]
     },
     "metadata": {},
     "output_type": "display_data"
    },
    {
     "name": "stdout",
     "output_type": "stream",
     "text": [
      "epoch 13: training loss 65.96868908405304 ; testing loss 1.2602689266204834\n"
     ]
    },
    {
     "data": {
      "application/vnd.jupyter.widget-view+json": {
       "model_id": "2880ac0e28da400aa3562d4f95d35fb7",
       "version_major": 2,
       "version_minor": 0
      },
      "text/plain": [
       "HBox(children=(IntProgress(value=0, max=50), HTML(value='')))"
      ]
     },
     "metadata": {},
     "output_type": "display_data"
    },
    {
     "name": "stdout",
     "output_type": "stream",
     "text": [
      "epoch 14: training loss 65.07809841632843 ; testing loss 1.2546072006225586\n"
     ]
    },
    {
     "data": {
      "application/vnd.jupyter.widget-view+json": {
       "model_id": "df59d3c07c314ecc92130eb08a8a1076",
       "version_major": 2,
       "version_minor": 0
      },
      "text/plain": [
       "HBox(children=(IntProgress(value=0, max=50), HTML(value='')))"
      ]
     },
     "metadata": {},
     "output_type": "display_data"
    },
    {
     "name": "stdout",
     "output_type": "stream",
     "text": [
      "epoch 15: training loss 65.21023368835449 ; testing loss 1.248584508895874\n"
     ]
    },
    {
     "data": {
      "application/vnd.jupyter.widget-view+json": {
       "model_id": "e1d6f431877c450fa9a88b279801c330",
       "version_major": 2,
       "version_minor": 0
      },
      "text/plain": [
       "HBox(children=(IntProgress(value=0, max=50), HTML(value='')))"
      ]
     },
     "metadata": {},
     "output_type": "display_data"
    },
    {
     "name": "stdout",
     "output_type": "stream",
     "text": [
      "epoch 16: training loss 65.09872055053711 ; testing loss 1.2475277185440063\n"
     ]
    },
    {
     "data": {
      "application/vnd.jupyter.widget-view+json": {
       "model_id": "435bdf0a33fc40ef9629c168c250972e",
       "version_major": 2,
       "version_minor": 0
      },
      "text/plain": [
       "HBox(children=(IntProgress(value=0, max=50), HTML(value='')))"
      ]
     },
     "metadata": {},
     "output_type": "display_data"
    },
    {
     "name": "stdout",
     "output_type": "stream",
     "text": [
      "epoch 17: training loss 63.06761997938156 ; testing loss 1.237816333770752\n"
     ]
    },
    {
     "data": {
      "application/vnd.jupyter.widget-view+json": {
       "model_id": "0f8b650e81714bedb8c89cc3702db693",
       "version_major": 2,
       "version_minor": 0
      },
      "text/plain": [
       "HBox(children=(IntProgress(value=0, max=50), HTML(value='')))"
      ]
     },
     "metadata": {},
     "output_type": "display_data"
    },
    {
     "name": "stdout",
     "output_type": "stream",
     "text": [
      "epoch 18: training loss 64.69863867759705 ; testing loss 1.245195984840393\n"
     ]
    },
    {
     "data": {
      "application/vnd.jupyter.widget-view+json": {
       "model_id": "817182b13601416dac1896092358b511",
       "version_major": 2,
       "version_minor": 0
      },
      "text/plain": [
       "HBox(children=(IntProgress(value=0, max=50), HTML(value='')))"
      ]
     },
     "metadata": {},
     "output_type": "display_data"
    },
    {
     "name": "stdout",
     "output_type": "stream",
     "text": [
      "epoch 19: training loss 62.4491012096405 ; testing loss 1.237727165222168\n"
     ]
    },
    {
     "data": {
      "application/vnd.jupyter.widget-view+json": {
       "model_id": "9091208a1f804a1cb36c07183ed8e9eb",
       "version_major": 2,
       "version_minor": 0
      },
      "text/plain": [
       "HBox(children=(IntProgress(value=0, max=50), HTML(value='')))"
      ]
     },
     "metadata": {},
     "output_type": "display_data"
    },
    {
     "name": "stdout",
     "output_type": "stream",
     "text": [
      "epoch 20: training loss 62.310242652893066 ; testing loss 1.2290095090866089\n"
     ]
    },
    {
     "data": {
      "application/vnd.jupyter.widget-view+json": {
       "model_id": "581a65132582431e9788d75615492f74",
       "version_major": 2,
       "version_minor": 0
      },
      "text/plain": [
       "HBox(children=(IntProgress(value=0, max=50), HTML(value='')))"
      ]
     },
     "metadata": {},
     "output_type": "display_data"
    },
    {
     "name": "stdout",
     "output_type": "stream",
     "text": [
      "epoch 21: training loss 61.64674437046051 ; testing loss 1.2190970182418823\n"
     ]
    },
    {
     "data": {
      "application/vnd.jupyter.widget-view+json": {
       "model_id": "1a042c3ac4014042afff659d57198bd5",
       "version_major": 2,
       "version_minor": 0
      },
      "text/plain": [
       "HBox(children=(IntProgress(value=0, max=50), HTML(value='')))"
      ]
     },
     "metadata": {},
     "output_type": "display_data"
    },
    {
     "name": "stdout",
     "output_type": "stream",
     "text": [
      "epoch 22: training loss 61.15200746059418 ; testing loss 1.2302591800689697\n"
     ]
    },
    {
     "data": {
      "application/vnd.jupyter.widget-view+json": {
       "model_id": "b0db920ab8c7456e8e1689cad60ffb15",
       "version_major": 2,
       "version_minor": 0
      },
      "text/plain": [
       "HBox(children=(IntProgress(value=0, max=50), HTML(value='')))"
      ]
     },
     "metadata": {},
     "output_type": "display_data"
    },
    {
     "name": "stdout",
     "output_type": "stream",
     "text": [
      "epoch 23: training loss 62.21454590559006 ; testing loss 1.2284313440322876\n"
     ]
    },
    {
     "data": {
      "application/vnd.jupyter.widget-view+json": {
       "model_id": "255a6edc0d5248258c9fb61a18342d59",
       "version_major": 2,
       "version_minor": 0
      },
      "text/plain": [
       "HBox(children=(IntProgress(value=0, max=50), HTML(value='')))"
      ]
     },
     "metadata": {},
     "output_type": "display_data"
    },
    {
     "name": "stdout",
     "output_type": "stream",
     "text": [
      "epoch 24: training loss 59.8314688205719 ; testing loss 1.2227214574813843\n"
     ]
    },
    {
     "data": {
      "application/vnd.jupyter.widget-view+json": {
       "model_id": "32e53115439e4af9bec5edbda8491658",
       "version_major": 2,
       "version_minor": 0
      },
      "text/plain": [
       "HBox(children=(IntProgress(value=0, max=50), HTML(value='')))"
      ]
     },
     "metadata": {},
     "output_type": "display_data"
    },
    {
     "name": "stdout",
     "output_type": "stream",
     "text": [
      "epoch 25: training loss 61.314231514930725 ; testing loss 1.2242785692214966\n"
     ]
    },
    {
     "data": {
      "application/vnd.jupyter.widget-view+json": {
       "model_id": "37b6dd797e094780b9f8e2fdd17e90b7",
       "version_major": 2,
       "version_minor": 0
      },
      "text/plain": [
       "HBox(children=(IntProgress(value=0, max=50), HTML(value='')))"
      ]
     },
     "metadata": {},
     "output_type": "display_data"
    },
    {
     "name": "stdout",
     "output_type": "stream",
     "text": [
      "epoch 26: training loss 59.29256373643875 ; testing loss 1.2171937227249146\n"
     ]
    },
    {
     "data": {
      "application/vnd.jupyter.widget-view+json": {
       "model_id": "18fc5b2764f8482993037417a3e46c27",
       "version_major": 2,
       "version_minor": 0
      },
      "text/plain": [
       "HBox(children=(IntProgress(value=0, max=50), HTML(value='')))"
      ]
     },
     "metadata": {},
     "output_type": "display_data"
    },
    {
     "name": "stdout",
     "output_type": "stream",
     "text": [
      "epoch 27: training loss 60.42100948095322 ; testing loss 1.2229844331741333\n"
     ]
    },
    {
     "data": {
      "application/vnd.jupyter.widget-view+json": {
       "model_id": "06c7373cbd97494a8b4fb1c374ed6272",
       "version_major": 2,
       "version_minor": 0
      },
      "text/plain": [
       "HBox(children=(IntProgress(value=0, max=50), HTML(value='')))"
      ]
     },
     "metadata": {},
     "output_type": "display_data"
    },
    {
     "name": "stdout",
     "output_type": "stream",
     "text": [
      "epoch 28: training loss 59.14436316490173 ; testing loss 1.215012788772583\n"
     ]
    },
    {
     "data": {
      "application/vnd.jupyter.widget-view+json": {
       "model_id": "3f5aa2f09a2b4a42885ff7bb76b97994",
       "version_major": 2,
       "version_minor": 0
      },
      "text/plain": [
       "HBox(children=(IntProgress(value=0, max=50), HTML(value='')))"
      ]
     },
     "metadata": {},
     "output_type": "display_data"
    },
    {
     "name": "stdout",
     "output_type": "stream",
     "text": [
      "epoch 29: training loss 59.16041052341461 ; testing loss 1.2144923210144043\n"
     ]
    },
    {
     "data": {
      "application/vnd.jupyter.widget-view+json": {
       "model_id": "c1a6920b66f6481dbc990b69c63c29a0",
       "version_major": 2,
       "version_minor": 0
      },
      "text/plain": [
       "HBox(children=(IntProgress(value=0, max=50), HTML(value='')))"
      ]
     },
     "metadata": {},
     "output_type": "display_data"
    },
    {
     "name": "stdout",
     "output_type": "stream",
     "text": [
      "epoch 30: training loss 57.749794483184814 ; testing loss 1.2146505117416382\n"
     ]
    },
    {
     "data": {
      "application/vnd.jupyter.widget-view+json": {
       "model_id": "4ebee7787e444d7f944234645b49916a",
       "version_major": 2,
       "version_minor": 0
      },
      "text/plain": [
       "HBox(children=(IntProgress(value=0, max=50), HTML(value='')))"
      ]
     },
     "metadata": {},
     "output_type": "display_data"
    },
    {
     "name": "stdout",
     "output_type": "stream",
     "text": [
      "epoch 31: training loss 59.310512125492096 ; testing loss 1.2192091941833496\n"
     ]
    },
    {
     "data": {
      "application/vnd.jupyter.widget-view+json": {
       "model_id": "0f09a577f02f4796a066a9fab6e9a64f",
       "version_major": 2,
       "version_minor": 0
      },
      "text/plain": [
       "HBox(children=(IntProgress(value=0, max=50), HTML(value='')))"
      ]
     },
     "metadata": {},
     "output_type": "display_data"
    },
    {
     "name": "stdout",
     "output_type": "stream",
     "text": [
      "epoch 32: training loss 58.97913008928299 ; testing loss 1.2157119512557983\n"
     ]
    },
    {
     "data": {
      "application/vnd.jupyter.widget-view+json": {
       "model_id": "7870fe7387454c10899d0dbd837f469c",
       "version_major": 2,
       "version_minor": 0
      },
      "text/plain": [
       "HBox(children=(IntProgress(value=0, max=50), HTML(value='')))"
      ]
     },
     "metadata": {},
     "output_type": "display_data"
    },
    {
     "name": "stdout",
     "output_type": "stream",
     "text": [
      "epoch 33: training loss 57.72455483675003 ; testing loss 1.2127175331115723\n"
     ]
    },
    {
     "data": {
      "application/vnd.jupyter.widget-view+json": {
       "model_id": "185cb6f373464aee899949bceff279ef",
       "version_major": 2,
       "version_minor": 0
      },
      "text/plain": [
       "HBox(children=(IntProgress(value=0, max=50), HTML(value='')))"
      ]
     },
     "metadata": {},
     "output_type": "display_data"
    },
    {
     "name": "stdout",
     "output_type": "stream",
     "text": [
      "epoch 34: training loss 57.02978754043579 ; testing loss 1.2108030319213867\n",
      "The model didn't improve for 5 rounds, break it!\n",
      "model 9 start!\n"
     ]
    },
    {
     "data": {
      "application/vnd.jupyter.widget-view+json": {
       "model_id": "ad48e642e2654c75b8370fa3e84388bd",
       "version_major": 2,
       "version_minor": 0
      },
      "text/plain": [
       "HBox(children=(IntProgress(value=0, max=50), HTML(value='')))"
      ]
     },
     "metadata": {},
     "output_type": "display_data"
    },
    {
     "name": "stdout",
     "output_type": "stream",
     "text": [
      "epoch 1: training loss 96.4296795129776 ; testing loss 1.6544256210327148\n"
     ]
    },
    {
     "data": {
      "application/vnd.jupyter.widget-view+json": {
       "model_id": "be8c29dce7894b1ab2e1e0f79a3f2176",
       "version_major": 2,
       "version_minor": 0
      },
      "text/plain": [
       "HBox(children=(IntProgress(value=0, max=50), HTML(value='')))"
      ]
     },
     "metadata": {},
     "output_type": "display_data"
    },
    {
     "name": "stdout",
     "output_type": "stream",
     "text": [
      "epoch 2: training loss 86.80683219432831 ; testing loss 1.6012192964553833\n"
     ]
    },
    {
     "data": {
      "application/vnd.jupyter.widget-view+json": {
       "model_id": "441a31773480430093a51e7ee95cadaf",
       "version_major": 2,
       "version_minor": 0
      },
      "text/plain": [
       "HBox(children=(IntProgress(value=0, max=50), HTML(value='')))"
      ]
     },
     "metadata": {},
     "output_type": "display_data"
    },
    {
     "name": "stdout",
     "output_type": "stream",
     "text": [
      "epoch 3: training loss 83.10010015964508 ; testing loss 1.533819556236267\n"
     ]
    },
    {
     "data": {
      "application/vnd.jupyter.widget-view+json": {
       "model_id": "2b93d4ce76a44a89afd9e1eb6563edca",
       "version_major": 2,
       "version_minor": 0
      },
      "text/plain": [
       "HBox(children=(IntProgress(value=0, max=50), HTML(value='')))"
      ]
     },
     "metadata": {},
     "output_type": "display_data"
    },
    {
     "name": "stdout",
     "output_type": "stream",
     "text": [
      "epoch 4: training loss 79.81864547729492 ; testing loss 1.47379732131958\n"
     ]
    },
    {
     "data": {
      "application/vnd.jupyter.widget-view+json": {
       "model_id": "812a1b6c47754ee7867edbd55b2148ab",
       "version_major": 2,
       "version_minor": 0
      },
      "text/plain": [
       "HBox(children=(IntProgress(value=0, max=50), HTML(value='')))"
      ]
     },
     "metadata": {},
     "output_type": "display_data"
    },
    {
     "name": "stdout",
     "output_type": "stream",
     "text": [
      "epoch 5: training loss 76.02929770946503 ; testing loss 1.4184083938598633\n"
     ]
    },
    {
     "data": {
      "application/vnd.jupyter.widget-view+json": {
       "model_id": "13ba7002f4bb44fcac2cd9aba8d3689f",
       "version_major": 2,
       "version_minor": 0
      },
      "text/plain": [
       "HBox(children=(IntProgress(value=0, max=50), HTML(value='')))"
      ]
     },
     "metadata": {},
     "output_type": "display_data"
    },
    {
     "name": "stdout",
     "output_type": "stream",
     "text": [
      "epoch 6: training loss 75.37195098400116 ; testing loss 1.3897753953933716\n"
     ]
    },
    {
     "data": {
      "application/vnd.jupyter.widget-view+json": {
       "model_id": "a9c40d9da0ff43af9b4dee959ac9b664",
       "version_major": 2,
       "version_minor": 0
      },
      "text/plain": [
       "HBox(children=(IntProgress(value=0, max=50), HTML(value='')))"
      ]
     },
     "metadata": {},
     "output_type": "display_data"
    },
    {
     "name": "stdout",
     "output_type": "stream",
     "text": [
      "epoch 7: training loss 72.96469295024872 ; testing loss 1.3648589849472046\n"
     ]
    },
    {
     "data": {
      "application/vnd.jupyter.widget-view+json": {
       "model_id": "e069469ddbba422089666f2185baff4e",
       "version_major": 2,
       "version_minor": 0
      },
      "text/plain": [
       "HBox(children=(IntProgress(value=0, max=50), HTML(value='')))"
      ]
     },
     "metadata": {},
     "output_type": "display_data"
    },
    {
     "name": "stdout",
     "output_type": "stream",
     "text": [
      "epoch 8: training loss 71.2133674621582 ; testing loss 1.3421627283096313\n"
     ]
    },
    {
     "data": {
      "application/vnd.jupyter.widget-view+json": {
       "model_id": "4bfb6f18e20c4feb899652bcef1b466c",
       "version_major": 2,
       "version_minor": 0
      },
      "text/plain": [
       "HBox(children=(IntProgress(value=0, max=50), HTML(value='')))"
      ]
     },
     "metadata": {},
     "output_type": "display_data"
    },
    {
     "name": "stdout",
     "output_type": "stream",
     "text": [
      "epoch 9: training loss 69.7677298784256 ; testing loss 1.3299058675765991\n"
     ]
    },
    {
     "data": {
      "application/vnd.jupyter.widget-view+json": {
       "model_id": "967468810ee244609cefaedd436afd39",
       "version_major": 2,
       "version_minor": 0
      },
      "text/plain": [
       "HBox(children=(IntProgress(value=0, max=50), HTML(value='')))"
      ]
     },
     "metadata": {},
     "output_type": "display_data"
    },
    {
     "name": "stdout",
     "output_type": "stream",
     "text": [
      "epoch 10: training loss 70.15215849876404 ; testing loss 1.3199388980865479\n"
     ]
    },
    {
     "data": {
      "application/vnd.jupyter.widget-view+json": {
       "model_id": "f9200e47af574a39ac50e931691f8f26",
       "version_major": 2,
       "version_minor": 0
      },
      "text/plain": [
       "HBox(children=(IntProgress(value=0, max=50), HTML(value='')))"
      ]
     },
     "metadata": {},
     "output_type": "display_data"
    },
    {
     "name": "stdout",
     "output_type": "stream",
     "text": [
      "epoch 11: training loss 67.71220350265503 ; testing loss 1.3029329776763916\n"
     ]
    },
    {
     "data": {
      "application/vnd.jupyter.widget-view+json": {
       "model_id": "e83fbc5827984fe2ac61e8a23400a27f",
       "version_major": 2,
       "version_minor": 0
      },
      "text/plain": [
       "HBox(children=(IntProgress(value=0, max=50), HTML(value='')))"
      ]
     },
     "metadata": {},
     "output_type": "display_data"
    },
    {
     "name": "stdout",
     "output_type": "stream",
     "text": [
      "epoch 12: training loss 67.76041615009308 ; testing loss 1.2919594049453735\n"
     ]
    },
    {
     "data": {
      "application/vnd.jupyter.widget-view+json": {
       "model_id": "b30fc40f57fb4ce484f63e98a347b911",
       "version_major": 2,
       "version_minor": 0
      },
      "text/plain": [
       "HBox(children=(IntProgress(value=0, max=50), HTML(value='')))"
      ]
     },
     "metadata": {},
     "output_type": "display_data"
    },
    {
     "name": "stdout",
     "output_type": "stream",
     "text": [
      "epoch 13: training loss 65.92434501647949 ; testing loss 1.2887043952941895\n"
     ]
    },
    {
     "data": {
      "application/vnd.jupyter.widget-view+json": {
       "model_id": "c24fe3e78605484cb8c5dd7593469f71",
       "version_major": 2,
       "version_minor": 0
      },
      "text/plain": [
       "HBox(children=(IntProgress(value=0, max=50), HTML(value='')))"
      ]
     },
     "metadata": {},
     "output_type": "display_data"
    },
    {
     "name": "stdout",
     "output_type": "stream",
     "text": [
      "epoch 14: training loss 66.42639255523682 ; testing loss 1.276556134223938\n"
     ]
    },
    {
     "data": {
      "application/vnd.jupyter.widget-view+json": {
       "model_id": "205e05719eb1425298c12c065714c72c",
       "version_major": 2,
       "version_minor": 0
      },
      "text/plain": [
       "HBox(children=(IntProgress(value=0, max=50), HTML(value='')))"
      ]
     },
     "metadata": {},
     "output_type": "display_data"
    },
    {
     "name": "stdout",
     "output_type": "stream",
     "text": [
      "epoch 15: training loss 64.42200016975403 ; testing loss 1.2721890211105347\n"
     ]
    },
    {
     "data": {
      "application/vnd.jupyter.widget-view+json": {
       "model_id": "25801a2691ef4077b68939db2dd82ba2",
       "version_major": 2,
       "version_minor": 0
      },
      "text/plain": [
       "HBox(children=(IntProgress(value=0, max=50), HTML(value='')))"
      ]
     },
     "metadata": {},
     "output_type": "display_data"
    },
    {
     "name": "stdout",
     "output_type": "stream",
     "text": [
      "epoch 16: training loss 64.29730951786041 ; testing loss 1.258086919784546\n"
     ]
    },
    {
     "data": {
      "application/vnd.jupyter.widget-view+json": {
       "model_id": "e6e29ceb347f4cbc89105019d227f2da",
       "version_major": 2,
       "version_minor": 0
      },
      "text/plain": [
       "HBox(children=(IntProgress(value=0, max=50), HTML(value='')))"
      ]
     },
     "metadata": {},
     "output_type": "display_data"
    },
    {
     "name": "stdout",
     "output_type": "stream",
     "text": [
      "epoch 17: training loss 63.74745321273804 ; testing loss 1.2503329515457153\n"
     ]
    },
    {
     "data": {
      "application/vnd.jupyter.widget-view+json": {
       "model_id": "ea85e3b052024299a9cac6d1f6f63e45",
       "version_major": 2,
       "version_minor": 0
      },
      "text/plain": [
       "HBox(children=(IntProgress(value=0, max=50), HTML(value='')))"
      ]
     },
     "metadata": {},
     "output_type": "display_data"
    },
    {
     "name": "stdout",
     "output_type": "stream",
     "text": [
      "epoch 18: training loss 63.562586188316345 ; testing loss 1.249290108680725\n"
     ]
    },
    {
     "data": {
      "application/vnd.jupyter.widget-view+json": {
       "model_id": "302046cb058e4181a3b0d672870ec0d9",
       "version_major": 2,
       "version_minor": 0
      },
      "text/plain": [
       "HBox(children=(IntProgress(value=0, max=50), HTML(value='')))"
      ]
     },
     "metadata": {},
     "output_type": "display_data"
    },
    {
     "name": "stdout",
     "output_type": "stream",
     "text": [
      "epoch 19: training loss 61.94472098350525 ; testing loss 1.2433663606643677\n"
     ]
    },
    {
     "data": {
      "application/vnd.jupyter.widget-view+json": {
       "model_id": "b5bf4aa2f296400597ddeaaa797b95cd",
       "version_major": 2,
       "version_minor": 0
      },
      "text/plain": [
       "HBox(children=(IntProgress(value=0, max=50), HTML(value='')))"
      ]
     },
     "metadata": {},
     "output_type": "display_data"
    },
    {
     "name": "stdout",
     "output_type": "stream",
     "text": [
      "epoch 20: training loss 62.28914314508438 ; testing loss 1.2438713312149048\n"
     ]
    },
    {
     "data": {
      "application/vnd.jupyter.widget-view+json": {
       "model_id": "4acf5b4712d2458fb789ac1f2318a00b",
       "version_major": 2,
       "version_minor": 0
      },
      "text/plain": [
       "HBox(children=(IntProgress(value=0, max=50), HTML(value='')))"
      ]
     },
     "metadata": {},
     "output_type": "display_data"
    },
    {
     "name": "stdout",
     "output_type": "stream",
     "text": [
      "epoch 21: training loss 63.26399004459381 ; testing loss 1.2441691160202026\n"
     ]
    },
    {
     "data": {
      "application/vnd.jupyter.widget-view+json": {
       "model_id": "01fcb88633304037b2cce96dfdd4a01b",
       "version_major": 2,
       "version_minor": 0
      },
      "text/plain": [
       "HBox(children=(IntProgress(value=0, max=50), HTML(value='')))"
      ]
     },
     "metadata": {},
     "output_type": "display_data"
    },
    {
     "name": "stdout",
     "output_type": "stream",
     "text": [
      "epoch 22: training loss 61.82026469707489 ; testing loss 1.2369341850280762\n"
     ]
    },
    {
     "data": {
      "application/vnd.jupyter.widget-view+json": {
       "model_id": "1ff3c03a27ca4ff98ae1387a03922a39",
       "version_major": 2,
       "version_minor": 0
      },
      "text/plain": [
       "HBox(children=(IntProgress(value=0, max=50), HTML(value='')))"
      ]
     },
     "metadata": {},
     "output_type": "display_data"
    },
    {
     "name": "stdout",
     "output_type": "stream",
     "text": [
      "epoch 23: training loss 60.11143147945404 ; testing loss 1.235766887664795\n"
     ]
    },
    {
     "data": {
      "application/vnd.jupyter.widget-view+json": {
       "model_id": "a041080e609148cba1da8c5e376991ef",
       "version_major": 2,
       "version_minor": 0
      },
      "text/plain": [
       "HBox(children=(IntProgress(value=0, max=50), HTML(value='')))"
      ]
     },
     "metadata": {},
     "output_type": "display_data"
    },
    {
     "name": "stdout",
     "output_type": "stream",
     "text": [
      "epoch 24: training loss 60.14326369762421 ; testing loss 1.2361007928848267\n"
     ]
    },
    {
     "data": {
      "application/vnd.jupyter.widget-view+json": {
       "model_id": "70dbcbcec20c4a2583a27411070748c5",
       "version_major": 2,
       "version_minor": 0
      },
      "text/plain": [
       "HBox(children=(IntProgress(value=0, max=50), HTML(value='')))"
      ]
     },
     "metadata": {},
     "output_type": "display_data"
    },
    {
     "name": "stdout",
     "output_type": "stream",
     "text": [
      "epoch 25: training loss 61.353954672813416 ; testing loss 1.241188645362854\n"
     ]
    },
    {
     "data": {
      "application/vnd.jupyter.widget-view+json": {
       "model_id": "7f46c49424604a28b087ebb05febe752",
       "version_major": 2,
       "version_minor": 0
      },
      "text/plain": [
       "HBox(children=(IntProgress(value=0, max=50), HTML(value='')))"
      ]
     },
     "metadata": {},
     "output_type": "display_data"
    },
    {
     "name": "stdout",
     "output_type": "stream",
     "text": [
      "epoch 26: training loss 60.11201822757721 ; testing loss 1.2293988466262817\n"
     ]
    },
    {
     "data": {
      "application/vnd.jupyter.widget-view+json": {
       "model_id": "3e26ce7aa0874cc0a7addf69c39f2513",
       "version_major": 2,
       "version_minor": 0
      },
      "text/plain": [
       "HBox(children=(IntProgress(value=0, max=50), HTML(value='')))"
      ]
     },
     "metadata": {},
     "output_type": "display_data"
    },
    {
     "name": "stdout",
     "output_type": "stream",
     "text": [
      "epoch 27: training loss 59.43896985054016 ; testing loss 1.2289444208145142\n",
      "The model didn't improve for 5 rounds, break it!\n",
      "model 10 start!\n"
     ]
    },
    {
     "data": {
      "application/vnd.jupyter.widget-view+json": {
       "model_id": "8ba2b513753745cfa510f2fcc6520183",
       "version_major": 2,
       "version_minor": 0
      },
      "text/plain": [
       "HBox(children=(IntProgress(value=0, max=50), HTML(value='')))"
      ]
     },
     "metadata": {},
     "output_type": "display_data"
    },
    {
     "name": "stdout",
     "output_type": "stream",
     "text": [
      "epoch 1: training loss 96.30221569538116 ; testing loss 1.676160454750061\n"
     ]
    },
    {
     "data": {
      "application/vnd.jupyter.widget-view+json": {
       "model_id": "a0288e411c9841609d59b43836aac07f",
       "version_major": 2,
       "version_minor": 0
      },
      "text/plain": [
       "HBox(children=(IntProgress(value=0, max=50), HTML(value='')))"
      ]
     },
     "metadata": {},
     "output_type": "display_data"
    },
    {
     "name": "stdout",
     "output_type": "stream",
     "text": [
      "epoch 2: training loss 87.83124077320099 ; testing loss 1.6239264011383057\n"
     ]
    },
    {
     "data": {
      "application/vnd.jupyter.widget-view+json": {
       "model_id": "9624b0748b2d4c84a281fc793b47bed0",
       "version_major": 2,
       "version_minor": 0
      },
      "text/plain": [
       "HBox(children=(IntProgress(value=0, max=50), HTML(value='')))"
      ]
     },
     "metadata": {},
     "output_type": "display_data"
    },
    {
     "name": "stdout",
     "output_type": "stream",
     "text": [
      "epoch 3: training loss 82.83943700790405 ; testing loss 1.5543808937072754\n"
     ]
    },
    {
     "data": {
      "application/vnd.jupyter.widget-view+json": {
       "model_id": "53e904e14c6648f3b96598d0bdf0d03c",
       "version_major": 2,
       "version_minor": 0
      },
      "text/plain": [
       "HBox(children=(IntProgress(value=0, max=50), HTML(value='')))"
      ]
     },
     "metadata": {},
     "output_type": "display_data"
    },
    {
     "name": "stdout",
     "output_type": "stream",
     "text": [
      "epoch 4: training loss 78.76939368247986 ; testing loss 1.4770598411560059\n"
     ]
    },
    {
     "data": {
      "application/vnd.jupyter.widget-view+json": {
       "model_id": "e2aebf18d66b48abaa2158fbb470d4fa",
       "version_major": 2,
       "version_minor": 0
      },
      "text/plain": [
       "HBox(children=(IntProgress(value=0, max=50), HTML(value='')))"
      ]
     },
     "metadata": {},
     "output_type": "display_data"
    },
    {
     "name": "stdout",
     "output_type": "stream",
     "text": [
      "epoch 5: training loss 77.45046079158783 ; testing loss 1.4296576976776123\n"
     ]
    },
    {
     "data": {
      "application/vnd.jupyter.widget-view+json": {
       "model_id": "94c43dc420dc4d779c69ed657cffdff8",
       "version_major": 2,
       "version_minor": 0
      },
      "text/plain": [
       "HBox(children=(IntProgress(value=0, max=50), HTML(value='')))"
      ]
     },
     "metadata": {},
     "output_type": "display_data"
    },
    {
     "name": "stdout",
     "output_type": "stream",
     "text": [
      "epoch 6: training loss 74.19895124435425 ; testing loss 1.386000633239746\n"
     ]
    },
    {
     "data": {
      "application/vnd.jupyter.widget-view+json": {
       "model_id": "7092889c31bc40748471a5f23ec8b5af",
       "version_major": 2,
       "version_minor": 0
      },
      "text/plain": [
       "HBox(children=(IntProgress(value=0, max=50), HTML(value='')))"
      ]
     },
     "metadata": {},
     "output_type": "display_data"
    },
    {
     "name": "stdout",
     "output_type": "stream",
     "text": [
      "epoch 7: training loss 72.1515007019043 ; testing loss 1.3651347160339355\n"
     ]
    },
    {
     "data": {
      "application/vnd.jupyter.widget-view+json": {
       "model_id": "7ee997889b9a488d83793c515f496994",
       "version_major": 2,
       "version_minor": 0
      },
      "text/plain": [
       "HBox(children=(IntProgress(value=0, max=50), HTML(value='')))"
      ]
     },
     "metadata": {},
     "output_type": "display_data"
    },
    {
     "name": "stdout",
     "output_type": "stream",
     "text": [
      "epoch 8: training loss 70.58100187778473 ; testing loss 1.3383194208145142\n"
     ]
    },
    {
     "data": {
      "application/vnd.jupyter.widget-view+json": {
       "model_id": "436534299bed43c08233afd7582aaad0",
       "version_major": 2,
       "version_minor": 0
      },
      "text/plain": [
       "HBox(children=(IntProgress(value=0, max=50), HTML(value='')))"
      ]
     },
     "metadata": {},
     "output_type": "display_data"
    },
    {
     "name": "stdout",
     "output_type": "stream",
     "text": [
      "epoch 9: training loss 68.83976626396179 ; testing loss 1.3176686763763428\n"
     ]
    },
    {
     "data": {
      "application/vnd.jupyter.widget-view+json": {
       "model_id": "bac68d9c839f45e6a38d79427eb50b4a",
       "version_major": 2,
       "version_minor": 0
      },
      "text/plain": [
       "HBox(children=(IntProgress(value=0, max=50), HTML(value='')))"
      ]
     },
     "metadata": {},
     "output_type": "display_data"
    },
    {
     "name": "stdout",
     "output_type": "stream",
     "text": [
      "epoch 10: training loss 68.9017585515976 ; testing loss 1.3054267168045044\n"
     ]
    },
    {
     "data": {
      "application/vnd.jupyter.widget-view+json": {
       "model_id": "06de7bcf718a48939cec12fe154780ce",
       "version_major": 2,
       "version_minor": 0
      },
      "text/plain": [
       "HBox(children=(IntProgress(value=0, max=50), HTML(value='')))"
      ]
     },
     "metadata": {},
     "output_type": "display_data"
    },
    {
     "name": "stdout",
     "output_type": "stream",
     "text": [
      "epoch 11: training loss 67.23561680316925 ; testing loss 1.3019036054611206\n"
     ]
    },
    {
     "data": {
      "application/vnd.jupyter.widget-view+json": {
       "model_id": "86591d49f02b46c88291d80412e0aaff",
       "version_major": 2,
       "version_minor": 0
      },
      "text/plain": [
       "HBox(children=(IntProgress(value=0, max=50), HTML(value='')))"
      ]
     },
     "metadata": {},
     "output_type": "display_data"
    },
    {
     "name": "stdout",
     "output_type": "stream",
     "text": [
      "epoch 12: training loss 66.66316080093384 ; testing loss 1.2909374237060547\n"
     ]
    },
    {
     "data": {
      "application/vnd.jupyter.widget-view+json": {
       "model_id": "bdfc449ec2ef474692ef7d7a0ebba768",
       "version_major": 2,
       "version_minor": 0
      },
      "text/plain": [
       "HBox(children=(IntProgress(value=0, max=50), HTML(value='')))"
      ]
     },
     "metadata": {},
     "output_type": "display_data"
    },
    {
     "name": "stdout",
     "output_type": "stream",
     "text": [
      "epoch 13: training loss 65.44901740550995 ; testing loss 1.2821745872497559\n"
     ]
    },
    {
     "data": {
      "application/vnd.jupyter.widget-view+json": {
       "model_id": "ca6e0f835b02474ab256d317369dcb7b",
       "version_major": 2,
       "version_minor": 0
      },
      "text/plain": [
       "HBox(children=(IntProgress(value=0, max=50), HTML(value='')))"
      ]
     },
     "metadata": {},
     "output_type": "display_data"
    },
    {
     "name": "stdout",
     "output_type": "stream",
     "text": [
      "epoch 14: training loss 64.49744093418121 ; testing loss 1.28022301197052\n"
     ]
    },
    {
     "data": {
      "application/vnd.jupyter.widget-view+json": {
       "model_id": "cd75dc0934a540308647cd0cb33d2d3d",
       "version_major": 2,
       "version_minor": 0
      },
      "text/plain": [
       "HBox(children=(IntProgress(value=0, max=50), HTML(value='')))"
      ]
     },
     "metadata": {},
     "output_type": "display_data"
    },
    {
     "name": "stdout",
     "output_type": "stream",
     "text": [
      "epoch 15: training loss 63.4813529253006 ; testing loss 1.2691813707351685\n"
     ]
    },
    {
     "data": {
      "application/vnd.jupyter.widget-view+json": {
       "model_id": "17d9244a327f474ab10bd0897bfaa0a7",
       "version_major": 2,
       "version_minor": 0
      },
      "text/plain": [
       "HBox(children=(IntProgress(value=0, max=50), HTML(value='')))"
      ]
     },
     "metadata": {},
     "output_type": "display_data"
    },
    {
     "name": "stdout",
     "output_type": "stream",
     "text": [
      "epoch 16: training loss 63.828617215156555 ; testing loss 1.2728453874588013\n"
     ]
    },
    {
     "data": {
      "application/vnd.jupyter.widget-view+json": {
       "model_id": "9d1797390a80455eb1918d419edce14b",
       "version_major": 2,
       "version_minor": 0
      },
      "text/plain": [
       "HBox(children=(IntProgress(value=0, max=50), HTML(value='')))"
      ]
     },
     "metadata": {},
     "output_type": "display_data"
    },
    {
     "name": "stdout",
     "output_type": "stream",
     "text": [
      "epoch 17: training loss 62.94859480857849 ; testing loss 1.2623648643493652\n"
     ]
    },
    {
     "data": {
      "application/vnd.jupyter.widget-view+json": {
       "model_id": "b6a88420ebde4ed492d7f78560801995",
       "version_major": 2,
       "version_minor": 0
      },
      "text/plain": [
       "HBox(children=(IntProgress(value=0, max=50), HTML(value='')))"
      ]
     },
     "metadata": {},
     "output_type": "display_data"
    },
    {
     "name": "stdout",
     "output_type": "stream",
     "text": [
      "epoch 18: training loss 61.97189426422119 ; testing loss 1.264335036277771\n",
      "The model didn't improve for 5 rounds, break it!\n",
      "model 11 start!\n"
     ]
    },
    {
     "data": {
      "application/vnd.jupyter.widget-view+json": {
       "model_id": "5fe112ab9ca848139ed331de22018b00",
       "version_major": 2,
       "version_minor": 0
      },
      "text/plain": [
       "HBox(children=(IntProgress(value=0, max=50), HTML(value='')))"
      ]
     },
     "metadata": {},
     "output_type": "display_data"
    },
    {
     "name": "stdout",
     "output_type": "stream",
     "text": [
      "epoch 1: training loss 95.74560165405273 ; testing loss 1.6533087491989136\n"
     ]
    },
    {
     "data": {
      "application/vnd.jupyter.widget-view+json": {
       "model_id": "0c03c9b89403460782d63a4462a4b709",
       "version_major": 2,
       "version_minor": 0
      },
      "text/plain": [
       "HBox(children=(IntProgress(value=0, max=50), HTML(value='')))"
      ]
     },
     "metadata": {},
     "output_type": "display_data"
    },
    {
     "name": "stdout",
     "output_type": "stream",
     "text": [
      "epoch 2: training loss 88.39405024051666 ; testing loss 1.6123379468917847\n"
     ]
    },
    {
     "data": {
      "application/vnd.jupyter.widget-view+json": {
       "model_id": "bba433021f194ca196bf2b6075004251",
       "version_major": 2,
       "version_minor": 0
      },
      "text/plain": [
       "HBox(children=(IntProgress(value=0, max=50), HTML(value='')))"
      ]
     },
     "metadata": {},
     "output_type": "display_data"
    },
    {
     "name": "stdout",
     "output_type": "stream",
     "text": [
      "epoch 3: training loss 83.26713407039642 ; testing loss 1.5415011644363403\n"
     ]
    },
    {
     "data": {
      "application/vnd.jupyter.widget-view+json": {
       "model_id": "ec2885d418bd4c418fb2860d6a2ccf00",
       "version_major": 2,
       "version_minor": 0
      },
      "text/plain": [
       "HBox(children=(IntProgress(value=0, max=50), HTML(value='')))"
      ]
     },
     "metadata": {},
     "output_type": "display_data"
    },
    {
     "name": "stdout",
     "output_type": "stream",
     "text": [
      "epoch 4: training loss 80.19800245761871 ; testing loss 1.480438232421875\n"
     ]
    },
    {
     "data": {
      "application/vnd.jupyter.widget-view+json": {
       "model_id": "f50c2200e6a84040b37a8bdc9edb6244",
       "version_major": 2,
       "version_minor": 0
      },
      "text/plain": [
       "HBox(children=(IntProgress(value=0, max=50), HTML(value='')))"
      ]
     },
     "metadata": {},
     "output_type": "display_data"
    },
    {
     "name": "stdout",
     "output_type": "stream",
     "text": [
      "epoch 5: training loss 78.10954654216766 ; testing loss 1.441927194595337\n"
     ]
    },
    {
     "data": {
      "application/vnd.jupyter.widget-view+json": {
       "model_id": "604bf0aa64634fd0861fd30724c7adcb",
       "version_major": 2,
       "version_minor": 0
      },
      "text/plain": [
       "HBox(children=(IntProgress(value=0, max=50), HTML(value='')))"
      ]
     },
     "metadata": {},
     "output_type": "display_data"
    },
    {
     "name": "stdout",
     "output_type": "stream",
     "text": [
      "epoch 6: training loss 75.00892472267151 ; testing loss 1.3891162872314453\n"
     ]
    },
    {
     "data": {
      "application/vnd.jupyter.widget-view+json": {
       "model_id": "379044c208f5488fb5b33b3c188787cd",
       "version_major": 2,
       "version_minor": 0
      },
      "text/plain": [
       "HBox(children=(IntProgress(value=0, max=50), HTML(value='')))"
      ]
     },
     "metadata": {},
     "output_type": "display_data"
    },
    {
     "name": "stdout",
     "output_type": "stream",
     "text": [
      "epoch 7: training loss 73.56363415718079 ; testing loss 1.3725402355194092\n"
     ]
    },
    {
     "data": {
      "application/vnd.jupyter.widget-view+json": {
       "model_id": "da85f816ab6f4467b23d6626f626fc55",
       "version_major": 2,
       "version_minor": 0
      },
      "text/plain": [
       "HBox(children=(IntProgress(value=0, max=50), HTML(value='')))"
      ]
     },
     "metadata": {},
     "output_type": "display_data"
    },
    {
     "name": "stdout",
     "output_type": "stream",
     "text": [
      "epoch 8: training loss 71.69108831882477 ; testing loss 1.3443714380264282\n"
     ]
    },
    {
     "data": {
      "application/vnd.jupyter.widget-view+json": {
       "model_id": "daca024ac0604249ac89e9412c038407",
       "version_major": 2,
       "version_minor": 0
      },
      "text/plain": [
       "HBox(children=(IntProgress(value=0, max=50), HTML(value='')))"
      ]
     },
     "metadata": {},
     "output_type": "display_data"
    },
    {
     "name": "stdout",
     "output_type": "stream",
     "text": [
      "epoch 9: training loss 69.27937686443329 ; testing loss 1.3257362842559814\n"
     ]
    },
    {
     "data": {
      "application/vnd.jupyter.widget-view+json": {
       "model_id": "80be082bd3274714965a739bc5c902f3",
       "version_major": 2,
       "version_minor": 0
      },
      "text/plain": [
       "HBox(children=(IntProgress(value=0, max=50), HTML(value='')))"
      ]
     },
     "metadata": {},
     "output_type": "display_data"
    },
    {
     "name": "stdout",
     "output_type": "stream",
     "text": [
      "epoch 10: training loss 68.40567696094513 ; testing loss 1.3083821535110474\n"
     ]
    },
    {
     "data": {
      "application/vnd.jupyter.widget-view+json": {
       "model_id": "e588ab9830b34000a81d1b10b2cd5d70",
       "version_major": 2,
       "version_minor": 0
      },
      "text/plain": [
       "HBox(children=(IntProgress(value=0, max=50), HTML(value='')))"
      ]
     },
     "metadata": {},
     "output_type": "display_data"
    },
    {
     "name": "stdout",
     "output_type": "stream",
     "text": [
      "epoch 11: training loss 67.74463093280792 ; testing loss 1.2886474132537842\n"
     ]
    },
    {
     "data": {
      "application/vnd.jupyter.widget-view+json": {
       "model_id": "340dfb31ce574c389b73e0c2a8396256",
       "version_major": 2,
       "version_minor": 0
      },
      "text/plain": [
       "HBox(children=(IntProgress(value=0, max=50), HTML(value='')))"
      ]
     },
     "metadata": {},
     "output_type": "display_data"
    },
    {
     "name": "stdout",
     "output_type": "stream",
     "text": [
      "epoch 12: training loss 67.39381408691406 ; testing loss 1.276597023010254\n"
     ]
    },
    {
     "data": {
      "application/vnd.jupyter.widget-view+json": {
       "model_id": "a03da287ba00463482762334d410eb57",
       "version_major": 2,
       "version_minor": 0
      },
      "text/plain": [
       "HBox(children=(IntProgress(value=0, max=50), HTML(value='')))"
      ]
     },
     "metadata": {},
     "output_type": "display_data"
    },
    {
     "name": "stdout",
     "output_type": "stream",
     "text": [
      "epoch 13: training loss 66.00602853298187 ; testing loss 1.2725024223327637\n"
     ]
    },
    {
     "data": {
      "application/vnd.jupyter.widget-view+json": {
       "model_id": "27cdfe0cf06e4c5f97701bf9de204081",
       "version_major": 2,
       "version_minor": 0
      },
      "text/plain": [
       "HBox(children=(IntProgress(value=0, max=50), HTML(value='')))"
      ]
     },
     "metadata": {},
     "output_type": "display_data"
    },
    {
     "name": "stdout",
     "output_type": "stream",
     "text": [
      "epoch 14: training loss 66.00566411018372 ; testing loss 1.2653474807739258\n"
     ]
    },
    {
     "data": {
      "application/vnd.jupyter.widget-view+json": {
       "model_id": "bed9be093d734ca2859ff102921705eb",
       "version_major": 2,
       "version_minor": 0
      },
      "text/plain": [
       "HBox(children=(IntProgress(value=0, max=50), HTML(value='')))"
      ]
     },
     "metadata": {},
     "output_type": "display_data"
    },
    {
     "name": "stdout",
     "output_type": "stream",
     "text": [
      "epoch 15: training loss 64.6228129863739 ; testing loss 1.251699447631836\n"
     ]
    },
    {
     "data": {
      "application/vnd.jupyter.widget-view+json": {
       "model_id": "180b18ecec4d4cb8aa5f62f3873f38c0",
       "version_major": 2,
       "version_minor": 0
      },
      "text/plain": [
       "HBox(children=(IntProgress(value=0, max=50), HTML(value='')))"
      ]
     },
     "metadata": {},
     "output_type": "display_data"
    },
    {
     "name": "stdout",
     "output_type": "stream",
     "text": [
      "epoch 16: training loss 63.65783953666687 ; testing loss 1.2523425817489624\n"
     ]
    },
    {
     "data": {
      "application/vnd.jupyter.widget-view+json": {
       "model_id": "b50af15f42234e89bbb4b4f4449d2770",
       "version_major": 2,
       "version_minor": 0
      },
      "text/plain": [
       "HBox(children=(IntProgress(value=0, max=50), HTML(value='')))"
      ]
     },
     "metadata": {},
     "output_type": "display_data"
    },
    {
     "name": "stdout",
     "output_type": "stream",
     "text": [
      "epoch 17: training loss 61.854092717170715 ; testing loss 1.2395933866500854\n",
      "The model didn't improve for 5 rounds, break it!\n",
      "model 12 start!\n"
     ]
    },
    {
     "data": {
      "application/vnd.jupyter.widget-view+json": {
       "model_id": "41aa62d033144fd7b37b4562357d480f",
       "version_major": 2,
       "version_minor": 0
      },
      "text/plain": [
       "HBox(children=(IntProgress(value=0, max=50), HTML(value='')))"
      ]
     },
     "metadata": {},
     "output_type": "display_data"
    },
    {
     "name": "stdout",
     "output_type": "stream",
     "text": [
      "epoch 1: training loss 96.16848731040955 ; testing loss 1.6724275350570679\n"
     ]
    },
    {
     "data": {
      "application/vnd.jupyter.widget-view+json": {
       "model_id": "128ab11ce2014b28b335be7a03935b7f",
       "version_major": 2,
       "version_minor": 0
      },
      "text/plain": [
       "HBox(children=(IntProgress(value=0, max=50), HTML(value='')))"
      ]
     },
     "metadata": {},
     "output_type": "display_data"
    },
    {
     "name": "stdout",
     "output_type": "stream",
     "text": [
      "epoch 2: training loss 87.7171266078949 ; testing loss 1.620274543762207\n"
     ]
    },
    {
     "data": {
      "application/vnd.jupyter.widget-view+json": {
       "model_id": "bfc0c26f48d34d44a4c9fe7b661fcc2b",
       "version_major": 2,
       "version_minor": 0
      },
      "text/plain": [
       "HBox(children=(IntProgress(value=0, max=50), HTML(value='')))"
      ]
     },
     "metadata": {},
     "output_type": "display_data"
    },
    {
     "name": "stdout",
     "output_type": "stream",
     "text": [
      "epoch 3: training loss 82.92059218883514 ; testing loss 1.5533134937286377\n"
     ]
    },
    {
     "data": {
      "application/vnd.jupyter.widget-view+json": {
       "model_id": "fbaef5fa241a4535b916180e6bc05262",
       "version_major": 2,
       "version_minor": 0
      },
      "text/plain": [
       "HBox(children=(IntProgress(value=0, max=50), HTML(value='')))"
      ]
     },
     "metadata": {},
     "output_type": "display_data"
    },
    {
     "name": "stdout",
     "output_type": "stream",
     "text": [
      "epoch 4: training loss 79.02402794361115 ; testing loss 1.4868063926696777\n"
     ]
    },
    {
     "data": {
      "application/vnd.jupyter.widget-view+json": {
       "model_id": "37fec5e46d42476ab35917afc408705c",
       "version_major": 2,
       "version_minor": 0
      },
      "text/plain": [
       "HBox(children=(IntProgress(value=0, max=50), HTML(value='')))"
      ]
     },
     "metadata": {},
     "output_type": "display_data"
    },
    {
     "name": "stdout",
     "output_type": "stream",
     "text": [
      "epoch 5: training loss 77.6184139251709 ; testing loss 1.440779447555542\n"
     ]
    },
    {
     "data": {
      "application/vnd.jupyter.widget-view+json": {
       "model_id": "55e29f1c519c4d349ae6f55178e87142",
       "version_major": 2,
       "version_minor": 0
      },
      "text/plain": [
       "HBox(children=(IntProgress(value=0, max=50), HTML(value='')))"
      ]
     },
     "metadata": {},
     "output_type": "display_data"
    },
    {
     "name": "stdout",
     "output_type": "stream",
     "text": [
      "epoch 6: training loss 74.6918295621872 ; testing loss 1.4084348678588867\n"
     ]
    },
    {
     "data": {
      "application/vnd.jupyter.widget-view+json": {
       "model_id": "fd7d5ed0c7fa47e6a25108f437e55f84",
       "version_major": 2,
       "version_minor": 0
      },
      "text/plain": [
       "HBox(children=(IntProgress(value=0, max=50), HTML(value='')))"
      ]
     },
     "metadata": {},
     "output_type": "display_data"
    },
    {
     "name": "stdout",
     "output_type": "stream",
     "text": [
      "epoch 7: training loss 73.53850162029266 ; testing loss 1.3781806230545044\n"
     ]
    },
    {
     "data": {
      "application/vnd.jupyter.widget-view+json": {
       "model_id": "e19c72e4c83d4ee99201c16d748ff5a0",
       "version_major": 2,
       "version_minor": 0
      },
      "text/plain": [
       "HBox(children=(IntProgress(value=0, max=50), HTML(value='')))"
      ]
     },
     "metadata": {},
     "output_type": "display_data"
    },
    {
     "name": "stdout",
     "output_type": "stream",
     "text": [
      "epoch 8: training loss 72.16314220428467 ; testing loss 1.354577898979187\n"
     ]
    },
    {
     "data": {
      "application/vnd.jupyter.widget-view+json": {
       "model_id": "f45cf68fd37546499b7655e9db7d8806",
       "version_major": 2,
       "version_minor": 0
      },
      "text/plain": [
       "HBox(children=(IntProgress(value=0, max=50), HTML(value='')))"
      ]
     },
     "metadata": {},
     "output_type": "display_data"
    },
    {
     "name": "stdout",
     "output_type": "stream",
     "text": [
      "epoch 9: training loss 68.54911625385284 ; testing loss 1.3319308757781982\n"
     ]
    },
    {
     "data": {
      "application/vnd.jupyter.widget-view+json": {
       "model_id": "4bd4b94bba6e415385e47f64a4f12b95",
       "version_major": 2,
       "version_minor": 0
      },
      "text/plain": [
       "HBox(children=(IntProgress(value=0, max=50), HTML(value='')))"
      ]
     },
     "metadata": {},
     "output_type": "display_data"
    },
    {
     "name": "stdout",
     "output_type": "stream",
     "text": [
      "epoch 10: training loss 69.05898201465607 ; testing loss 1.3203396797180176\n"
     ]
    },
    {
     "data": {
      "application/vnd.jupyter.widget-view+json": {
       "model_id": "1dbf2ae900c34c63ae7f4a52d14e8725",
       "version_major": 2,
       "version_minor": 0
      },
      "text/plain": [
       "HBox(children=(IntProgress(value=0, max=50), HTML(value='')))"
      ]
     },
     "metadata": {},
     "output_type": "display_data"
    },
    {
     "name": "stdout",
     "output_type": "stream",
     "text": [
      "epoch 11: training loss 67.31338059902191 ; testing loss 1.3064188957214355\n"
     ]
    },
    {
     "data": {
      "application/vnd.jupyter.widget-view+json": {
       "model_id": "0979b33bc1734c9192f9cbd1822a669f",
       "version_major": 2,
       "version_minor": 0
      },
      "text/plain": [
       "HBox(children=(IntProgress(value=0, max=50), HTML(value='')))"
      ]
     },
     "metadata": {},
     "output_type": "display_data"
    },
    {
     "name": "stdout",
     "output_type": "stream",
     "text": [
      "epoch 12: training loss 67.1816554069519 ; testing loss 1.2977081537246704\n"
     ]
    },
    {
     "data": {
      "application/vnd.jupyter.widget-view+json": {
       "model_id": "a180f8342a5e4c44b1dbf791833c6c29",
       "version_major": 2,
       "version_minor": 0
      },
      "text/plain": [
       "HBox(children=(IntProgress(value=0, max=50), HTML(value='')))"
      ]
     },
     "metadata": {},
     "output_type": "display_data"
    },
    {
     "name": "stdout",
     "output_type": "stream",
     "text": [
      "epoch 13: training loss 65.36078679561615 ; testing loss 1.2836952209472656\n"
     ]
    },
    {
     "data": {
      "application/vnd.jupyter.widget-view+json": {
       "model_id": "254c3e4789b3462eb01e3917748faa81",
       "version_major": 2,
       "version_minor": 0
      },
      "text/plain": [
       "HBox(children=(IntProgress(value=0, max=50), HTML(value='')))"
      ]
     },
     "metadata": {},
     "output_type": "display_data"
    },
    {
     "name": "stdout",
     "output_type": "stream",
     "text": [
      "epoch 14: training loss 65.71791100502014 ; testing loss 1.2766615152359009\n"
     ]
    },
    {
     "data": {
      "application/vnd.jupyter.widget-view+json": {
       "model_id": "37641fb875db4033b4ee1d929f7d7f36",
       "version_major": 2,
       "version_minor": 0
      },
      "text/plain": [
       "HBox(children=(IntProgress(value=0, max=50), HTML(value='')))"
      ]
     },
     "metadata": {},
     "output_type": "display_data"
    },
    {
     "name": "stdout",
     "output_type": "stream",
     "text": [
      "epoch 15: training loss 63.68178832530975 ; testing loss 1.277864694595337\n"
     ]
    },
    {
     "data": {
      "application/vnd.jupyter.widget-view+json": {
       "model_id": "721ae73891d74c6d85410e64a1457250",
       "version_major": 2,
       "version_minor": 0
      },
      "text/plain": [
       "HBox(children=(IntProgress(value=0, max=50), HTML(value='')))"
      ]
     },
     "metadata": {},
     "output_type": "display_data"
    },
    {
     "name": "stdout",
     "output_type": "stream",
     "text": [
      "epoch 16: training loss 65.8257703781128 ; testing loss 1.271767020225525\n"
     ]
    },
    {
     "data": {
      "application/vnd.jupyter.widget-view+json": {
       "model_id": "92f460bcd87e458e95ebea8ad3907ee2",
       "version_major": 2,
       "version_minor": 0
      },
      "text/plain": [
       "HBox(children=(IntProgress(value=0, max=50), HTML(value='')))"
      ]
     },
     "metadata": {},
     "output_type": "display_data"
    },
    {
     "name": "stdout",
     "output_type": "stream",
     "text": [
      "epoch 17: training loss 61.84896540641785 ; testing loss 1.2707781791687012\n"
     ]
    },
    {
     "data": {
      "application/vnd.jupyter.widget-view+json": {
       "model_id": "c8034c1e7d124335bcdcb73685226474",
       "version_major": 2,
       "version_minor": 0
      },
      "text/plain": [
       "HBox(children=(IntProgress(value=0, max=50), HTML(value='')))"
      ]
     },
     "metadata": {},
     "output_type": "display_data"
    },
    {
     "name": "stdout",
     "output_type": "stream",
     "text": [
      "epoch 18: training loss 62.167933225631714 ; testing loss 1.2643216848373413\n",
      "The model didn't improve for 5 rounds, break it!\n",
      "model 13 start!\n"
     ]
    },
    {
     "data": {
      "application/vnd.jupyter.widget-view+json": {
       "model_id": "b1ce6a1772584fb088c349e799d0383e",
       "version_major": 2,
       "version_minor": 0
      },
      "text/plain": [
       "HBox(children=(IntProgress(value=0, max=50), HTML(value='')))"
      ]
     },
     "metadata": {},
     "output_type": "display_data"
    },
    {
     "name": "stdout",
     "output_type": "stream",
     "text": [
      "epoch 1: training loss 96.56264364719391 ; testing loss 1.6724003553390503\n"
     ]
    },
    {
     "data": {
      "application/vnd.jupyter.widget-view+json": {
       "model_id": "747fbf954f89496db98773784490f80b",
       "version_major": 2,
       "version_minor": 0
      },
      "text/plain": [
       "HBox(children=(IntProgress(value=0, max=50), HTML(value='')))"
      ]
     },
     "metadata": {},
     "output_type": "display_data"
    },
    {
     "name": "stdout",
     "output_type": "stream",
     "text": [
      "epoch 2: training loss 88.80669093132019 ; testing loss 1.6270561218261719\n"
     ]
    },
    {
     "data": {
      "application/vnd.jupyter.widget-view+json": {
       "model_id": "d7c52cfb513e4dfbab0af34fdd627af5",
       "version_major": 2,
       "version_minor": 0
      },
      "text/plain": [
       "HBox(children=(IntProgress(value=0, max=50), HTML(value='')))"
      ]
     },
     "metadata": {},
     "output_type": "display_data"
    },
    {
     "name": "stdout",
     "output_type": "stream",
     "text": [
      "epoch 3: training loss 82.64371025562286 ; testing loss 1.5574764013290405\n"
     ]
    },
    {
     "data": {
      "application/vnd.jupyter.widget-view+json": {
       "model_id": "e6f92cfd7479431081011d271a4dc2f9",
       "version_major": 2,
       "version_minor": 0
      },
      "text/plain": [
       "HBox(children=(IntProgress(value=0, max=50), HTML(value='')))"
      ]
     },
     "metadata": {},
     "output_type": "display_data"
    },
    {
     "name": "stdout",
     "output_type": "stream",
     "text": [
      "epoch 4: training loss 79.91900300979614 ; testing loss 1.4907112121582031\n"
     ]
    },
    {
     "data": {
      "application/vnd.jupyter.widget-view+json": {
       "model_id": "050347c8cc124dbab734ba407972aa92",
       "version_major": 2,
       "version_minor": 0
      },
      "text/plain": [
       "HBox(children=(IntProgress(value=0, max=50), HTML(value='')))"
      ]
     },
     "metadata": {},
     "output_type": "display_data"
    },
    {
     "name": "stdout",
     "output_type": "stream",
     "text": [
      "epoch 5: training loss 77.48648059368134 ; testing loss 1.4357011318206787\n"
     ]
    },
    {
     "data": {
      "application/vnd.jupyter.widget-view+json": {
       "model_id": "0982d9ab14f34d20a0f0d78beb7681de",
       "version_major": 2,
       "version_minor": 0
      },
      "text/plain": [
       "HBox(children=(IntProgress(value=0, max=50), HTML(value='')))"
      ]
     },
     "metadata": {},
     "output_type": "display_data"
    },
    {
     "name": "stdout",
     "output_type": "stream",
     "text": [
      "epoch 6: training loss 74.90059208869934 ; testing loss 1.3981200456619263\n"
     ]
    },
    {
     "data": {
      "application/vnd.jupyter.widget-view+json": {
       "model_id": "2dbbca40da3c4cd4b19cdb3d388efefa",
       "version_major": 2,
       "version_minor": 0
      },
      "text/plain": [
       "HBox(children=(IntProgress(value=0, max=50), HTML(value='')))"
      ]
     },
     "metadata": {},
     "output_type": "display_data"
    },
    {
     "name": "stdout",
     "output_type": "stream",
     "text": [
      "epoch 7: training loss 73.67084050178528 ; testing loss 1.3672782182693481\n"
     ]
    },
    {
     "data": {
      "application/vnd.jupyter.widget-view+json": {
       "model_id": "a928194048b9408bb118f70d75f7479b",
       "version_major": 2,
       "version_minor": 0
      },
      "text/plain": [
       "HBox(children=(IntProgress(value=0, max=50), HTML(value='')))"
      ]
     },
     "metadata": {},
     "output_type": "display_data"
    },
    {
     "name": "stdout",
     "output_type": "stream",
     "text": [
      "epoch 8: training loss 69.98339831829071 ; testing loss 1.3366973400115967\n"
     ]
    },
    {
     "data": {
      "application/vnd.jupyter.widget-view+json": {
       "model_id": "4786ecede610401da22d3d7e252165cf",
       "version_major": 2,
       "version_minor": 0
      },
      "text/plain": [
       "HBox(children=(IntProgress(value=0, max=50), HTML(value='')))"
      ]
     },
     "metadata": {},
     "output_type": "display_data"
    },
    {
     "name": "stdout",
     "output_type": "stream",
     "text": [
      "epoch 9: training loss 70.71093440055847 ; testing loss 1.3281362056732178\n"
     ]
    },
    {
     "data": {
      "application/vnd.jupyter.widget-view+json": {
       "model_id": "eb9ae2bc898a44d99ba871c2c36881ea",
       "version_major": 2,
       "version_minor": 0
      },
      "text/plain": [
       "HBox(children=(IntProgress(value=0, max=50), HTML(value='')))"
      ]
     },
     "metadata": {},
     "output_type": "display_data"
    },
    {
     "name": "stdout",
     "output_type": "stream",
     "text": [
      "epoch 10: training loss 68.32626330852509 ; testing loss 1.3070573806762695\n"
     ]
    },
    {
     "data": {
      "application/vnd.jupyter.widget-view+json": {
       "model_id": "4559723bb30942e28ca42a97f95e4c12",
       "version_major": 2,
       "version_minor": 0
      },
      "text/plain": [
       "HBox(children=(IntProgress(value=0, max=50), HTML(value='')))"
      ]
     },
     "metadata": {},
     "output_type": "display_data"
    },
    {
     "name": "stdout",
     "output_type": "stream",
     "text": [
      "epoch 11: training loss 66.86305344104767 ; testing loss 1.2942665815353394\n"
     ]
    },
    {
     "data": {
      "application/vnd.jupyter.widget-view+json": {
       "model_id": "a1e61e4ee49e458cac39989fdeb2b619",
       "version_major": 2,
       "version_minor": 0
      },
      "text/plain": [
       "HBox(children=(IntProgress(value=0, max=50), HTML(value='')))"
      ]
     },
     "metadata": {},
     "output_type": "display_data"
    },
    {
     "name": "stdout",
     "output_type": "stream",
     "text": [
      "epoch 12: training loss 66.5180172920227 ; testing loss 1.285421371459961\n"
     ]
    },
    {
     "data": {
      "application/vnd.jupyter.widget-view+json": {
       "model_id": "5138af27d3614602938e748adf5555cf",
       "version_major": 2,
       "version_minor": 0
      },
      "text/plain": [
       "HBox(children=(IntProgress(value=0, max=50), HTML(value='')))"
      ]
     },
     "metadata": {},
     "output_type": "display_data"
    },
    {
     "name": "stdout",
     "output_type": "stream",
     "text": [
      "epoch 13: training loss 64.7556666135788 ; testing loss 1.2740814685821533\n"
     ]
    },
    {
     "data": {
      "application/vnd.jupyter.widget-view+json": {
       "model_id": "d00e82c2750448df9c92ee4e2b5c5190",
       "version_major": 2,
       "version_minor": 0
      },
      "text/plain": [
       "HBox(children=(IntProgress(value=0, max=50), HTML(value='')))"
      ]
     },
     "metadata": {},
     "output_type": "display_data"
    },
    {
     "name": "stdout",
     "output_type": "stream",
     "text": [
      "epoch 14: training loss 65.58061015605927 ; testing loss 1.2728655338287354\n"
     ]
    },
    {
     "data": {
      "application/vnd.jupyter.widget-view+json": {
       "model_id": "ed5077594d00401186b6422d371f8483",
       "version_major": 2,
       "version_minor": 0
      },
      "text/plain": [
       "HBox(children=(IntProgress(value=0, max=50), HTML(value='')))"
      ]
     },
     "metadata": {},
     "output_type": "display_data"
    },
    {
     "name": "stdout",
     "output_type": "stream",
     "text": [
      "epoch 15: training loss 64.91865360736847 ; testing loss 1.2659227848052979\n"
     ]
    },
    {
     "data": {
      "application/vnd.jupyter.widget-view+json": {
       "model_id": "0553125a17b947c68a96d0a0dc5e6ceb",
       "version_major": 2,
       "version_minor": 0
      },
      "text/plain": [
       "HBox(children=(IntProgress(value=0, max=50), HTML(value='')))"
      ]
     },
     "metadata": {},
     "output_type": "display_data"
    },
    {
     "name": "stdout",
     "output_type": "stream",
     "text": [
      "epoch 16: training loss 63.091086864471436 ; testing loss 1.2611474990844727\n"
     ]
    },
    {
     "data": {
      "application/vnd.jupyter.widget-view+json": {
       "model_id": "68e280357a914179b2f7c3ac32ea8794",
       "version_major": 2,
       "version_minor": 0
      },
      "text/plain": [
       "HBox(children=(IntProgress(value=0, max=50), HTML(value='')))"
      ]
     },
     "metadata": {},
     "output_type": "display_data"
    },
    {
     "name": "stdout",
     "output_type": "stream",
     "text": [
      "epoch 17: training loss 62.94886827468872 ; testing loss 1.257465124130249\n"
     ]
    },
    {
     "data": {
      "application/vnd.jupyter.widget-view+json": {
       "model_id": "5c4fe868afad4bdf91405d59ee78240c",
       "version_major": 2,
       "version_minor": 0
      },
      "text/plain": [
       "HBox(children=(IntProgress(value=0, max=50), HTML(value='')))"
      ]
     },
     "metadata": {},
     "output_type": "display_data"
    },
    {
     "name": "stdout",
     "output_type": "stream",
     "text": [
      "epoch 18: training loss 63.14775788784027 ; testing loss 1.2538213729858398\n"
     ]
    },
    {
     "data": {
      "application/vnd.jupyter.widget-view+json": {
       "model_id": "defe21a5067c4db9abfa43c727aa67c4",
       "version_major": 2,
       "version_minor": 0
      },
      "text/plain": [
       "HBox(children=(IntProgress(value=0, max=50), HTML(value='')))"
      ]
     },
     "metadata": {},
     "output_type": "display_data"
    },
    {
     "name": "stdout",
     "output_type": "stream",
     "text": [
      "epoch 19: training loss 61.26200097799301 ; testing loss 1.2513116598129272\n"
     ]
    },
    {
     "data": {
      "application/vnd.jupyter.widget-view+json": {
       "model_id": "e58168c85fb64a4bbaf2547ee458edce",
       "version_major": 2,
       "version_minor": 0
      },
      "text/plain": [
       "HBox(children=(IntProgress(value=0, max=50), HTML(value='')))"
      ]
     },
     "metadata": {},
     "output_type": "display_data"
    },
    {
     "name": "stdout",
     "output_type": "stream",
     "text": [
      "epoch 20: training loss 60.026469588279724 ; testing loss 1.2502777576446533\n"
     ]
    },
    {
     "data": {
      "application/vnd.jupyter.widget-view+json": {
       "model_id": "19ab8e336b954ca4b8242dc966203f40",
       "version_major": 2,
       "version_minor": 0
      },
      "text/plain": [
       "HBox(children=(IntProgress(value=0, max=50), HTML(value='')))"
      ]
     },
     "metadata": {},
     "output_type": "display_data"
    },
    {
     "name": "stdout",
     "output_type": "stream",
     "text": [
      "epoch 21: training loss 62.500977516174316 ; testing loss 1.2430851459503174\n"
     ]
    },
    {
     "data": {
      "application/vnd.jupyter.widget-view+json": {
       "model_id": "c0cee1a4db144cea8ec2dc37f73355a5",
       "version_major": 2,
       "version_minor": 0
      },
      "text/plain": [
       "HBox(children=(IntProgress(value=0, max=50), HTML(value='')))"
      ]
     },
     "metadata": {},
     "output_type": "display_data"
    },
    {
     "name": "stdout",
     "output_type": "stream",
     "text": [
      "epoch 22: training loss 59.92766225337982 ; testing loss 1.242705225944519\n"
     ]
    },
    {
     "data": {
      "application/vnd.jupyter.widget-view+json": {
       "model_id": "cc994c0cbc9341a795eb98a5561fe887",
       "version_major": 2,
       "version_minor": 0
      },
      "text/plain": [
       "HBox(children=(IntProgress(value=0, max=50), HTML(value='')))"
      ]
     },
     "metadata": {},
     "output_type": "display_data"
    },
    {
     "name": "stdout",
     "output_type": "stream",
     "text": [
      "epoch 23: training loss 60.83562183380127 ; testing loss 1.2414202690124512\n"
     ]
    },
    {
     "data": {
      "application/vnd.jupyter.widget-view+json": {
       "model_id": "27dc1758672040b3bc6387b544aa9cf1",
       "version_major": 2,
       "version_minor": 0
      },
      "text/plain": [
       "HBox(children=(IntProgress(value=0, max=50), HTML(value='')))"
      ]
     },
     "metadata": {},
     "output_type": "display_data"
    },
    {
     "name": "stdout",
     "output_type": "stream",
     "text": [
      "epoch 24: training loss 60.74346351623535 ; testing loss 1.2409627437591553\n"
     ]
    },
    {
     "data": {
      "application/vnd.jupyter.widget-view+json": {
       "model_id": "82be475c987c4c94bb3cc802507353a3",
       "version_major": 2,
       "version_minor": 0
      },
      "text/plain": [
       "HBox(children=(IntProgress(value=0, max=50), HTML(value='')))"
      ]
     },
     "metadata": {},
     "output_type": "display_data"
    },
    {
     "name": "stdout",
     "output_type": "stream",
     "text": [
      "epoch 25: training loss 59.17217582464218 ; testing loss 1.2352796792984009\n"
     ]
    },
    {
     "data": {
      "application/vnd.jupyter.widget-view+json": {
       "model_id": "fa19eb1abaec4513919469c7262775c5",
       "version_major": 2,
       "version_minor": 0
      },
      "text/plain": [
       "HBox(children=(IntProgress(value=0, max=50), HTML(value='')))"
      ]
     },
     "metadata": {},
     "output_type": "display_data"
    },
    {
     "name": "stdout",
     "output_type": "stream",
     "text": [
      "epoch 26: training loss 60.8819345831871 ; testing loss 1.2390797138214111\n"
     ]
    },
    {
     "data": {
      "application/vnd.jupyter.widget-view+json": {
       "model_id": "e43596f429d34f1d89d832b9131bbea7",
       "version_major": 2,
       "version_minor": 0
      },
      "text/plain": [
       "HBox(children=(IntProgress(value=0, max=50), HTML(value='')))"
      ]
     },
     "metadata": {},
     "output_type": "display_data"
    },
    {
     "name": "stdout",
     "output_type": "stream",
     "text": [
      "epoch 27: training loss 59.69990426301956 ; testing loss 1.2393063306808472\n"
     ]
    },
    {
     "data": {
      "application/vnd.jupyter.widget-view+json": {
       "model_id": "b047ae8e1600431fa26222b61a47ee11",
       "version_major": 2,
       "version_minor": 0
      },
      "text/plain": [
       "HBox(children=(IntProgress(value=0, max=50), HTML(value='')))"
      ]
     },
     "metadata": {},
     "output_type": "display_data"
    },
    {
     "name": "stdout",
     "output_type": "stream",
     "text": [
      "epoch 28: training loss 58.33516651391983 ; testing loss 1.2354027032852173\n"
     ]
    },
    {
     "data": {
      "application/vnd.jupyter.widget-view+json": {
       "model_id": "250b6261a52e4082bf3d92ac07aa43c6",
       "version_major": 2,
       "version_minor": 0
      },
      "text/plain": [
       "HBox(children=(IntProgress(value=0, max=50), HTML(value='')))"
      ]
     },
     "metadata": {},
     "output_type": "display_data"
    },
    {
     "name": "stdout",
     "output_type": "stream",
     "text": [
      "epoch 29: training loss 58.05207395553589 ; testing loss 1.2355189323425293\n"
     ]
    },
    {
     "data": {
      "application/vnd.jupyter.widget-view+json": {
       "model_id": "4ef17c51b1904a2dba31dba6759c92b2",
       "version_major": 2,
       "version_minor": 0
      },
      "text/plain": [
       "HBox(children=(IntProgress(value=0, max=50), HTML(value='')))"
      ]
     },
     "metadata": {},
     "output_type": "display_data"
    },
    {
     "name": "stdout",
     "output_type": "stream",
     "text": [
      "epoch 30: training loss 59.76868736743927 ; testing loss 1.2346611022949219\n"
     ]
    },
    {
     "data": {
      "application/vnd.jupyter.widget-view+json": {
       "model_id": "e2585db2f2ff4b45a7dcb5dc0f6e2aea",
       "version_major": 2,
       "version_minor": 0
      },
      "text/plain": [
       "HBox(children=(IntProgress(value=0, max=50), HTML(value='')))"
      ]
     },
     "metadata": {},
     "output_type": "display_data"
    },
    {
     "name": "stdout",
     "output_type": "stream",
     "text": [
      "epoch 31: training loss 56.939261972904205 ; testing loss 1.2340703010559082\n"
     ]
    },
    {
     "data": {
      "application/vnd.jupyter.widget-view+json": {
       "model_id": "fbb51451bd6542528edfe862794cd99c",
       "version_major": 2,
       "version_minor": 0
      },
      "text/plain": [
       "HBox(children=(IntProgress(value=0, max=50), HTML(value='')))"
      ]
     },
     "metadata": {},
     "output_type": "display_data"
    },
    {
     "name": "stdout",
     "output_type": "stream",
     "text": [
      "epoch 32: training loss 58.00282049179077 ; testing loss 1.2345153093338013\n"
     ]
    },
    {
     "data": {
      "application/vnd.jupyter.widget-view+json": {
       "model_id": "ef655146f6f5465e86fff90245a02e27",
       "version_major": 2,
       "version_minor": 0
      },
      "text/plain": [
       "HBox(children=(IntProgress(value=0, max=50), HTML(value='')))"
      ]
     },
     "metadata": {},
     "output_type": "display_data"
    },
    {
     "name": "stdout",
     "output_type": "stream",
     "text": [
      "epoch 33: training loss 56.86444944143295 ; testing loss 1.2327615022659302\n"
     ]
    },
    {
     "data": {
      "application/vnd.jupyter.widget-view+json": {
       "model_id": "d961abe868d0401c972d22f4beba71cf",
       "version_major": 2,
       "version_minor": 0
      },
      "text/plain": [
       "HBox(children=(IntProgress(value=0, max=50), HTML(value='')))"
      ]
     },
     "metadata": {},
     "output_type": "display_data"
    },
    {
     "name": "stdout",
     "output_type": "stream",
     "text": [
      "epoch 34: training loss 57.48172950744629 ; testing loss 1.2396090030670166\n"
     ]
    },
    {
     "data": {
      "application/vnd.jupyter.widget-view+json": {
       "model_id": "0fc7a5ff322440a5977baf3fe1eba8e0",
       "version_major": 2,
       "version_minor": 0
      },
      "text/plain": [
       "HBox(children=(IntProgress(value=0, max=50), HTML(value='')))"
      ]
     },
     "metadata": {},
     "output_type": "display_data"
    },
    {
     "name": "stdout",
     "output_type": "stream",
     "text": [
      "epoch 35: training loss 57.69487810134888 ; testing loss 1.233964204788208\n",
      "The model didn't improve for 5 rounds, break it!\n",
      "model 14 start!\n"
     ]
    },
    {
     "data": {
      "application/vnd.jupyter.widget-view+json": {
       "model_id": "8139aeacea654e138fb8c2da011f83ad",
       "version_major": 2,
       "version_minor": 0
      },
      "text/plain": [
       "HBox(children=(IntProgress(value=0, max=50), HTML(value='')))"
      ]
     },
     "metadata": {},
     "output_type": "display_data"
    },
    {
     "name": "stdout",
     "output_type": "stream",
     "text": [
      "epoch 1: training loss 93.75066530704498 ; testing loss 1.6527304649353027\n"
     ]
    },
    {
     "data": {
      "application/vnd.jupyter.widget-view+json": {
       "model_id": "35e283a63fa4409cbfc6a83f299446e7",
       "version_major": 2,
       "version_minor": 0
      },
      "text/plain": [
       "HBox(children=(IntProgress(value=0, max=50), HTML(value='')))"
      ]
     },
     "metadata": {},
     "output_type": "display_data"
    },
    {
     "name": "stdout",
     "output_type": "stream",
     "text": [
      "epoch 2: training loss 88.06816160678864 ; testing loss 1.5917742252349854\n"
     ]
    },
    {
     "data": {
      "application/vnd.jupyter.widget-view+json": {
       "model_id": "63c8545fe1674bb19491c9e6244e5b93",
       "version_major": 2,
       "version_minor": 0
      },
      "text/plain": [
       "HBox(children=(IntProgress(value=0, max=50), HTML(value='')))"
      ]
     },
     "metadata": {},
     "output_type": "display_data"
    },
    {
     "name": "stdout",
     "output_type": "stream",
     "text": [
      "epoch 3: training loss 82.91926753520966 ; testing loss 1.5178165435791016\n"
     ]
    },
    {
     "data": {
      "application/vnd.jupyter.widget-view+json": {
       "model_id": "7573b5d237324c8a8082ff2b854dad12",
       "version_major": 2,
       "version_minor": 0
      },
      "text/plain": [
       "HBox(children=(IntProgress(value=0, max=50), HTML(value='')))"
      ]
     },
     "metadata": {},
     "output_type": "display_data"
    },
    {
     "name": "stdout",
     "output_type": "stream",
     "text": [
      "epoch 4: training loss 79.48553514480591 ; testing loss 1.4575306177139282\n"
     ]
    },
    {
     "data": {
      "application/vnd.jupyter.widget-view+json": {
       "model_id": "68e8e8cffbe94de081e6000a507f08dd",
       "version_major": 2,
       "version_minor": 0
      },
      "text/plain": [
       "HBox(children=(IntProgress(value=0, max=50), HTML(value='')))"
      ]
     },
     "metadata": {},
     "output_type": "display_data"
    },
    {
     "name": "stdout",
     "output_type": "stream",
     "text": [
      "epoch 5: training loss 77.65297329425812 ; testing loss 1.4225274324417114\n"
     ]
    },
    {
     "data": {
      "application/vnd.jupyter.widget-view+json": {
       "model_id": "0248664b7c7141ada171019cfa1e1dbb",
       "version_major": 2,
       "version_minor": 0
      },
      "text/plain": [
       "HBox(children=(IntProgress(value=0, max=50), HTML(value='')))"
      ]
     },
     "metadata": {},
     "output_type": "display_data"
    },
    {
     "name": "stdout",
     "output_type": "stream",
     "text": [
      "epoch 6: training loss 75.26645636558533 ; testing loss 1.384943962097168\n"
     ]
    },
    {
     "data": {
      "application/vnd.jupyter.widget-view+json": {
       "model_id": "b7a0da62a77346e586e6476d4db479f7",
       "version_major": 2,
       "version_minor": 0
      },
      "text/plain": [
       "HBox(children=(IntProgress(value=0, max=50), HTML(value='')))"
      ]
     },
     "metadata": {},
     "output_type": "display_data"
    },
    {
     "name": "stdout",
     "output_type": "stream",
     "text": [
      "epoch 7: training loss 72.87742114067078 ; testing loss 1.3557757139205933\n"
     ]
    },
    {
     "data": {
      "application/vnd.jupyter.widget-view+json": {
       "model_id": "181db9340ae346baa2d57b4d6502d718",
       "version_major": 2,
       "version_minor": 0
      },
      "text/plain": [
       "HBox(children=(IntProgress(value=0, max=50), HTML(value='')))"
      ]
     },
     "metadata": {},
     "output_type": "display_data"
    },
    {
     "name": "stdout",
     "output_type": "stream",
     "text": [
      "epoch 8: training loss 71.41661214828491 ; testing loss 1.3374695777893066\n"
     ]
    },
    {
     "data": {
      "application/vnd.jupyter.widget-view+json": {
       "model_id": "c7dc1275b05f41f9aefc6225cc1c9a1a",
       "version_major": 2,
       "version_minor": 0
      },
      "text/plain": [
       "HBox(children=(IntProgress(value=0, max=50), HTML(value='')))"
      ]
     },
     "metadata": {},
     "output_type": "display_data"
    },
    {
     "name": "stdout",
     "output_type": "stream",
     "text": [
      "epoch 9: training loss 70.17873215675354 ; testing loss 1.3129312992095947\n"
     ]
    },
    {
     "data": {
      "application/vnd.jupyter.widget-view+json": {
       "model_id": "adf78e94de5a41bfacaa4a248df47d9d",
       "version_major": 2,
       "version_minor": 0
      },
      "text/plain": [
       "HBox(children=(IntProgress(value=0, max=50), HTML(value='')))"
      ]
     },
     "metadata": {},
     "output_type": "display_data"
    },
    {
     "name": "stdout",
     "output_type": "stream",
     "text": [
      "epoch 10: training loss 68.73673582077026 ; testing loss 1.3022018671035767\n"
     ]
    },
    {
     "data": {
      "application/vnd.jupyter.widget-view+json": {
       "model_id": "7f4d45bc43ed405eb15d6460b5a11bfa",
       "version_major": 2,
       "version_minor": 0
      },
      "text/plain": [
       "HBox(children=(IntProgress(value=0, max=50), HTML(value='')))"
      ]
     },
     "metadata": {},
     "output_type": "display_data"
    },
    {
     "name": "stdout",
     "output_type": "stream",
     "text": [
      "epoch 11: training loss 67.92912876605988 ; testing loss 1.2880103588104248\n"
     ]
    },
    {
     "data": {
      "application/vnd.jupyter.widget-view+json": {
       "model_id": "bce694da8ea745d59b65dae92ab9161c",
       "version_major": 2,
       "version_minor": 0
      },
      "text/plain": [
       "HBox(children=(IntProgress(value=0, max=50), HTML(value='')))"
      ]
     },
     "metadata": {},
     "output_type": "display_data"
    },
    {
     "name": "stdout",
     "output_type": "stream",
     "text": [
      "epoch 12: training loss 65.76740789413452 ; testing loss 1.2793419361114502\n"
     ]
    },
    {
     "data": {
      "application/vnd.jupyter.widget-view+json": {
       "model_id": "86e374835c43406f9bbb2b2b76f359f0",
       "version_major": 2,
       "version_minor": 0
      },
      "text/plain": [
       "HBox(children=(IntProgress(value=0, max=50), HTML(value='')))"
      ]
     },
     "metadata": {},
     "output_type": "display_data"
    },
    {
     "name": "stdout",
     "output_type": "stream",
     "text": [
      "epoch 13: training loss 65.1257735490799 ; testing loss 1.2748520374298096\n"
     ]
    },
    {
     "data": {
      "application/vnd.jupyter.widget-view+json": {
       "model_id": "4ea80dbb8bcc4cc4b97adeff4815b6b8",
       "version_major": 2,
       "version_minor": 0
      },
      "text/plain": [
       "HBox(children=(IntProgress(value=0, max=50), HTML(value='')))"
      ]
     },
     "metadata": {},
     "output_type": "display_data"
    },
    {
     "name": "stdout",
     "output_type": "stream",
     "text": [
      "epoch 14: training loss 66.29192543029785 ; testing loss 1.2617202997207642\n"
     ]
    },
    {
     "data": {
      "application/vnd.jupyter.widget-view+json": {
       "model_id": "c7b4e5d9097c4595ac02f0092843125c",
       "version_major": 2,
       "version_minor": 0
      },
      "text/plain": [
       "HBox(children=(IntProgress(value=0, max=50), HTML(value='')))"
      ]
     },
     "metadata": {},
     "output_type": "display_data"
    },
    {
     "name": "stdout",
     "output_type": "stream",
     "text": [
      "epoch 15: training loss 64.57315421104431 ; testing loss 1.2547684907913208\n"
     ]
    },
    {
     "data": {
      "application/vnd.jupyter.widget-view+json": {
       "model_id": "a6ecc86892a241b89c3f12a1129b9f0f",
       "version_major": 2,
       "version_minor": 0
      },
      "text/plain": [
       "HBox(children=(IntProgress(value=0, max=50), HTML(value='')))"
      ]
     },
     "metadata": {},
     "output_type": "display_data"
    },
    {
     "name": "stdout",
     "output_type": "stream",
     "text": [
      "epoch 16: training loss 63.125444531440735 ; testing loss 1.2471202611923218\n"
     ]
    },
    {
     "data": {
      "application/vnd.jupyter.widget-view+json": {
       "model_id": "c913167747c44b00bd463d8be2bf2086",
       "version_major": 2,
       "version_minor": 0
      },
      "text/plain": [
       "HBox(children=(IntProgress(value=0, max=50), HTML(value='')))"
      ]
     },
     "metadata": {},
     "output_type": "display_data"
    },
    {
     "name": "stdout",
     "output_type": "stream",
     "text": [
      "epoch 17: training loss 63.32472312450409 ; testing loss 1.250818133354187\n"
     ]
    },
    {
     "data": {
      "application/vnd.jupyter.widget-view+json": {
       "model_id": "d3bbb7901dde4e4287c8e8cbb44da581",
       "version_major": 2,
       "version_minor": 0
      },
      "text/plain": [
       "HBox(children=(IntProgress(value=0, max=50), HTML(value='')))"
      ]
     },
     "metadata": {},
     "output_type": "display_data"
    },
    {
     "name": "stdout",
     "output_type": "stream",
     "text": [
      "epoch 18: training loss 62.09162437915802 ; testing loss 1.2434200048446655\n"
     ]
    },
    {
     "data": {
      "application/vnd.jupyter.widget-view+json": {
       "model_id": "0226ed17d72b4e4c891f19775188684a",
       "version_major": 2,
       "version_minor": 0
      },
      "text/plain": [
       "HBox(children=(IntProgress(value=0, max=50), HTML(value='')))"
      ]
     },
     "metadata": {},
     "output_type": "display_data"
    },
    {
     "name": "stdout",
     "output_type": "stream",
     "text": [
      "epoch 19: training loss 62.11681079864502 ; testing loss 1.2437455654144287\n"
     ]
    },
    {
     "data": {
      "application/vnd.jupyter.widget-view+json": {
       "model_id": "eb2a5034f5704d04a01e3bb63a356c71",
       "version_major": 2,
       "version_minor": 0
      },
      "text/plain": [
       "HBox(children=(IntProgress(value=0, max=50), HTML(value='')))"
      ]
     },
     "metadata": {},
     "output_type": "display_data"
    },
    {
     "name": "stdout",
     "output_type": "stream",
     "text": [
      "epoch 20: training loss 61.901476979255676 ; testing loss 1.2397960424423218\n"
     ]
    },
    {
     "data": {
      "application/vnd.jupyter.widget-view+json": {
       "model_id": "5c50efa5df204421b090ef8abdf5289d",
       "version_major": 2,
       "version_minor": 0
      },
      "text/plain": [
       "HBox(children=(IntProgress(value=0, max=50), HTML(value='')))"
      ]
     },
     "metadata": {},
     "output_type": "display_data"
    },
    {
     "name": "stdout",
     "output_type": "stream",
     "text": [
      "epoch 21: training loss 61.366005063056946 ; testing loss 1.2359858751296997\n"
     ]
    },
    {
     "data": {
      "application/vnd.jupyter.widget-view+json": {
       "model_id": "365b6ffc430f4358909deeb1c6387e16",
       "version_major": 2,
       "version_minor": 0
      },
      "text/plain": [
       "HBox(children=(IntProgress(value=0, max=50), HTML(value='')))"
      ]
     },
     "metadata": {},
     "output_type": "display_data"
    },
    {
     "name": "stdout",
     "output_type": "stream",
     "text": [
      "epoch 22: training loss 61.20040500164032 ; testing loss 1.2369495630264282\n"
     ]
    },
    {
     "data": {
      "application/vnd.jupyter.widget-view+json": {
       "model_id": "cc4e81b29f21473fa9bc1938e7913f2c",
       "version_major": 2,
       "version_minor": 0
      },
      "text/plain": [
       "HBox(children=(IntProgress(value=0, max=50), HTML(value='')))"
      ]
     },
     "metadata": {},
     "output_type": "display_data"
    },
    {
     "name": "stdout",
     "output_type": "stream",
     "text": [
      "epoch 23: training loss 60.47197765111923 ; testing loss 1.2345359325408936\n"
     ]
    },
    {
     "data": {
      "application/vnd.jupyter.widget-view+json": {
       "model_id": "05463463b4bf44039364504c8b145073",
       "version_major": 2,
       "version_minor": 0
      },
      "text/plain": [
       "HBox(children=(IntProgress(value=0, max=50), HTML(value='')))"
      ]
     },
     "metadata": {},
     "output_type": "display_data"
    },
    {
     "name": "stdout",
     "output_type": "stream",
     "text": [
      "epoch 24: training loss 61.69474005699158 ; testing loss 1.2335463762283325\n"
     ]
    },
    {
     "data": {
      "application/vnd.jupyter.widget-view+json": {
       "model_id": "e9ca59e671d14e3dbff30d1a5fe43ee4",
       "version_major": 2,
       "version_minor": 0
      },
      "text/plain": [
       "HBox(children=(IntProgress(value=0, max=50), HTML(value='')))"
      ]
     },
     "metadata": {},
     "output_type": "display_data"
    },
    {
     "name": "stdout",
     "output_type": "stream",
     "text": [
      "epoch 25: training loss 59.43058717250824 ; testing loss 1.2346282005310059\n",
      "The model didn't improve for 5 rounds, break it!\n"
     ]
    }
   ],
   "source": [
    "print('start modelling!')\n",
    "predict_list=[]\n",
    "\n",
    "for i in range(n_estimaor):\n",
    "    ind_temp = shuffle(range(len(train_data)))\n",
    "    temp_x = np.take(train_data,ind_temp,axis=0)\n",
    "    temp_y = np.take(y_train_nosplit,ind_temp,axis=0)\n",
    "    \n",
    "    X_tr,X_te,y_tr,y_te = train_test_split(temp_x,temp_y,test_size=0.3,random_state=False,stratify=y_train_nosplit)\n",
    "    \n",
    "    sess = tf.Session()\n",
    "    sess.run(tf.global_variables_initializer())\n",
    "\n",
    "\n",
    "    patience = 5\n",
    "    n_patience = 0\n",
    "    current_loss=1000000\n",
    "\n",
    "    tr_loss = list()\n",
    "    te_loss = list()\n",
    "    tr_acc = list()\n",
    "    te_acc = list()\n",
    "    \n",
    "\n",
    "    \n",
    "    \n",
    "    train_gen = train_batch_generator(X_tr, y_tr, bs, train_data.shape[1])\n",
    "\n",
    "    print('model {} start!'.format(i))\n",
    "\n",
    "    for epoch in range(epochs):\n",
    "        training_loss = 0\n",
    "        training_acc = 0\n",
    "        bar = tqdm_notebook(range(update_per_epoch))\n",
    "        for j in bar:\n",
    "            x_batch, y_batch = next(train_gen)\n",
    "\n",
    "            tr_pred, training_loss_batch, _ = sess.run([y_pred, loss, update], feed_dict={\n",
    "                input_data:x_batch,\n",
    "                y_true:y_batch,\n",
    "                drp_rate: drop_rate,\n",
    "                is_train: True\n",
    "            })\n",
    "\n",
    "            training_loss += training_loss_batch\n",
    "\n",
    "            training_acc_batch = accuracy_score(np.argmax(y_batch, axis=1), np.argmax(tr_pred, axis=1))\n",
    "            training_acc += training_acc_batch\n",
    "\n",
    "            training_acc = accuracy_score(np.argmax(y_batch, axis=1), np.argmax(tr_pred, axis=1))\n",
    "\n",
    "\n",
    "            te_pred, testing_loss = sess.run([y_pred, loss], feed_dict={\n",
    "                input_data:X_te,\n",
    "                y_true:y_te,\n",
    "                drp_rate: 0,\n",
    "                is_train: False\n",
    "            })\n",
    "\n",
    "\n",
    "\n",
    "            testing_acc = accuracy_score(np.argmax(y_te, axis=1), np.argmax(te_pred, axis=1))\n",
    "            tr_loss.append(training_loss)\n",
    "            te_loss.append(testing_loss)\n",
    "            tr_acc.append(training_acc)\n",
    "            te_acc.append(testing_acc)\n",
    "\n",
    "        print('epoch {epochs}: training loss {training_loss} ; testing loss {testing_loss}'.format(\n",
    "                epochs=(epoch+1), \n",
    "                training_loss=training_loss,\n",
    "                testing_loss=testing_loss))\n",
    "    \n",
    "        if testing_loss > np.min(te_loss):\n",
    "            n_patience += 1\n",
    "        else:\n",
    "            n_patience = 0\n",
    "\n",
    "        if n_patience >= patience:\n",
    "            print(\"The model didn't improve for %i rounds, break it!\" % patience)\n",
    "            break\n",
    "    te_pred = sess.run(y_pred, feed_dict={\n",
    "        input_data:test_data,\n",
    "        drp_rate: 0,\n",
    "        is_train: False\n",
    "    })\n",
    "    predict_list.append(te_pred)\n",
    "        # save best model\n",
    "#         if testing_loss <= np.min(te_loss):\n",
    "#             saver = tf.train.Saver()\n",
    "#             saver.save(sess, \"./models/best_model.ckpt\")\n",
    "\n",
    "\n",
    "\n"
   ]
  },
  {
   "cell_type": "markdown",
   "metadata": {},
   "source": [
    "# 投票囉"
   ]
  },
  {
   "cell_type": "code",
   "execution_count": 174,
   "metadata": {},
   "outputs": [],
   "source": [
    "from collections import Counter"
   ]
  },
  {
   "cell_type": "code",
   "execution_count": 71,
   "metadata": {},
   "outputs": [
    {
     "data": {
      "text/plain": [
       "3"
      ]
     },
     "execution_count": 71,
     "metadata": {},
     "output_type": "execute_result"
    }
   ],
   "source": [
    "Counter([1,2,3,4,1,1,4]).most_common(1)[0][1]"
   ]
  },
  {
   "cell_type": "code",
   "execution_count": 61,
   "metadata": {},
   "outputs": [
    {
     "data": {
      "text/plain": [
       "2681"
      ]
     },
     "execution_count": 61,
     "metadata": {},
     "output_type": "execute_result"
    }
   ],
   "source": [
    "predict_list[1].shape[0]"
   ]
  },
  {
   "cell_type": "code",
   "execution_count": 59,
   "metadata": {},
   "outputs": [
    {
     "data": {
      "text/plain": [
       "4"
      ]
     },
     "execution_count": 59,
     "metadata": {},
     "output_type": "execute_result"
    }
   ],
   "source": [
    "np.argmax(predict_list[1][3]) "
   ]
  },
  {
   "cell_type": "code",
   "execution_count": 196,
   "metadata": {},
   "outputs": [
    {
     "name": "stdout",
     "output_type": "stream",
     "text": [
      "[4, 0, 4, 0, 4, 0, 4, 4, 0, 0, 4, 4, 0, 4, 0]\n",
      "[4, 4, 4, 4, 4, 0, 4, 4, 4, 4, 4, 4, 4, 4, 4]\n",
      "[5, 5, 1, 1, 1, 1, 1, 1, 1, 1, 1, 3, 3, 1, 3]\n",
      "[4, 4, 4, 4, 4, 4, 4, 4, 4, 4, 4, 4, 4, 4, 4]\n",
      "[1, 1, 1, 1, 1, 3, 1, 1, 1, 1, 3, 1, 1, 1, 1]\n",
      "[1, 1, 1, 1, 1, 1, 1, 1, 1, 1, 1, 1, 1, 1, 1]\n",
      "[3, 3, 1, 1, 1, 3, 1, 1, 1, 1, 3, 3, 1, 3, 1]\n",
      "[3, 3, 3, 3, 3, 3, 3, 3, 3, 3, 3, 3, 3, 3, 3]\n",
      "[3, 3, 3, 3, 3, 3, 3, 3, 3, 3, 3, 3, 3, 3, 3]\n",
      "[5, 5, 5, 5, 5, 5, 5, 5, 5, 5, 5, 5, 5, 5, 5]\n",
      "[0, 4, 3, 4, 0, 0, 0, 0, 4, 3, 4, 4, 3, 3, 4]\n",
      "[2, 2, 2, 2, 2, 2, 2, 2, 2, 2, 2, 2, 2, 2, 2]\n",
      "[3, 3, 3, 3, 3, 3, 3, 3, 3, 3, 3, 3, 3, 3, 3]\n",
      "[0, 0, 0, 0, 0, 0, 0, 0, 0, 0, 0, 0, 0, 0, 4]\n",
      "[5, 5, 5, 5, 5, 5, 5, 5, 5, 5, 5, 5, 5, 5, 5]\n",
      "[5, 5, 5, 5, 5, 5, 5, 5, 5, 5, 5, 5, 5, 5, 5]\n",
      "[0, 0, 0, 0, 0, 0, 0, 0, 0, 0, 0, 0, 0, 0, 0]\n",
      "[4, 4, 4, 4, 4, 2, 4, 4, 4, 4, 4, 4, 4, 4, 0]\n",
      "[1, 1, 1, 1, 1, 1, 1, 1, 1, 1, 1, 1, 1, 1, 1]\n",
      "[3, 3, 3, 3, 1, 3, 3, 3, 3, 3, 3, 3, 3, 3, 3]\n",
      "[1, 0, 1, 1, 1, 1, 1, 1, 5, 0, 1, 1, 0, 1, 0]\n",
      "[4, 0, 4, 4, 0, 4, 4, 4, 4, 4, 4, 4, 0, 4, 4]\n",
      "[0, 4, 4, 4, 4, 4, 4, 4, 4, 4, 4, 4, 0, 4, 0]\n",
      "[5, 5, 5, 5, 5, 5, 5, 5, 5, 5, 5, 5, 5, 5, 5]\n",
      "[2, 2, 2, 2, 2, 2, 2, 2, 2, 2, 2, 2, 2, 2, 2]\n",
      "[4, 4, 4, 4, 4, 4, 4, 4, 4, 4, 4, 4, 4, 4, 4]\n",
      "[3, 3, 3, 3, 3, 3, 3, 3, 3, 3, 3, 3, 3, 3, 3]\n",
      "[3, 3, 3, 3, 3, 3, 3, 3, 3, 3, 3, 3, 3, 3, 3]\n",
      "[2, 2, 2, 2, 2, 2, 2, 2, 2, 2, 2, 2, 2, 2, 2]\n",
      "[3, 3, 1, 3, 3, 3, 3, 3, 1, 3, 3, 3, 3, 1, 3]\n",
      "[3, 3, 3, 3, 3, 3, 3, 3, 3, 3, 3, 3, 3, 3, 3]\n",
      "[5, 5, 5, 5, 5, 5, 5, 5, 5, 5, 5, 5, 3, 5, 5]\n",
      "[5, 5, 5, 5, 5, 5, 5, 5, 5, 5, 5, 5, 5, 5, 5]\n",
      "[0, 0, 0, 0, 0, 0, 0, 0, 0, 0, 0, 0, 0, 0, 0]\n",
      "[1, 1, 1, 1, 3, 1, 1, 1, 1, 3, 1, 1, 1, 1, 1]\n",
      "[3, 3, 3, 3, 3, 3, 3, 3, 3, 3, 3, 3, 3, 3, 3]\n",
      "[3, 3, 3, 3, 3, 3, 3, 3, 3, 3, 3, 3, 3, 3, 3]\n",
      "[3, 3, 3, 3, 3, 3, 3, 3, 3, 3, 3, 3, 3, 3, 3]\n",
      "[5, 5, 5, 5, 0, 5, 5, 5, 5, 5, 5, 5, 5, 5, 5]\n",
      "[1, 1, 1, 3, 1, 1, 1, 1, 1, 1, 1, 3, 1, 1, 1]\n",
      "[4, 0, 4, 4, 4, 4, 4, 4, 4, 0, 4, 4, 4, 4, 4]\n",
      "[3, 3, 3, 3, 3, 3, 3, 3, 3, 3, 3, 3, 3, 3, 3]\n",
      "[3, 4, 4, 4, 3, 0, 4, 3, 3, 0, 4, 4, 4, 3, 3]\n",
      "[1, 1, 1, 1, 3, 1, 3, 1, 1, 1, 1, 1, 1, 1, 1]\n",
      "[3, 3, 3, 3, 3, 3, 3, 3, 3, 3, 3, 3, 3, 3, 3]\n",
      "[4, 4, 4, 4, 4, 4, 4, 4, 0, 4, 4, 4, 4, 4, 4]\n",
      "[4, 4, 4, 4, 4, 4, 4, 4, 4, 4, 4, 4, 4, 4, 4]\n",
      "[1, 3, 3, 3, 3, 3, 3, 3, 3, 1, 3, 3, 1, 3, 3]\n",
      "[3, 3, 3, 3, 3, 3, 3, 3, 3, 3, 3, 3, 3, 1, 3]\n",
      "[3, 5, 5, 5, 4, 5, 5, 5, 5, 4, 5, 5, 5, 5, 5]\n",
      "[4, 4, 4, 4, 4, 2, 4, 4, 4, 4, 4, 4, 4, 4, 4]\n",
      "[4, 0, 4, 0, 0, 4, 4, 0, 0, 0, 4, 4, 4, 4, 4]\n",
      "[0, 4, 0, 0, 0, 0, 4, 4, 0, 0, 4, 4, 0, 4, 0]\n",
      "[0, 0, 0, 0, 0, 0, 0, 0, 0, 0, 0, 0, 0, 0, 0]\n",
      "[3, 3, 3, 3, 3, 3, 3, 3, 3, 3, 3, 3, 3, 3, 3]\n",
      "[3, 3, 3, 3, 3, 3, 3, 3, 3, 3, 3, 3, 3, 3, 3]\n",
      "[4, 4, 4, 4, 4, 4, 4, 4, 4, 4, 4, 4, 4, 4, 4]\n",
      "[3, 3, 3, 3, 3, 3, 3, 3, 3, 3, 3, 3, 3, 3, 3]\n",
      "[3, 3, 3, 3, 3, 3, 3, 3, 4, 3, 3, 3, 3, 3, 3]\n",
      "[3, 5, 4, 4, 4, 4, 4, 0, 0, 4, 4, 0, 3, 4, 4]\n",
      "[0, 0, 0, 0, 0, 0, 3, 0, 3, 0, 0, 0, 0, 3, 0]\n",
      "[5, 5, 5, 5, 5, 5, 5, 5, 5, 5, 5, 5, 5, 5, 5]\n",
      "[4, 4, 4, 4, 4, 4, 4, 4, 4, 4, 4, 4, 4, 4, 4]\n",
      "[3, 3, 3, 3, 3, 3, 3, 3, 3, 3, 3, 3, 3, 3, 3]\n",
      "[2, 3, 3, 3, 3, 2, 3, 3, 3, 2, 3, 3, 3, 3, 3]\n",
      "[2, 2, 2, 2, 2, 2, 2, 2, 2, 2, 2, 2, 2, 2, 2]\n",
      "[3, 3, 3, 3, 3, 3, 3, 3, 3, 3, 3, 3, 3, 3, 3]\n",
      "[4, 4, 4, 4, 4, 4, 4, 4, 4, 4, 4, 4, 4, 4, 4]\n",
      "[3, 3, 3, 4, 4, 4, 4, 4, 4, 4, 4, 3, 3, 1, 4]\n",
      "[3, 3, 3, 3, 3, 3, 3, 3, 3, 3, 3, 3, 3, 3, 3]\n",
      "[3, 3, 5, 5, 3, 5, 3, 5, 3, 5, 5, 5, 3, 3, 3]\n",
      "[4, 4, 4, 0, 4, 4, 4, 4, 4, 4, 4, 0, 0, 4, 4]\n",
      "[2, 2, 2, 2, 2, 2, 2, 2, 2, 2, 2, 2, 2, 2, 2]\n",
      "[3, 3, 3, 3, 3, 3, 3, 3, 3, 3, 3, 3, 3, 3, 3]\n",
      "[3, 3, 3, 3, 3, 3, 3, 3, 3, 3, 3, 3, 3, 3, 3]\n",
      "[3, 3, 3, 3, 3, 3, 3, 3, 3, 3, 3, 3, 3, 3, 3]\n",
      "[2, 3, 3, 3, 3, 3, 3, 3, 3, 3, 3, 3, 3, 3, 3]\n",
      "[5, 5, 5, 5, 5, 5, 5, 5, 5, 5, 5, 5, 5, 5, 5]\n",
      "[3, 3, 3, 3, 3, 3, 3, 3, 3, 3, 3, 3, 3, 3, 3]\n",
      "[3, 3, 3, 3, 3, 3, 3, 3, 3, 3, 3, 3, 3, 3, 3]\n",
      "[3, 3, 3, 3, 3, 3, 3, 3, 3, 3, 3, 3, 3, 3, 3]\n",
      "[3, 3, 3, 3, 3, 3, 3, 3, 3, 3, 3, 3, 3, 3, 3]\n",
      "[5, 5, 5, 5, 5, 5, 5, 5, 5, 5, 5, 5, 5, 5, 5]\n",
      "[2, 2, 2, 2, 2, 2, 2, 2, 2, 2, 2, 2, 2, 2, 2]\n",
      "[4, 4, 4, 4, 4, 4, 4, 4, 4, 4, 4, 4, 4, 4, 4]\n",
      "[2, 2, 2, 5, 2, 2, 2, 2, 2, 2, 2, 2, 2, 2, 2]\n",
      "[5, 5, 5, 5, 5, 5, 5, 5, 5, 5, 5, 5, 5, 5, 5]\n",
      "[2, 5, 2, 5, 5, 5, 5, 5, 5, 5, 2, 2, 5, 5, 5]\n",
      "[3, 3, 3, 1, 3, 3, 3, 1, 3, 3, 3, 3, 3, 3, 3]\n",
      "[5, 5, 5, 5, 5, 5, 5, 5, 5, 5, 5, 5, 5, 5, 5]\n",
      "[3, 3, 3, 3, 3, 3, 3, 3, 3, 3, 3, 3, 3, 3, 3]\n",
      "[3, 5, 5, 5, 1, 1, 3, 1, 3, 5, 5, 5, 1, 5, 3]\n",
      "[3, 3, 3, 3, 3, 3, 3, 3, 3, 3, 3, 3, 3, 3, 3]\n",
      "[0, 0, 0, 3, 4, 4, 4, 1, 3, 0, 4, 1, 3, 3, 3]\n",
      "[5, 5, 5, 5, 5, 5, 5, 5, 5, 5, 5, 5, 5, 5, 5]\n",
      "[3, 3, 3, 3, 3, 3, 3, 3, 3, 3, 3, 3, 3, 3, 3]\n",
      "[2, 2, 2, 2, 2, 2, 4, 2, 2, 2, 2, 2, 2, 2, 2]\n",
      "[3, 3, 3, 3, 3, 3, 3, 3, 3, 3, 3, 3, 3, 3, 3]\n",
      "[4, 4, 4, 0, 4, 4, 4, 4, 4, 4, 4, 4, 0, 4, 4]\n",
      "[1, 1, 1, 1, 1, 1, 1, 1, 1, 1, 1, 1, 1, 1, 1]\n",
      "[3, 3, 3, 3, 3, 3, 3, 3, 3, 3, 3, 3, 3, 3, 3]\n",
      "[3, 1, 1, 3, 1, 1, 1, 1, 1, 1, 3, 1, 1, 1, 1]\n",
      "[4, 4, 4, 4, 4, 4, 4, 4, 4, 4, 4, 4, 4, 4, 4]\n",
      "[3, 5, 5, 5, 5, 5, 5, 5, 5, 5, 5, 5, 3, 3, 5]\n",
      "[3, 0, 1, 1, 0, 0, 1, 1, 3, 1, 1, 1, 3, 3, 3]\n",
      "[3, 3, 3, 3, 5, 5, 5, 3, 3, 3, 3, 5, 3, 3, 3]\n",
      "[2, 2, 2, 3, 3, 2, 2, 2, 3, 2, 2, 2, 2, 2, 2]\n",
      "[1, 4, 1, 0, 1, 4, 1, 1, 4, 4, 1, 4, 3, 1, 0]\n",
      "[3, 3, 3, 3, 3, 3, 3, 3, 3, 3, 3, 3, 3, 3, 3]\n",
      "[0, 4, 0, 4, 0, 4, 4, 4, 4, 0, 4, 4, 0, 0, 4]\n",
      "[3, 3, 3, 3, 3, 3, 3, 3, 3, 3, 3, 3, 3, 3, 3]\n",
      "[2, 2, 2, 2, 2, 2, 2, 2, 2, 2, 2, 2, 2, 2, 2]\n",
      "[0, 4, 0, 4, 4, 4, 4, 4, 0, 0, 4, 4, 0, 4, 4]\n",
      "[4, 4, 4, 4, 4, 4, 4, 4, 4, 4, 4, 0, 0, 4, 4]\n",
      "[1, 1, 1, 1, 1, 1, 1, 1, 1, 1, 1, 1, 1, 1, 1]\n",
      "[4, 4, 4, 4, 4, 4, 4, 4, 4, 4, 4, 4, 4, 4, 4]\n",
      "[4, 4, 4, 4, 4, 4, 4, 4, 4, 4, 4, 4, 4, 4, 4]\n",
      "[5, 5, 5, 5, 5, 5, 3, 5, 5, 5, 5, 5, 5, 5, 5]\n",
      "[1, 1, 1, 1, 1, 3, 1, 1, 1, 1, 1, 1, 1, 1, 1]\n",
      "[3, 3, 3, 3, 3, 3, 3, 3, 3, 3, 3, 3, 3, 3, 3]\n",
      "[3, 4, 4, 4, 4, 5, 3, 4, 4, 4, 3, 3, 4, 4, 3]\n",
      "[3, 3, 3, 3, 3, 3, 3, 3, 3, 3, 3, 3, 3, 3, 3]\n",
      "[3, 3, 3, 3, 3, 3, 3, 3, 3, 3, 3, 3, 3, 3, 3]\n",
      "[3, 3, 3, 5, 3, 2, 5, 3, 3, 3, 3, 3, 3, 3, 2]\n",
      "[5, 5, 5, 5, 5, 5, 5, 5, 5, 5, 5, 5, 5, 5, 5]\n",
      "[2, 2, 2, 2, 2, 2, 2, 2, 2, 2, 2, 3, 2, 2, 2]\n",
      "[4, 4, 4, 4, 4, 4, 4, 4, 4, 4, 4, 4, 4, 4, 4]\n",
      "[3, 3, 3, 3, 3, 3, 3, 3, 3, 3, 3, 3, 3, 3, 3]\n",
      "[1, 1, 1, 1, 1, 1, 1, 1, 1, 1, 1, 1, 1, 1, 1]\n",
      "[0, 0, 0, 0, 0, 0, 0, 0, 0, 0, 0, 0, 0, 0, 0]\n",
      "[1, 1, 1, 3, 3, 1, 1, 3, 3, 1, 1, 1, 3, 3, 1]\n",
      "[5, 5, 5, 5, 5, 5, 5, 5, 5, 5, 5, 5, 5, 5, 5]\n",
      "[1, 1, 1, 1, 1, 1, 1, 1, 1, 1, 1, 1, 1, 1, 1]\n",
      "[1, 1, 1, 1, 1, 1, 1, 1, 1, 1, 1, 1, 1, 1, 1]\n",
      "[3, 3, 3, 3, 3, 3, 3, 3, 3, 3, 3, 3, 3, 3, 3]\n",
      "[5, 5, 5, 5, 5, 5, 5, 5, 5, 5, 5, 5, 5, 5, 5]\n",
      "[1, 5, 1, 5, 3, 3, 5, 3, 5, 1, 3, 3, 3, 5, 5]\n",
      "[4, 4, 4, 4, 0, 0, 0, 0, 4, 0, 4, 0, 0, 4, 4]\n",
      "[3, 3, 3, 3, 3, 3, 3, 3, 3, 3, 3, 3, 3, 3, 3]\n",
      "[4, 4, 4, 4, 4, 4, 4, 4, 4, 4, 4, 4, 4, 4, 4]\n",
      "[5, 5, 5, 5, 5, 5, 5, 5, 5, 5, 5, 5, 5, 5, 5]\n",
      "[2, 3, 3, 2, 3, 3, 2, 2, 2, 3, 3, 3, 3, 3, 3]\n",
      "[1, 1, 1, 1, 1, 1, 1, 1, 1, 1, 1, 1, 1, 1, 1]\n",
      "[1, 5, 5, 5, 1, 3, 3, 1, 1, 1, 1, 3, 3, 5, 1]\n",
      "[4, 4, 4, 4, 4, 4, 4, 4, 4, 4, 4, 4, 4, 4, 4]\n",
      "[1, 1, 1, 1, 1, 1, 1, 1, 1, 1, 1, 1, 1, 1, 1]\n",
      "[4, 4, 4, 4, 4, 4, 4, 4, 4, 4, 4, 4, 4, 4, 4]\n",
      "[4, 4, 4, 0, 4, 4, 4, 0, 4, 0, 4, 4, 0, 4, 0]\n",
      "[2, 2, 2, 2, 2, 2, 2, 2, 2, 2, 2, 2, 2, 2, 2]\n",
      "[3, 3, 3, 3, 3, 3, 3, 3, 3, 3, 3, 3, 3, 3, 3]\n",
      "[3, 3, 3, 3, 3, 3, 3, 3, 3, 3, 3, 3, 3, 3, 3]\n",
      "[3, 3, 3, 3, 3, 3, 3, 3, 3, 3, 3, 3, 3, 3, 3]\n",
      "[4, 4, 4, 4, 4, 4, 4, 4, 4, 4, 4, 4, 4, 4, 4]\n",
      "[5, 5, 5, 5, 5, 5, 5, 5, 5, 5, 5, 5, 3, 5, 3]\n",
      "[3, 3, 3, 3, 3, 3, 3, 3, 3, 3, 3, 3, 3, 3, 3]\n",
      "[0, 1, 0, 4, 3, 1, 4, 0, 1, 4, 1, 0, 4, 5, 0]\n",
      "[3, 3, 3, 3, 3, 3, 3, 3, 3, 3, 3, 3, 3, 3, 3]\n",
      "[0, 0, 0, 0, 4, 4, 0, 4, 0, 0, 4, 0, 0, 4, 0]\n",
      "[3, 1, 3, 5, 5, 3, 5, 3, 5, 1, 3, 3, 5, 5, 5]\n",
      "[4, 4, 4, 4, 4, 4, 4, 4, 4, 4, 4, 4, 4, 4, 4]\n",
      "[4, 4, 4, 4, 4, 4, 4, 4, 4, 4, 4, 4, 4, 4, 4]\n",
      "[5, 5, 5, 5, 5, 5, 5, 5, 5, 5, 5, 5, 5, 5, 5]\n",
      "[5, 5, 5, 5, 5, 5, 5, 5, 5, 5, 5, 5, 5, 5, 5]\n",
      "[4, 4, 4, 4, 4, 4, 4, 4, 4, 4, 4, 4, 4, 4, 4]\n",
      "[2, 2, 2, 2, 2, 2, 2, 2, 2, 2, 2, 2, 2, 2, 2]\n",
      "[2, 3, 3, 3, 3, 3, 2, 3, 3, 3, 3, 3, 3, 3, 3]\n",
      "[1, 1, 1, 1, 1, 3, 1, 1, 1, 1, 3, 1, 1, 1, 1]\n",
      "[3, 3, 3, 3, 3, 3, 3, 3, 3, 3, 3, 3, 3, 3, 3]\n",
      "[5, 5, 5, 5, 5, 5, 5, 5, 5, 5, 5, 5, 5, 5, 5]\n",
      "[4, 0, 4, 0, 4, 0, 4, 0, 0, 0, 4, 0, 0, 0, 4]\n",
      "[3, 3, 3, 3, 3, 3, 3, 3, 3, 3, 3, 3, 3, 3, 3]\n",
      "[3, 3, 3, 3, 3, 3, 3, 3, 3, 3, 3, 3, 3, 3, 3]\n",
      "[3, 3, 3, 3, 1, 3, 1, 3, 3, 1, 3, 3, 3, 3, 3]\n",
      "[3, 1, 3, 3, 3, 1, 3, 3, 3, 3, 3, 3, 1, 3, 3]\n",
      "[1, 1, 1, 1, 3, 1, 1, 3, 1, 1, 3, 1, 1, 3, 1]\n",
      "[4, 4, 4, 4, 4, 4, 4, 4, 4, 4, 4, 4, 4, 4, 4]\n",
      "[3, 3, 3, 3, 3, 3, 3, 3, 3, 3, 3, 3, 3, 3, 3]\n",
      "[2, 2, 1, 3, 3, 3, 3, 3, 2, 3, 3, 2, 3, 3, 3]\n",
      "[3, 1, 3, 3, 3, 3, 1, 3, 3, 3, 3, 3, 3, 3, 3]\n",
      "[3, 3, 3, 3, 3, 3, 3, 3, 3, 3, 3, 3, 3, 3, 3]\n",
      "[5, 5, 5, 5, 5, 5, 5, 5, 5, 5, 5, 5, 5, 5, 5]\n",
      "[4, 0, 4, 0, 0, 0, 4, 0, 4, 4, 4, 0, 4, 4, 0]\n",
      "[5, 5, 5, 5, 5, 5, 5, 5, 5, 5, 5, 5, 5, 5, 5]\n",
      "[4, 4, 4, 4, 4, 4, 4, 4, 4, 4, 4, 4, 4, 4, 4]\n",
      "[3, 2, 2, 2, 2, 2, 2, 2, 3, 2, 2, 2, 2, 2, 2]\n",
      "[2, 2, 2, 2, 2, 2, 2, 2, 2, 2, 2, 2, 2, 2, 2]\n",
      "[4, 4, 4, 4, 4, 4, 4, 4, 4, 4, 4, 4, 4, 4, 4]\n",
      "[4, 4, 4, 4, 4, 4, 4, 4, 4, 4, 4, 4, 4, 4, 4]\n",
      "[3, 1, 1, 3, 1, 1, 1, 3, 1, 3, 3, 1, 3, 3, 1]\n",
      "[3, 3, 3, 3, 3, 3, 3, 3, 3, 3, 3, 3, 3, 3, 3]\n",
      "[5, 5, 5, 5, 5, 5, 5, 5, 5, 5, 5, 5, 5, 5, 5]\n",
      "[5, 3, 5, 5, 5, 5, 3, 5, 5, 5, 5, 5, 5, 5, 5]\n",
      "[0, 0, 0, 0, 0, 4, 0, 0, 0, 0, 4, 0, 0, 0, 0]\n",
      "[3, 3, 3, 3, 3, 3, 3, 3, 3, 3, 3, 3, 3, 3, 3]\n",
      "[2, 2, 3, 2, 2, 2, 2, 3, 3, 2, 2, 2, 3, 2, 2]\n",
      "[3, 3, 1, 1, 1, 1, 1, 1, 1, 1, 3, 1, 1, 1, 1]\n",
      "[1, 1, 1, 1, 1, 1, 1, 1, 1, 1, 1, 1, 1, 1, 1]\n",
      "[4, 4, 4, 4, 4, 4, 4, 4, 4, 4, 4, 4, 4, 4, 4]\n",
      "[3, 1, 3, 1, 5, 5, 1, 1, 1, 5, 1, 3, 5, 5, 5]\n",
      "[3, 5, 5, 5, 5, 5, 5, 5, 3, 5, 5, 5, 5, 3, 5]\n",
      "[3, 3, 3, 3, 3, 3, 3, 3, 3, 3, 3, 3, 3, 3, 3]\n",
      "[5, 5, 5, 5, 5, 5, 5, 5, 5, 5, 5, 5, 5, 5, 5]\n",
      "[1, 1, 1, 1, 1, 1, 1, 1, 1, 1, 1, 1, 1, 1, 1]\n",
      "[3, 3, 3, 3, 3, 3, 3, 3, 3, 3, 3, 3, 3, 3, 3]\n",
      "[3, 3, 3, 3, 3, 3, 3, 3, 3, 3, 3, 3, 3, 3, 3]\n",
      "[3, 3, 3, 3, 3, 3, 3, 3, 3, 3, 3, 3, 3, 3, 3]\n",
      "[4, 4, 4, 4, 3, 4, 4, 3, 4, 4, 3, 5, 4, 4, 3]\n",
      "[4, 4, 4, 4, 4, 4, 4, 4, 4, 4, 4, 4, 4, 4, 4]\n",
      "[4, 4, 0, 4, 4, 4, 4, 4, 4, 4, 4, 4, 4, 4, 4]\n",
      "[3, 3, 3, 3, 3, 3, 3, 3, 3, 3, 3, 3, 3, 3, 3]\n",
      "[5, 5, 5, 5, 5, 5, 5, 5, 5, 5, 5, 5, 5, 5, 5]\n",
      "[3, 3, 3, 3, 3, 3, 3, 3, 3, 3, 5, 3, 3, 3, 3]\n",
      "[4, 4, 4, 0, 4, 4, 4, 4, 0, 4, 4, 4, 4, 4, 4]\n",
      "[3, 3, 3, 3, 3, 3, 3, 3, 3, 3, 3, 3, 3, 3, 3]\n",
      "[5, 5, 5, 5, 5, 1, 5, 5, 5, 5, 5, 5, 5, 5, 5]\n",
      "[1, 4, 1, 1, 1, 1, 1, 1, 1, 1, 1, 1, 1, 1, 3]\n",
      "[4, 0, 4, 4, 4, 4, 4, 4, 0, 0, 4, 4, 0, 4, 4]\n",
      "[4, 4, 0, 4, 4, 4, 0, 4, 4, 4, 0, 4, 4, 0, 4]\n",
      "[4, 4, 4, 4, 4, 4, 4, 4, 4, 4, 4, 4, 4, 4, 4]\n",
      "[3, 3, 3, 3, 3, 3, 3, 3, 3, 3, 3, 3, 3, 3, 3]\n",
      "[5, 5, 5, 5, 5, 5, 5, 5, 5, 5, 5, 5, 5, 5, 5]\n",
      "[5, 5, 5, 5, 5, 5, 5, 5, 5, 5, 5, 5, 5, 5, 5]\n",
      "[3, 3, 3, 3, 3, 3, 3, 3, 3, 3, 3, 3, 3, 3, 3]\n",
      "[4, 4, 4, 4, 4, 4, 4, 4, 4, 4, 4, 4, 4, 4, 0]\n",
      "[4, 4, 4, 4, 4, 4, 4, 4, 4, 4, 4, 4, 4, 4, 4]\n",
      "[2, 3, 3, 2, 3, 3, 3, 3, 3, 2, 3, 3, 3, 3, 3]\n",
      "[3, 3, 3, 3, 3, 3, 2, 3, 3, 2, 3, 3, 3, 3, 3]\n",
      "[2, 2, 2, 2, 2, 2, 2, 2, 2, 2, 2, 2, 2, 2, 2]\n",
      "[3, 3, 3, 3, 3, 3, 3, 3, 3, 3, 3, 3, 3, 3, 3]\n",
      "[3, 1, 1, 1, 1, 1, 1, 1, 3, 3, 1, 1, 3, 1, 3]\n",
      "[3, 3, 3, 3, 3, 3, 3, 3, 3, 3, 3, 3, 3, 3, 3]\n",
      "[0, 4, 0, 0, 0, 4, 4, 0, 4, 0, 4, 4, 4, 4, 4]\n",
      "[5, 5, 5, 5, 5, 5, 5, 5, 5, 5, 5, 5, 5, 5, 5]\n",
      "[5, 5, 5, 5, 5, 3, 5, 5, 5, 5, 5, 5, 5, 5, 5]\n",
      "[3, 3, 3, 3, 3, 3, 5, 3, 3, 3, 3, 3, 3, 3, 3]\n",
      "[5, 5, 5, 5, 5, 5, 5, 5, 5, 5, 5, 5, 5, 5, 5]\n",
      "[1, 1, 1, 1, 1, 1, 1, 1, 1, 1, 1, 1, 1, 1, 1]\n",
      "[3, 3, 5, 3, 3, 5, 5, 5, 5, 5, 3, 3, 3, 3, 5]\n",
      "[3, 3, 3, 3, 3, 3, 3, 3, 3, 3, 3, 3, 3, 3, 3]\n",
      "[0, 0, 0, 0, 0, 0, 0, 0, 0, 0, 0, 0, 0, 0, 0]\n",
      "[5, 5, 5, 5, 5, 5, 5, 5, 5, 5, 5, 5, 5, 5, 5]\n",
      "[4, 4, 4, 0, 4, 4, 4, 4, 0, 4, 4, 0, 4, 0, 4]\n",
      "[2, 2, 2, 2, 2, 2, 2, 2, 3, 2, 2, 2, 2, 3, 2]\n",
      "[4, 4, 4, 0, 4, 4, 4, 4, 4, 4, 4, 4, 4, 4, 4]\n",
      "[4, 0, 0, 4, 4, 0, 4, 0, 4, 4, 4, 0, 0, 4, 4]\n",
      "[0, 0, 0, 0, 0, 0, 0, 0, 0, 4, 4, 0, 0, 4, 0]\n",
      "[3, 3, 3, 3, 3, 3, 3, 3, 3, 3, 3, 3, 3, 3, 3]\n",
      "[3, 3, 3, 3, 3, 3, 3, 3, 3, 3, 3, 3, 3, 3, 3]\n",
      "[4, 4, 4, 4, 4, 4, 4, 4, 4, 4, 4, 4, 4, 4, 4]\n",
      "[4, 4, 4, 4, 0, 1, 4, 4, 4, 4, 5, 3, 4, 4, 4]\n",
      "[3, 3, 3, 3, 3, 3, 3, 3, 3, 3, 3, 3, 3, 3, 3]\n",
      "[2, 2, 2, 2, 2, 2, 2, 2, 2, 2, 2, 2, 2, 2, 2]\n",
      "[5, 5, 5, 5, 5, 5, 5, 5, 5, 5, 5, 5, 5, 5, 5]\n",
      "[0, 4, 4, 4, 0, 4, 4, 0, 0, 4, 4, 4, 4, 4, 0]\n",
      "[5, 5, 5, 5, 5, 5, 5, 5, 5, 5, 5, 5, 5, 5, 5]\n",
      "[4, 5, 4, 4, 4, 5, 4, 4, 4, 4, 3, 4, 5, 4, 4]\n",
      "[3, 3, 3, 3, 3, 3, 3, 3, 3, 3, 3, 3, 3, 3, 3]\n",
      "[3, 1, 1, 1, 1, 3, 1, 1, 1, 1, 3, 1, 3, 3, 1]\n",
      "[5, 5, 5, 5, 5, 5, 5, 5, 5, 5, 5, 5, 5, 5, 5]\n",
      "[4, 0, 0, 0, 0, 4, 4, 0, 4, 0, 4, 0, 0, 4, 0]\n",
      "[1, 4, 1, 1, 1, 1, 1, 4, 1, 1, 4, 4, 4, 4, 1]\n",
      "[3, 3, 3, 3, 3, 3, 3, 3, 3, 3, 3, 3, 3, 3, 3]\n",
      "[2, 2, 2, 3, 3, 3, 3, 2, 3, 2, 3, 2, 2, 3, 3]\n",
      "[3, 3, 3, 3, 3, 3, 3, 2, 3, 3, 3, 3, 2, 3, 3]\n",
      "[3, 3, 3, 3, 3, 3, 3, 3, 3, 3, 3, 3, 3, 3, 3]\n",
      "[1, 1, 1, 1, 1, 1, 1, 1, 1, 1, 3, 1, 1, 1, 3]\n",
      "[5, 5, 5, 5, 5, 5, 5, 5, 5, 5, 5, 5, 5, 5, 5]\n",
      "[1, 1, 1, 1, 1, 1, 1, 1, 1, 1, 1, 1, 3, 1, 1]\n",
      "[2, 2, 2, 3, 2, 2, 2, 2, 3, 2, 2, 2, 2, 2, 2]\n",
      "[4, 4, 0, 4, 4, 4, 4, 4, 4, 4, 4, 4, 0, 4, 4]\n",
      "[5, 5, 5, 5, 5, 5, 5, 5, 5, 5, 5, 5, 5, 5, 5]\n",
      "[3, 3, 3, 3, 3, 3, 3, 3, 3, 3, 3, 3, 3, 3, 3]\n",
      "[5, 5, 5, 5, 5, 5, 5, 5, 5, 5, 5, 5, 5, 5, 5]\n",
      "[4, 4, 4, 4, 4, 4, 4, 4, 4, 4, 4, 4, 4, 4, 4]\n",
      "[4, 4, 4, 4, 4, 4, 4, 4, 4, 4, 4, 4, 4, 4, 4]\n",
      "[4, 0, 0, 0, 4, 0, 0, 4, 4, 0, 4, 0, 0, 4, 0]\n",
      "[2, 3, 2, 3, 3, 2, 3, 2, 3, 3, 2, 2, 2, 3, 3]\n",
      "[3, 3, 3, 3, 3, 3, 3, 3, 3, 3, 3, 3, 3, 3, 3]\n",
      "[3, 3, 3, 3, 3, 3, 3, 3, 3, 3, 3, 3, 3, 3, 3]\n",
      "[0, 0, 0, 0, 0, 0, 0, 0, 0, 0, 0, 0, 0, 0, 0]\n",
      "[4, 4, 4, 4, 4, 4, 4, 4, 4, 4, 4, 4, 4, 4, 4]\n",
      "[3, 3, 3, 5, 3, 3, 3, 3, 3, 3, 3, 3, 3, 3, 5]\n",
      "[2, 2, 3, 4, 2, 4, 2, 4, 2, 2, 2, 3, 2, 2, 2]\n",
      "[0, 0, 0, 0, 0, 4, 4, 0, 0, 0, 4, 0, 0, 4, 0]\n",
      "[4, 4, 4, 4, 4, 4, 4, 4, 4, 4, 4, 4, 4, 4, 4]\n",
      "[5, 5, 5, 5, 3, 5, 5, 5, 2, 1, 5, 5, 5, 2, 5]\n",
      "[4, 4, 4, 4, 4, 4, 4, 4, 4, 4, 4, 4, 0, 4, 4]\n",
      "[3, 3, 3, 3, 3, 3, 3, 3, 4, 3, 3, 3, 3, 3, 3]\n",
      "[4, 4, 4, 4, 4, 4, 4, 4, 4, 4, 4, 4, 4, 4, 4]\n",
      "[1, 1, 3, 3, 3, 1, 1, 1, 3, 3, 3, 3, 3, 3, 1]\n",
      "[3, 3, 3, 5, 1, 3, 1, 3, 1, 3, 3, 3, 3, 3, 1]\n",
      "[4, 4, 3, 4, 3, 4, 3, 4, 4, 4, 4, 3, 3, 3, 4]\n",
      "[3, 3, 3, 3, 3, 3, 3, 3, 3, 3, 1, 3, 3, 3, 3]\n",
      "[3, 3, 3, 1, 3, 3, 3, 3, 3, 3, 3, 3, 3, 3, 3]\n",
      "[3, 5, 3, 3, 5, 3, 5, 3, 3, 3, 3, 3, 3, 3, 5]\n",
      "[3, 1, 1, 3, 3, 1, 1, 3, 3, 3, 3, 1, 1, 1, 3]\n",
      "[1, 1, 1, 1, 1, 1, 1, 1, 1, 1, 1, 1, 1, 1, 1]\n",
      "[4, 4, 4, 4, 4, 4, 0, 4, 0, 4, 4, 4, 4, 4, 0]\n",
      "[2, 2, 2, 2, 2, 2, 2, 2, 2, 2, 2, 2, 2, 2, 2]\n",
      "[3, 3, 5, 3, 3, 3, 3, 3, 5, 3, 3, 3, 3, 3, 3]\n",
      "[4, 4, 4, 4, 4, 4, 4, 4, 4, 4, 4, 4, 0, 4, 4]\n",
      "[4, 4, 4, 4, 4, 4, 4, 4, 4, 4, 4, 4, 4, 4, 4]\n",
      "[2, 2, 2, 2, 2, 2, 2, 2, 2, 2, 2, 2, 2, 2, 2]\n",
      "[3, 3, 3, 3, 3, 3, 3, 1, 1, 3, 3, 3, 3, 3, 3]\n",
      "[3, 3, 3, 3, 3, 3, 3, 3, 3, 3, 3, 3, 3, 3, 3]\n",
      "[1, 3, 1, 1, 1, 3, 1, 1, 1, 1, 1, 1, 1, 1, 1]\n",
      "[2, 2, 3, 2, 2, 2, 2, 2, 2, 2, 3, 2, 2, 2, 2]\n",
      "[4, 4, 4, 4, 4, 4, 4, 4, 4, 4, 4, 4, 4, 4, 4]\n",
      "[4, 0, 0, 0, 0, 0, 4, 4, 4, 0, 4, 0, 0, 4, 0]\n",
      "[3, 3, 3, 3, 3, 3, 3, 2, 3, 3, 3, 3, 3, 3, 3]\n",
      "[4, 4, 4, 4, 4, 4, 4, 4, 4, 4, 4, 4, 4, 4, 4]\n",
      "[2, 2, 2, 2, 2, 2, 2, 2, 2, 2, 2, 2, 2, 2, 2]\n",
      "[4, 4, 0, 0, 4, 4, 4, 4, 4, 4, 4, 0, 0, 4, 4]\n",
      "[5, 5, 5, 5, 5, 5, 5, 5, 5, 5, 5, 5, 5, 5, 5]\n",
      "[3, 3, 3, 3, 3, 3, 3, 3, 3, 3, 3, 3, 3, 3, 3]\n",
      "[4, 4, 4, 4, 4, 4, 4, 4, 4, 4, 4, 4, 4, 4, 4]\n",
      "[3, 3, 3, 3, 3, 3, 3, 3, 3, 3, 3, 3, 3, 3, 3]\n",
      "[5, 5, 3, 5, 5, 5, 5, 5, 5, 5, 5, 5, 5, 5, 5]\n",
      "[3, 3, 3, 3, 3, 3, 5, 3, 3, 3, 3, 3, 3, 3, 3]\n",
      "[5, 5, 5, 5, 5, 5, 5, 5, 5, 5, 5, 5, 5, 5, 5]\n",
      "[4, 0, 0, 4, 4, 0, 4, 4, 4, 4, 4, 4, 4, 4, 4]\n",
      "[3, 3, 3, 3, 5, 5, 3, 3, 3, 3, 3, 3, 5, 3, 3]\n",
      "[3, 3, 3, 3, 3, 3, 3, 3, 3, 3, 3, 3, 3, 3, 3]\n",
      "[3, 3, 5, 3, 3, 3, 3, 3, 3, 4, 3, 3, 3, 3, 3]\n",
      "[3, 3, 3, 3, 3, 2, 3, 2, 3, 3, 3, 3, 3, 3, 3]\n",
      "[5, 5, 5, 5, 5, 5, 5, 5, 5, 5, 5, 5, 5, 5, 5]\n",
      "[1, 1, 1, 1, 1, 1, 1, 1, 1, 1, 3, 1, 3, 1, 1]\n",
      "[3, 3, 3, 3, 3, 3, 3, 3, 3, 3, 3, 3, 3, 3, 3]\n",
      "[1, 1, 1, 1, 1, 1, 1, 1, 1, 1, 3, 1, 3, 1, 3]\n",
      "[1, 1, 1, 1, 1, 1, 1, 1, 1, 1, 1, 1, 1, 1, 1]\n",
      "[4, 4, 4, 0, 4, 4, 4, 4, 4, 0, 4, 4, 4, 4, 4]\n",
      "[4, 4, 4, 4, 4, 4, 4, 4, 4, 4, 4, 4, 4, 4, 4]\n",
      "[0, 0, 4, 0, 0, 0, 4, 0, 4, 0, 0, 0, 0, 0, 0]\n",
      "[5, 5, 5, 5, 5, 5, 5, 5, 5, 5, 5, 5, 5, 5, 5]\n",
      "[1, 1, 1, 1, 1, 1, 1, 1, 1, 1, 1, 1, 1, 1, 1]\n",
      "[0, 0, 0, 0, 0, 0, 0, 0, 0, 0, 0, 0, 0, 0, 0]\n",
      "[3, 3, 5, 3, 3, 3, 3, 3, 3, 3, 3, 3, 3, 3, 3]\n",
      "[3, 3, 3, 3, 3, 3, 3, 3, 3, 3, 3, 3, 3, 3, 3]\n",
      "[1, 1, 1, 1, 1, 1, 1, 1, 1, 1, 1, 1, 1, 1, 3]\n",
      "[1, 1, 1, 1, 1, 1, 1, 1, 1, 1, 1, 1, 1, 1, 1]\n",
      "[2, 2, 2, 2, 2, 2, 2, 2, 3, 2, 2, 2, 2, 3, 2]\n",
      "[1, 1, 1, 3, 3, 1, 1, 1, 1, 3, 1, 1, 1, 2, 3]\n",
      "[3, 3, 3, 3, 3, 3, 3, 3, 3, 3, 3, 3, 3, 3, 3]\n",
      "[5, 5, 5, 5, 5, 5, 5, 5, 5, 5, 5, 5, 5, 5, 5]\n",
      "[2, 2, 2, 2, 2, 2, 2, 2, 2, 2, 2, 2, 2, 2, 2]\n",
      "[1, 3, 1, 1, 1, 1, 1, 3, 1, 1, 3, 3, 3, 5, 1]\n",
      "[4, 0, 0, 0, 0, 0, 0, 0, 0, 0, 4, 0, 0, 4, 0]\n",
      "[5, 5, 5, 5, 5, 5, 5, 5, 5, 5, 5, 5, 5, 5, 5]\n",
      "[3, 3, 3, 5, 3, 3, 3, 3, 3, 3, 3, 3, 3, 3, 3]\n",
      "[3, 1, 3, 3, 3, 1, 3, 1, 3, 3, 3, 3, 3, 3, 3]\n",
      "[1, 1, 1, 1, 1, 1, 1, 1, 1, 1, 1, 1, 1, 1, 1]\n",
      "[3, 1, 1, 1, 1, 1, 1, 3, 3, 1, 3, 1, 3, 1, 1]\n",
      "[3, 3, 3, 5, 3, 3, 3, 3, 3, 3, 3, 3, 3, 3, 5]\n",
      "[2, 2, 2, 2, 2, 2, 2, 2, 2, 2, 2, 2, 2, 2, 2]\n",
      "[3, 3, 5, 5, 5, 3, 3, 5, 3, 5, 5, 5, 3, 3, 5]\n",
      "[1, 3, 3, 3, 1, 3, 1, 3, 3, 1, 3, 3, 3, 3, 3]\n",
      "[3, 3, 3, 1, 3, 3, 3, 1, 1, 3, 3, 3, 3, 3, 3]\n",
      "[0, 0, 4, 0, 0, 4, 4, 4, 0, 0, 4, 4, 0, 0, 0]\n",
      "[4, 4, 1, 0, 0, 1, 4, 4, 1, 1, 1, 4, 4, 1, 1]\n",
      "[4, 4, 0, 4, 4, 4, 4, 4, 4, 4, 4, 4, 0, 4, 4]\n",
      "[2, 2, 2, 5, 3, 2, 5, 2, 3, 3, 2, 2, 2, 3, 5]\n",
      "[4, 4, 4, 4, 4, 4, 4, 4, 4, 4, 4, 4, 4, 4, 4]\n",
      "[4, 4, 0, 0, 4, 4, 4, 4, 4, 4, 4, 4, 0, 4, 4]\n",
      "[5, 5, 5, 5, 5, 5, 5, 5, 5, 5, 5, 5, 5, 5, 5]\n",
      "[5, 5, 5, 2, 1, 2, 3, 5, 3, 5, 2, 3, 3, 5, 3]\n",
      "[1, 1, 1, 1, 1, 1, 1, 1, 1, 1, 1, 1, 1, 1, 1]\n",
      "[5, 5, 5, 5, 5, 5, 5, 5, 2, 5, 5, 5, 5, 5, 5]\n",
      "[5, 5, 5, 5, 5, 5, 5, 5, 5, 5, 5, 5, 5, 5, 5]\n",
      "[1, 1, 1, 1, 1, 1, 1, 1, 1, 1, 1, 1, 1, 1, 1]\n",
      "[3, 3, 3, 3, 3, 3, 3, 3, 3, 3, 3, 3, 3, 3, 3]\n",
      "[4, 2, 3, 2, 3, 3, 1, 3, 1, 3, 3, 3, 2, 1, 2]\n",
      "[5, 5, 5, 5, 5, 5, 5, 5, 5, 5, 5, 5, 5, 5, 5]\n",
      "[3, 1, 1, 3, 3, 1, 1, 3, 3, 1, 3, 1, 1, 1, 1]\n",
      "[4, 4, 4, 4, 4, 4, 4, 0, 0, 0, 4, 4, 4, 4, 4]\n",
      "[4, 4, 4, 4, 4, 4, 4, 4, 4, 4, 4, 4, 4, 4, 4]\n",
      "[3, 1, 1, 1, 3, 3, 1, 1, 1, 1, 3, 1, 3, 3, 1]\n",
      "[5, 5, 5, 5, 5, 5, 5, 5, 5, 5, 5, 5, 5, 5, 5]\n",
      "[3, 3, 3, 3, 1, 3, 3, 3, 3, 1, 3, 3, 3, 3, 3]\n",
      "[4, 4, 4, 4, 4, 4, 4, 0, 4, 4, 4, 4, 4, 4, 4]\n",
      "[3, 3, 3, 3, 3, 3, 3, 3, 3, 3, 3, 3, 3, 3, 3]\n",
      "[1, 1, 3, 3, 3, 3, 1, 3, 3, 3, 3, 3, 3, 1, 3]\n",
      "[0, 0, 0, 0, 0, 0, 0, 0, 0, 0, 0, 0, 0, 0, 0]\n",
      "[5, 5, 3, 5, 5, 5, 5, 5, 5, 5, 3, 3, 5, 5, 5]\n",
      "[4, 4, 4, 4, 4, 4, 4, 4, 4, 4, 4, 4, 4, 4, 4]\n",
      "[1, 1, 1, 1, 1, 1, 1, 1, 1, 1, 1, 1, 1, 1, 1]\n",
      "[5, 0, 5, 3, 3, 5, 5, 5, 3, 3, 5, 5, 5, 5, 3]\n",
      "[5, 5, 5, 5, 5, 5, 3, 5, 3, 5, 5, 3, 5, 3, 5]\n",
      "[4, 4, 0, 0, 0, 4, 4, 0, 4, 0, 4, 0, 0, 4, 4]\n",
      "[3, 3, 3, 3, 3, 3, 3, 3, 3, 3, 3, 3, 3, 3, 3]\n",
      "[1, 1, 1, 1, 1, 1, 1, 1, 1, 1, 1, 1, 1, 1, 1]\n",
      "[3, 3, 3, 3, 3, 3, 3, 3, 3, 3, 3, 3, 3, 3, 3]\n",
      "[4, 4, 4, 4, 4, 4, 4, 4, 4, 4, 4, 4, 4, 4, 4]\n",
      "[3, 1, 1, 3, 1, 1, 1, 3, 3, 1, 3, 1, 3, 1, 1]\n",
      "[2, 2, 2, 2, 2, 2, 2, 2, 2, 2, 2, 2, 2, 2, 2]\n",
      "[1, 1, 1, 3, 1, 1, 3, 3, 3, 3, 3, 3, 3, 3, 3]\n",
      "[5, 5, 5, 5, 5, 5, 5, 5, 5, 5, 5, 5, 5, 5, 5]\n",
      "[4, 0, 4, 4, 4, 4, 4, 4, 0, 0, 4, 4, 4, 4, 4]\n",
      "[0, 0, 4, 0, 4, 4, 4, 4, 0, 0, 4, 4, 0, 4, 0]\n",
      "[0, 0, 0, 0, 0, 0, 0, 0, 0, 0, 0, 0, 0, 0, 0]\n",
      "[4, 4, 4, 4, 4, 4, 4, 4, 0, 0, 4, 4, 0, 4, 4]\n",
      "[1, 1, 3, 3, 0, 1, 1, 3, 1, 1, 3, 3, 3, 3, 0]\n",
      "[0, 4, 0, 4, 4, 3, 4, 4, 4, 4, 3, 0, 4, 4, 0]\n",
      "[1, 1, 3, 5, 1, 1, 3, 3, 1, 3, 1, 3, 3, 1, 5]\n",
      "[2, 2, 2, 2, 2, 2, 2, 2, 2, 2, 2, 2, 2, 2, 2]\n",
      "[2, 2, 2, 2, 2, 2, 2, 2, 2, 2, 2, 2, 2, 2, 2]\n",
      "[0, 0, 0, 4, 0, 0, 4, 4, 4, 4, 3, 4, 0, 0, 0]\n",
      "[3, 3, 3, 3, 3, 3, 3, 3, 3, 3, 3, 3, 3, 3, 3]\n",
      "[5, 5, 5, 5, 5, 5, 5, 5, 5, 5, 5, 5, 5, 5, 5]\n",
      "[3, 3, 3, 3, 3, 3, 3, 3, 3, 3, 3, 3, 3, 3, 3]\n",
      "[4, 4, 4, 4, 4, 4, 4, 4, 4, 4, 4, 4, 4, 4, 4]\n",
      "[5, 5, 5, 5, 5, 5, 5, 5, 5, 5, 5, 5, 5, 5, 5]\n",
      "[3, 1, 3, 3, 3, 1, 1, 1, 3, 3, 3, 3, 3, 3, 3]\n",
      "[4, 0, 0, 4, 4, 4, 4, 4, 0, 4, 0, 4, 4, 4, 4]\n",
      "[0, 0, 0, 0, 0, 0, 0, 0, 0, 0, 0, 0, 0, 0, 0]\n",
      "[3, 3, 3, 3, 3, 3, 3, 3, 3, 3, 3, 3, 3, 3, 3]\n",
      "[4, 0, 0, 0, 4, 1, 1, 0, 4, 1, 0, 4, 4, 0, 0]\n",
      "[3, 3, 3, 3, 3, 3, 3, 3, 3, 3, 3, 3, 3, 3, 3]\n",
      "[3, 3, 3, 3, 3, 3, 3, 3, 3, 3, 3, 3, 3, 3, 3]\n",
      "[4, 4, 4, 4, 4, 4, 4, 4, 4, 4, 4, 4, 4, 4, 0]\n",
      "[5, 5, 5, 5, 5, 5, 5, 5, 5, 5, 5, 5, 5, 5, 5]\n",
      "[4, 4, 4, 4, 4, 4, 4, 4, 4, 4, 4, 4, 4, 4, 4]\n",
      "[4, 5, 4, 4, 4, 5, 5, 4, 4, 4, 3, 4, 5, 4, 4]\n",
      "[5, 5, 5, 5, 5, 5, 5, 5, 5, 5, 5, 5, 5, 5, 5]\n",
      "[0, 0, 3, 0, 4, 1, 3, 0, 3, 0, 4, 1, 3, 0, 0]\n",
      "[3, 3, 3, 3, 3, 3, 3, 3, 5, 3, 3, 3, 5, 3, 3]\n",
      "[3, 3, 3, 3, 3, 3, 3, 3, 3, 3, 3, 3, 5, 3, 3]\n",
      "[4, 4, 4, 4, 4, 4, 4, 4, 4, 4, 4, 4, 4, 4, 4]\n",
      "[1, 5, 1, 1, 1, 1, 1, 1, 1, 1, 1, 5, 1, 1, 1]\n",
      "[1, 1, 1, 1, 1, 1, 1, 1, 1, 3, 3, 1, 3, 1, 3]\n",
      "[5, 5, 5, 5, 5, 5, 5, 5, 5, 5, 5, 3, 5, 5, 5]\n",
      "[5, 5, 5, 5, 5, 3, 5, 5, 5, 5, 5, 5, 5, 3, 5]\n",
      "[4, 0, 0, 0, 0, 4, 0, 0, 0, 0, 4, 0, 0, 4, 0]\n",
      "[3, 3, 1, 3, 3, 3, 3, 3, 3, 3, 3, 3, 3, 3, 3]\n",
      "[4, 0, 0, 0, 0, 4, 4, 0, 0, 0, 4, 4, 0, 4, 0]\n",
      "[1, 1, 1, 1, 1, 1, 1, 1, 1, 1, 1, 1, 1, 1, 1]\n",
      "[4, 0, 0, 4, 4, 4, 4, 4, 4, 4, 4, 4, 4, 4, 4]\n",
      "[4, 1, 1, 4, 4, 4, 4, 4, 4, 4, 4, 1, 4, 4, 1]\n",
      "[5, 0, 1, 0, 1, 0, 1, 0, 5, 0, 5, 0, 4, 0, 0]\n",
      "[4, 3, 5, 3, 3, 5, 2, 5, 4, 3, 2, 3, 2, 3, 3]\n",
      "[0, 4, 0, 0, 0, 4, 4, 0, 0, 0, 4, 0, 4, 0, 0]\n",
      "[4, 4, 4, 4, 4, 4, 4, 4, 4, 4, 4, 4, 4, 4, 0]\n",
      "[5, 5, 5, 5, 5, 5, 5, 5, 5, 5, 5, 5, 5, 5, 5]\n",
      "[2, 2, 2, 2, 2, 2, 2, 2, 2, 2, 2, 2, 2, 2, 2]\n",
      "[4, 4, 4, 4, 4, 4, 4, 4, 4, 4, 4, 4, 4, 4, 4]\n",
      "[3, 3, 3, 3, 3, 3, 3, 3, 3, 3, 3, 3, 3, 3, 3]\n",
      "[1, 1, 1, 3, 1, 3, 1, 1, 1, 1, 3, 1, 3, 3, 3]\n",
      "[5, 5, 5, 5, 5, 5, 5, 5, 5, 5, 5, 5, 5, 5, 5]\n",
      "[1, 1, 1, 1, 1, 3, 1, 1, 1, 1, 3, 1, 3, 3, 1]\n",
      "[1, 1, 1, 1, 1, 1, 1, 1, 1, 1, 0, 1, 3, 1, 1]\n",
      "[3, 3, 3, 3, 3, 3, 3, 3, 3, 3, 3, 3, 3, 3, 3]\n",
      "[5, 5, 5, 5, 5, 5, 5, 5, 5, 5, 5, 5, 5, 5, 5]\n",
      "[1, 1, 1, 1, 1, 3, 1, 1, 1, 1, 1, 1, 1, 1, 1]\n",
      "[5, 5, 5, 5, 5, 5, 3, 5, 5, 5, 3, 5, 5, 5, 3]\n",
      "[4, 4, 4, 4, 4, 4, 4, 4, 4, 4, 4, 4, 4, 4, 4]\n",
      "[3, 3, 3, 3, 3, 3, 2, 3, 3, 3, 3, 3, 3, 3, 3]\n",
      "[3, 3, 3, 3, 3, 3, 3, 3, 3, 3, 3, 3, 3, 3, 3]\n",
      "[2, 2, 2, 2, 2, 2, 4, 2, 2, 2, 2, 2, 2, 2, 2]\n",
      "[2, 2, 2, 2, 2, 2, 2, 2, 2, 2, 2, 2, 2, 2, 2]\n",
      "[3, 3, 5, 5, 3, 5, 3, 3, 3, 3, 3, 3, 3, 3, 3]\n",
      "[1, 1, 1, 1, 1, 1, 1, 1, 1, 1, 3, 1, 1, 1, 1]\n",
      "[0, 0, 0, 0, 0, 0, 4, 0, 0, 0, 4, 0, 0, 0, 0]\n",
      "[3, 3, 3, 3, 3, 3, 3, 3, 3, 3, 3, 3, 3, 3, 3]\n",
      "[5, 5, 5, 5, 5, 5, 5, 5, 5, 5, 5, 5, 5, 5, 5]\n",
      "[2, 2, 2, 2, 2, 2, 2, 2, 2, 2, 2, 2, 2, 2, 2]\n",
      "[4, 4, 4, 4, 4, 4, 4, 4, 4, 4, 4, 4, 4, 4, 4]\n",
      "[4, 0, 0, 0, 0, 4, 4, 0, 4, 0, 0, 0, 0, 4, 4]\n",
      "[4, 4, 4, 4, 4, 4, 4, 4, 4, 4, 4, 4, 4, 4, 4]\n",
      "[1, 1, 1, 1, 1, 1, 1, 1, 1, 1, 1, 1, 1, 1, 1]\n",
      "[1, 1, 3, 3, 3, 1, 3, 3, 3, 1, 3, 3, 3, 3, 3]\n",
      "[2, 2, 3, 3, 3, 2, 3, 2, 2, 2, 2, 2, 2, 2, 2]\n",
      "[1, 3, 3, 3, 3, 3, 3, 3, 3, 3, 3, 3, 3, 3, 3]\n",
      "[2, 2, 2, 2, 2, 2, 2, 2, 2, 2, 2, 2, 2, 2, 2]\n",
      "[1, 1, 1, 1, 1, 1, 1, 1, 1, 1, 1, 1, 1, 1, 1]\n",
      "[3, 3, 3, 3, 3, 3, 3, 3, 3, 3, 3, 3, 3, 3, 3]\n",
      "[3, 5, 3, 5, 3, 3, 5, 5, 5, 5, 5, 3, 3, 3, 5]\n",
      "[1, 1, 1, 1, 1, 1, 1, 1, 1, 1, 1, 1, 1, 1, 1]\n",
      "[1, 1, 1, 1, 1, 1, 1, 1, 1, 1, 1, 3, 1, 1, 1]\n",
      "[5, 5, 5, 5, 5, 5, 5, 5, 5, 5, 5, 5, 5, 5, 5]\n",
      "[1, 0, 5, 4, 1, 4, 1, 1, 1, 1, 1, 1, 1, 4, 0]\n",
      "[4, 4, 4, 4, 4, 4, 4, 4, 4, 4, 4, 4, 4, 4, 4]\n",
      "[4, 4, 4, 4, 4, 4, 4, 4, 4, 4, 4, 4, 4, 4, 4]\n",
      "[5, 5, 5, 5, 5, 5, 5, 5, 5, 5, 5, 5, 5, 5, 5]\n",
      "[4, 4, 4, 4, 0, 4, 4, 4, 4, 0, 4, 4, 0, 4, 0]\n",
      "[4, 4, 4, 4, 4, 4, 4, 4, 4, 4, 4, 4, 4, 4, 4]\n",
      "[1, 3, 3, 3, 3, 3, 3, 3, 3, 3, 3, 3, 3, 3, 3]\n",
      "[3, 3, 3, 3, 3, 3, 3, 3, 4, 3, 3, 3, 3, 3, 3]\n",
      "[3, 3, 3, 3, 3, 3, 3, 3, 3, 3, 3, 3, 3, 3, 3]\n",
      "[1, 1, 1, 1, 1, 1, 1, 1, 1, 1, 1, 1, 1, 1, 1]\n",
      "[4, 4, 4, 4, 4, 4, 4, 4, 4, 4, 4, 4, 4, 4, 4]\n",
      "[5, 5, 5, 5, 5, 5, 5, 5, 5, 5, 5, 5, 5, 5, 5]\n",
      "[5, 5, 5, 5, 5, 5, 5, 5, 5, 5, 5, 5, 5, 5, 5]\n",
      "[5, 5, 5, 5, 5, 5, 5, 5, 2, 5, 5, 5, 5, 5, 5]\n",
      "[3, 3, 5, 5, 5, 5, 5, 3, 3, 3, 3, 3, 3, 5, 3]\n",
      "[1, 3, 1, 1, 1, 3, 3, 1, 1, 1, 3, 3, 3, 1, 1]\n",
      "[3, 3, 3, 3, 3, 3, 3, 3, 3, 3, 3, 3, 3, 3, 3]\n",
      "[3, 3, 3, 3, 3, 3, 3, 3, 3, 3, 3, 3, 3, 3, 3]\n",
      "[3, 1, 3, 1, 1, 1, 3, 1, 3, 1, 3, 3, 3, 3, 1]\n",
      "[5, 5, 5, 5, 5, 5, 5, 5, 5, 5, 5, 5, 5, 5, 5]\n",
      "[3, 3, 3, 3, 3, 3, 3, 3, 3, 3, 3, 3, 3, 3, 3]\n",
      "[3, 3, 5, 3, 3, 5, 3, 5, 5, 3, 3, 3, 3, 3, 3]\n",
      "[5, 5, 5, 5, 5, 5, 5, 5, 5, 5, 5, 5, 5, 5, 5]\n",
      "[5, 5, 5, 5, 5, 5, 5, 5, 5, 5, 5, 5, 5, 5, 5]\n",
      "[3, 3, 3, 3, 3, 3, 3, 3, 3, 3, 3, 3, 3, 3, 3]\n",
      "[4, 4, 4, 4, 4, 4, 4, 4, 4, 4, 4, 4, 4, 4, 4]\n",
      "[5, 5, 3, 5, 5, 5, 5, 5, 3, 3, 3, 3, 3, 5, 5]\n",
      "[0, 0, 0, 0, 0, 4, 4, 0, 0, 0, 4, 0, 0, 0, 0]\n",
      "[5, 5, 5, 5, 5, 5, 5, 5, 5, 5, 5, 5, 5, 5, 5]\n",
      "[1, 1, 1, 1, 1, 1, 1, 1, 3, 1, 5, 1, 1, 1, 1]\n",
      "[5, 3, 5, 5, 5, 5, 5, 5, 5, 5, 5, 5, 5, 5, 3]\n",
      "[0, 0, 0, 0, 0, 0, 0, 0, 0, 0, 0, 0, 0, 0, 0]\n",
      "[2, 2, 3, 2, 2, 2, 2, 2, 2, 2, 2, 2, 2, 2, 2]\n",
      "[5, 5, 5, 5, 5, 5, 5, 5, 5, 5, 5, 5, 5, 5, 5]\n",
      "[3, 3, 3, 3, 3, 3, 3, 1, 3, 3, 3, 3, 3, 3, 1]\n",
      "[2, 3, 2, 3, 3, 3, 3, 3, 3, 3, 3, 3, 3, 3, 3]\n",
      "[0, 4, 4, 4, 4, 0, 4, 4, 0, 0, 0, 4, 0, 0, 4]\n",
      "[3, 3, 3, 3, 3, 3, 3, 3, 3, 3, 3, 3, 3, 3, 3]\n",
      "[1, 1, 1, 3, 1, 1, 1, 1, 1, 3, 1, 1, 3, 3, 1]\n",
      "[5, 5, 5, 5, 5, 5, 5, 5, 5, 5, 5, 5, 5, 5, 5]\n",
      "[4, 4, 0, 4, 4, 4, 4, 4, 4, 4, 4, 4, 0, 4, 4]\n",
      "[4, 4, 4, 4, 4, 4, 4, 4, 4, 4, 4, 4, 4, 4, 4]\n",
      "[4, 4, 4, 4, 4, 4, 4, 4, 4, 4, 4, 4, 4, 4, 4]\n",
      "[5, 5, 5, 5, 5, 5, 5, 5, 5, 5, 5, 5, 5, 5, 5]\n",
      "[2, 2, 2, 2, 2, 2, 2, 2, 2, 2, 2, 2, 2, 2, 2]\n",
      "[4, 0, 4, 0, 4, 4, 4, 4, 0, 0, 0, 4, 0, 4, 4]\n",
      "[3, 3, 3, 3, 3, 3, 3, 3, 3, 3, 3, 3, 3, 3, 3]\n",
      "[3, 3, 3, 3, 5, 3, 3, 3, 3, 3, 3, 3, 3, 3, 3]\n",
      "[2, 2, 2, 2, 2, 2, 2, 2, 2, 2, 2, 2, 2, 2, 2]\n",
      "[4, 4, 4, 4, 4, 4, 4, 4, 4, 4, 4, 4, 4, 4, 4]\n",
      "[3, 3, 5, 5, 5, 3, 5, 5, 5, 3, 5, 3, 5, 5, 5]\n",
      "[3, 3, 3, 3, 3, 3, 3, 3, 3, 3, 3, 3, 3, 3, 3]\n",
      "[5, 5, 5, 5, 5, 5, 5, 5, 5, 5, 5, 5, 5, 5, 5]\n",
      "[5, 5, 5, 5, 5, 5, 5, 5, 5, 3, 3, 5, 5, 5, 5]\n",
      "[4, 4, 0, 4, 4, 4, 4, 4, 0, 4, 4, 4, 4, 4, 4]\n",
      "[2, 2, 2, 2, 2, 2, 2, 2, 2, 2, 2, 2, 2, 2, 2]\n",
      "[0, 0, 0, 0, 0, 4, 0, 0, 0, 0, 0, 0, 0, 0, 0]\n",
      "[5, 5, 5, 5, 5, 5, 5, 5, 5, 5, 5, 5, 5, 5, 5]\n",
      "[2, 2, 2, 2, 2, 2, 2, 2, 2, 2, 2, 5, 2, 2, 2]\n",
      "[1, 1, 1, 1, 1, 1, 1, 1, 1, 1, 1, 1, 1, 1, 3]\n",
      "[4, 3, 3, 3, 3, 3, 3, 4, 3, 4, 3, 3, 3, 3, 3]\n",
      "[3, 3, 3, 3, 3, 3, 3, 3, 3, 3, 3, 3, 3, 1, 3]\n",
      "[4, 4, 4, 0, 0, 4, 4, 0, 0, 4, 4, 4, 0, 4, 0]\n",
      "[4, 4, 0, 0, 4, 0, 4, 4, 4, 0, 4, 0, 0, 4, 0]\n",
      "[4, 4, 4, 4, 4, 4, 4, 4, 4, 4, 4, 4, 4, 4, 4]\n",
      "[1, 1, 1, 1, 1, 1, 1, 1, 1, 1, 1, 1, 1, 1, 1]\n",
      "[4, 4, 0, 0, 4, 4, 4, 0, 4, 4, 4, 0, 0, 4, 4]\n",
      "[3, 3, 3, 3, 3, 3, 3, 3, 3, 3, 3, 3, 3, 3, 3]\n",
      "[5, 0, 3, 0, 0, 3, 3, 3, 0, 3, 3, 3, 5, 3, 3]\n",
      "[4, 4, 4, 4, 4, 4, 4, 5, 4, 4, 5, 0, 4, 1, 5]\n",
      "[4, 4, 4, 4, 4, 4, 4, 4, 4, 4, 4, 4, 4, 4, 4]\n",
      "[1, 3, 1, 1, 1, 3, 1, 1, 1, 1, 3, 1, 3, 1, 1]\n",
      "[5, 5, 5, 5, 5, 5, 5, 5, 5, 5, 5, 5, 0, 5, 5]\n",
      "[3, 3, 3, 3, 3, 3, 3, 2, 3, 3, 3, 3, 3, 3, 3]\n",
      "[3, 3, 3, 3, 3, 3, 3, 3, 3, 3, 3, 3, 3, 3, 3]\n",
      "[3, 3, 3, 3, 3, 3, 3, 3, 3, 3, 3, 3, 3, 3, 3]\n",
      "[0, 0, 0, 0, 0, 0, 0, 0, 4, 0, 0, 0, 0, 0, 4]\n"
     ]
    },
    {
     "name": "stdout",
     "output_type": "stream",
     "text": [
      "[1, 1, 1, 1, 1, 1, 1, 1, 1, 1, 1, 1, 1, 1, 1]\n",
      "[3, 3, 3, 3, 3, 3, 3, 3, 3, 3, 3, 3, 3, 3, 3]\n",
      "[1, 4, 1, 1, 1, 1, 4, 1, 1, 1, 1, 1, 1, 1, 1]\n",
      "[1, 1, 1, 1, 1, 1, 1, 1, 1, 1, 1, 1, 1, 1, 1]\n",
      "[0, 0, 0, 0, 0, 0, 0, 0, 0, 0, 0, 0, 0, 0, 0]\n",
      "[5, 5, 5, 5, 5, 5, 5, 5, 5, 5, 5, 5, 5, 5, 5]\n",
      "[5, 5, 5, 5, 5, 5, 5, 5, 5, 5, 5, 5, 5, 5, 5]\n",
      "[3, 5, 5, 5, 3, 3, 5, 3, 5, 5, 3, 3, 5, 3, 5]\n",
      "[4, 4, 0, 0, 4, 4, 4, 4, 4, 4, 4, 4, 0, 4, 4]\n",
      "[2, 2, 2, 2, 2, 2, 2, 2, 2, 2, 2, 2, 2, 2, 2]\n",
      "[5, 5, 5, 5, 5, 5, 5, 5, 5, 5, 5, 5, 5, 5, 5]\n",
      "[1, 1, 1, 1, 1, 1, 1, 1, 1, 1, 1, 1, 1, 1, 1]\n",
      "[1, 1, 3, 1, 1, 3, 1, 1, 1, 1, 1, 1, 1, 1, 1]\n",
      "[2, 5, 5, 5, 5, 5, 5, 5, 5, 5, 5, 5, 5, 5, 5]\n",
      "[4, 4, 4, 4, 4, 4, 4, 4, 4, 4, 4, 4, 4, 4, 4]\n",
      "[5, 5, 5, 5, 5, 5, 5, 5, 5, 5, 5, 5, 5, 5, 5]\n",
      "[5, 5, 5, 5, 5, 5, 5, 5, 5, 5, 5, 5, 5, 5, 5]\n",
      "[1, 1, 1, 1, 1, 1, 1, 1, 1, 1, 3, 3, 1, 3, 1]\n",
      "[4, 4, 4, 4, 4, 4, 4, 4, 4, 4, 4, 4, 4, 4, 4]\n",
      "[4, 4, 4, 4, 4, 4, 4, 4, 4, 4, 4, 4, 4, 4, 4]\n",
      "[5, 5, 5, 5, 5, 5, 5, 5, 5, 5, 5, 5, 5, 5, 5]\n",
      "[1, 1, 1, 1, 1, 1, 1, 1, 1, 1, 1, 1, 3, 1, 1]\n",
      "[3, 3, 3, 3, 3, 3, 3, 3, 3, 3, 3, 3, 3, 3, 3]\n",
      "[3, 3, 3, 3, 3, 3, 3, 3, 3, 3, 3, 3, 3, 3, 3]\n",
      "[3, 4, 5, 5, 3, 5, 5, 5, 3, 5, 3, 3, 3, 3, 5]\n",
      "[4, 0, 0, 0, 3, 0, 4, 4, 4, 0, 5, 4, 0, 4, 4]\n",
      "[4, 0, 0, 0, 4, 4, 4, 4, 4, 0, 0, 4, 0, 4, 4]\n",
      "[1, 1, 1, 1, 1, 1, 1, 1, 1, 1, 1, 1, 1, 1, 3]\n",
      "[3, 3, 3, 3, 1, 1, 3, 3, 3, 3, 1, 3, 3, 3, 3]\n",
      "[4, 4, 4, 4, 4, 4, 4, 4, 4, 4, 4, 4, 4, 4, 4]\n",
      "[2, 2, 2, 2, 2, 2, 2, 2, 2, 2, 2, 2, 2, 2, 2]\n",
      "[3, 3, 3, 3, 3, 3, 3, 3, 3, 3, 3, 3, 3, 3, 3]\n",
      "[4, 4, 4, 4, 4, 4, 4, 4, 4, 4, 4, 4, 4, 4, 4]\n",
      "[4, 4, 4, 4, 3, 4, 3, 4, 4, 4, 3, 4, 3, 4, 4]\n",
      "[5, 5, 5, 5, 5, 5, 5, 5, 5, 5, 5, 5, 5, 5, 5]\n",
      "[1, 1, 1, 1, 1, 1, 3, 1, 1, 1, 3, 1, 1, 3, 3]\n",
      "[1, 1, 3, 1, 3, 1, 3, 1, 1, 3, 3, 1, 1, 1, 1]\n",
      "[4, 4, 4, 4, 4, 4, 4, 4, 4, 4, 4, 4, 4, 4, 4]\n",
      "[1, 1, 1, 1, 1, 1, 1, 1, 1, 1, 1, 1, 1, 1, 1]\n",
      "[3, 3, 3, 3, 3, 3, 3, 3, 3, 3, 3, 3, 3, 3, 3]\n",
      "[2, 2, 3, 2, 3, 3, 2, 2, 2, 3, 2, 3, 2, 2, 2]\n",
      "[0, 0, 0, 0, 0, 0, 0, 0, 0, 0, 0, 0, 0, 0, 0]\n",
      "[4, 4, 4, 4, 4, 4, 4, 4, 4, 4, 4, 4, 4, 4, 4]\n",
      "[5, 5, 5, 5, 5, 5, 5, 5, 5, 5, 5, 5, 5, 5, 5]\n",
      "[3, 3, 3, 3, 3, 3, 3, 1, 3, 3, 3, 3, 3, 3, 3]\n",
      "[1, 1, 3, 1, 1, 1, 1, 1, 1, 1, 1, 1, 1, 1, 1]\n",
      "[1, 3, 3, 1, 1, 3, 3, 1, 1, 1, 1, 3, 3, 3, 1]\n",
      "[4, 4, 4, 4, 4, 4, 4, 4, 4, 4, 4, 4, 4, 4, 4]\n",
      "[1, 2, 3, 3, 1, 3, 3, 3, 2, 3, 1, 1, 1, 2, 3]\n",
      "[2, 2, 2, 2, 2, 2, 2, 2, 2, 2, 2, 2, 2, 2, 2]\n",
      "[3, 3, 3, 3, 3, 3, 3, 3, 3, 3, 3, 3, 3, 3, 3]\n",
      "[5, 5, 5, 5, 5, 5, 5, 5, 5, 5, 5, 5, 5, 5, 5]\n",
      "[4, 4, 4, 4, 4, 4, 4, 4, 4, 4, 4, 4, 4, 4, 4]\n",
      "[3, 3, 3, 1, 3, 3, 3, 3, 1, 3, 3, 2, 1, 3, 3]\n",
      "[0, 4, 0, 0, 0, 0, 0, 0, 4, 0, 0, 0, 0, 0, 0]\n",
      "[2, 2, 2, 2, 2, 2, 2, 2, 2, 2, 2, 2, 2, 2, 2]\n",
      "[3, 3, 3, 3, 3, 3, 3, 3, 3, 3, 3, 3, 3, 3, 3]\n",
      "[3, 3, 3, 3, 3, 3, 3, 3, 3, 3, 3, 3, 3, 3, 3]\n",
      "[3, 3, 3, 3, 3, 3, 3, 3, 3, 3, 3, 3, 3, 3, 3]\n",
      "[3, 0, 0, 1, 0, 1, 1, 0, 1, 0, 0, 0, 0, 4, 0]\n",
      "[0, 4, 4, 0, 0, 4, 4, 0, 0, 0, 4, 4, 4, 4, 0]\n",
      "[3, 5, 5, 3, 3, 5, 3, 3, 3, 3, 3, 3, 5, 3, 5]\n",
      "[4, 4, 4, 4, 4, 4, 4, 0, 4, 4, 4, 4, 4, 4, 4]\n",
      "[4, 4, 4, 4, 4, 4, 4, 4, 4, 4, 4, 0, 4, 4, 4]\n",
      "[5, 5, 5, 5, 5, 5, 5, 5, 5, 5, 5, 5, 5, 5, 5]\n",
      "[4, 4, 4, 4, 0, 4, 4, 4, 4, 4, 4, 4, 4, 4, 4]\n",
      "[5, 5, 5, 5, 5, 5, 5, 5, 5, 5, 5, 3, 5, 5, 5]\n",
      "[3, 3, 3, 3, 3, 3, 3, 3, 3, 3, 3, 3, 3, 3, 3]\n",
      "[0, 0, 0, 0, 0, 0, 0, 0, 0, 0, 0, 0, 0, 0, 0]\n",
      "[1, 1, 1, 1, 1, 1, 1, 1, 1, 1, 1, 1, 1, 1, 3]\n",
      "[5, 5, 5, 5, 5, 5, 5, 5, 5, 5, 5, 5, 5, 5, 5]\n",
      "[3, 3, 3, 1, 1, 3, 1, 3, 3, 3, 3, 3, 3, 1, 3]\n",
      "[5, 5, 5, 5, 5, 5, 5, 5, 5, 5, 5, 5, 5, 5, 5]\n",
      "[1, 1, 1, 1, 1, 1, 1, 1, 3, 1, 1, 1, 1, 1, 1]\n",
      "[3, 3, 3, 3, 3, 3, 3, 3, 3, 3, 3, 3, 3, 3, 3]\n",
      "[4, 4, 4, 4, 4, 4, 4, 4, 4, 4, 4, 4, 4, 4, 4]\n",
      "[3, 3, 3, 3, 3, 3, 3, 3, 3, 3, 3, 3, 3, 3, 3]\n",
      "[3, 3, 3, 3, 3, 3, 3, 3, 3, 3, 3, 3, 3, 3, 3]\n",
      "[3, 3, 3, 3, 3, 3, 3, 3, 3, 3, 3, 3, 3, 3, 3]\n",
      "[4, 4, 4, 4, 4, 4, 4, 4, 4, 4, 4, 4, 4, 4, 4]\n",
      "[5, 5, 5, 5, 5, 5, 5, 5, 5, 5, 5, 5, 5, 5, 5]\n",
      "[2, 2, 2, 2, 2, 2, 2, 2, 2, 2, 2, 2, 2, 2, 2]\n",
      "[0, 4, 4, 4, 4, 4, 4, 4, 4, 4, 4, 4, 4, 4, 4]\n",
      "[5, 5, 5, 5, 5, 5, 5, 5, 5, 5, 5, 5, 5, 5, 5]\n",
      "[4, 4, 4, 0, 4, 0, 4, 4, 4, 4, 4, 4, 0, 4, 4]\n",
      "[3, 3, 3, 3, 3, 3, 3, 3, 3, 3, 3, 3, 3, 3, 3]\n",
      "[3, 5, 3, 5, 3, 3, 5, 5, 5, 5, 5, 5, 5, 3, 5]\n",
      "[3, 3, 3, 3, 3, 3, 3, 3, 3, 1, 3, 3, 3, 3, 3]\n",
      "[3, 3, 3, 3, 3, 3, 3, 3, 3, 3, 3, 3, 3, 3, 3]\n",
      "[2, 2, 2, 2, 2, 2, 2, 2, 2, 2, 2, 2, 2, 2, 2]\n",
      "[2, 2, 2, 2, 2, 2, 2, 2, 2, 2, 2, 2, 2, 2, 2]\n",
      "[0, 4, 0, 0, 4, 4, 4, 4, 4, 0, 4, 0, 0, 4, 0]\n",
      "[1, 1, 1, 1, 1, 1, 1, 1, 1, 1, 1, 1, 1, 1, 1]\n",
      "[5, 5, 5, 5, 5, 5, 5, 5, 5, 5, 5, 5, 5, 5, 5]\n",
      "[3, 3, 3, 3, 3, 3, 3, 3, 3, 3, 3, 3, 3, 3, 3]\n",
      "[4, 4, 4, 4, 4, 4, 4, 4, 4, 4, 4, 4, 4, 4, 4]\n",
      "[4, 5, 5, 4, 5, 5, 5, 5, 5, 5, 4, 4, 3, 5, 4]\n",
      "[3, 3, 3, 3, 3, 3, 3, 3, 3, 3, 3, 3, 3, 3, 3]\n",
      "[4, 4, 4, 4, 4, 4, 4, 4, 4, 4, 4, 4, 4, 4, 4]\n",
      "[3, 3, 3, 3, 3, 3, 3, 3, 3, 3, 3, 3, 3, 3, 3]\n",
      "[1, 3, 1, 1, 4, 1, 3, 3, 1, 1, 3, 1, 1, 1, 1]\n",
      "[1, 1, 1, 3, 1, 1, 1, 1, 1, 1, 1, 3, 1, 1, 1]\n",
      "[3, 3, 3, 3, 3, 3, 3, 3, 3, 3, 3, 3, 3, 3, 3]\n",
      "[3, 3, 3, 1, 3, 3, 3, 3, 1, 3, 3, 3, 3, 1, 3]\n",
      "[3, 5, 2, 5, 5, 5, 5, 5, 5, 5, 2, 5, 3, 5, 5]\n",
      "[3, 3, 3, 3, 3, 3, 1, 3, 3, 3, 3, 3, 3, 3, 3]\n",
      "[3, 3, 3, 3, 3, 3, 3, 3, 3, 3, 3, 3, 3, 3, 3]\n",
      "[3, 3, 3, 3, 3, 3, 3, 3, 3, 3, 3, 3, 3, 3, 3]\n",
      "[5, 5, 5, 5, 5, 5, 5, 5, 5, 5, 5, 5, 5, 5, 5]\n",
      "[5, 5, 5, 5, 5, 5, 5, 5, 5, 5, 5, 5, 5, 5, 5]\n",
      "[5, 5, 5, 5, 5, 5, 5, 5, 5, 5, 5, 5, 5, 5, 5]\n",
      "[4, 4, 4, 4, 4, 4, 4, 0, 4, 4, 4, 0, 4, 4, 4]\n",
      "[3, 3, 3, 3, 3, 3, 3, 2, 3, 3, 3, 3, 2, 3, 3]\n",
      "[1, 1, 3, 3, 1, 1, 1, 1, 3, 3, 3, 1, 3, 3, 1]\n",
      "[4, 4, 4, 4, 4, 4, 4, 4, 4, 4, 4, 4, 4, 4, 4]\n",
      "[4, 4, 4, 4, 4, 4, 4, 4, 4, 4, 4, 4, 4, 4, 4]\n",
      "[5, 5, 5, 5, 5, 5, 5, 5, 5, 5, 5, 5, 5, 5, 5]\n",
      "[2, 2, 2, 2, 2, 2, 2, 2, 2, 2, 2, 2, 2, 2, 2]\n",
      "[3, 3, 3, 3, 5, 5, 5, 3, 3, 3, 3, 3, 3, 3, 3]\n",
      "[3, 3, 3, 3, 3, 3, 3, 3, 3, 3, 3, 3, 3, 3, 3]\n",
      "[2, 3, 3, 2, 2, 2, 2, 2, 3, 2, 2, 2, 2, 3, 2]\n",
      "[1, 1, 1, 1, 1, 1, 1, 1, 1, 1, 1, 1, 1, 3, 1]\n",
      "[3, 3, 3, 1, 3, 3, 3, 3, 3, 3, 3, 3, 3, 3, 3]\n",
      "[3, 3, 3, 3, 3, 3, 3, 3, 3, 3, 3, 3, 3, 5, 3]\n",
      "[0, 0, 0, 0, 0, 4, 0, 0, 4, 4, 4, 0, 0, 4, 4]\n",
      "[5, 5, 5, 5, 5, 5, 5, 5, 5, 5, 5, 5, 5, 5, 5]\n",
      "[3, 5, 3, 5, 5, 5, 5, 3, 3, 3, 3, 3, 3, 3, 5]\n",
      "[3, 3, 3, 3, 3, 3, 3, 3, 3, 3, 3, 3, 3, 3, 3]\n",
      "[4, 4, 4, 0, 4, 4, 4, 0, 0, 0, 4, 4, 0, 4, 4]\n",
      "[4, 0, 0, 0, 0, 4, 0, 0, 0, 0, 4, 0, 0, 4, 0]\n",
      "[3, 1, 3, 3, 1, 3, 3, 1, 3, 1, 3, 3, 3, 3, 3]\n",
      "[3, 1, 3, 4, 3, 3, 1, 3, 3, 1, 3, 3, 3, 3, 3]\n",
      "[3, 3, 3, 3, 3, 3, 3, 3, 3, 3, 3, 3, 3, 3, 3]\n",
      "[5, 5, 5, 5, 5, 5, 5, 5, 5, 5, 5, 5, 5, 5, 5]\n",
      "[1, 1, 1, 1, 1, 1, 1, 1, 1, 1, 1, 1, 1, 1, 1]\n",
      "[5, 5, 5, 5, 5, 5, 5, 5, 5, 5, 5, 5, 5, 5, 5]\n",
      "[3, 3, 1, 1, 1, 3, 3, 1, 1, 1, 1, 1, 3, 1, 1]\n",
      "[4, 4, 4, 0, 0, 4, 4, 4, 4, 0, 4, 0, 0, 0, 0]\n",
      "[3, 3, 3, 3, 3, 3, 3, 3, 3, 3, 3, 3, 3, 3, 3]\n",
      "[4, 4, 4, 4, 1, 4, 1, 4, 4, 1, 1, 3, 1, 4, 4]\n",
      "[3, 3, 3, 1, 3, 3, 1, 3, 3, 3, 3, 3, 3, 3, 3]\n",
      "[3, 3, 3, 3, 3, 3, 3, 3, 3, 3, 3, 3, 3, 3, 3]\n",
      "[4, 4, 4, 4, 4, 4, 4, 4, 4, 4, 4, 4, 4, 4, 4]\n",
      "[5, 0, 4, 5, 4, 0, 0, 5, 4, 4, 0, 5, 0, 0, 4]\n",
      "[3, 5, 3, 5, 5, 3, 3, 3, 3, 3, 2, 3, 3, 3, 3]\n",
      "[3, 3, 3, 3, 3, 3, 3, 3, 3, 3, 3, 3, 3, 3, 3]\n",
      "[3, 3, 3, 1, 1, 3, 3, 3, 3, 3, 3, 3, 3, 3, 3]\n",
      "[3, 3, 3, 3, 3, 3, 3, 3, 3, 3, 3, 3, 3, 3, 3]\n",
      "[0, 0, 0, 0, 0, 0, 0, 0, 0, 0, 0, 0, 0, 0, 0]\n",
      "[4, 4, 4, 4, 4, 4, 4, 4, 4, 4, 4, 4, 4, 4, 4]\n",
      "[5, 5, 3, 5, 5, 3, 5, 5, 5, 3, 3, 3, 5, 5, 5]\n",
      "[3, 3, 3, 3, 3, 3, 3, 3, 3, 3, 3, 3, 3, 3, 3]\n",
      "[3, 3, 3, 3, 3, 3, 3, 3, 3, 3, 3, 3, 3, 3, 3]\n",
      "[0, 0, 0, 0, 0, 0, 0, 0, 0, 0, 0, 0, 0, 0, 0]\n",
      "[5, 5, 5, 5, 5, 5, 5, 5, 5, 5, 5, 5, 5, 5, 5]\n",
      "[3, 3, 3, 3, 4, 3, 3, 3, 3, 3, 3, 3, 3, 3, 3]\n",
      "[2, 2, 2, 2, 2, 2, 2, 2, 2, 2, 2, 2, 2, 2, 2]\n",
      "[4, 4, 4, 4, 4, 4, 4, 4, 4, 4, 4, 0, 0, 4, 4]\n",
      "[2, 2, 2, 2, 2, 2, 2, 2, 2, 2, 2, 2, 2, 2, 2]\n",
      "[1, 1, 1, 1, 1, 1, 1, 1, 1, 1, 1, 1, 1, 1, 1]\n",
      "[0, 0, 4, 4, 4, 4, 0, 0, 0, 0, 4, 4, 0, 0, 4]\n",
      "[4, 4, 4, 4, 4, 4, 4, 4, 4, 4, 4, 4, 4, 4, 4]\n",
      "[3, 5, 5, 5, 3, 5, 3, 5, 4, 5, 3, 3, 5, 5, 5]\n",
      "[3, 1, 3, 3, 3, 3, 1, 3, 1, 3, 3, 3, 3, 3, 3]\n",
      "[5, 5, 5, 5, 5, 5, 5, 5, 5, 5, 5, 3, 5, 3, 5]\n",
      "[1, 1, 1, 1, 1, 1, 1, 1, 1, 1, 1, 1, 1, 1, 3]\n",
      "[4, 4, 4, 4, 4, 4, 4, 4, 4, 4, 4, 4, 4, 4, 4]\n",
      "[5, 5, 5, 5, 5, 5, 5, 5, 5, 5, 5, 5, 5, 5, 5]\n",
      "[5, 5, 5, 5, 5, 5, 5, 5, 5, 5, 5, 5, 5, 5, 5]\n",
      "[5, 5, 5, 5, 5, 5, 5, 5, 5, 5, 5, 5, 5, 5, 5]\n",
      "[3, 3, 3, 5, 3, 3, 3, 3, 3, 3, 3, 3, 3, 3, 3]\n",
      "[3, 5, 3, 5, 3, 3, 5, 5, 3, 3, 3, 3, 3, 3, 5]\n",
      "[3, 3, 3, 3, 3, 3, 3, 3, 3, 3, 3, 3, 3, 3, 3]\n",
      "[1, 1, 1, 1, 1, 1, 1, 1, 1, 1, 1, 1, 3, 1, 1]\n",
      "[5, 5, 5, 5, 5, 5, 5, 5, 5, 5, 5, 5, 5, 5, 5]\n",
      "[4, 0, 0, 0, 0, 4, 4, 0, 0, 0, 4, 4, 0, 4, 0]\n",
      "[3, 3, 3, 3, 3, 3, 3, 3, 3, 3, 3, 3, 3, 3, 3]\n",
      "[5, 5, 5, 5, 5, 5, 5, 5, 5, 5, 5, 5, 5, 5, 5]\n",
      "[1, 1, 1, 1, 1, 1, 1, 1, 1, 1, 1, 1, 1, 1, 1]\n",
      "[5, 5, 5, 5, 5, 5, 3, 5, 5, 5, 3, 5, 5, 5, 5]\n",
      "[3, 3, 3, 3, 3, 3, 3, 3, 3, 1, 3, 3, 3, 3, 3]\n",
      "[1, 1, 1, 1, 3, 1, 1, 1, 1, 1, 1, 1, 3, 1, 1]\n",
      "[3, 3, 3, 3, 3, 3, 3, 3, 3, 3, 3, 3, 3, 3, 3]\n",
      "[0, 0, 0, 0, 3, 0, 0, 0, 0, 1, 4, 0, 0, 0, 0]\n",
      "[4, 4, 4, 4, 4, 4, 4, 4, 0, 4, 4, 4, 4, 4, 4]\n",
      "[4, 4, 4, 4, 4, 4, 4, 4, 4, 4, 4, 4, 4, 4, 4]\n",
      "[3, 3, 1, 3, 1, 3, 1, 1, 3, 3, 3, 3, 1, 3, 1]\n",
      "[3, 5, 5, 5, 5, 1, 3, 3, 3, 5, 3, 5, 5, 5, 5]\n",
      "[3, 3, 3, 3, 3, 3, 3, 3, 3, 3, 3, 3, 3, 3, 3]\n",
      "[4, 4, 4, 4, 4, 4, 4, 4, 4, 4, 4, 4, 4, 4, 4]\n",
      "[3, 3, 3, 3, 3, 3, 3, 3, 3, 3, 3, 3, 3, 3, 3]\n",
      "[5, 5, 5, 5, 5, 5, 5, 5, 5, 5, 5, 5, 5, 5, 5]\n",
      "[3, 3, 3, 3, 3, 3, 3, 3, 3, 3, 3, 3, 3, 3, 3]\n",
      "[2, 2, 2, 2, 2, 2, 2, 2, 2, 2, 2, 2, 2, 2, 2]\n",
      "[3, 4, 4, 4, 4, 3, 3, 3, 4, 3, 3, 3, 4, 3, 0]\n",
      "[4, 0, 0, 0, 0, 4, 0, 0, 0, 0, 0, 0, 0, 0, 0]\n",
      "[3, 3, 3, 3, 3, 3, 3, 3, 3, 3, 3, 3, 3, 3, 3]\n",
      "[3, 3, 3, 3, 3, 3, 3, 3, 1, 3, 3, 3, 3, 3, 1]\n",
      "[4, 4, 4, 4, 4, 4, 4, 4, 4, 4, 4, 4, 4, 4, 4]\n",
      "[1, 1, 3, 3, 1, 3, 3, 3, 1, 1, 3, 1, 3, 1, 3]\n",
      "[5, 5, 5, 5, 5, 5, 5, 5, 5, 5, 5, 5, 5, 5, 5]\n",
      "[1, 1, 1, 1, 1, 1, 1, 1, 1, 1, 1, 1, 1, 1, 1]\n",
      "[4, 4, 3, 4, 3, 4, 3, 4, 4, 3, 3, 3, 3, 4, 4]\n",
      "[3, 3, 3, 3, 3, 3, 3, 3, 3, 3, 3, 3, 3, 3, 3]\n",
      "[5, 5, 5, 5, 5, 5, 5, 5, 5, 5, 5, 5, 5, 5, 5]\n",
      "[5, 5, 5, 5, 5, 5, 5, 5, 5, 5, 3, 5, 5, 5, 5]\n",
      "[4, 4, 4, 4, 4, 4, 4, 4, 4, 4, 4, 4, 4, 4, 4]\n",
      "[1, 1, 1, 1, 1, 4, 1, 1, 4, 1, 1, 1, 1, 1, 4]\n",
      "[4, 4, 4, 4, 4, 4, 4, 4, 4, 4, 4, 4, 4, 4, 4]\n",
      "[5, 5, 5, 5, 5, 5, 5, 5, 5, 5, 5, 5, 5, 5, 5]\n",
      "[4, 4, 4, 4, 4, 4, 4, 4, 4, 4, 4, 4, 4, 4, 4]\n",
      "[4, 4, 4, 4, 4, 4, 4, 0, 4, 4, 4, 4, 4, 4, 4]\n",
      "[1, 3, 1, 1, 1, 3, 3, 3, 1, 1, 3, 3, 3, 3, 1]\n",
      "[3, 3, 3, 3, 3, 3, 3, 3, 3, 3, 3, 3, 3, 3, 3]\n",
      "[3, 3, 3, 3, 3, 3, 3, 3, 3, 3, 3, 3, 3, 3, 3]\n",
      "[3, 3, 1, 1, 1, 1, 1, 1, 1, 1, 3, 1, 1, 1, 3]\n",
      "[3, 3, 3, 5, 3, 5, 5, 3, 3, 3, 3, 3, 3, 3, 3]\n",
      "[4, 1, 1, 4, 1, 1, 4, 1, 1, 1, 1, 1, 1, 4, 1]\n",
      "[1, 3, 3, 1, 3, 1, 1, 1, 3, 1, 3, 1, 1, 3, 3]\n",
      "[0, 0, 0, 0, 0, 4, 0, 0, 0, 0, 0, 0, 0, 0, 0]\n",
      "[2, 2, 2, 2, 2, 2, 2, 2, 2, 2, 2, 2, 2, 2, 2]\n",
      "[3, 3, 3, 3, 3, 3, 3, 3, 3, 3, 3, 3, 3, 3, 3]\n",
      "[3, 3, 3, 3, 3, 3, 3, 3, 3, 3, 3, 3, 3, 3, 3]\n",
      "[4, 4, 4, 4, 4, 4, 4, 4, 4, 4, 4, 4, 0, 4, 4]\n",
      "[5, 5, 5, 5, 5, 5, 5, 5, 5, 5, 5, 5, 5, 5, 5]\n",
      "[4, 4, 4, 4, 4, 4, 4, 4, 4, 4, 4, 4, 4, 4, 4]\n",
      "[2, 2, 2, 2, 2, 2, 2, 2, 2, 2, 2, 2, 2, 2, 2]\n",
      "[4, 4, 4, 4, 4, 4, 4, 4, 4, 4, 4, 4, 4, 4, 4]\n",
      "[4, 4, 4, 4, 4, 4, 4, 4, 4, 4, 4, 4, 4, 4, 4]\n",
      "[4, 4, 4, 4, 4, 4, 4, 4, 4, 4, 4, 4, 0, 4, 4]\n",
      "[5, 3, 3, 3, 3, 3, 5, 4, 3, 3, 3, 3, 1, 3, 4]\n",
      "[0, 0, 0, 4, 4, 4, 4, 0, 0, 0, 0, 4, 0, 0, 4]\n",
      "[5, 5, 5, 5, 5, 5, 5, 5, 5, 5, 5, 5, 5, 5, 5]\n",
      "[3, 4, 3, 4, 0, 0, 3, 3, 4, 3, 4, 3, 3, 3, 4]\n",
      "[3, 5, 5, 5, 5, 5, 5, 5, 5, 5, 5, 5, 5, 5, 5]\n",
      "[1, 1, 1, 1, 1, 1, 1, 1, 3, 1, 5, 1, 1, 1, 1]\n",
      "[3, 5, 5, 5, 5, 5, 5, 5, 5, 5, 5, 5, 5, 5, 5]\n",
      "[5, 5, 5, 5, 5, 3, 3, 5, 5, 5, 5, 5, 5, 5, 5]\n",
      "[5, 5, 5, 5, 5, 5, 5, 5, 5, 5, 5, 5, 5, 5, 5]\n",
      "[1, 3, 1, 1, 1, 1, 1, 1, 1, 1, 1, 1, 1, 1, 1]\n",
      "[0, 4, 0, 0, 0, 4, 4, 4, 4, 0, 4, 0, 0, 0, 0]\n",
      "[3, 3, 3, 3, 3, 3, 3, 3, 3, 3, 3, 3, 3, 3, 3]\n",
      "[1, 1, 1, 1, 1, 1, 1, 1, 1, 1, 1, 1, 1, 1, 1]\n",
      "[2, 2, 2, 2, 2, 2, 2, 2, 2, 2, 2, 2, 2, 2, 2]\n",
      "[4, 4, 4, 0, 0, 4, 4, 4, 4, 0, 4, 0, 4, 4, 4]\n",
      "[5, 5, 5, 5, 5, 5, 5, 5, 5, 5, 5, 5, 5, 5, 5]\n",
      "[3, 3, 3, 3, 3, 3, 3, 3, 3, 3, 3, 3, 3, 3, 3]\n",
      "[4, 4, 4, 4, 4, 4, 4, 4, 4, 4, 4, 4, 4, 4, 4]\n",
      "[4, 0, 4, 0, 4, 4, 0, 4, 0, 0, 4, 4, 4, 4, 0]\n",
      "[1, 1, 1, 1, 1, 1, 1, 1, 1, 1, 1, 1, 1, 1, 1]\n",
      "[1, 1, 1, 1, 1, 1, 1, 1, 1, 1, 1, 1, 1, 1, 1]\n",
      "[3, 3, 3, 3, 3, 3, 3, 3, 3, 3, 3, 3, 3, 3, 3]\n",
      "[3, 3, 3, 3, 3, 3, 3, 3, 3, 3, 3, 3, 3, 3, 3]\n",
      "[3, 3, 3, 3, 3, 3, 3, 3, 3, 3, 3, 3, 3, 3, 3]\n",
      "[3, 3, 3, 1, 1, 3, 3, 3, 3, 3, 3, 3, 3, 1, 3]\n",
      "[0, 0, 0, 0, 0, 0, 0, 0, 0, 0, 0, 0, 0, 0, 0]\n",
      "[2, 2, 2, 2, 2, 2, 2, 2, 2, 2, 2, 2, 2, 2, 2]\n",
      "[3, 5, 3, 3, 5, 5, 5, 5, 5, 3, 3, 5, 5, 3, 3]\n",
      "[3, 4, 4, 3, 4, 4, 4, 4, 4, 4, 3, 5, 5, 4, 4]\n",
      "[1, 1, 1, 3, 3, 3, 1, 3, 1, 3, 1, 1, 1, 1, 1]\n",
      "[0, 0, 0, 0, 0, 0, 0, 0, 0, 0, 4, 0, 0, 4, 0]\n",
      "[3, 3, 3, 3, 3, 3, 3, 3, 3, 3, 3, 3, 3, 3, 3]\n",
      "[0, 0, 0, 0, 0, 4, 0, 0, 0, 0, 4, 0, 0, 4, 0]\n",
      "[4, 4, 4, 4, 4, 4, 4, 4, 4, 4, 4, 4, 4, 4, 4]\n",
      "[5, 5, 5, 3, 5, 3, 5, 5, 5, 5, 5, 5, 5, 5, 5]\n",
      "[0, 0, 4, 0, 0, 0, 4, 0, 0, 0, 4, 0, 0, 4, 0]\n",
      "[5, 3, 5, 1, 3, 1, 5, 1, 5, 5, 1, 5, 1, 1, 5]\n",
      "[2, 3, 3, 3, 3, 3, 3, 3, 3, 3, 3, 3, 3, 3, 3]\n",
      "[4, 0, 0, 0, 0, 0, 4, 0, 0, 4, 4, 0, 0, 0, 4]\n",
      "[3, 3, 4, 3, 4, 4, 4, 4, 3, 0, 3, 4, 3, 0, 3]\n",
      "[2, 3, 3, 3, 3, 5, 3, 2, 3, 2, 3, 3, 3, 3, 3]\n",
      "[2, 2, 2, 2, 2, 2, 2, 2, 2, 2, 2, 2, 2, 2, 2]\n",
      "[4, 0, 0, 0, 0, 0, 4, 0, 4, 0, 4, 4, 0, 4, 0]\n",
      "[4, 4, 4, 4, 4, 4, 4, 4, 4, 4, 4, 4, 4, 4, 4]\n",
      "[5, 5, 5, 5, 5, 5, 5, 5, 5, 5, 5, 5, 5, 5, 5]\n",
      "[3, 3, 3, 3, 3, 3, 3, 3, 3, 2, 3, 3, 3, 3, 3]\n",
      "[2, 2, 2, 2, 2, 2, 2, 2, 2, 2, 2, 2, 2, 2, 2]\n",
      "[3, 3, 5, 3, 5, 5, 3, 3, 3, 3, 3, 3, 5, 3, 5]\n",
      "[5, 5, 5, 5, 5, 5, 5, 5, 5, 5, 5, 5, 5, 5, 5]\n",
      "[3, 4, 3, 3, 3, 3, 3, 3, 4, 3, 3, 3, 3, 3, 3]\n",
      "[2, 2, 3, 3, 3, 3, 2, 3, 2, 3, 3, 3, 3, 3, 3]\n",
      "[3, 5, 5, 5, 5, 5, 3, 5, 3, 3, 5, 3, 5, 3, 5]\n",
      "[0, 4, 4, 0, 4, 4, 4, 0, 0, 0, 4, 4, 0, 4, 0]\n",
      "[3, 3, 3, 3, 3, 3, 3, 3, 3, 3, 3, 3, 3, 3, 3]\n",
      "[3, 3, 3, 3, 3, 3, 3, 3, 3, 3, 3, 3, 3, 3, 3]\n",
      "[4, 4, 4, 4, 4, 4, 4, 4, 4, 4, 4, 4, 4, 4, 4]\n",
      "[5, 5, 5, 5, 5, 5, 5, 5, 5, 5, 5, 5, 5, 5, 5]\n",
      "[4, 4, 4, 4, 4, 5, 4, 4, 4, 5, 4, 4, 3, 1, 4]\n",
      "[4, 4, 4, 4, 4, 4, 4, 4, 4, 4, 4, 4, 4, 4, 4]\n",
      "[3, 1, 3, 3, 1, 1, 1, 3, 3, 3, 3, 1, 3, 3, 1]\n",
      "[3, 3, 3, 3, 3, 3, 3, 3, 3, 3, 3, 3, 3, 3, 3]\n",
      "[1, 1, 1, 1, 1, 1, 1, 1, 1, 1, 1, 1, 1, 1, 1]\n",
      "[2, 2, 3, 2, 2, 2, 2, 2, 2, 2, 2, 2, 2, 2, 2]\n",
      "[4, 4, 4, 4, 4, 4, 1, 4, 4, 4, 4, 4, 4, 4, 4]\n",
      "[5, 5, 5, 5, 5, 5, 5, 5, 5, 5, 5, 5, 5, 5, 5]\n",
      "[3, 5, 5, 5, 5, 5, 5, 5, 5, 3, 3, 3, 3, 3, 5]\n",
      "[3, 5, 5, 5, 5, 5, 5, 5, 3, 5, 5, 5, 5, 5, 5]\n",
      "[1, 4, 2, 3, 3, 2, 3, 3, 3, 3, 2, 2, 2, 4, 2]\n",
      "[3, 3, 3, 3, 3, 3, 3, 1, 3, 3, 3, 3, 3, 3, 3]\n",
      "[5, 5, 5, 5, 5, 5, 5, 5, 5, 5, 5, 5, 5, 5, 5]\n",
      "[4, 4, 4, 0, 4, 4, 4, 0, 0, 0, 4, 4, 4, 4, 4]\n",
      "[3, 3, 3, 5, 3, 3, 3, 3, 3, 3, 3, 3, 3, 3, 3]\n",
      "[4, 4, 4, 4, 4, 4, 4, 4, 4, 4, 4, 4, 4, 4, 4]\n",
      "[3, 3, 3, 3, 1, 3, 3, 3, 3, 3, 3, 3, 3, 3, 3]\n",
      "[3, 3, 3, 3, 1, 3, 3, 1, 3, 3, 1, 3, 1, 3, 3]\n",
      "[3, 3, 3, 3, 3, 3, 3, 3, 3, 3, 3, 3, 3, 3, 3]\n",
      "[2, 2, 2, 2, 2, 2, 2, 2, 2, 2, 2, 2, 2, 2, 2]\n",
      "[2, 1, 1, 1, 1, 2, 1, 1, 2, 2, 1, 1, 1, 1, 1]\n",
      "[4, 4, 4, 4, 4, 4, 4, 4, 4, 4, 4, 4, 4, 4, 4]\n",
      "[3, 3, 3, 3, 3, 3, 3, 0, 3, 3, 3, 0, 3, 3, 3]\n",
      "[3, 3, 3, 3, 3, 3, 3, 3, 3, 3, 3, 2, 3, 3, 3]\n",
      "[5, 5, 5, 1, 1, 5, 0, 5, 5, 1, 5, 5, 5, 5, 5]\n",
      "[4, 4, 4, 4, 4, 1, 4, 4, 4, 4, 1, 1, 4, 4, 4]\n",
      "[4, 4, 4, 4, 4, 4, 4, 4, 4, 4, 4, 4, 4, 4, 4]\n",
      "[3, 1, 1, 3, 1, 4, 3, 3, 1, 1, 1, 3, 3, 3, 3]\n",
      "[3, 3, 3, 3, 3, 3, 3, 3, 3, 3, 3, 3, 3, 3, 3]\n",
      "[3, 3, 3, 3, 3, 3, 3, 3, 3, 3, 3, 3, 3, 3, 3]\n",
      "[2, 2, 2, 2, 2, 2, 2, 2, 3, 2, 2, 2, 2, 3, 2]\n",
      "[1, 3, 1, 1, 1, 3, 1, 1, 1, 1, 1, 1, 1, 1, 1]\n",
      "[3, 3, 3, 3, 3, 3, 3, 3, 2, 2, 3, 3, 3, 3, 3]\n",
      "[1, 1, 1, 1, 1, 1, 1, 1, 1, 1, 1, 1, 1, 1, 1]\n",
      "[4, 4, 4, 4, 4, 4, 4, 4, 4, 4, 4, 4, 4, 4, 4]\n",
      "[3, 3, 3, 3, 3, 3, 3, 3, 3, 3, 2, 2, 2, 3, 3]\n",
      "[5, 5, 5, 5, 5, 5, 5, 5, 5, 5, 5, 5, 5, 5, 5]\n",
      "[2, 2, 2, 2, 2, 2, 2, 2, 2, 2, 2, 2, 2, 2, 2]\n",
      "[1, 3, 1, 3, 3, 1, 3, 3, 3, 3, 3, 1, 3, 3, 1]\n",
      "[3, 3, 5, 3, 3, 3, 3, 5, 3, 3, 3, 3, 5, 3, 5]\n",
      "[3, 5, 5, 5, 5, 5, 3, 5, 5, 3, 5, 3, 5, 3, 5]\n",
      "[1, 1, 1, 1, 1, 1, 1, 1, 1, 1, 1, 1, 1, 1, 1]\n",
      "[3, 3, 3, 3, 3, 3, 3, 3, 3, 3, 3, 3, 3, 3, 3]\n",
      "[5, 5, 5, 5, 5, 5, 5, 5, 5, 5, 5, 5, 3, 3, 5]\n",
      "[3, 3, 3, 3, 3, 3, 3, 3, 3, 3, 3, 3, 3, 3, 3]\n",
      "[1, 0, 1, 4, 1, 1, 1, 0, 1, 1, 1, 1, 0, 1, 1]\n",
      "[2, 2, 2, 2, 2, 2, 2, 2, 2, 2, 2, 2, 2, 2, 2]\n",
      "[4, 4, 4, 4, 4, 4, 4, 0, 0, 0, 4, 4, 4, 4, 0]\n",
      "[3, 3, 0, 0, 0, 4, 4, 4, 3, 4, 4, 0, 4, 4, 3]\n",
      "[1, 3, 3, 1, 1, 3, 3, 1, 1, 1, 3, 1, 3, 1, 1]\n",
      "[1, 1, 3, 1, 3, 1, 3, 3, 1, 1, 3, 3, 3, 3, 1]\n",
      "[2, 2, 2, 2, 2, 2, 2, 2, 2, 2, 2, 2, 2, 2, 2]\n",
      "[3, 3, 3, 3, 3, 3, 3, 3, 3, 3, 3, 3, 3, 3, 3]\n",
      "[4, 0, 0, 0, 4, 4, 4, 4, 0, 0, 4, 0, 0, 4, 4]\n",
      "[0, 0, 0, 0, 0, 0, 0, 0, 4, 0, 0, 0, 0, 0, 4]\n",
      "[3, 3, 3, 3, 3, 3, 3, 3, 3, 3, 3, 3, 3, 3, 3]\n",
      "[3, 3, 3, 3, 3, 3, 3, 3, 3, 3, 3, 3, 3, 3, 3]\n",
      "[1, 1, 1, 1, 1, 1, 1, 3, 1, 1, 1, 1, 3, 1, 1]\n",
      "[5, 3, 1, 1, 3, 3, 1, 3, 3, 1, 3, 1, 3, 3, 5]\n",
      "[2, 2, 3, 2, 3, 3, 2, 2, 1, 2, 2, 3, 3, 3, 3]\n",
      "[2, 2, 1, 2, 3, 1, 3, 2, 5, 2, 3, 3, 3, 2, 3]\n",
      "[3, 3, 3, 3, 3, 3, 3, 3, 3, 3, 3, 3, 3, 3, 3]\n",
      "[0, 0, 0, 0, 0, 0, 0, 0, 0, 0, 4, 4, 0, 0, 0]\n",
      "[0, 0, 0, 0, 0, 0, 0, 0, 0, 0, 0, 0, 0, 0, 0]\n",
      "[3, 3, 3, 3, 3, 3, 3, 3, 3, 3, 3, 3, 3, 3, 3]\n",
      "[1, 3, 3, 1, 1, 1, 1, 1, 3, 3, 3, 3, 1, 1, 3]\n",
      "[5, 5, 5, 5, 5, 5, 5, 5, 5, 5, 5, 5, 5, 5, 5]\n",
      "[5, 5, 5, 5, 5, 5, 5, 5, 5, 5, 5, 5, 5, 5, 5]\n",
      "[1, 0, 3, 0, 4, 1, 1, 1, 4, 1, 3, 1, 3, 0, 0]\n",
      "[4, 4, 4, 4, 4, 4, 4, 4, 4, 4, 4, 0, 0, 4, 4]\n",
      "[3, 3, 3, 3, 3, 3, 3, 3, 3, 3, 3, 3, 3, 3, 3]\n",
      "[1, 4, 1, 3, 1, 3, 1, 1, 5, 1, 1, 3, 3, 1, 3]\n",
      "[3, 3, 3, 3, 3, 3, 3, 3, 3, 3, 3, 3, 3, 3, 3]\n",
      "[3, 3, 3, 4, 3, 3, 3, 3, 3, 3, 3, 4, 3, 3, 3]\n",
      "[3, 3, 2, 3, 2, 2, 2, 2, 3, 2, 2, 2, 2, 3, 2]\n",
      "[3, 3, 3, 3, 3, 1, 3, 3, 3, 3, 3, 3, 3, 3, 3]\n",
      "[0, 0, 0, 0, 0, 0, 0, 0, 0, 0, 0, 0, 0, 0, 0]\n",
      "[4, 4, 4, 0, 4, 4, 4, 4, 4, 0, 4, 4, 0, 4, 0]\n",
      "[4, 4, 4, 4, 4, 4, 4, 4, 4, 4, 4, 4, 4, 4, 4]\n",
      "[2, 3, 3, 2, 3, 2, 3, 2, 2, 2, 2, 2, 2, 2, 2]\n",
      "[1, 4, 1, 1, 1, 1, 1, 1, 1, 1, 1, 1, 1, 1, 1]\n",
      "[2, 2, 3, 3, 3, 3, 2, 3, 2, 3, 2, 3, 3, 3, 3]\n",
      "[2, 2, 3, 2, 2, 3, 2, 2, 2, 2, 2, 3, 2, 2, 2]\n",
      "[3, 4, 3, 4, 3, 3, 3, 3, 4, 1, 3, 3, 3, 4, 3]\n",
      "[0, 0, 0, 0, 0, 0, 0, 0, 0, 0, 0, 0, 0, 0, 0]\n",
      "[4, 4, 4, 4, 4, 4, 4, 4, 4, 4, 4, 4, 4, 4, 4]\n",
      "[1, 1, 1, 1, 1, 1, 1, 1, 1, 1, 1, 1, 1, 1, 1]\n",
      "[3, 3, 3, 3, 3, 3, 3, 3, 3, 3, 3, 3, 3, 3, 3]\n",
      "[4, 4, 4, 4, 4, 4, 4, 4, 4, 4, 4, 4, 4, 4, 4]\n",
      "[4, 3, 4, 4, 3, 4, 4, 3, 3, 3, 4, 4, 4, 3, 4]\n",
      "[5, 5, 5, 5, 5, 5, 5, 5, 5, 5, 5, 5, 5, 5, 5]\n",
      "[3, 3, 3, 5, 3, 3, 5, 3, 3, 3, 3, 3, 3, 3, 3]\n",
      "[3, 5, 5, 5, 3, 5, 3, 5, 4, 5, 3, 5, 5, 5, 3]\n",
      "[3, 5, 3, 5, 5, 5, 5, 5, 5, 3, 5, 5, 5, 3, 5]\n",
      "[4, 4, 1, 4, 3, 3, 4, 3, 4, 3, 3, 3, 3, 4, 3]\n",
      "[5, 5, 5, 3, 3, 5, 5, 5, 5, 5, 5, 5, 5, 5, 3]\n",
      "[4, 4, 4, 4, 4, 4, 4, 4, 4, 4, 4, 4, 4, 4, 4]\n",
      "[5, 5, 5, 5, 5, 5, 5, 5, 5, 5, 5, 5, 5, 5, 5]\n",
      "[2, 2, 2, 2, 2, 2, 2, 2, 2, 2, 2, 2, 2, 2, 2]\n",
      "[4, 4, 4, 0, 4, 4, 4, 4, 4, 0, 4, 4, 0, 4, 0]\n",
      "[0, 0, 0, 0, 0, 0, 0, 0, 0, 0, 0, 0, 0, 0, 0]\n",
      "[5, 5, 5, 5, 5, 5, 5, 5, 5, 5, 5, 5, 5, 5, 5]\n",
      "[3, 3, 3, 5, 3, 5, 5, 3, 3, 3, 3, 3, 3, 3, 3]\n",
      "[5, 5, 5, 5, 5, 5, 5, 5, 5, 5, 5, 5, 5, 5, 5]\n",
      "[0, 0, 0, 0, 0, 4, 0, 1, 5, 0, 4, 1, 0, 1, 0]\n",
      "[5, 5, 3, 3, 3, 5, 5, 3, 5, 5, 3, 3, 3, 5, 3]\n",
      "[4, 4, 4, 4, 4, 4, 4, 4, 4, 4, 4, 4, 4, 4, 4]\n",
      "[5, 5, 5, 5, 5, 5, 5, 5, 5, 5, 5, 5, 5, 5, 5]\n",
      "[4, 4, 0, 0, 4, 4, 4, 4, 4, 4, 4, 0, 0, 4, 0]\n",
      "[5, 5, 5, 5, 5, 5, 5, 5, 5, 5, 5, 5, 5, 5, 5]\n",
      "[5, 5, 5, 5, 5, 5, 5, 5, 5, 5, 5, 5, 3, 5, 5]\n",
      "[0, 0, 0, 0, 0, 0, 0, 0, 0, 0, 4, 0, 0, 0, 0]\n",
      "[1, 1, 1, 1, 1, 1, 1, 1, 1, 1, 1, 1, 1, 1, 1]\n",
      "[1, 3, 3, 3, 3, 1, 3, 3, 3, 3, 3, 3, 3, 3, 3]\n",
      "[3, 3, 3, 3, 3, 3, 3, 3, 3, 3, 3, 3, 3, 3, 3]\n",
      "[4, 4, 4, 4, 4, 4, 4, 4, 4, 4, 4, 4, 4, 4, 4]\n",
      "[4, 4, 4, 4, 4, 4, 4, 4, 4, 4, 4, 4, 4, 4, 4]\n",
      "[5, 5, 5, 5, 5, 5, 5, 5, 5, 5, 5, 5, 5, 5, 5]\n",
      "[3, 3, 5, 3, 5, 1, 3, 3, 3, 5, 3, 3, 3, 5, 5]\n",
      "[3, 3, 3, 3, 3, 3, 3, 3, 3, 3, 3, 3, 3, 3, 5]\n",
      "[1, 1, 3, 1, 1, 3, 1, 3, 1, 1, 3, 3, 3, 3, 3]\n",
      "[3, 3, 3, 5, 3, 3, 3, 3, 3, 3, 3, 3, 3, 3, 3]\n",
      "[1, 1, 1, 3, 1, 1, 1, 1, 1, 1, 1, 1, 1, 1, 1]\n",
      "[3, 3, 3, 3, 3, 3, 3, 3, 3, 3, 3, 3, 3, 3, 3]\n",
      "[4, 5, 5, 4, 5, 5, 5, 5, 4, 4, 3, 5, 5, 4, 4]\n",
      "[4, 4, 4, 4, 4, 4, 4, 4, 4, 4, 4, 4, 4, 4, 4]\n",
      "[3, 3, 3, 3, 3, 3, 3, 3, 3, 3, 3, 3, 3, 3, 3]\n",
      "[4, 4, 4, 4, 4, 4, 4, 4, 4, 4, 4, 4, 4, 4, 4]\n",
      "[1, 1, 1, 1, 1, 1, 1, 1, 1, 3, 1, 1, 1, 1, 1]\n",
      "[2, 2, 2, 2, 2, 2, 2, 2, 2, 2, 2, 2, 2, 2, 2]\n",
      "[3, 3, 3, 3, 1, 3, 1, 1, 3, 3, 3, 3, 3, 3, 3]\n",
      "[4, 0, 4, 0, 4, 0, 4, 4, 4, 4, 4, 4, 4, 4, 0]\n",
      "[5, 5, 5, 5, 5, 5, 5, 5, 5, 5, 5, 5, 5, 5, 5]\n",
      "[3, 3, 3, 3, 3, 3, 3, 3, 3, 3, 3, 3, 3, 3, 3]\n",
      "[4, 0, 0, 0, 0, 0, 4, 0, 0, 0, 4, 0, 0, 4, 0]\n",
      "[5, 5, 5, 5, 5, 5, 5, 5, 5, 5, 5, 5, 5, 5, 5]\n",
      "[3, 0, 5, 1, 3, 3, 5, 0, 1, 5, 5, 0, 5, 5, 5]\n",
      "[3, 5, 5, 5, 5, 5, 5, 5, 3, 5, 3, 5, 3, 3, 5]\n",
      "[3, 3, 3, 1, 1, 3, 3, 1, 1, 3, 3, 3, 3, 1, 1]\n",
      "[4, 4, 4, 4, 4, 4, 4, 4, 4, 4, 4, 4, 4, 4, 4]\n",
      "[5, 5, 5, 3, 5, 3, 5, 5, 5, 3, 5, 5, 5, 5, 5]\n",
      "[3, 3, 3, 3, 3, 3, 3, 3, 3, 3, 3, 3, 3, 3, 3]\n",
      "[2, 2, 2, 2, 2, 2, 2, 2, 2, 2, 2, 2, 2, 2, 2]\n",
      "[4, 4, 4, 4, 4, 4, 4, 0, 0, 4, 0, 4, 1, 4, 4]\n",
      "[1, 1, 1, 3, 3, 1, 1, 1, 1, 3, 3, 1, 3, 3, 3]\n",
      "[3, 3, 3, 3, 3, 3, 3, 3, 3, 3, 3, 3, 3, 3, 3]\n",
      "[5, 5, 5, 5, 5, 5, 5, 5, 5, 5, 5, 5, 5, 5, 5]\n",
      "[1, 1, 1, 1, 1, 3, 1, 1, 1, 1, 3, 3, 1, 1, 1]\n",
      "[2, 3, 3, 3, 2, 3, 2, 2, 2, 2, 2, 3, 2, 2, 2]\n",
      "[0, 0, 0, 0, 0, 0, 0, 0, 0, 0, 0, 0, 0, 0, 0]\n",
      "[5, 5, 5, 5, 5, 5, 5, 5, 5, 5, 5, 5, 5, 5, 5]\n",
      "[3, 3, 3, 3, 3, 3, 3, 3, 3, 3, 3, 3, 3, 3, 3]\n",
      "[1, 1, 1, 1, 1, 3, 1, 1, 1, 1, 1, 1, 1, 1, 1]\n",
      "[3, 3, 0, 0, 4, 3, 4, 0, 4, 0, 3, 3, 0, 3, 3]\n",
      "[2, 2, 5, 5, 5, 5, 5, 5, 5, 5, 5, 5, 5, 2, 5]\n",
      "[1, 1, 1, 1, 1, 1, 1, 1, 1, 1, 1, 1, 1, 1, 1]\n",
      "[5, 5, 5, 5, 5, 5, 5, 5, 5, 5, 5, 5, 5, 5, 5]\n",
      "[3, 3, 3, 3, 3, 3, 3, 3, 3, 3, 3, 3, 3, 3, 3]\n",
      "[3, 5, 5, 5, 5, 5, 5, 5, 5, 5, 5, 5, 5, 5, 5]\n",
      "[3, 3, 3, 3, 3, 3, 3, 3, 3, 3, 3, 3, 3, 3, 3]\n",
      "[4, 0, 4, 0, 4, 4, 4, 0, 0, 0, 4, 0, 0, 0, 0]\n",
      "[1, 1, 1, 5, 5, 5, 5, 5, 5, 1, 5, 5, 5, 5, 5]\n",
      "[4, 4, 4, 0, 4, 4, 4, 4, 4, 0, 4, 0, 0, 0, 0]\n",
      "[3, 3, 3, 3, 3, 3, 3, 3, 3, 3, 3, 3, 3, 3, 3]\n",
      "[1, 1, 1, 1, 1, 1, 1, 1, 1, 1, 1, 1, 1, 1, 1]\n",
      "[4, 0, 0, 0, 0, 4, 4, 0, 0, 0, 4, 0, 0, 4, 0]\n",
      "[1, 1, 1, 1, 1, 1, 1, 1, 1, 1, 1, 1, 1, 1, 1]\n",
      "[5, 5, 5, 5, 5, 5, 3, 5, 5, 5, 5, 5, 3, 5, 5]\n",
      "[4, 4, 4, 4, 4, 4, 4, 4, 4, 4, 4, 4, 0, 4, 4]\n",
      "[3, 3, 2, 3, 3, 2, 3, 3, 3, 3, 3, 3, 2, 3, 3]\n",
      "[2, 3, 2, 2, 3, 2, 5, 2, 3, 2, 2, 5, 5, 3, 2]\n",
      "[2, 2, 2, 2, 2, 2, 2, 2, 2, 2, 2, 2, 2, 2, 2]\n",
      "[4, 0, 0, 0, 4, 4, 4, 4, 4, 0, 4, 4, 0, 4, 4]\n",
      "[3, 0, 4, 0, 3, 4, 4, 0, 4, 3, 4, 4, 4, 3, 3]\n",
      "[1, 3, 1, 1, 1, 1, 3, 3, 3, 3, 3, 3, 3, 3, 1]\n",
      "[4, 4, 4, 4, 4, 4, 4, 4, 4, 4, 4, 4, 4, 4, 4]\n",
      "[5, 5, 5, 5, 5, 5, 5, 5, 5, 5, 5, 5, 5, 5, 5]\n",
      "[3, 2, 3, 3, 3, 2, 3, 3, 2, 2, 3, 3, 3, 3, 2]\n",
      "[2, 2, 3, 2, 3, 2, 2, 2, 3, 2, 3, 2, 2, 2, 2]\n",
      "[3, 3, 3, 3, 3, 3, 3, 1, 3, 3, 3, 3, 1, 3, 3]\n",
      "[4, 0, 4, 0, 4, 4, 0, 0, 0, 0, 4, 0, 0, 4, 0]\n",
      "[5, 5, 5, 5, 5, 5, 5, 5, 5, 5, 5, 5, 5, 5, 5]\n",
      "[5, 5, 5, 5, 5, 3, 5, 3, 5, 5, 5, 3, 5, 5, 3]\n",
      "[2, 2, 2, 2, 2, 2, 2, 2, 2, 2, 2, 2, 2, 2, 2]\n",
      "[3, 3, 3, 3, 3, 3, 3, 3, 3, 3, 3, 3, 3, 3, 3]\n",
      "[3, 4, 3, 3, 3, 3, 3, 3, 4, 3, 3, 3, 3, 4, 3]\n",
      "[4, 0, 4, 0, 4, 0, 4, 0, 4, 0, 4, 4, 0, 4, 4]\n",
      "[1, 1, 1, 1, 1, 4, 1, 1, 1, 1, 1, 1, 1, 1, 1]\n",
      "[5, 5, 5, 5, 5, 5, 5, 5, 5, 5, 5, 5, 5, 5, 5]\n",
      "[3, 3, 3, 1, 1, 3, 3, 1, 3, 3, 3, 3, 3, 3, 3]\n",
      "[5, 3, 5, 5, 5, 5, 3, 5, 3, 3, 5, 3, 5, 3, 5]\n",
      "[4, 4, 0, 0, 4, 4, 4, 4, 0, 0, 4, 0, 0, 4, 4]\n",
      "[5, 5, 5, 5, 5, 5, 5, 5, 5, 5, 5, 5, 5, 5, 5]\n",
      "[3, 3, 3, 3, 3, 3, 5, 3, 3, 3, 3, 3, 3, 3, 3]\n",
      "[3, 3, 3, 3, 3, 3, 3, 3, 3, 3, 3, 3, 3, 3, 3]\n",
      "[3, 3, 3, 3, 3, 3, 3, 3, 3, 3, 3, 3, 3, 3, 3]\n",
      "[3, 3, 3, 3, 3, 3, 3, 3, 3, 3, 3, 3, 3, 3, 3]\n",
      "[5, 5, 5, 5, 5, 5, 5, 5, 5, 5, 5, 5, 5, 5, 5]\n",
      "[3, 5, 5, 5, 5, 5, 5, 5, 5, 5, 3, 5, 3, 3, 5]\n",
      "[5, 5, 5, 5, 5, 5, 5, 5, 5, 5, 5, 5, 5, 5, 5]\n",
      "[4, 4, 0, 0, 4, 4, 4, 4, 0, 4, 4, 4, 0, 4, 4]\n",
      "[5, 5, 5, 5, 5, 5, 5, 5, 5, 5, 5, 5, 5, 5, 5]\n",
      "[2, 2, 2, 2, 2, 2, 2, 2, 2, 2, 2, 2, 2, 2, 2]\n",
      "[3, 3, 3, 3, 3, 3, 3, 3, 3, 3, 3, 3, 3, 3, 3]\n",
      "[0, 0, 0, 0, 0, 0, 4, 0, 0, 0, 4, 0, 0, 0, 0]\n",
      "[2, 2, 2, 5, 3, 2, 5, 3, 3, 3, 3, 2, 2, 3, 2]\n",
      "[3, 3, 3, 3, 3, 3, 3, 3, 3, 3, 3, 3, 3, 3, 3]\n",
      "[2, 2, 3, 3, 3, 3, 2, 3, 3, 2, 3, 3, 3, 3, 3]\n",
      "[4, 4, 4, 4, 4, 4, 4, 4, 4, 4, 4, 4, 4, 4, 4]\n",
      "[3, 3, 3, 3, 5, 3, 3, 3, 3, 3, 3, 3, 3, 5, 3]\n",
      "[4, 2, 4, 2, 3, 3, 2, 2, 3, 0, 2, 2, 0, 4, 4]\n",
      "[5, 5, 5, 5, 5, 5, 5, 5, 5, 5, 5, 5, 5, 5, 5]\n",
      "[1, 1, 3, 3, 1, 3, 3, 1, 3, 1, 3, 1, 3, 3, 3]\n",
      "[4, 4, 4, 4, 4, 4, 4, 4, 4, 4, 4, 4, 4, 4, 4]\n",
      "[3, 3, 3, 3, 3, 3, 3, 3, 3, 3, 3, 3, 3, 3, 3]\n",
      "[1, 3, 3, 1, 1, 3, 3, 1, 1, 1, 3, 1, 1, 1, 1]\n",
      "[3, 3, 3, 3, 3, 3, 3, 3, 3, 3, 3, 3, 3, 3, 3]\n",
      "[5, 5, 5, 5, 5, 5, 5, 5, 5, 5, 5, 5, 5, 5, 5]\n",
      "[5, 5, 5, 5, 5, 5, 5, 5, 5, 5, 5, 5, 3, 5, 3]\n",
      "[5, 5, 5, 5, 5, 5, 5, 5, 5, 5, 5, 5, 5, 5, 5]\n",
      "[5, 5, 5, 5, 5, 5, 5, 5, 5, 5, 5, 5, 5, 5, 5]\n",
      "[3, 3, 3, 3, 3, 3, 3, 3, 3, 3, 3, 3, 3, 3, 3]\n",
      "[2, 2, 2, 2, 2, 2, 2, 2, 2, 2, 2, 2, 2, 2, 2]\n",
      "[3, 5, 5, 5, 5, 3, 3, 5, 3, 5, 5, 5, 3, 3, 3]\n",
      "[5, 5, 5, 5, 5, 5, 5, 5, 5, 5, 5, 5, 5, 5, 5]\n",
      "[3, 3, 3, 3, 3, 3, 3, 3, 3, 3, 3, 3, 3, 3, 3]\n",
      "[1, 1, 1, 1, 1, 1, 1, 1, 1, 1, 1, 1, 1, 1, 1]\n",
      "[3, 3, 3, 3, 3, 3, 3, 3, 3, 3, 3, 3, 3, 3, 3]\n",
      "[2, 2, 3, 5, 3, 5, 2, 2, 2, 5, 2, 3, 5, 2, 5]\n",
      "[3, 5, 5, 5, 5, 5, 3, 5, 5, 5, 3, 5, 5, 5, 5]\n",
      "[4, 4, 4, 4, 0, 4, 4, 4, 4, 0, 4, 4, 4, 4, 4]\n",
      "[2, 2, 2, 2, 2, 2, 2, 2, 2, 2, 2, 2, 2, 2, 2]\n",
      "[4, 0, 0, 0, 0, 4, 4, 4, 0, 0, 0, 4, 0, 4, 4]\n",
      "[3, 3, 3, 3, 3, 3, 3, 3, 3, 3, 3, 3, 3, 3, 3]\n",
      "[2, 2, 2, 2, 2, 2, 2, 2, 2, 2, 2, 2, 2, 2, 2]\n",
      "[5, 5, 5, 5, 5, 5, 5, 5, 5, 5, 5, 5, 5, 5, 5]\n",
      "[4, 4, 4, 4, 4, 4, 4, 4, 4, 4, 4, 4, 4, 4, 4]\n",
      "[5, 5, 5, 5, 5, 5, 5, 5, 5, 5, 5, 5, 5, 5, 5]\n",
      "[5, 5, 5, 5, 5, 5, 5, 5, 5, 5, 5, 5, 5, 5, 5]\n",
      "[4, 4, 4, 4, 4, 4, 4, 4, 4, 4, 4, 4, 4, 4, 4]\n",
      "[5, 5, 5, 5, 5, 5, 5, 5, 5, 5, 5, 5, 5, 5, 5]\n",
      "[4, 4, 4, 4, 4, 4, 4, 4, 4, 4, 4, 4, 4, 4, 4]\n",
      "[4, 4, 4, 4, 4, 4, 4, 4, 4, 4, 4, 4, 4, 4, 4]\n",
      "[3, 2, 3, 3, 2, 3, 2, 3, 3, 2, 3, 3, 3, 3, 3]\n",
      "[2, 2, 2, 2, 2, 2, 2, 2, 2, 2, 2, 2, 2, 2, 2]\n",
      "[3, 3, 3, 3, 3, 3, 3, 3, 3, 3, 3, 3, 3, 3, 3]\n",
      "[3, 3, 3, 3, 3, 3, 3, 3, 3, 3, 3, 3, 3, 3, 3]\n",
      "[4, 4, 4, 4, 4, 4, 4, 4, 4, 4, 4, 4, 4, 4, 4]\n",
      "[3, 1, 3, 3, 3, 3, 1, 3, 1, 1, 3, 1, 3, 3, 1]\n",
      "[3, 3, 3, 3, 3, 3, 3, 3, 3, 3, 3, 3, 3, 3, 3]\n",
      "[3, 3, 3, 1, 1, 3, 1, 3, 3, 1, 3, 3, 3, 1, 1]\n",
      "[4, 4, 4, 0, 4, 4, 4, 0, 0, 0, 4, 4, 0, 4, 4]\n",
      "[5, 5, 5, 5, 5, 5, 5, 5, 5, 5, 5, 5, 5, 5, 5]\n",
      "[0, 0, 1, 4, 0, 2, 5, 1, 2, 3, 4, 3, 0, 4, 2]\n",
      "[3, 3, 3, 3, 3, 3, 3, 3, 3, 3, 3, 3, 3, 3, 3]\n",
      "[3, 3, 3, 3, 3, 3, 3, 3, 3, 3, 3, 3, 3, 3, 3]\n",
      "[5, 5, 5, 5, 5, 5, 5, 5, 5, 5, 5, 5, 5, 5, 5]\n",
      "[1, 1, 5, 5, 1, 1, 1, 5, 5, 1, 1, 5, 5, 1, 1]\n",
      "[4, 4, 4, 4, 4, 4, 4, 4, 4, 4, 4, 4, 4, 4, 4]\n",
      "[3, 3, 3, 3, 3, 3, 3, 3, 3, 3, 3, 3, 3, 3, 3]\n",
      "[4, 4, 4, 4, 4, 4, 4, 4, 4, 4, 4, 4, 4, 4, 4]\n",
      "[5, 5, 5, 5, 5, 5, 5, 5, 5, 5, 5, 5, 5, 5, 5]\n"
     ]
    },
    {
     "name": "stdout",
     "output_type": "stream",
     "text": [
      "[3, 3, 3, 3, 3, 3, 3, 3, 3, 3, 3, 3, 3, 3, 3]\n",
      "[5, 5, 5, 5, 5, 5, 5, 5, 5, 5, 5, 5, 5, 5, 5]\n",
      "[5, 5, 5, 5, 5, 5, 5, 5, 5, 5, 5, 5, 5, 5, 5]\n",
      "[1, 1, 3, 1, 1, 1, 1, 1, 3, 3, 1, 3, 5, 3, 1]\n",
      "[4, 4, 4, 4, 4, 4, 4, 4, 4, 4, 4, 4, 4, 4, 4]\n",
      "[4, 4, 4, 4, 4, 4, 4, 4, 4, 4, 4, 4, 4, 4, 4]\n",
      "[3, 3, 3, 3, 3, 3, 3, 3, 3, 3, 3, 3, 3, 3, 3]\n",
      "[5, 3, 3, 1, 3, 3, 1, 3, 3, 1, 3, 3, 3, 3, 3]\n",
      "[4, 4, 4, 4, 4, 4, 4, 4, 4, 4, 4, 4, 4, 4, 4]\n",
      "[5, 5, 5, 5, 5, 5, 5, 5, 5, 5, 5, 5, 5, 5, 5]\n",
      "[5, 5, 5, 5, 5, 5, 5, 5, 5, 5, 5, 5, 5, 5, 5]\n",
      "[4, 4, 4, 4, 4, 4, 4, 4, 4, 4, 4, 4, 4, 4, 4]\n",
      "[4, 0, 0, 0, 0, 0, 0, 0, 0, 0, 4, 0, 0, 4, 0]\n",
      "[5, 5, 5, 5, 5, 5, 5, 5, 5, 5, 5, 5, 5, 5, 5]\n",
      "[3, 3, 3, 3, 3, 3, 3, 3, 3, 3, 3, 3, 3, 3, 3]\n",
      "[4, 4, 4, 0, 0, 4, 4, 0, 4, 0, 4, 4, 4, 4, 0]\n",
      "[5, 5, 5, 5, 5, 5, 5, 5, 5, 5, 5, 5, 5, 5, 5]\n",
      "[1, 1, 3, 5, 5, 5, 5, 5, 5, 5, 5, 1, 5, 5, 1]\n",
      "[3, 3, 3, 3, 3, 3, 3, 3, 3, 3, 3, 3, 3, 3, 3]\n",
      "[5, 5, 3, 5, 5, 5, 5, 5, 5, 5, 3, 3, 1, 1, 5]\n",
      "[4, 4, 0, 0, 4, 4, 4, 4, 4, 4, 4, 4, 4, 4, 4]\n",
      "[3, 3, 3, 3, 3, 3, 3, 3, 3, 3, 3, 3, 3, 3, 3]\n",
      "[4, 4, 4, 0, 4, 4, 4, 0, 0, 4, 4, 4, 4, 4, 4]\n",
      "[4, 4, 4, 4, 4, 4, 4, 4, 4, 4, 4, 4, 4, 4, 4]\n",
      "[3, 3, 3, 3, 3, 3, 3, 3, 3, 3, 3, 3, 3, 3, 3]\n",
      "[3, 1, 3, 3, 3, 3, 1, 1, 3, 3, 3, 3, 3, 1, 3]\n",
      "[4, 4, 4, 4, 4, 4, 4, 4, 4, 4, 4, 4, 4, 4, 4]\n",
      "[4, 4, 4, 4, 4, 4, 4, 4, 4, 4, 4, 4, 4, 4, 4]\n",
      "[2, 2, 2, 2, 2, 2, 2, 2, 2, 2, 2, 2, 2, 2, 2]\n",
      "[3, 3, 3, 3, 3, 3, 3, 3, 3, 3, 3, 3, 3, 3, 3]\n",
      "[3, 3, 5, 5, 5, 5, 5, 3, 3, 3, 3, 3, 3, 3, 3]\n",
      "[5, 5, 5, 5, 5, 5, 5, 5, 3, 5, 5, 5, 5, 3, 5]\n",
      "[5, 5, 5, 5, 5, 5, 5, 5, 5, 5, 5, 5, 5, 5, 5]\n",
      "[4, 4, 4, 4, 4, 4, 4, 4, 4, 4, 4, 4, 4, 4, 4]\n",
      "[5, 5, 5, 5, 5, 5, 5, 5, 5, 5, 5, 5, 5, 5, 5]\n",
      "[3, 0, 4, 4, 3, 0, 4, 3, 0, 3, 0, 4, 0, 0, 0]\n",
      "[5, 5, 5, 5, 5, 5, 5, 5, 3, 5, 5, 5, 5, 3, 5]\n",
      "[1, 1, 1, 1, 1, 3, 1, 1, 1, 1, 3, 1, 3, 3, 1]\n",
      "[1, 1, 1, 5, 1, 1, 1, 1, 5, 1, 1, 3, 3, 1, 3]\n",
      "[2, 2, 2, 2, 2, 2, 2, 2, 2, 2, 2, 2, 2, 2, 2]\n",
      "[3, 5, 3, 5, 5, 5, 3, 5, 3, 3, 5, 3, 3, 3, 5]\n",
      "[1, 3, 3, 3, 3, 3, 3, 1, 3, 3, 3, 1, 3, 3, 1]\n",
      "[3, 3, 3, 5, 3, 3, 3, 3, 3, 3, 5, 3, 5, 3, 5]\n",
      "[3, 3, 3, 3, 3, 3, 3, 3, 3, 3, 3, 3, 3, 3, 3]\n",
      "[4, 4, 4, 4, 4, 4, 4, 0, 0, 4, 1, 4, 4, 4, 4]\n",
      "[5, 5, 5, 5, 5, 5, 5, 5, 5, 5, 5, 5, 5, 5, 5]\n",
      "[1, 1, 3, 5, 1, 3, 3, 5, 1, 1, 3, 1, 1, 3, 3]\n",
      "[3, 3, 3, 3, 3, 3, 3, 3, 3, 3, 3, 3, 3, 3, 3]\n",
      "[0, 0, 0, 0, 0, 0, 0, 0, 0, 0, 0, 0, 0, 0, 0]\n",
      "[3, 3, 3, 3, 3, 3, 3, 5, 3, 3, 3, 3, 3, 3, 3]\n",
      "[3, 3, 3, 3, 3, 3, 3, 3, 3, 3, 3, 3, 3, 3, 3]\n",
      "[1, 1, 1, 1, 1, 1, 1, 1, 1, 1, 1, 1, 3, 1, 1]\n",
      "[1, 1, 1, 1, 1, 1, 1, 1, 1, 1, 1, 1, 1, 1, 1]\n",
      "[1, 1, 1, 1, 1, 1, 1, 1, 1, 1, 1, 1, 1, 1, 1]\n",
      "[3, 3, 3, 3, 3, 3, 3, 3, 3, 3, 3, 3, 3, 3, 3]\n",
      "[4, 4, 0, 0, 4, 4, 4, 4, 4, 4, 4, 4, 0, 4, 4]\n",
      "[4, 4, 4, 4, 4, 4, 4, 4, 4, 4, 4, 4, 4, 4, 4]\n",
      "[1, 3, 1, 3, 3, 1, 3, 3, 3, 3, 3, 1, 3, 3, 1]\n",
      "[4, 4, 4, 4, 4, 4, 4, 4, 4, 4, 4, 4, 4, 4, 4]\n",
      "[5, 5, 1, 5, 5, 5, 5, 1, 5, 1, 1, 1, 1, 1, 5]\n",
      "[4, 4, 4, 4, 4, 4, 4, 4, 4, 4, 4, 4, 4, 4, 4]\n",
      "[3, 3, 3, 3, 3, 3, 3, 3, 3, 3, 3, 3, 3, 3, 3]\n",
      "[1, 1, 1, 1, 1, 1, 1, 1, 1, 1, 1, 1, 1, 1, 1]\n",
      "[4, 4, 4, 4, 4, 4, 4, 4, 4, 4, 4, 4, 4, 4, 4]\n",
      "[2, 2, 2, 2, 2, 2, 2, 2, 2, 2, 2, 2, 2, 2, 2]\n",
      "[3, 3, 3, 4, 3, 3, 3, 3, 3, 3, 3, 3, 3, 3, 3]\n",
      "[5, 5, 5, 5, 5, 5, 5, 5, 5, 5, 5, 5, 5, 5, 5]\n",
      "[3, 3, 3, 3, 3, 3, 3, 3, 3, 3, 3, 3, 3, 3, 3]\n",
      "[3, 3, 3, 3, 3, 3, 3, 3, 3, 3, 3, 3, 3, 3, 3]\n",
      "[2, 2, 2, 2, 2, 2, 2, 2, 2, 2, 2, 2, 2, 2, 2]\n",
      "[4, 2, 4, 2, 2, 2, 2, 2, 4, 2, 2, 2, 2, 4, 4]\n",
      "[4, 4, 4, 4, 4, 4, 4, 4, 4, 4, 4, 4, 4, 4, 4]\n",
      "[3, 3, 3, 3, 3, 3, 3, 3, 3, 3, 3, 3, 3, 3, 3]\n",
      "[4, 4, 4, 4, 4, 4, 4, 4, 4, 4, 4, 4, 4, 4, 4]\n",
      "[3, 3, 3, 3, 3, 3, 3, 3, 3, 3, 3, 3, 3, 3, 3]\n",
      "[4, 0, 4, 0, 0, 4, 0, 0, 0, 4, 4, 4, 4, 4, 4]\n",
      "[3, 5, 3, 5, 5, 3, 5, 5, 3, 3, 3, 3, 3, 5, 3]\n",
      "[3, 1, 3, 3, 3, 3, 1, 1, 3, 3, 3, 3, 3, 1, 3]\n",
      "[4, 4, 4, 4, 4, 4, 4, 4, 4, 4, 4, 4, 4, 4, 4]\n",
      "[3, 3, 3, 3, 3, 3, 3, 3, 3, 3, 3, 3, 3, 3, 3]\n",
      "[4, 4, 4, 4, 4, 4, 4, 4, 4, 4, 4, 4, 4, 4, 4]\n",
      "[2, 2, 2, 2, 2, 2, 2, 2, 2, 2, 2, 2, 2, 2, 2]\n",
      "[3, 3, 3, 1, 3, 3, 3, 3, 3, 1, 3, 3, 3, 3, 3]\n",
      "[0, 0, 0, 0, 0, 4, 0, 0, 0, 0, 4, 0, 0, 4, 0]\n",
      "[5, 4, 5, 3, 3, 3, 3, 3, 5, 0, 3, 3, 4, 3, 5]\n",
      "[5, 5, 5, 5, 5, 5, 5, 5, 5, 5, 5, 5, 5, 5, 5]\n",
      "[3, 3, 3, 3, 3, 3, 3, 3, 3, 3, 3, 3, 3, 3, 3]\n",
      "[2, 1, 1, 2, 2, 2, 2, 2, 2, 2, 2, 2, 2, 2, 2]\n",
      "[3, 1, 1, 3, 3, 1, 1, 3, 3, 3, 3, 1, 1, 1, 3]\n",
      "[3, 1, 1, 1, 1, 1, 1, 3, 1, 1, 3, 1, 3, 1, 3]\n",
      "[3, 3, 3, 3, 3, 3, 3, 3, 3, 3, 3, 3, 3, 3, 3]\n",
      "[5, 5, 5, 5, 5, 5, 5, 5, 5, 5, 5, 5, 5, 5, 5]\n",
      "[1, 1, 1, 1, 1, 1, 1, 1, 3, 1, 5, 1, 1, 1, 1]\n",
      "[5, 4, 0, 0, 1, 0, 3, 4, 3, 5, 1, 5, 4, 4, 4]\n",
      "[5, 5, 5, 5, 5, 5, 5, 5, 5, 5, 5, 5, 5, 5, 5]\n",
      "[3, 1, 1, 3, 3, 1, 3, 3, 1, 3, 3, 1, 3, 3, 3]\n",
      "[2, 2, 2, 2, 2, 2, 2, 2, 2, 2, 2, 2, 2, 2, 2]\n",
      "[5, 5, 5, 5, 5, 5, 3, 5, 5, 5, 3, 5, 5, 5, 5]\n",
      "[3, 3, 3, 3, 3, 3, 3, 3, 3, 3, 3, 3, 3, 3, 3]\n",
      "[3, 3, 3, 3, 3, 3, 3, 3, 3, 3, 3, 3, 3, 3, 3]\n",
      "[3, 1, 3, 3, 3, 3, 3, 3, 3, 3, 3, 3, 3, 3, 3]\n",
      "[3, 3, 3, 3, 3, 3, 3, 3, 3, 3, 3, 3, 3, 3, 3]\n",
      "[4, 4, 4, 0, 4, 4, 4, 0, 4, 4, 4, 4, 4, 4, 4]\n",
      "[5, 5, 5, 5, 5, 5, 5, 5, 5, 5, 5, 5, 5, 5, 5]\n",
      "[5, 5, 5, 5, 3, 5, 3, 5, 5, 5, 3, 5, 5, 5, 5]\n",
      "[2, 2, 2, 2, 2, 2, 2, 2, 2, 2, 2, 2, 2, 2, 2]\n",
      "[3, 3, 3, 3, 3, 3, 3, 3, 3, 3, 3, 3, 3, 3, 3]\n",
      "[4, 4, 4, 4, 4, 4, 4, 4, 4, 4, 4, 4, 4, 4, 4]\n",
      "[4, 4, 4, 4, 4, 4, 4, 4, 4, 4, 4, 4, 4, 4, 4]\n",
      "[0, 0, 0, 4, 4, 4, 0, 0, 0, 0, 4, 0, 0, 0, 0]\n",
      "[3, 3, 3, 3, 3, 3, 3, 3, 3, 3, 3, 3, 3, 3, 3]\n",
      "[4, 4, 4, 4, 4, 4, 4, 4, 4, 4, 4, 4, 4, 4, 4]\n",
      "[1, 1, 3, 5, 1, 1, 5, 1, 5, 1, 1, 1, 5, 1, 5]\n",
      "[0, 0, 0, 0, 0, 0, 0, 0, 0, 0, 0, 0, 0, 0, 0]\n",
      "[5, 5, 5, 5, 5, 3, 5, 5, 5, 5, 5, 5, 5, 5, 5]\n",
      "[5, 5, 5, 5, 5, 5, 5, 5, 5, 5, 5, 5, 5, 5, 5]\n",
      "[3, 3, 3, 1, 3, 3, 3, 2, 1, 3, 2, 2, 3, 3, 3]\n",
      "[3, 3, 3, 3, 3, 3, 3, 3, 3, 3, 3, 3, 3, 3, 3]\n",
      "[4, 4, 0, 0, 4, 4, 4, 4, 0, 0, 4, 0, 0, 4, 4]\n",
      "[4, 4, 4, 4, 4, 4, 4, 4, 4, 4, 4, 4, 4, 4, 4]\n",
      "[1, 5, 1, 5, 1, 3, 5, 1, 3, 5, 3, 5, 5, 1, 5]\n",
      "[4, 4, 0, 4, 4, 4, 4, 4, 4, 0, 4, 0, 0, 4, 0]\n",
      "[2, 2, 2, 2, 2, 2, 2, 2, 2, 2, 2, 2, 2, 2, 2]\n",
      "[3, 3, 3, 3, 3, 3, 3, 3, 3, 3, 3, 3, 3, 3, 3]\n",
      "[2, 2, 2, 2, 5, 5, 1, 2, 2, 2, 3, 2, 3, 2, 2]\n",
      "[4, 1, 1, 1, 0, 4, 4, 3, 4, 4, 4, 1, 4, 5, 1]\n",
      "[2, 2, 2, 2, 2, 2, 2, 2, 2, 2, 2, 2, 2, 2, 2]\n",
      "[4, 4, 0, 4, 4, 4, 0, 0, 4, 4, 4, 4, 4, 4, 4]\n",
      "[4, 0, 4, 4, 4, 4, 4, 0, 4, 4, 4, 4, 4, 0, 4]\n",
      "[3, 0, 0, 2, 2, 3, 3, 2, 4, 0, 2, 2, 2, 0, 3]\n",
      "[4, 4, 4, 4, 4, 4, 4, 4, 4, 4, 4, 4, 4, 4, 4]\n",
      "[1, 1, 1, 1, 1, 1, 1, 1, 1, 1, 1, 1, 1, 1, 1]\n",
      "[4, 4, 4, 0, 4, 0, 4, 4, 4, 0, 4, 4, 4, 0, 4]\n",
      "[3, 0, 3, 3, 3, 3, 3, 0, 4, 3, 3, 3, 3, 3, 3]\n",
      "[2, 4, 4, 2, 4, 2, 4, 2, 4, 0, 2, 2, 2, 4, 2]\n",
      "[5, 5, 5, 5, 5, 5, 5, 5, 5, 5, 5, 5, 5, 5, 5]\n",
      "[4, 4, 4, 4, 4, 4, 4, 4, 4, 4, 4, 4, 4, 4, 4]\n",
      "[2, 2, 2, 2, 2, 2, 2, 2, 2, 2, 2, 2, 2, 2, 2]\n",
      "[3, 3, 3, 3, 3, 3, 3, 3, 3, 3, 3, 3, 3, 3, 3]\n",
      "[1, 1, 1, 1, 1, 1, 1, 1, 1, 1, 1, 3, 1, 1, 1]\n",
      "[0, 4, 0, 4, 4, 4, 4, 4, 4, 0, 4, 4, 0, 4, 4]\n",
      "[5, 5, 5, 5, 5, 5, 5, 5, 5, 5, 3, 3, 5, 5, 5]\n",
      "[3, 3, 3, 3, 3, 3, 3, 3, 3, 3, 3, 3, 3, 3, 3]\n",
      "[5, 5, 5, 5, 5, 5, 5, 5, 5, 5, 5, 5, 5, 5, 5]\n",
      "[5, 5, 5, 5, 5, 5, 5, 5, 5, 5, 5, 5, 5, 5, 5]\n",
      "[3, 3, 3, 3, 3, 3, 3, 3, 3, 3, 3, 3, 3, 3, 3]\n",
      "[3, 3, 3, 3, 3, 3, 3, 3, 3, 3, 3, 3, 3, 3, 3]\n",
      "[3, 3, 3, 3, 3, 3, 3, 3, 3, 3, 3, 3, 3, 3, 3]\n",
      "[4, 4, 4, 4, 4, 4, 4, 4, 4, 4, 4, 4, 4, 1, 4]\n",
      "[1, 1, 1, 1, 1, 1, 1, 1, 4, 1, 1, 3, 1, 0, 3]\n",
      "[1, 1, 1, 1, 1, 1, 1, 1, 1, 1, 1, 1, 1, 1, 1]\n",
      "[3, 3, 3, 3, 3, 3, 3, 3, 3, 3, 3, 3, 3, 3, 3]\n",
      "[1, 1, 1, 1, 1, 1, 1, 3, 3, 3, 1, 3, 1, 3, 1]\n",
      "[3, 3, 5, 5, 5, 3, 3, 5, 5, 3, 5, 5, 5, 3, 5]\n",
      "[5, 3, 3, 5, 3, 3, 3, 3, 3, 3, 3, 3, 5, 3, 3]\n",
      "[4, 4, 4, 4, 4, 4, 4, 4, 4, 4, 4, 4, 4, 4, 4]\n",
      "[5, 5, 5, 5, 5, 5, 5, 5, 5, 5, 5, 5, 5, 5, 5]\n",
      "[3, 3, 3, 5, 3, 3, 3, 3, 3, 3, 5, 3, 3, 3, 5]\n",
      "[3, 3, 3, 5, 3, 3, 2, 3, 3, 3, 3, 3, 3, 3, 3]\n",
      "[1, 1, 3, 3, 1, 3, 3, 3, 3, 1, 3, 3, 3, 3, 3]\n",
      "[3, 3, 5, 3, 3, 3, 3, 5, 3, 3, 3, 3, 3, 3, 3]\n",
      "[4, 0, 0, 0, 0, 4, 4, 0, 0, 0, 4, 0, 0, 0, 0]\n",
      "[2, 2, 2, 2, 2, 2, 2, 2, 2, 2, 2, 2, 2, 2, 2]\n",
      "[2, 2, 2, 2, 2, 2, 2, 2, 2, 2, 2, 2, 2, 2, 2]\n",
      "[5, 5, 5, 5, 5, 5, 5, 5, 5, 5, 5, 5, 5, 5, 5]\n",
      "[3, 3, 3, 3, 3, 3, 3, 3, 3, 3, 3, 3, 3, 3, 3]\n",
      "[3, 3, 3, 1, 3, 3, 3, 3, 3, 3, 3, 3, 3, 3, 3]\n",
      "[4, 4, 4, 4, 4, 4, 4, 4, 4, 4, 4, 4, 4, 4, 4]\n",
      "[5, 5, 5, 5, 5, 5, 5, 5, 5, 5, 5, 5, 5, 5, 5]\n",
      "[4, 4, 4, 4, 4, 4, 4, 4, 4, 4, 4, 4, 4, 4, 4]\n",
      "[3, 5, 3, 3, 3, 3, 3, 3, 3, 3, 5, 3, 5, 3, 5]\n",
      "[3, 3, 3, 2, 3, 3, 3, 5, 3, 2, 3, 3, 3, 3, 3]\n",
      "[4, 4, 4, 4, 4, 4, 4, 0, 0, 0, 4, 4, 4, 0, 0]\n",
      "[3, 3, 3, 3, 3, 3, 3, 3, 3, 3, 2, 3, 2, 3, 3]\n",
      "[5, 5, 5, 5, 5, 5, 5, 5, 5, 5, 5, 5, 5, 5, 5]\n",
      "[0, 0, 0, 0, 0, 0, 0, 0, 0, 0, 0, 0, 0, 0, 0]\n",
      "[5, 5, 5, 5, 5, 5, 5, 5, 5, 5, 5, 5, 5, 5, 5]\n",
      "[2, 2, 3, 3, 3, 2, 2, 2, 2, 2, 2, 2, 2, 2, 2]\n",
      "[3, 3, 3, 3, 3, 3, 3, 3, 3, 3, 3, 3, 3, 3, 3]\n",
      "[1, 3, 3, 1, 1, 3, 3, 3, 3, 1, 3, 1, 3, 5, 1]\n",
      "[4, 4, 4, 4, 4, 4, 4, 4, 4, 4, 4, 4, 4, 4, 4]\n",
      "[2, 2, 2, 2, 2, 2, 2, 2, 2, 2, 2, 2, 2, 2, 2]\n",
      "[5, 5, 5, 5, 5, 5, 5, 5, 5, 5, 5, 5, 5, 5, 5]\n",
      "[1, 1, 1, 3, 1, 3, 3, 3, 3, 3, 3, 3, 3, 1, 1]\n",
      "[4, 4, 4, 4, 4, 4, 4, 4, 4, 4, 4, 4, 4, 4, 4]\n",
      "[5, 5, 5, 5, 5, 5, 5, 5, 5, 5, 5, 5, 5, 5, 5]\n",
      "[5, 5, 5, 5, 5, 5, 5, 5, 5, 5, 5, 5, 5, 3, 5]\n",
      "[4, 4, 4, 4, 4, 4, 4, 4, 0, 4, 4, 4, 4, 4, 4]\n",
      "[3, 3, 3, 3, 3, 3, 3, 3, 3, 3, 3, 3, 3, 3, 3]\n",
      "[3, 3, 3, 3, 3, 3, 5, 2, 3, 3, 3, 3, 2, 3, 3]\n",
      "[5, 5, 5, 5, 5, 5, 5, 5, 5, 5, 5, 5, 5, 5, 5]\n",
      "[0, 0, 0, 0, 0, 0, 0, 0, 0, 0, 0, 0, 0, 0, 0]\n",
      "[3, 5, 1, 1, 3, 1, 1, 3, 3, 3, 3, 1, 1, 1, 1]\n",
      "[4, 4, 4, 4, 4, 4, 4, 4, 4, 4, 4, 4, 4, 4, 4]\n",
      "[3, 3, 3, 3, 3, 3, 3, 3, 3, 3, 3, 3, 3, 3, 3]\n",
      "[5, 5, 5, 5, 5, 5, 5, 5, 5, 5, 5, 5, 5, 5, 5]\n",
      "[5, 5, 3, 5, 3, 3, 5, 5, 5, 3, 5, 5, 5, 5, 5]\n",
      "[5, 5, 5, 5, 5, 5, 5, 5, 5, 5, 5, 5, 5, 5, 5]\n",
      "[4, 4, 4, 4, 4, 4, 4, 4, 4, 4, 4, 4, 4, 4, 4]\n",
      "[2, 2, 3, 3, 3, 2, 3, 2, 3, 2, 2, 3, 3, 2, 2]\n",
      "[4, 4, 4, 4, 4, 4, 4, 4, 4, 4, 4, 4, 0, 4, 4]\n",
      "[1, 1, 1, 1, 1, 1, 1, 1, 1, 1, 1, 1, 1, 1, 1]\n",
      "[3, 1, 1, 1, 1, 3, 1, 3, 1, 1, 1, 1, 3, 1, 5]\n",
      "[3, 3, 3, 3, 3, 3, 3, 3, 3, 3, 3, 3, 3, 3, 3]\n",
      "[1, 1, 1, 1, 3, 1, 1, 1, 1, 1, 3, 1, 3, 1, 1]\n",
      "[1, 1, 1, 1, 1, 1, 1, 1, 1, 1, 1, 1, 1, 1, 1]\n",
      "[4, 0, 0, 0, 0, 4, 4, 0, 0, 0, 4, 0, 0, 0, 0]\n",
      "[3, 3, 3, 3, 3, 3, 3, 3, 3, 3, 3, 3, 3, 3, 3]\n",
      "[3, 3, 3, 3, 3, 3, 3, 3, 3, 3, 3, 3, 3, 3, 3]\n",
      "[4, 4, 4, 0, 4, 4, 4, 4, 4, 4, 4, 4, 0, 4, 4]\n",
      "[5, 5, 5, 5, 5, 5, 5, 5, 5, 5, 5, 5, 5, 5, 5]\n",
      "[5, 5, 5, 5, 5, 5, 5, 5, 5, 5, 5, 5, 5, 5, 5]\n",
      "[5, 5, 5, 5, 5, 5, 5, 5, 5, 5, 5, 5, 5, 5, 5]\n",
      "[5, 5, 5, 5, 5, 5, 5, 5, 5, 5, 5, 5, 5, 5, 5]\n",
      "[5, 5, 5, 5, 5, 5, 5, 5, 5, 5, 5, 5, 5, 5, 5]\n",
      "[3, 3, 3, 3, 3, 3, 3, 3, 3, 3, 3, 3, 3, 3, 3]\n",
      "[4, 0, 0, 0, 0, 0, 0, 4, 0, 0, 4, 4, 0, 0, 0]\n",
      "[5, 5, 5, 5, 5, 5, 5, 5, 5, 5, 5, 5, 5, 5, 5]\n",
      "[5, 5, 5, 5, 5, 5, 5, 5, 5, 5, 5, 5, 5, 5, 5]\n",
      "[0, 0, 0, 0, 0, 0, 4, 4, 0, 0, 4, 3, 0, 2, 0]\n",
      "[3, 3, 3, 3, 3, 3, 3, 3, 3, 3, 3, 3, 3, 3, 3]\n",
      "[5, 5, 2, 5, 5, 5, 5, 5, 5, 5, 5, 5, 5, 5, 5]\n",
      "[3, 3, 3, 3, 3, 3, 3, 1, 3, 3, 3, 1, 3, 3, 3]\n",
      "[4, 4, 4, 0, 4, 4, 4, 0, 4, 4, 4, 4, 4, 4, 4]\n",
      "[2, 3, 3, 3, 3, 3, 2, 2, 3, 2, 2, 3, 2, 2, 3]\n",
      "[3, 3, 3, 3, 3, 3, 3, 3, 3, 3, 3, 3, 3, 3, 3]\n",
      "[1, 1, 1, 1, 1, 1, 1, 1, 1, 1, 1, 1, 1, 1, 1]\n",
      "[4, 4, 4, 4, 4, 4, 4, 4, 4, 4, 4, 4, 4, 4, 4]\n",
      "[1, 1, 1, 1, 1, 1, 1, 1, 1, 1, 1, 1, 3, 1, 1]\n",
      "[0, 0, 0, 0, 0, 0, 0, 0, 0, 0, 0, 0, 0, 0, 0]\n",
      "[1, 1, 1, 1, 1, 1, 1, 1, 1, 1, 3, 1, 1, 1, 1]\n",
      "[3, 3, 3, 1, 5, 3, 3, 3, 3, 3, 3, 3, 3, 3, 5]\n",
      "[5, 5, 5, 5, 5, 5, 5, 5, 5, 5, 5, 5, 5, 5, 5]\n",
      "[3, 3, 3, 3, 3, 3, 3, 3, 3, 3, 3, 3, 3, 3, 3]\n",
      "[4, 4, 4, 4, 4, 4, 4, 4, 4, 4, 4, 4, 4, 4, 4]\n",
      "[3, 3, 3, 3, 3, 3, 3, 3, 3, 3, 3, 3, 3, 3, 3]\n",
      "[3, 3, 3, 3, 3, 3, 3, 3, 3, 3, 3, 3, 3, 3, 3]\n",
      "[5, 5, 5, 5, 5, 5, 5, 5, 5, 5, 5, 5, 5, 5, 5]\n",
      "[2, 2, 3, 3, 3, 2, 2, 2, 3, 2, 3, 3, 2, 2, 3]\n",
      "[2, 2, 2, 2, 2, 2, 2, 2, 2, 2, 2, 2, 2, 2, 2]\n",
      "[2, 2, 2, 2, 2, 2, 2, 2, 2, 2, 2, 2, 2, 2, 2]\n",
      "[3, 3, 3, 3, 3, 3, 3, 3, 3, 3, 3, 3, 3, 3, 5]\n",
      "[5, 5, 5, 5, 5, 5, 5, 5, 5, 5, 5, 5, 5, 5, 5]\n",
      "[1, 1, 3, 1, 1, 3, 1, 1, 1, 1, 3, 3, 3, 1, 1]\n",
      "[3, 3, 3, 3, 3, 3, 3, 3, 3, 3, 3, 3, 3, 3, 3]\n",
      "[1, 3, 3, 1, 1, 3, 3, 1, 3, 1, 3, 1, 1, 1, 3]\n",
      "[1, 1, 1, 1, 1, 4, 1, 1, 1, 1, 1, 1, 1, 1, 1]\n",
      "[1, 1, 1, 1, 1, 1, 1, 1, 1, 1, 1, 1, 1, 1, 1]\n",
      "[2, 2, 2, 2, 2, 2, 2, 2, 2, 2, 2, 2, 2, 2, 2]\n",
      "[4, 4, 4, 4, 4, 4, 4, 4, 4, 4, 4, 4, 4, 4, 4]\n",
      "[1, 1, 1, 3, 3, 3, 1, 3, 1, 3, 3, 3, 3, 1, 1]\n",
      "[0, 4, 4, 4, 4, 4, 4, 4, 4, 4, 4, 4, 4, 4, 4]\n",
      "[4, 4, 4, 4, 4, 4, 4, 4, 4, 4, 4, 4, 4, 4, 4]\n",
      "[4, 4, 4, 4, 4, 4, 4, 5, 4, 5, 4, 5, 5, 4, 4]\n",
      "[1, 1, 1, 1, 1, 1, 1, 1, 1, 3, 3, 3, 3, 1, 1]\n",
      "[5, 5, 5, 5, 5, 5, 3, 5, 5, 5, 5, 5, 5, 3, 5]\n",
      "[3, 3, 3, 3, 3, 3, 3, 3, 3, 3, 3, 3, 3, 3, 3]\n",
      "[4, 4, 4, 4, 4, 4, 4, 4, 4, 4, 4, 4, 0, 4, 4]\n",
      "[1, 1, 1, 1, 1, 1, 1, 1, 1, 1, 1, 1, 1, 1, 1]\n",
      "[3, 3, 3, 3, 3, 3, 3, 3, 3, 3, 3, 3, 3, 3, 3]\n",
      "[4, 0, 0, 4, 4, 4, 4, 4, 4, 0, 4, 0, 0, 4, 4]\n",
      "[4, 0, 4, 4, 3, 4, 4, 5, 4, 4, 4, 4, 4, 4, 4]\n",
      "[2, 2, 2, 2, 2, 2, 2, 2, 2, 2, 2, 2, 2, 2, 2]\n",
      "[3, 3, 3, 3, 3, 3, 3, 3, 3, 3, 3, 3, 3, 3, 3]\n",
      "[4, 4, 4, 4, 4, 0, 4, 4, 4, 4, 4, 4, 3, 4, 4]\n",
      "[0, 0, 0, 0, 0, 0, 0, 0, 0, 0, 4, 0, 0, 0, 0]\n",
      "[3, 3, 3, 3, 3, 1, 1, 3, 3, 3, 3, 3, 3, 3, 3]\n",
      "[0, 0, 0, 0, 0, 0, 0, 0, 0, 0, 0, 0, 0, 0, 0]\n",
      "[4, 4, 4, 4, 4, 4, 4, 4, 4, 4, 4, 4, 4, 4, 4]\n",
      "[3, 3, 3, 3, 3, 3, 3, 3, 3, 3, 3, 3, 3, 3, 3]\n",
      "[4, 4, 0, 4, 4, 4, 4, 0, 4, 4, 4, 4, 4, 4, 4]\n",
      "[5, 5, 5, 5, 5, 5, 5, 5, 5, 5, 5, 5, 5, 5, 5]\n",
      "[3, 3, 3, 3, 3, 3, 3, 3, 3, 3, 3, 3, 3, 3, 3]\n",
      "[2, 2, 2, 2, 2, 2, 2, 2, 2, 2, 2, 2, 2, 2, 2]\n",
      "[3, 3, 3, 3, 3, 3, 3, 3, 3, 3, 3, 3, 3, 3, 3]\n",
      "[3, 3, 3, 1, 3, 3, 3, 1, 1, 3, 3, 3, 3, 1, 3]\n",
      "[1, 1, 1, 1, 1, 1, 1, 1, 1, 1, 3, 1, 1, 1, 1]\n",
      "[5, 5, 5, 5, 5, 5, 5, 5, 5, 5, 5, 5, 5, 5, 5]\n",
      "[2, 2, 2, 2, 2, 2, 2, 2, 2, 2, 2, 2, 2, 2, 2]\n",
      "[2, 2, 2, 2, 2, 2, 2, 2, 2, 2, 2, 2, 2, 2, 2]\n",
      "[2, 2, 2, 2, 2, 2, 2, 2, 2, 2, 2, 2, 2, 2, 2]\n",
      "[4, 4, 4, 4, 4, 4, 4, 4, 4, 4, 4, 4, 4, 4, 4]\n",
      "[3, 3, 3, 3, 3, 3, 3, 3, 3, 3, 3, 3, 3, 3, 3]\n",
      "[3, 3, 3, 3, 3, 3, 3, 3, 3, 3, 3, 3, 3, 3, 3]\n",
      "[4, 4, 4, 4, 4, 4, 4, 4, 4, 4, 4, 4, 0, 4, 4]\n",
      "[2, 5, 2, 5, 2, 2, 2, 3, 5, 2, 2, 2, 5, 5, 2]\n",
      "[1, 1, 1, 1, 1, 1, 1, 1, 1, 1, 1, 1, 1, 1, 1]\n",
      "[1, 1, 1, 1, 1, 1, 1, 1, 1, 1, 1, 1, 1, 1, 1]\n",
      "[3, 3, 3, 5, 3, 3, 5, 3, 5, 5, 3, 3, 5, 5, 5]\n",
      "[5, 5, 5, 5, 5, 3, 5, 5, 5, 5, 5, 3, 5, 5, 5]\n",
      "[3, 3, 3, 3, 3, 3, 3, 3, 3, 3, 3, 3, 3, 3, 3]\n",
      "[3, 3, 3, 3, 3, 3, 3, 3, 5, 3, 3, 3, 3, 3, 3]\n",
      "[3, 3, 3, 3, 3, 3, 3, 3, 3, 3, 2, 3, 3, 3, 3]\n",
      "[0, 0, 0, 0, 0, 0, 0, 0, 0, 0, 0, 0, 0, 0, 0]\n",
      "[4, 3, 3, 4, 4, 3, 3, 3, 4, 3, 4, 3, 3, 4, 4]\n",
      "[3, 3, 3, 3, 3, 3, 3, 3, 3, 3, 3, 3, 3, 3, 3]\n",
      "[3, 3, 1, 1, 3, 3, 1, 3, 3, 1, 3, 3, 3, 3, 1]\n",
      "[3, 3, 3, 3, 3, 3, 3, 3, 3, 3, 3, 3, 3, 3, 3]\n",
      "[5, 5, 5, 5, 5, 5, 5, 5, 5, 5, 5, 5, 5, 5, 5]\n",
      "[5, 5, 5, 5, 5, 5, 5, 5, 5, 5, 5, 5, 3, 5, 5]\n",
      "[3, 3, 3, 3, 3, 3, 3, 3, 3, 3, 3, 3, 3, 3, 3]\n",
      "[3, 3, 3, 3, 3, 3, 3, 3, 3, 3, 3, 3, 3, 3, 3]\n",
      "[3, 3, 3, 3, 3, 3, 3, 3, 3, 3, 3, 3, 3, 3, 3]\n",
      "[3, 3, 5, 3, 3, 5, 3, 5, 3, 5, 3, 3, 3, 3, 3]\n",
      "[3, 1, 1, 1, 3, 3, 1, 1, 1, 3, 1, 1, 1, 3, 1]\n",
      "[3, 3, 3, 3, 3, 3, 3, 3, 3, 3, 3, 3, 3, 3, 3]\n",
      "[1, 1, 1, 1, 1, 3, 1, 1, 1, 1, 3, 1, 1, 1, 1]\n",
      "[2, 2, 2, 2, 2, 2, 2, 2, 2, 2, 2, 2, 2, 2, 2]\n",
      "[2, 2, 5, 5, 3, 5, 2, 2, 2, 5, 2, 3, 3, 3, 5]\n",
      "[4, 0, 0, 0, 0, 4, 4, 0, 0, 4, 4, 4, 4, 4, 0]\n",
      "[3, 3, 3, 3, 3, 3, 3, 3, 3, 3, 3, 3, 3, 3, 3]\n",
      "[5, 5, 5, 5, 5, 5, 5, 5, 5, 5, 5, 5, 5, 5, 5]\n",
      "[2, 2, 3, 2, 3, 3, 2, 2, 1, 2, 2, 3, 3, 3, 3]\n",
      "[4, 4, 4, 4, 4, 4, 4, 0, 0, 0, 4, 4, 4, 4, 0]\n",
      "[3, 3, 3, 3, 3, 3, 3, 3, 3, 3, 3, 1, 3, 3, 3]\n",
      "[5, 5, 5, 5, 5, 5, 5, 5, 5, 5, 5, 5, 5, 5, 5]\n",
      "[1, 3, 3, 1, 1, 3, 3, 1, 3, 1, 3, 3, 1, 3, 1]\n",
      "[1, 1, 1, 1, 1, 1, 1, 1, 1, 1, 1, 1, 3, 1, 1]\n",
      "[2, 2, 2, 2, 2, 2, 2, 2, 2, 2, 2, 2, 2, 2, 2]\n",
      "[4, 0, 0, 0, 4, 0, 4, 4, 4, 4, 4, 4, 4, 4, 4]\n",
      "[3, 3, 3, 3, 3, 3, 5, 3, 3, 3, 3, 3, 3, 3, 3]\n",
      "[3, 1, 3, 3, 3, 3, 3, 3, 3, 3, 3, 1, 3, 3, 3]\n",
      "[2, 2, 2, 2, 2, 2, 2, 2, 2, 2, 2, 2, 2, 2, 2]\n",
      "[5, 5, 5, 5, 5, 5, 5, 5, 5, 5, 5, 5, 5, 5, 5]\n",
      "[5, 5, 5, 5, 5, 5, 5, 5, 5, 5, 5, 5, 5, 3, 5]\n",
      "[3, 3, 3, 3, 3, 3, 3, 3, 3, 3, 3, 3, 3, 3, 3]\n",
      "[5, 5, 5, 5, 5, 5, 3, 5, 5, 5, 3, 5, 5, 5, 3]\n",
      "[3, 3, 3, 3, 3, 3, 3, 3, 3, 1, 3, 3, 3, 3, 3]\n",
      "[5, 5, 5, 5, 5, 5, 5, 5, 5, 5, 5, 3, 5, 5, 5]\n",
      "[3, 1, 3, 1, 1, 1, 1, 1, 3, 1, 3, 3, 1, 1, 1]\n",
      "[5, 5, 5, 5, 5, 5, 5, 5, 5, 5, 5, 5, 5, 5, 5]\n",
      "[4, 4, 4, 4, 4, 4, 4, 4, 4, 4, 4, 4, 4, 4, 4]\n",
      "[3, 3, 3, 3, 3, 3, 3, 3, 3, 3, 3, 3, 3, 3, 3]\n",
      "[3, 3, 3, 3, 1, 3, 3, 3, 3, 3, 3, 3, 3, 3, 3]\n",
      "[5, 5, 5, 5, 5, 5, 5, 5, 5, 5, 5, 5, 5, 5, 5]\n",
      "[3, 3, 3, 3, 3, 3, 3, 3, 3, 3, 3, 5, 3, 3, 3]\n",
      "[3, 3, 3, 3, 3, 3, 3, 3, 3, 3, 3, 3, 3, 3, 3]\n",
      "[3, 3, 3, 3, 3, 3, 3, 3, 3, 3, 3, 3, 1, 3, 3]\n",
      "[4, 4, 4, 0, 4, 4, 0, 5, 4, 4, 0, 4, 4, 4, 4]\n",
      "[3, 3, 3, 3, 3, 3, 3, 3, 3, 3, 3, 3, 3, 3, 3]\n",
      "[3, 3, 5, 3, 3, 5, 3, 5, 3, 3, 3, 3, 3, 3, 3]\n",
      "[5, 5, 5, 5, 5, 5, 5, 5, 5, 5, 5, 5, 5, 5, 5]\n",
      "[3, 3, 3, 3, 3, 3, 3, 3, 3, 3, 3, 3, 3, 3, 3]\n",
      "[4, 4, 4, 4, 4, 4, 4, 4, 4, 4, 4, 4, 4, 4, 4]\n",
      "[5, 5, 5, 5, 5, 5, 5, 5, 5, 5, 5, 5, 5, 5, 5]\n",
      "[5, 5, 5, 5, 5, 5, 5, 5, 5, 5, 5, 5, 5, 5, 5]\n",
      "[4, 4, 0, 0, 4, 4, 4, 4, 4, 4, 4, 4, 0, 4, 4]\n",
      "[0, 0, 0, 0, 0, 4, 0, 0, 0, 0, 0, 0, 0, 0, 0]\n",
      "[2, 3, 3, 3, 3, 3, 2, 2, 2, 2, 2, 2, 2, 2, 2]\n",
      "[3, 3, 3, 3, 3, 3, 3, 3, 3, 3, 3, 3, 3, 3, 3]\n",
      "[3, 3, 3, 3, 3, 3, 3, 3, 3, 3, 3, 3, 3, 3, 3]\n",
      "[3, 2, 5, 3, 3, 2, 2, 3, 3, 3, 2, 3, 3, 3, 3]\n",
      "[3, 4, 1, 4, 4, 3, 4, 4, 4, 3, 3, 4, 3, 4, 4]\n",
      "[3, 3, 1, 3, 3, 3, 3, 3, 3, 3, 3, 3, 3, 3, 3]\n",
      "[4, 4, 4, 4, 4, 4, 4, 4, 4, 4, 4, 4, 4, 4, 4]\n",
      "[2, 2, 2, 2, 2, 2, 2, 2, 2, 2, 2, 3, 2, 2, 2]\n",
      "[5, 5, 5, 5, 5, 5, 5, 5, 5, 5, 5, 5, 5, 5, 5]\n",
      "[3, 3, 3, 3, 3, 3, 3, 3, 3, 3, 3, 3, 3, 3, 3]\n",
      "[3, 3, 3, 3, 3, 3, 3, 3, 3, 3, 3, 3, 3, 3, 3]\n",
      "[4, 4, 4, 4, 4, 4, 4, 4, 4, 4, 4, 4, 4, 4, 4]\n",
      "[1, 3, 1, 3, 1, 1, 5, 3, 1, 1, 3, 1, 3, 3, 3]\n",
      "[4, 4, 4, 4, 4, 4, 4, 4, 4, 4, 4, 4, 4, 4, 4]\n",
      "[3, 3, 3, 3, 3, 3, 3, 1, 1, 3, 3, 3, 3, 3, 3]\n",
      "[0, 0, 0, 0, 4, 0, 0, 0, 4, 0, 0, 0, 0, 0, 4]\n",
      "[5, 5, 5, 5, 5, 5, 5, 5, 5, 5, 5, 3, 5, 5, 5]\n",
      "[4, 4, 4, 0, 4, 4, 4, 0, 0, 4, 4, 4, 0, 4, 4]\n",
      "[1, 1, 1, 1, 1, 1, 1, 1, 1, 1, 1, 1, 3, 1, 1]\n",
      "[4, 4, 4, 0, 4, 4, 4, 0, 0, 0, 4, 4, 0, 4, 4]\n",
      "[0, 4, 0, 4, 4, 4, 4, 1, 0, 0, 4, 0, 4, 1, 4]\n",
      "[5, 5, 5, 5, 5, 4, 5, 5, 5, 5, 5, 5, 5, 4, 5]\n",
      "[3, 1, 1, 3, 1, 3, 1, 1, 1, 1, 1, 1, 1, 1, 1]\n",
      "[3, 3, 3, 3, 3, 3, 3, 3, 3, 3, 3, 3, 3, 3, 3]\n",
      "[4, 4, 4, 4, 4, 4, 4, 4, 4, 4, 4, 4, 4, 4, 4]\n",
      "[0, 0, 0, 4, 0, 4, 4, 0, 0, 0, 4, 0, 4, 4, 0]\n",
      "[5, 5, 5, 5, 5, 5, 5, 5, 5, 5, 5, 5, 5, 5, 5]\n",
      "[5, 5, 5, 5, 5, 5, 5, 5, 5, 5, 5, 5, 5, 5, 5]\n",
      "[0, 0, 0, 0, 0, 0, 0, 0, 0, 0, 0, 0, 0, 0, 0]\n",
      "[3, 3, 3, 3, 3, 3, 3, 3, 3, 3, 3, 3, 3, 3, 3]\n",
      "[5, 5, 5, 5, 5, 5, 5, 5, 5, 5, 5, 5, 5, 5, 5]\n",
      "[4, 4, 4, 4, 4, 4, 4, 4, 4, 4, 4, 4, 4, 4, 4]\n",
      "[3, 3, 3, 3, 3, 3, 3, 3, 3, 3, 3, 3, 3, 3, 3]\n",
      "[2, 3, 3, 3, 3, 2, 3, 2, 3, 3, 2, 3, 3, 3, 3]\n",
      "[4, 0, 0, 0, 0, 0, 0, 0, 4, 0, 4, 0, 0, 0, 0]\n",
      "[3, 3, 3, 3, 3, 3, 3, 3, 3, 3, 3, 3, 3, 3, 3]\n",
      "[2, 2, 2, 2, 2, 2, 2, 2, 2, 2, 2, 2, 2, 2, 2]\n",
      "[3, 3, 5, 3, 3, 3, 3, 3, 3, 3, 3, 3, 3, 3, 3]\n",
      "[5, 1, 1, 1, 1, 1, 1, 1, 1, 1, 1, 3, 1, 1, 1]\n",
      "[3, 3, 3, 3, 3, 3, 3, 3, 3, 3, 3, 3, 3, 3, 3]\n",
      "[3, 3, 3, 3, 3, 3, 3, 3, 3, 3, 3, 3, 3, 3, 3]\n",
      "[5, 5, 5, 5, 5, 5, 5, 5, 5, 5, 5, 5, 5, 5, 5]\n",
      "[4, 5, 5, 4, 5, 4, 5, 5, 5, 5, 5, 5, 0, 5, 5]\n",
      "[4, 4, 4, 4, 4, 4, 4, 4, 4, 4, 4, 4, 4, 4, 4]\n",
      "[3, 3, 3, 3, 3, 3, 3, 3, 3, 3, 3, 3, 3, 3, 3]\n",
      "[1, 1, 1, 1, 3, 1, 1, 1, 1, 1, 3, 1, 3, 1, 1]\n",
      "[4, 4, 4, 4, 4, 4, 4, 4, 4, 4, 4, 4, 0, 4, 4]\n",
      "[5, 5, 5, 5, 5, 5, 5, 5, 5, 5, 5, 5, 5, 5, 5]\n",
      "[1, 1, 1, 5, 1, 3, 1, 1, 4, 5, 1, 1, 4, 1, 1]\n",
      "[3, 3, 3, 4, 3, 3, 3, 3, 4, 3, 3, 3, 3, 3, 3]\n",
      "[0, 0, 4, 0, 3, 0, 0, 0, 0, 0, 4, 3, 3, 0, 5]\n",
      "[2, 3, 2, 2, 2, 2, 3, 2, 2, 3, 2, 2, 2, 3, 2]\n",
      "[2, 2, 2, 2, 2, 2, 2, 2, 2, 2, 2, 2, 2, 2, 2]\n",
      "[3, 3, 3, 3, 3, 3, 3, 3, 3, 3, 3, 3, 3, 3, 3]\n",
      "[2, 2, 2, 2, 2, 2, 2, 2, 2, 2, 2, 2, 2, 2, 2]\n",
      "[4, 4, 4, 4, 4, 4, 4, 4, 4, 4, 4, 0, 4, 4, 4]\n",
      "[3, 3, 3, 4, 3, 3, 3, 3, 3, 3, 3, 3, 4, 3, 3]\n",
      "[5, 5, 5, 5, 5, 5, 5, 5, 5, 5, 5, 5, 5, 3, 5]\n",
      "[1, 1, 1, 1, 3, 1, 3, 1, 1, 1, 3, 3, 1, 1, 1]\n",
      "[3, 3, 3, 3, 3, 3, 3, 1, 3, 3, 3, 3, 3, 3, 3]\n",
      "[2, 3, 3, 2, 1, 2, 3, 1, 3, 3, 1, 3, 1, 2, 3]\n",
      "[3, 3, 3, 3, 3, 3, 3, 3, 3, 1, 3, 3, 3, 3, 3]\n",
      "[3, 3, 3, 3, 3, 3, 3, 3, 3, 3, 3, 3, 3, 3, 3]\n",
      "[3, 3, 2, 3, 3, 2, 2, 2, 3, 3, 2, 2, 2, 2, 2]\n",
      "[4, 4, 4, 4, 4, 4, 4, 4, 4, 4, 4, 4, 0, 4, 4]\n",
      "[1, 1, 1, 1, 1, 1, 1, 1, 1, 1, 1, 1, 1, 1, 1]\n",
      "[5, 0, 0, 4, 4, 5, 4, 4, 4, 4, 4, 5, 5, 4, 0]\n",
      "[5, 5, 5, 5, 5, 5, 5, 5, 5, 5, 5, 5, 5, 5, 5]\n",
      "[3, 3, 3, 3, 3, 3, 3, 3, 3, 3, 3, 3, 3, 3, 3]\n",
      "[3, 3, 3, 3, 3, 3, 3, 3, 3, 3, 3, 3, 3, 3, 3]\n",
      "[3, 3, 3, 3, 3, 3, 3, 3, 3, 3, 3, 3, 3, 3, 3]\n",
      "[3, 3, 3, 3, 3, 3, 3, 3, 3, 3, 3, 3, 3, 3, 3]\n",
      "[3, 3, 3, 3, 3, 3, 3, 3, 3, 3, 3, 3, 3, 3, 3]\n",
      "[3, 3, 3, 3, 3, 3, 1, 3, 3, 3, 3, 3, 3, 3, 3]\n",
      "[4, 0, 0, 0, 0, 0, 0, 4, 0, 0, 0, 0, 0, 0, 0]\n",
      "[4, 4, 0, 0, 0, 4, 4, 0, 4, 0, 4, 0, 4, 4, 0]\n",
      "[3, 3, 3, 3, 3, 3, 3, 3, 3, 3, 3, 3, 3, 3, 3]\n",
      "[2, 2, 2, 2, 2, 2, 2, 2, 2, 2, 2, 2, 2, 2, 2]\n",
      "[0, 0, 0, 0, 0, 0, 0, 0, 0, 0, 0, 0, 0, 0, 0]\n",
      "[2, 2, 2, 2, 2, 2, 2, 2, 2, 2, 2, 2, 2, 2, 2]\n",
      "[4, 4, 4, 4, 4, 4, 4, 4, 4, 4, 4, 0, 0, 4, 4]\n",
      "[3, 3, 3, 3, 3, 3, 3, 3, 3, 3, 3, 3, 3, 3, 3]\n",
      "[2, 2, 3, 2, 2, 2, 2, 2, 2, 2, 2, 3, 2, 2, 2]\n",
      "[1, 3, 1, 1, 1, 3, 1, 1, 1, 1, 3, 1, 1, 3, 1]\n",
      "[0, 0, 4, 0, 0, 0, 4, 0, 0, 0, 4, 0, 4, 0, 0]\n",
      "[2, 2, 2, 2, 2, 2, 2, 2, 2, 2, 2, 2, 2, 2, 2]\n",
      "[1, 1, 1, 1, 1, 3, 1, 3, 1, 1, 1, 1, 1, 1, 1]\n",
      "[4, 4, 4, 4, 4, 4, 4, 4, 4, 4, 4, 4, 4, 4, 4]\n",
      "[4, 4, 4, 4, 4, 4, 4, 4, 4, 4, 4, 4, 4, 4, 4]\n",
      "[1, 1, 1, 1, 1, 1, 1, 1, 1, 1, 3, 1, 1, 1, 1]\n",
      "[0, 4, 0, 0, 4, 4, 4, 0, 0, 0, 4, 0, 0, 4, 0]\n",
      "[0, 0, 0, 0, 0, 0, 0, 0, 4, 0, 0, 0, 0, 0, 0]\n",
      "[5, 3, 3, 3, 5, 5, 3, 3, 5, 3, 3, 3, 5, 3, 5]\n",
      "[3, 3, 3, 3, 3, 3, 3, 3, 3, 3, 3, 3, 3, 3, 3]\n",
      "[2, 2, 2, 2, 2, 2, 2, 2, 2, 2, 2, 2, 2, 2, 2]\n",
      "[1, 1, 1, 1, 1, 1, 1, 1, 3, 1, 1, 1, 3, 1, 1]\n",
      "[5, 5, 5, 5, 5, 5, 5, 5, 5, 5, 5, 5, 5, 5, 5]\n",
      "[4, 4, 4, 4, 4, 4, 4, 4, 4, 4, 4, 4, 4, 4, 4]\n",
      "[5, 5, 5, 5, 5, 5, 5, 5, 5, 5, 5, 5, 5, 5, 5]\n",
      "[5, 5, 5, 5, 5, 5, 5, 5, 5, 5, 5, 3, 5, 5, 5]\n",
      "[2, 2, 2, 2, 2, 2, 2, 2, 2, 2, 2, 2, 2, 2, 2]\n",
      "[3, 3, 3, 3, 3, 3, 3, 3, 3, 3, 3, 3, 3, 3, 3]\n",
      "[3, 3, 3, 3, 3, 3, 3, 3, 3, 3, 3, 3, 3, 3, 3]\n",
      "[4, 4, 4, 0, 4, 4, 0, 4, 0, 4, 4, 4, 0, 4, 0]\n",
      "[2, 3, 3, 3, 3, 3, 3, 3, 3, 3, 2, 3, 3, 3, 3]\n",
      "[3, 3, 3, 3, 3, 3, 3, 3, 3, 3, 3, 3, 3, 3, 3]\n",
      "[1, 1, 1, 1, 1, 1, 1, 1, 3, 1, 3, 1, 1, 3, 1]\n",
      "[2, 2, 2, 2, 2, 2, 2, 2, 2, 2, 2, 2, 2, 2, 2]\n",
      "[4, 4, 4, 4, 4, 4, 4, 0, 4, 4, 4, 0, 4, 4, 4]\n",
      "[2, 2, 2, 2, 2, 2, 2, 2, 2, 2, 2, 2, 2, 2, 2]\n",
      "[5, 5, 5, 5, 5, 5, 5, 5, 5, 5, 5, 5, 5, 3, 5]\n",
      "[0, 4, 4, 4, 4, 4, 4, 4, 4, 0, 4, 0, 0, 4, 0]\n",
      "[4, 0, 3, 0, 0, 3, 4, 3, 3, 3, 4, 3, 0, 4, 3]\n",
      "[1, 3, 1, 1, 1, 3, 1, 1, 1, 1, 1, 1, 1, 1, 1]\n",
      "[5, 5, 5, 5, 3, 3, 5, 5, 5, 5, 5, 5, 5, 3, 3]\n",
      "[3, 3, 3, 3, 3, 3, 3, 3, 3, 3, 3, 3, 3, 3, 3]\n",
      "[5, 3, 5, 3, 5, 5, 3, 5, 3, 5, 5, 4, 3, 4, 5]\n",
      "[3, 3, 3, 3, 3, 3, 3, 3, 3, 3, 3, 3, 3, 3, 3]\n",
      "[3, 3, 3, 3, 3, 3, 3, 3, 3, 3, 3, 3, 3, 3, 3]\n",
      "[2, 3, 2, 2, 2, 2, 2, 2, 3, 2, 2, 2, 2, 2, 2]\n",
      "[4, 4, 4, 4, 4, 4, 4, 4, 4, 4, 4, 4, 4, 4, 4]\n",
      "[3, 3, 3, 3, 3, 3, 3, 3, 3, 3, 3, 3, 3, 3, 3]\n",
      "[3, 3, 3, 3, 3, 3, 3, 2, 3, 3, 2, 3, 2, 3, 3]\n",
      "[4, 4, 4, 4, 4, 4, 4, 4, 4, 4, 4, 4, 4, 4, 4]\n",
      "[1, 3, 5, 5, 3, 3, 5, 5, 5, 3, 3, 3, 5, 3, 5]\n",
      "[3, 3, 0, 3, 0, 3, 4, 0, 3, 0, 4, 3, 3, 4, 3]\n",
      "[1, 1, 1, 1, 1, 1, 1, 1, 1, 1, 1, 1, 1, 1, 1]\n",
      "[2, 2, 2, 2, 2, 2, 2, 2, 2, 2, 2, 2, 2, 2, 2]\n",
      "[4, 4, 4, 4, 4, 4, 4, 4, 4, 4, 4, 4, 4, 4, 4]\n",
      "[2, 3, 3, 5, 5, 2, 5, 2, 3, 3, 5, 3, 3, 3, 2]\n",
      "[3, 3, 3, 3, 3, 3, 3, 3, 3, 3, 3, 3, 2, 3, 3]\n",
      "[4, 4, 4, 4, 4, 4, 4, 4, 4, 4, 4, 0, 4, 0, 4]\n",
      "[1, 1, 1, 1, 1, 1, 1, 1, 1, 1, 1, 1, 1, 1, 1]\n",
      "[5, 5, 5, 5, 5, 5, 5, 5, 5, 5, 5, 5, 5, 5, 5]\n",
      "[3, 1, 1, 1, 1, 1, 1, 1, 1, 2, 1, 1, 1, 1, 1]\n",
      "[0, 0, 4, 0, 4, 0, 0, 0, 4, 0, 0, 0, 0, 0, 0]\n",
      "[0, 0, 0, 0, 0, 0, 0, 0, 4, 0, 4, 0, 0, 0, 0]\n",
      "[5, 5, 3, 5, 3, 3, 5, 3, 5, 3, 3, 3, 5, 5, 5]\n",
      "[3, 3, 3, 3, 3, 3, 3, 3, 3, 3, 3, 3, 3, 3, 3]\n",
      "[1, 1, 1, 1, 1, 1, 1, 1, 1, 1, 1, 1, 1, 1, 1]\n",
      "[5, 5, 3, 5, 5, 1, 5, 5, 5, 5, 5, 5, 5, 5, 5]\n",
      "[5, 5, 5, 5, 5, 5, 5, 5, 5, 5, 5, 5, 5, 5, 5]\n",
      "[4, 4, 4, 4, 4, 4, 4, 4, 0, 4, 4, 4, 4, 4, 4]\n",
      "[1, 1, 1, 3, 1, 1, 4, 1, 4, 4, 1, 1, 1, 1, 4]\n",
      "[1, 1, 1, 1, 1, 1, 1, 1, 1, 1, 1, 1, 1, 1, 1]\n",
      "[3, 4, 3, 1, 3, 3, 1, 3, 3, 0, 3, 1, 3, 0, 3]\n",
      "[0, 0, 0, 0, 0, 0, 0, 0, 0, 0, 0, 0, 0, 0, 0]\n",
      "[3, 3, 3, 2, 3, 3, 3, 2, 2, 3, 3, 3, 3, 2, 3]\n",
      "[2, 2, 2, 2, 2, 2, 2, 2, 2, 2, 2, 2, 2, 2, 2]\n",
      "[3, 3, 3, 3, 3, 3, 3, 3, 3, 3, 3, 3, 3, 3, 3]\n",
      "[4, 4, 4, 4, 4, 4, 4, 4, 4, 4, 4, 4, 4, 4, 4]\n",
      "[4, 4, 4, 4, 4, 4, 4, 4, 4, 4, 4, 4, 4, 4, 4]\n",
      "[5, 5, 3, 5, 5, 5, 5, 5, 5, 5, 5, 5, 5, 5, 5]\n",
      "[2, 2, 2, 2, 2, 2, 2, 2, 2, 2, 2, 2, 2, 2, 2]\n",
      "[3, 1, 1, 3, 1, 3, 1, 3, 1, 3, 3, 3, 3, 3, 3]\n",
      "[5, 5, 5, 5, 5, 5, 5, 5, 5, 5, 5, 5, 5, 5, 5]\n",
      "[3, 3, 3, 3, 3, 3, 3, 3, 3, 3, 3, 3, 3, 3, 3]\n",
      "[5, 5, 5, 5, 5, 5, 5, 5, 5, 5, 5, 5, 3, 5, 5]\n",
      "[4, 4, 4, 4, 4, 4, 4, 4, 4, 4, 4, 4, 4, 4, 4]\n",
      "[5, 5, 5, 5, 5, 5, 5, 5, 5, 5, 5, 5, 5, 5, 5]\n",
      "[1, 1, 1, 1, 1, 1, 1, 3, 1, 1, 1, 1, 3, 1, 1]\n",
      "[4, 4, 4, 4, 4, 4, 4, 0, 0, 0, 4, 4, 4, 4, 4]\n",
      "[5, 5, 3, 5, 3, 3, 3, 3, 5, 5, 3, 3, 3, 3, 3]\n",
      "[3, 3, 3, 3, 3, 3, 3, 3, 3, 3, 3, 3, 3, 3, 3]\n",
      "[2, 2, 3, 5, 3, 2, 2, 2, 2, 5, 2, 5, 5, 3, 5]\n",
      "[3, 3, 3, 3, 3, 3, 3, 3, 3, 3, 3, 3, 3, 3, 3]\n",
      "[5, 5, 5, 5, 5, 5, 5, 5, 5, 5, 5, 5, 5, 5, 5]\n",
      "[3, 3, 3, 3, 3, 3, 3, 3, 3, 3, 3, 3, 3, 3, 3]\n",
      "[3, 3, 3, 3, 3, 3, 3, 3, 3, 3, 3, 3, 3, 3, 3]\n",
      "[3, 3, 3, 3, 3, 3, 3, 3, 3, 3, 3, 3, 3, 3, 3]\n",
      "[2, 2, 2, 2, 2, 2, 2, 2, 2, 2, 2, 2, 2, 2, 2]\n",
      "[3, 3, 1, 3, 1, 3, 3, 3, 3, 1, 3, 3, 3, 3, 3]\n",
      "[1, 3, 3, 1, 3, 3, 1, 3, 3, 3, 3, 3, 3, 3, 3]\n",
      "[0, 0, 4, 0, 0, 0, 0, 0, 0, 0, 4, 0, 0, 4, 0]\n",
      "[3, 5, 5, 5, 5, 5, 5, 5, 5, 5, 5, 5, 5, 3, 5]\n",
      "[5, 5, 5, 5, 5, 5, 5, 5, 5, 5, 5, 5, 5, 5, 5]\n",
      "[3, 3, 3, 3, 3, 3, 3, 3, 3, 3, 3, 3, 3, 3, 3]\n",
      "[3, 5, 5, 5, 5, 5, 3, 3, 5, 5, 5, 3, 5, 3, 5]\n",
      "[1, 1, 1, 1, 1, 1, 1, 1, 1, 1, 1, 3, 1, 1, 1]\n",
      "[4, 4, 4, 4, 4, 4, 4, 4, 4, 4, 4, 0, 4, 4, 4]\n",
      "[4, 0, 0, 0, 0, 0, 4, 0, 4, 0, 4, 0, 0, 4, 4]\n",
      "[3, 3, 1, 1, 1, 3, 1, 1, 1, 3, 3, 3, 3, 1, 3]\n",
      "[3, 3, 3, 3, 3, 3, 3, 3, 3, 3, 3, 3, 3, 3, 3]\n",
      "[3, 5, 5, 5, 5, 5, 5, 5, 5, 5, 5, 5, 5, 5, 5]\n",
      "[4, 4, 4, 4, 4, 4, 4, 4, 4, 4, 4, 4, 4, 4, 4]\n",
      "[1, 1, 1, 1, 1, 1, 1, 1, 1, 1, 1, 1, 1, 1, 1]\n",
      "[5, 5, 5, 3, 5, 5, 3, 5, 3, 3, 5, 3, 5, 3, 5]\n",
      "[5, 5, 5, 5, 5, 5, 5, 5, 5, 5, 5, 3, 5, 5, 5]\n",
      "[3, 3, 3, 3, 3, 3, 3, 3, 3, 3, 3, 3, 3, 3, 3]\n",
      "[3, 3, 3, 5, 3, 3, 3, 5, 3, 3, 3, 5, 1, 5, 3]\n",
      "[2, 2, 2, 2, 2, 2, 2, 2, 2, 2, 2, 2, 2, 2, 2]\n",
      "[5, 5, 5, 5, 5, 5, 5, 5, 5, 5, 5, 5, 5, 5, 5]\n",
      "[3, 5, 5, 5, 3, 3, 3, 5, 5, 3, 3, 3, 5, 5, 3]\n",
      "[4, 4, 4, 4, 4, 4, 4, 4, 4, 4, 4, 4, 4, 4, 4]\n",
      "[3, 3, 3, 3, 3, 3, 3, 3, 3, 3, 3, 3, 3, 5, 3]\n",
      "[1, 1, 1, 1, 1, 1, 1, 1, 1, 1, 1, 1, 1, 1, 1]\n",
      "[5, 5, 5, 5, 5, 5, 5, 5, 5, 5, 5, 5, 5, 5, 5]\n",
      "[5, 5, 5, 5, 5, 5, 5, 5, 5, 5, 5, 5, 5, 5, 5]\n",
      "[3, 4, 1, 3, 3, 1, 3, 3, 3, 3, 1, 1, 3, 3, 4]\n",
      "[3, 3, 3, 3, 3, 3, 3, 3, 3, 3, 3, 3, 3, 3, 3]\n",
      "[0, 0, 4, 0, 0, 0, 4, 0, 4, 0, 4, 0, 0, 0, 0]\n",
      "[2, 3, 3, 3, 2, 3, 3, 3, 3, 3, 3, 3, 2, 3, 3]\n",
      "[0, 4, 0, 0, 0, 0, 4, 0, 4, 0, 3, 0, 0, 0, 0]\n",
      "[4, 4, 4, 4, 4, 4, 4, 4, 4, 4, 4, 4, 0, 4, 4]\n",
      "[3, 0, 4, 0, 4, 0, 4, 4, 4, 4, 0, 0, 0, 4, 0]\n",
      "[2, 2, 3, 3, 3, 3, 2, 3, 3, 2, 3, 3, 3, 3, 3]\n",
      "[5, 5, 5, 5, 5, 5, 5, 5, 5, 5, 5, 5, 5, 5, 5]\n",
      "[5, 5, 5, 5, 5, 5, 5, 5, 5, 5, 5, 3, 5, 5, 5]\n",
      "[3, 3, 3, 3, 3, 3, 3, 3, 3, 3, 3, 3, 3, 3, 3]\n",
      "[3, 3, 3, 3, 3, 3, 3, 3, 3, 3, 3, 3, 3, 3, 3]\n",
      "[5, 5, 5, 5, 5, 5, 5, 5, 5, 5, 5, 5, 5, 5, 5]\n",
      "[5, 5, 5, 5, 5, 5, 5, 5, 5, 5, 5, 5, 5, 5, 5]\n",
      "[4, 4, 4, 4, 4, 4, 4, 4, 4, 4, 4, 4, 4, 4, 4]\n",
      "[4, 4, 4, 4, 4, 4, 4, 4, 4, 4, 4, 4, 4, 4, 4]\n",
      "[3, 3, 3, 3, 3, 3, 3, 3, 3, 3, 3, 3, 3, 3, 3]\n",
      "[5, 5, 5, 5, 5, 5, 5, 5, 5, 5, 5, 5, 5, 5, 5]\n",
      "[2, 2, 2, 2, 2, 2, 2, 2, 2, 2, 2, 2, 2, 2, 2]\n",
      "[3, 3, 3, 3, 3, 3, 3, 3, 3, 3, 3, 3, 3, 3, 3]\n",
      "[5, 5, 5, 5, 5, 5, 5, 5, 5, 5, 5, 5, 5, 5, 0]\n",
      "[3, 5, 3, 3, 5, 3, 5, 3, 5, 3, 3, 5, 3, 3, 3]\n",
      "[2, 2, 2, 2, 2, 2, 2, 2, 2, 2, 2, 2, 2, 2, 2]\n",
      "[4, 4, 0, 0, 4, 4, 4, 0, 4, 4, 4, 4, 4, 4, 4]\n",
      "[3, 3, 3, 3, 3, 3, 3, 3, 3, 3, 3, 3, 3, 3, 3]\n",
      "[3, 2, 3, 3, 3, 3, 2, 3, 3, 2, 3, 3, 3, 3, 3]\n",
      "[3, 1, 3, 1, 1, 3, 3, 1, 1, 3, 3, 3, 3, 1, 1]\n",
      "[2, 2, 5, 2, 2, 2, 2, 2, 2, 2, 2, 2, 2, 2, 2]\n",
      "[4, 4, 4, 4, 4, 4, 4, 4, 4, 4, 4, 4, 4, 4, 4]\n",
      "[3, 3, 3, 3, 3, 3, 3, 3, 3, 3, 3, 3, 3, 3, 3]\n",
      "[0, 0, 0, 0, 0, 0, 0, 0, 0, 0, 0, 0, 0, 0, 0]\n",
      "[1, 1, 1, 1, 1, 1, 1, 1, 1, 1, 3, 1, 1, 1, 1]\n",
      "[5, 4, 5, 3, 5, 5, 3, 3, 5, 3, 3, 3, 4, 4, 3]\n",
      "[5, 5, 5, 5, 5, 5, 5, 5, 5, 5, 5, 5, 5, 5, 5]\n",
      "[1, 1, 1, 1, 1, 1, 1, 1, 1, 1, 1, 1, 1, 1, 1]\n",
      "[5, 5, 5, 5, 5, 5, 5, 5, 5, 5, 5, 5, 5, 5, 5]\n",
      "[0, 4, 0, 0, 0, 4, 0, 0, 0, 0, 0, 4, 0, 4, 0]\n",
      "[1, 1, 1, 1, 1, 1, 1, 1, 1, 1, 1, 1, 1, 1, 1]\n",
      "[1, 1, 1, 1, 1, 1, 1, 1, 1, 1, 1, 1, 1, 1, 1]\n",
      "[5, 5, 5, 5, 5, 5, 5, 5, 5, 5, 5, 5, 5, 5, 5]\n",
      "[5, 5, 5, 5, 5, 5, 5, 5, 5, 3, 3, 5, 3, 5, 5]\n",
      "[2, 3, 3, 3, 2, 3, 2, 2, 2, 2, 2, 3, 3, 2, 2]\n",
      "[5, 5, 5, 5, 5, 5, 5, 5, 5, 5, 5, 3, 5, 5, 5]\n",
      "[2, 3, 2, 3, 3, 3, 3, 2, 3, 2, 2, 2, 2, 2, 3]\n",
      "[3, 1, 4, 3, 1, 1, 3, 3, 3, 1, 0, 3, 3, 3, 1]\n",
      "[5, 5, 5, 5, 5, 5, 5, 5, 5, 5, 5, 5, 5, 5, 5]\n",
      "[3, 3, 1, 3, 3, 3, 1, 3, 3, 1, 3, 3, 1, 3, 3]\n",
      "[5, 5, 5, 5, 5, 5, 5, 5, 5, 5, 3, 3, 5, 5, 5]\n",
      "[3, 4, 3, 3, 3, 2, 4, 4, 3, 3, 3, 2, 3, 4, 3]\n",
      "[4, 4, 4, 4, 4, 4, 4, 4, 4, 4, 4, 4, 4, 4, 4]\n",
      "[5, 5, 5, 5, 5, 5, 5, 5, 5, 5, 5, 5, 5, 5, 5]\n",
      "[5, 5, 5, 5, 5, 5, 5, 5, 5, 5, 5, 5, 5, 5, 5]\n",
      "[0, 0, 0, 0, 4, 0, 0, 0, 0, 0, 0, 0, 0, 4, 0]\n",
      "[4, 3, 1, 4, 3, 1, 1, 1, 1, 1, 3, 3, 4, 3, 3]\n",
      "[3, 3, 3, 1, 1, 1, 1, 1, 3, 1, 1, 3, 3, 1, 1]\n",
      "[5, 5, 5, 5, 5, 5, 5, 5, 5, 5, 5, 5, 5, 5, 5]\n",
      "[1, 1, 1, 3, 1, 1, 1, 1, 1, 1, 1, 1, 1, 1, 1]\n",
      "[5, 5, 5, 5, 5, 5, 5, 5, 5, 5, 5, 5, 5, 5, 5]\n",
      "[4, 1, 1, 0, 1, 3, 4, 3, 5, 3, 3, 3, 3, 3, 1]\n",
      "[4, 4, 3, 4, 3, 4, 4, 3, 4, 3, 4, 3, 3, 4, 3]\n",
      "[3, 3, 3, 3, 3, 3, 3, 3, 3, 3, 3, 3, 3, 3, 3]\n",
      "[5, 5, 5, 5, 5, 5, 5, 5, 5, 5, 5, 5, 5, 5, 5]\n",
      "[3, 3, 3, 3, 3, 3, 5, 3, 3, 3, 3, 3, 3, 3, 3]\n",
      "[3, 3, 3, 3, 3, 3, 3, 3, 3, 3, 3, 3, 3, 3, 3]\n",
      "[5, 5, 5, 5, 5, 5, 5, 5, 5, 5, 5, 5, 5, 5, 5]\n",
      "[0, 0, 5, 3, 5, 3, 3, 0, 3, 0, 5, 5, 3, 0, 0]\n",
      "[5, 5, 5, 5, 5, 5, 5, 5, 5, 5, 5, 5, 5, 5, 5]\n",
      "[1, 1, 1, 1, 1, 3, 1, 1, 1, 1, 3, 3, 1, 1, 3]\n",
      "[1, 1, 1, 1, 1, 1, 1, 1, 1, 1, 1, 1, 1, 1, 1]\n",
      "[4, 4, 4, 4, 4, 4, 4, 4, 4, 4, 4, 4, 4, 4, 4]\n",
      "[2, 2, 2, 2, 2, 2, 2, 2, 2, 2, 2, 2, 2, 2, 2]\n",
      "[3, 3, 3, 3, 3, 3, 3, 3, 3, 3, 3, 3, 3, 3, 3]\n",
      "[5, 5, 5, 5, 5, 5, 5, 5, 5, 5, 5, 5, 5, 5, 5]\n",
      "[1, 1, 1, 1, 1, 1, 3, 1, 1, 1, 3, 3, 1, 1, 1]\n",
      "[5, 5, 5, 5, 5, 5, 5, 5, 5, 5, 5, 5, 5, 5, 5]\n",
      "[4, 4, 4, 4, 4, 4, 4, 4, 4, 4, 4, 4, 4, 4, 4]\n",
      "[2, 2, 2, 2, 2, 2, 2, 2, 2, 2, 2, 2, 2, 2, 2]\n",
      "[4, 4, 4, 0, 4, 4, 4, 0, 0, 4, 4, 4, 4, 4, 0]\n",
      "[4, 4, 4, 4, 4, 4, 4, 4, 4, 4, 4, 4, 4, 4, 4]\n",
      "[3, 3, 3, 3, 3, 3, 3, 3, 3, 3, 3, 3, 3, 3, 3]\n",
      "[3, 3, 3, 3, 3, 3, 3, 3, 3, 3, 3, 3, 3, 3, 3]\n",
      "[5, 5, 5, 5, 5, 5, 5, 5, 5, 5, 5, 5, 5, 5, 5]\n",
      "[4, 4, 4, 4, 4, 4, 4, 4, 4, 4, 4, 4, 4, 4, 4]\n",
      "[1, 1, 1, 1, 1, 1, 1, 1, 1, 1, 1, 1, 1, 1, 1]\n",
      "[4, 4, 4, 4, 4, 4, 4, 4, 4, 4, 4, 4, 4, 4, 4]\n",
      "[2, 2, 2, 2, 2, 2, 2, 2, 2, 2, 2, 2, 2, 2, 2]\n",
      "[4, 4, 4, 4, 4, 4, 4, 4, 4, 4, 4, 4, 4, 4, 4]\n",
      "[4, 4, 4, 4, 4, 4, 4, 4, 4, 0, 4, 4, 4, 4, 4]\n",
      "[4, 4, 4, 4, 4, 4, 4, 4, 4, 4, 4, 0, 0, 4, 0]\n",
      "[3, 3, 3, 3, 3, 3, 3, 3, 3, 3, 3, 3, 3, 3, 3]\n",
      "[5, 5, 5, 5, 5, 5, 5, 5, 5, 5, 5, 5, 5, 5, 5]\n",
      "[3, 3, 5, 3, 3, 3, 3, 3, 3, 3, 3, 3, 3, 3, 3]\n",
      "[5, 5, 5, 5, 5, 5, 5, 5, 5, 5, 5, 5, 5, 5, 5]\n",
      "[3, 3, 3, 3, 3, 3, 3, 3, 3, 3, 3, 3, 3, 3, 3]\n",
      "[5, 5, 5, 5, 5, 5, 5, 5, 3, 3, 5, 5, 5, 3, 5]\n",
      "[1, 1, 3, 3, 1, 3, 3, 3, 3, 1, 3, 1, 3, 3, 3]\n",
      "[4, 4, 4, 4, 4, 4, 4, 4, 4, 4, 4, 4, 4, 4, 4]\n",
      "[4, 4, 4, 4, 4, 4, 4, 4, 4, 4, 4, 4, 4, 4, 4]\n",
      "[1, 1, 1, 1, 1, 1, 1, 1, 1, 1, 1, 1, 1, 1, 1]\n",
      "[3, 3, 3, 3, 3, 3, 3, 3, 3, 3, 3, 3, 3, 3, 3]\n",
      "[4, 4, 4, 4, 4, 4, 4, 4, 4, 4, 4, 4, 4, 4, 4]\n",
      "[3, 3, 3, 3, 3, 3, 3, 3, 3, 3, 3, 3, 3, 3, 3]\n",
      "[2, 2, 5, 5, 5, 2, 2, 5, 2, 5, 5, 5, 5, 5, 2]\n",
      "[5, 5, 5, 5, 5, 5, 5, 5, 5, 5, 5, 5, 5, 3, 5]\n",
      "[3, 3, 3, 3, 3, 3, 3, 3, 3, 3, 3, 3, 3, 3, 3]\n",
      "[2, 2, 2, 2, 2, 2, 2, 2, 2, 2, 2, 2, 2, 2, 2]\n",
      "[3, 3, 3, 3, 3, 3, 3, 3, 3, 3, 3, 1, 3, 3, 3]\n",
      "[3, 3, 3, 3, 3, 3, 3, 3, 3, 3, 3, 3, 3, 3, 3]\n",
      "[5, 5, 5, 5, 3, 5, 5, 5, 5, 5, 5, 3, 5, 5, 5]\n",
      "[4, 4, 4, 4, 4, 4, 4, 0, 4, 4, 4, 4, 4, 4, 4]\n",
      "[5, 5, 5, 5, 5, 5, 5, 5, 5, 5, 5, 5, 5, 5, 5]\n",
      "[3, 5, 3, 5, 3, 5, 5, 5, 5, 5, 5, 3, 5, 3, 5]\n",
      "[3, 3, 3, 3, 3, 3, 3, 3, 3, 3, 3, 3, 1, 3, 3]\n",
      "[4, 4, 4, 4, 4, 4, 4, 4, 4, 4, 4, 4, 4, 4, 4]\n",
      "[4, 4, 4, 4, 4, 4, 4, 4, 4, 4, 4, 4, 4, 4, 4]\n",
      "[1, 1, 1, 1, 1, 1, 1, 1, 3, 1, 1, 1, 1, 1, 1]\n",
      "[4, 0, 4, 0, 4, 0, 4, 4, 0, 0, 4, 4, 0, 4, 0]\n",
      "[2, 2, 2, 2, 2, 2, 2, 2, 2, 2, 2, 2, 2, 2, 2]\n",
      "[4, 4, 4, 4, 4, 4, 4, 4, 4, 4, 4, 4, 4, 4, 4]\n",
      "[5, 5, 2, 5, 5, 5, 5, 5, 5, 5, 2, 5, 5, 5, 5]\n",
      "[3, 5, 0, 5, 3, 3, 5, 5, 5, 5, 3, 5, 3, 3, 5]\n",
      "[4, 4, 4, 4, 4, 4, 4, 4, 4, 4, 4, 4, 4, 4, 4]\n",
      "[3, 3, 3, 3, 3, 3, 3, 3, 3, 3, 3, 3, 3, 3, 3]\n",
      "[3, 3, 3, 5, 3, 5, 5, 3, 3, 3, 3, 3, 3, 3, 3]\n",
      "[3, 3, 1, 3, 3, 3, 3, 3, 3, 3, 3, 3, 3, 3, 3]\n",
      "[3, 3, 3, 3, 3, 3, 3, 3, 3, 3, 3, 3, 3, 3, 3]\n",
      "[3, 3, 3, 3, 3, 3, 3, 3, 3, 3, 3, 3, 3, 3, 3]\n",
      "[5, 5, 5, 5, 5, 5, 5, 5, 5, 5, 5, 5, 5, 5, 5]\n",
      "[3, 1, 3, 3, 1, 3, 1, 1, 3, 3, 3, 1, 3, 1, 1]\n",
      "[5, 5, 5, 5, 5, 5, 5, 5, 5, 5, 5, 5, 5, 5, 5]\n",
      "[4, 4, 4, 4, 4, 4, 4, 4, 4, 4, 4, 4, 4, 4, 4]\n",
      "[3, 1, 3, 3, 1, 3, 3, 1, 3, 3, 3, 1, 1, 3, 3]\n",
      "[4, 4, 4, 4, 4, 4, 4, 4, 4, 4, 4, 4, 4, 4, 4]\n",
      "[3, 3, 5, 3, 3, 3, 3, 3, 3, 3, 3, 3, 5, 3, 3]\n",
      "[2, 2, 2, 2, 2, 2, 2, 2, 2, 2, 2, 2, 2, 2, 2]\n",
      "[3, 5, 5, 5, 5, 5, 5, 5, 5, 5, 5, 5, 5, 5, 5]\n",
      "[3, 3, 3, 3, 3, 3, 3, 3, 3, 3, 3, 3, 3, 3, 3]\n",
      "[3, 3, 3, 3, 3, 3, 3, 3, 4, 3, 3, 3, 3, 3, 3]\n",
      "[3, 3, 3, 3, 3, 3, 3, 3, 3, 3, 3, 3, 3, 3, 3]\n",
      "[2, 2, 2, 2, 2, 2, 2, 2, 2, 2, 2, 2, 2, 2, 2]\n",
      "[4, 0, 4, 0, 0, 4, 4, 4, 4, 4, 4, 0, 4, 4, 0]\n",
      "[3, 3, 3, 3, 3, 3, 3, 3, 3, 3, 3, 3, 3, 3, 3]\n",
      "[4, 4, 4, 4, 4, 4, 4, 4, 1, 4, 1, 4, 0, 4, 4]\n",
      "[3, 3, 3, 3, 3, 2, 3, 3, 2, 3, 2, 3, 2, 3, 3]\n",
      "[3, 3, 3, 3, 3, 3, 1, 3, 3, 1, 3, 3, 3, 3, 3]\n",
      "[5, 5, 5, 5, 5, 5, 5, 5, 5, 5, 5, 5, 5, 5, 5]\n",
      "[4, 4, 4, 0, 0, 4, 4, 0, 0, 0, 4, 4, 4, 4, 0]\n",
      "[4, 4, 4, 0, 0, 4, 4, 0, 4, 4, 4, 4, 4, 4, 0]\n",
      "[4, 4, 4, 4, 4, 4, 4, 4, 4, 4, 4, 4, 4, 4, 4]\n",
      "[5, 5, 5, 3, 5, 5, 5, 5, 5, 5, 5, 5, 3, 5, 5]\n",
      "[1, 1, 1, 1, 1, 1, 1, 1, 1, 1, 1, 3, 3, 1, 1]\n",
      "[2, 2, 2, 2, 2, 2, 2, 2, 2, 2, 2, 2, 2, 2, 2]\n",
      "[3, 3, 3, 3, 3, 3, 3, 3, 3, 3, 3, 3, 3, 3, 3]\n",
      "[5, 5, 5, 5, 5, 5, 5, 5, 5, 5, 5, 5, 5, 5, 5]\n",
      "[2, 2, 2, 2, 2, 2, 2, 2, 2, 2, 2, 2, 2, 2, 2]\n",
      "[1, 1, 1, 1, 1, 3, 1, 1, 1, 1, 3, 1, 3, 1, 1]\n",
      "[4, 4, 4, 4, 4, 4, 4, 0, 0, 0, 4, 4, 4, 4, 0]\n",
      "[5, 5, 5, 5, 5, 5, 5, 5, 5, 5, 5, 5, 0, 5, 5]\n",
      "[0, 0, 0, 0, 0, 0, 0, 0, 0, 0, 0, 0, 0, 0, 0]\n",
      "[3, 3, 3, 3, 3, 3, 3, 3, 3, 3, 3, 3, 3, 3, 3]\n",
      "[1, 1, 3, 3, 1, 1, 1, 1, 3, 1, 3, 1, 3, 3, 1]\n",
      "[0, 0, 0, 0, 4, 0, 4, 0, 0, 0, 4, 0, 0, 0, 0]\n",
      "[5, 5, 5, 5, 5, 5, 5, 5, 5, 5, 5, 5, 5, 5, 5]\n",
      "[1, 1, 3, 0, 3, 3, 3, 3, 3, 3, 3, 3, 1, 1, 1]\n",
      "[2, 5, 5, 5, 3, 5, 5, 5, 5, 3, 5, 3, 5, 3, 3]\n",
      "[2, 2, 3, 2, 2, 2, 2, 2, 2, 2, 2, 2, 2, 2, 2]\n",
      "[2, 3, 3, 3, 2, 3, 2, 2, 2, 2, 2, 3, 2, 2, 2]\n",
      "[0, 0, 5, 0, 5, 5, 5, 0, 0, 3, 0, 5, 0, 0, 3]\n",
      "[5, 5, 5, 5, 5, 5, 5, 5, 5, 5, 5, 5, 5, 5, 5]\n",
      "[3, 3, 3, 3, 3, 3, 3, 3, 3, 3, 3, 3, 3, 3, 3]\n",
      "[0, 4, 3, 3, 3, 0, 4, 0, 3, 0, 3, 0, 0, 4, 0]\n",
      "[1, 1, 1, 1, 1, 1, 1, 1, 1, 1, 1, 1, 5, 1, 1]\n",
      "[0, 0, 0, 4, 4, 4, 4, 0, 0, 4, 4, 4, 4, 4, 0]\n",
      "[3, 3, 3, 3, 3, 3, 3, 3, 3, 3, 3, 3, 3, 3, 3]\n",
      "[4, 4, 0, 0, 0, 0, 4, 4, 4, 0, 4, 0, 0, 4, 0]\n",
      "[5, 5, 5, 5, 5, 5, 5, 5, 5, 5, 5, 5, 5, 5, 5]\n",
      "[1, 1, 1, 1, 1, 1, 1, 1, 1, 1, 1, 1, 1, 1, 1]\n",
      "[3, 3, 3, 3, 3, 3, 3, 3, 3, 3, 3, 3, 3, 3, 3]\n",
      "[5, 5, 5, 5, 5, 5, 5, 5, 5, 5, 3, 5, 5, 5, 3]\n",
      "[3, 3, 3, 3, 3, 3, 3, 3, 3, 3, 3, 3, 3, 3, 3]\n",
      "[5, 5, 5, 5, 5, 5, 5, 5, 5, 5, 5, 5, 5, 5, 5]\n",
      "[5, 5, 5, 3, 5, 5, 5, 5, 5, 5, 5, 5, 5, 5, 3]\n",
      "[4, 4, 4, 4, 4, 4, 4, 4, 4, 4, 4, 4, 0, 4, 0]\n"
     ]
    },
    {
     "name": "stdout",
     "output_type": "stream",
     "text": [
      "[2, 2, 2, 2, 2, 2, 2, 2, 2, 2, 2, 2, 2, 2, 2]\n",
      "[2, 2, 3, 2, 3, 3, 2, 3, 3, 3, 2, 3, 3, 3, 2]\n",
      "[4, 0, 0, 0, 4, 0, 0, 4, 0, 4, 4, 4, 4, 4, 4]\n",
      "[0, 0, 0, 0, 0, 4, 0, 4, 4, 0, 4, 0, 0, 0, 0]\n",
      "[4, 4, 4, 4, 4, 4, 4, 4, 4, 4, 4, 4, 4, 4, 4]\n",
      "[3, 3, 3, 3, 3, 3, 3, 3, 3, 3, 3, 3, 3, 3, 3]\n",
      "[3, 3, 3, 3, 3, 3, 2, 3, 3, 3, 3, 3, 3, 3, 3]\n",
      "[0, 0, 0, 0, 0, 4, 0, 0, 4, 0, 4, 0, 0, 0, 0]\n",
      "[4, 4, 4, 0, 0, 4, 4, 4, 4, 4, 4, 4, 4, 4, 4]\n",
      "[3, 3, 3, 3, 3, 3, 3, 3, 3, 3, 3, 3, 3, 3, 3]\n",
      "[5, 5, 5, 5, 5, 5, 5, 5, 5, 5, 5, 5, 5, 5, 5]\n",
      "[5, 5, 5, 5, 5, 5, 5, 5, 5, 5, 5, 5, 3, 5, 5]\n",
      "[3, 1, 1, 1, 1, 1, 1, 1, 2, 1, 1, 3, 1, 1, 3]\n",
      "[3, 1, 3, 3, 4, 3, 3, 1, 3, 3, 3, 3, 1, 1, 1]\n",
      "[3, 3, 3, 3, 3, 3, 3, 3, 3, 3, 3, 3, 3, 3, 3]\n",
      "[5, 5, 5, 5, 5, 5, 5, 5, 5, 5, 5, 5, 5, 5, 5]\n",
      "[4, 4, 4, 4, 4, 4, 4, 4, 4, 4, 4, 4, 4, 4, 4]\n",
      "[0, 0, 0, 0, 0, 0, 0, 0, 0, 0, 0, 0, 0, 0, 0]\n",
      "[3, 3, 3, 5, 5, 5, 3, 5, 3, 3, 3, 3, 3, 3, 3]\n",
      "[5, 5, 5, 5, 5, 5, 5, 5, 5, 5, 5, 5, 5, 5, 5]\n",
      "[0, 4, 4, 0, 4, 4, 4, 0, 0, 4, 4, 4, 0, 4, 0]\n",
      "[5, 5, 5, 5, 5, 5, 5, 5, 5, 5, 5, 5, 5, 5, 5]\n",
      "[4, 0, 0, 0, 4, 4, 4, 4, 4, 0, 4, 0, 0, 4, 0]\n",
      "[5, 5, 5, 5, 5, 5, 5, 5, 5, 5, 5, 5, 5, 5, 5]\n",
      "[3, 3, 3, 3, 3, 3, 5, 3, 5, 3, 3, 3, 3, 3, 3]\n",
      "[2, 2, 2, 2, 2, 2, 2, 2, 2, 2, 2, 2, 2, 2, 2]\n",
      "[4, 4, 5, 5, 5, 5, 5, 4, 4, 4, 4, 4, 0, 4, 5]\n",
      "[4, 4, 4, 4, 4, 4, 4, 4, 4, 4, 4, 4, 4, 4, 4]\n",
      "[5, 5, 5, 5, 5, 5, 5, 5, 5, 5, 5, 5, 5, 3, 5]\n",
      "[5, 5, 5, 5, 5, 5, 5, 5, 5, 5, 5, 5, 5, 5, 5]\n",
      "[3, 3, 3, 5, 3, 3, 3, 3, 3, 3, 3, 3, 3, 3, 5]\n",
      "[0, 0, 0, 0, 0, 0, 0, 0, 0, 0, 0, 0, 0, 0, 0]\n",
      "[5, 5, 5, 5, 5, 5, 5, 5, 5, 5, 5, 5, 5, 5, 5]\n",
      "[3, 5, 3, 3, 3, 3, 5, 5, 5, 3, 3, 3, 3, 5, 3]\n",
      "[0, 0, 0, 0, 0, 4, 4, 0, 4, 4, 4, 0, 0, 0, 0]\n",
      "[4, 4, 4, 4, 4, 4, 4, 4, 4, 4, 4, 4, 4, 4, 4]\n",
      "[3, 3, 3, 3, 3, 3, 3, 3, 1, 3, 3, 3, 3, 3, 3]\n",
      "[0, 0, 0, 0, 0, 0, 0, 0, 0, 0, 0, 0, 0, 0, 0]\n",
      "[0, 0, 0, 0, 0, 4, 4, 4, 4, 0, 4, 0, 0, 0, 0]\n",
      "[4, 4, 4, 4, 4, 4, 4, 4, 4, 4, 4, 4, 4, 4, 4]\n",
      "[0, 0, 4, 0, 4, 0, 4, 0, 4, 0, 4, 0, 0, 4, 0]\n",
      "[4, 4, 4, 4, 0, 4, 4, 4, 4, 4, 4, 4, 4, 4, 0]\n",
      "[1, 1, 1, 1, 1, 1, 1, 1, 1, 1, 1, 1, 1, 3, 3]\n",
      "[5, 5, 5, 5, 5, 5, 5, 5, 5, 5, 5, 5, 5, 5, 5]\n",
      "[1, 1, 1, 1, 1, 1, 1, 1, 1, 1, 1, 1, 1, 1, 1]\n",
      "[3, 3, 0, 3, 3, 3, 4, 4, 3, 0, 3, 3, 3, 4, 3]\n",
      "[4, 4, 0, 0, 4, 4, 4, 0, 0, 4, 4, 4, 0, 4, 0]\n",
      "[4, 0, 0, 0, 0, 0, 4, 4, 4, 0, 4, 0, 0, 4, 0]\n",
      "[3, 3, 3, 3, 3, 3, 3, 3, 3, 3, 3, 3, 3, 3, 3]\n",
      "[4, 4, 4, 4, 4, 4, 4, 0, 0, 0, 0, 4, 0, 4, 4]\n",
      "[5, 5, 5, 5, 5, 5, 5, 5, 5, 5, 5, 5, 5, 5, 5]\n",
      "[3, 3, 3, 3, 3, 3, 3, 3, 3, 3, 3, 3, 3, 3, 3]\n",
      "[2, 2, 2, 2, 2, 2, 2, 2, 2, 2, 2, 2, 2, 2, 2]\n",
      "[3, 3, 3, 3, 3, 3, 3, 3, 3, 1, 3, 3, 3, 3, 3]\n",
      "[3, 3, 3, 5, 3, 3, 5, 3, 3, 5, 3, 5, 3, 3, 3]\n",
      "[4, 4, 4, 4, 4, 4, 4, 4, 4, 4, 4, 4, 4, 4, 4]\n",
      "[3, 3, 3, 3, 3, 3, 3, 3, 3, 3, 3, 3, 3, 3, 3]\n",
      "[3, 3, 3, 5, 5, 5, 5, 3, 3, 3, 3, 3, 3, 3, 3]\n",
      "[3, 3, 5, 5, 3, 3, 3, 3, 3, 3, 3, 3, 3, 3, 5]\n",
      "[3, 1, 3, 3, 1, 1, 1, 1, 3, 3, 1, 3, 3, 3, 1]\n",
      "[0, 4, 0, 0, 0, 0, 0, 0, 4, 0, 4, 0, 0, 0, 0]\n",
      "[3, 5, 5, 5, 5, 5, 5, 5, 3, 5, 5, 5, 5, 3, 5]\n",
      "[4, 4, 0, 0, 4, 4, 4, 4, 4, 0, 4, 4, 0, 4, 4]\n",
      "[5, 5, 5, 5, 5, 5, 5, 5, 5, 5, 5, 5, 5, 5, 5]\n",
      "[3, 3, 3, 3, 3, 3, 3, 3, 3, 3, 3, 3, 3, 3, 3]\n",
      "[4, 4, 4, 4, 4, 4, 4, 4, 4, 4, 4, 4, 0, 4, 4]\n",
      "[3, 3, 3, 3, 3, 3, 3, 3, 3, 3, 3, 3, 3, 3, 3]\n",
      "[4, 4, 4, 4, 4, 4, 4, 4, 4, 4, 4, 4, 4, 4, 4]\n",
      "[2, 2, 2, 2, 2, 2, 2, 2, 2, 2, 2, 2, 2, 2, 2]\n",
      "[3, 3, 3, 3, 3, 3, 3, 3, 3, 3, 3, 3, 3, 3, 3]\n",
      "[3, 5, 5, 5, 5, 5, 5, 5, 5, 5, 3, 5, 5, 5, 5]\n",
      "[3, 3, 3, 3, 3, 3, 3, 3, 3, 3, 3, 3, 3, 3, 3]\n",
      "[4, 4, 4, 4, 4, 4, 4, 4, 4, 4, 4, 4, 4, 4, 4]\n",
      "[5, 5, 5, 5, 5, 5, 5, 5, 5, 5, 5, 5, 5, 5, 5]\n",
      "[4, 4, 4, 4, 4, 4, 4, 4, 4, 4, 4, 4, 4, 4, 4]\n",
      "[1, 1, 1, 1, 1, 1, 1, 1, 1, 1, 1, 1, 1, 1, 1]\n",
      "[5, 5, 5, 5, 5, 5, 5, 5, 5, 5, 5, 5, 5, 5, 5]\n",
      "[3, 4, 1, 3, 3, 4, 4, 4, 3, 4, 3, 3, 3, 3, 3]\n",
      "[5, 5, 5, 5, 5, 5, 5, 5, 5, 5, 5, 5, 5, 5, 5]\n",
      "[4, 4, 4, 4, 4, 4, 4, 4, 4, 4, 4, 0, 4, 4, 4]\n",
      "[3, 3, 3, 3, 3, 1, 1, 3, 3, 3, 3, 3, 3, 3, 1]\n",
      "[1, 3, 1, 1, 1, 1, 1, 3, 1, 3, 3, 1, 3, 3, 1]\n",
      "[0, 0, 0, 0, 0, 0, 0, 0, 0, 0, 0, 0, 0, 0, 0]\n",
      "[5, 5, 5, 5, 5, 5, 5, 5, 5, 5, 5, 5, 5, 5, 5]\n",
      "[5, 5, 5, 5, 5, 5, 5, 5, 5, 5, 5, 5, 5, 5, 5]\n",
      "[3, 3, 3, 3, 3, 3, 3, 3, 3, 3, 3, 3, 3, 3, 3]\n",
      "[4, 4, 5, 4, 3, 3, 3, 4, 4, 3, 3, 3, 3, 4, 3]\n",
      "[3, 3, 5, 3, 3, 3, 3, 3, 3, 3, 3, 3, 3, 3, 3]\n",
      "[1, 1, 1, 1, 1, 1, 1, 1, 1, 1, 3, 1, 1, 1, 1]\n",
      "[0, 0, 0, 0, 4, 0, 4, 4, 4, 0, 4, 0, 0, 4, 4]\n",
      "[4, 4, 4, 0, 4, 4, 4, 0, 0, 0, 4, 4, 0, 4, 4]\n",
      "[3, 3, 3, 3, 3, 3, 3, 3, 3, 3, 3, 3, 3, 3, 3]\n",
      "[3, 3, 3, 3, 3, 3, 3, 3, 3, 3, 3, 3, 3, 3, 3]\n",
      "[3, 3, 3, 3, 3, 3, 3, 3, 1, 3, 3, 3, 3, 3, 3]\n",
      "[1, 1, 3, 3, 3, 3, 3, 3, 3, 3, 3, 3, 3, 3, 3]\n",
      "[0, 0, 0, 0, 0, 0, 0, 0, 0, 0, 0, 0, 0, 0, 0]\n",
      "[3, 1, 3, 1, 1, 3, 1, 1, 1, 3, 3, 1, 2, 3, 3]\n",
      "[5, 5, 5, 5, 5, 5, 5, 5, 5, 5, 5, 5, 5, 5, 5]\n",
      "[5, 5, 5, 5, 5, 5, 5, 5, 5, 5, 5, 5, 5, 5, 5]\n",
      "[4, 4, 4, 4, 4, 4, 4, 0, 4, 4, 4, 4, 4, 4, 4]\n",
      "[4, 4, 4, 4, 4, 4, 4, 4, 4, 4, 4, 4, 4, 4, 4]\n",
      "[3, 3, 3, 3, 3, 3, 3, 3, 3, 3, 3, 3, 3, 3, 3]\n",
      "[5, 5, 5, 5, 5, 5, 5, 5, 5, 5, 5, 5, 5, 5, 5]\n",
      "[3, 3, 3, 3, 3, 3, 3, 3, 3, 3, 3, 3, 3, 3, 3]\n",
      "[4, 0, 0, 4, 4, 0, 4, 0, 4, 4, 1, 3, 0, 4, 0]\n",
      "[5, 5, 5, 5, 5, 5, 5, 5, 5, 5, 5, 5, 5, 5, 5]\n",
      "[3, 3, 3, 3, 3, 3, 3, 0, 3, 3, 3, 3, 3, 3, 3]\n",
      "[4, 4, 4, 0, 4, 4, 4, 4, 4, 4, 4, 4, 0, 4, 4]\n",
      "[4, 4, 3, 4, 4, 4, 4, 4, 4, 4, 4, 4, 0, 4, 0]\n",
      "[3, 3, 3, 3, 3, 3, 3, 3, 3, 3, 3, 3, 3, 3, 3]\n",
      "[4, 4, 4, 4, 4, 4, 4, 4, 4, 4, 4, 4, 0, 4, 4]\n",
      "[4, 0, 4, 4, 0, 4, 4, 0, 4, 4, 4, 4, 0, 4, 4]\n",
      "[3, 3, 3, 3, 1, 3, 3, 3, 1, 1, 3, 3, 3, 3, 3]\n",
      "[4, 4, 0, 4, 1, 1, 4, 4, 1, 3, 4, 1, 4, 4, 4]\n",
      "[3, 3, 3, 3, 3, 3, 1, 3, 3, 3, 3, 3, 3, 3, 3]\n",
      "[3, 1, 4, 0, 4, 4, 4, 0, 1, 4, 1, 1, 1, 3, 3]\n",
      "[4, 4, 0, 4, 4, 4, 4, 4, 4, 4, 4, 4, 4, 4, 4]\n",
      "[5, 5, 5, 5, 5, 5, 5, 5, 5, 5, 5, 5, 5, 5, 5]\n",
      "[2, 2, 2, 2, 2, 2, 2, 2, 2, 2, 2, 2, 2, 2, 2]\n",
      "[4, 0, 0, 0, 4, 4, 4, 0, 0, 0, 4, 0, 0, 0, 0]\n",
      "[4, 0, 0, 0, 4, 4, 4, 0, 4, 0, 4, 4, 0, 4, 4]\n",
      "[5, 5, 5, 5, 1, 3, 5, 5, 5, 1, 3, 5, 5, 5, 5]\n",
      "[1, 1, 1, 1, 1, 1, 1, 1, 1, 1, 1, 1, 1, 1, 1]\n",
      "[1, 1, 1, 1, 1, 1, 1, 1, 1, 1, 1, 1, 1, 1, 1]\n",
      "[0, 0, 0, 0, 0, 4, 0, 0, 4, 0, 0, 0, 0, 0, 0]\n",
      "[3, 4, 0, 4, 4, 0, 4, 4, 4, 4, 4, 4, 3, 4, 4]\n",
      "[3, 3, 3, 3, 3, 3, 3, 3, 3, 3, 3, 3, 3, 3, 3]\n",
      "[3, 3, 3, 1, 3, 3, 3, 1, 1, 1, 3, 3, 3, 1, 1]\n",
      "[2, 2, 2, 2, 2, 2, 2, 2, 2, 2, 2, 2, 2, 2, 2]\n",
      "[1, 1, 3, 1, 1, 1, 3, 1, 1, 3, 3, 1, 1, 3, 1]\n",
      "[2, 2, 2, 2, 2, 2, 2, 2, 2, 2, 2, 2, 2, 2, 2]\n",
      "[4, 0, 4, 0, 4, 4, 4, 4, 0, 0, 4, 4, 0, 4, 0]\n",
      "[3, 3, 3, 3, 3, 3, 3, 3, 3, 3, 3, 3, 3, 3, 3]\n",
      "[3, 3, 3, 3, 3, 2, 3, 2, 3, 2, 3, 2, 2, 3, 3]\n",
      "[5, 5, 5, 5, 5, 5, 5, 5, 5, 5, 5, 5, 5, 5, 5]\n",
      "[3, 3, 3, 3, 3, 3, 3, 3, 3, 3, 3, 3, 3, 3, 3]\n",
      "[4, 4, 4, 4, 4, 4, 4, 4, 4, 4, 4, 4, 4, 4, 4]\n",
      "[5, 5, 5, 5, 5, 5, 5, 5, 5, 5, 5, 5, 5, 5, 5]\n",
      "[0, 0, 0, 0, 0, 4, 4, 0, 0, 0, 4, 0, 0, 0, 0]\n",
      "[4, 4, 4, 4, 4, 4, 4, 4, 4, 4, 4, 4, 4, 4, 4]\n",
      "[0, 0, 0, 0, 0, 4, 0, 0, 0, 0, 0, 0, 0, 0, 0]\n",
      "[1, 1, 1, 1, 1, 1, 1, 1, 1, 1, 3, 1, 1, 1, 1]\n",
      "[5, 5, 5, 5, 5, 5, 5, 5, 5, 5, 5, 5, 5, 5, 5]\n",
      "[0, 0, 0, 0, 0, 4, 0, 0, 4, 0, 0, 0, 0, 0, 0]\n",
      "[3, 3, 3, 3, 3, 3, 3, 3, 3, 3, 3, 3, 3, 3, 3]\n",
      "[4, 4, 4, 4, 4, 4, 4, 4, 4, 4, 4, 4, 4, 4, 4]\n",
      "[5, 5, 5, 5, 5, 5, 5, 5, 5, 5, 5, 5, 5, 5, 5]\n",
      "[3, 5, 5, 3, 3, 3, 5, 5, 3, 5, 5, 5, 5, 5, 5]\n",
      "[1, 3, 3, 3, 1, 3, 1, 1, 3, 1, 3, 1, 3, 1, 3]\n",
      "[1, 1, 1, 1, 1, 1, 1, 1, 1, 1, 1, 5, 1, 0, 3]\n",
      "[0, 0, 0, 3, 0, 0, 0, 0, 0, 0, 0, 0, 0, 0, 0]\n",
      "[4, 4, 4, 4, 4, 4, 4, 4, 4, 4, 4, 4, 4, 4, 4]\n",
      "[3, 3, 3, 3, 3, 3, 3, 3, 3, 3, 3, 3, 3, 3, 3]\n",
      "[3, 3, 3, 3, 3, 3, 3, 3, 3, 3, 3, 3, 3, 3, 3]\n",
      "[5, 5, 5, 5, 5, 5, 5, 5, 3, 3, 5, 5, 5, 5, 3]\n",
      "[5, 5, 5, 5, 5, 5, 5, 5, 5, 5, 5, 5, 5, 5, 5]\n",
      "[1, 1, 1, 1, 1, 1, 1, 1, 1, 1, 1, 1, 1, 1, 1]\n",
      "[1, 1, 1, 1, 3, 1, 1, 1, 1, 1, 3, 3, 1, 3, 1]\n",
      "[4, 4, 4, 4, 0, 4, 4, 4, 4, 4, 4, 4, 4, 4, 4]\n",
      "[4, 0, 4, 0, 4, 0, 4, 4, 4, 0, 0, 4, 4, 0, 4]\n",
      "[4, 4, 4, 4, 4, 4, 4, 4, 4, 4, 4, 4, 4, 4, 4]\n",
      "[5, 5, 5, 5, 5, 5, 5, 5, 5, 5, 5, 5, 5, 5, 5]\n",
      "[2, 2, 2, 2, 2, 2, 2, 2, 2, 2, 2, 2, 2, 2, 2]\n",
      "[1, 1, 3, 1, 1, 3, 1, 1, 1, 1, 3, 1, 1, 1, 1]\n",
      "[1, 0, 4, 0, 4, 4, 1, 0, 4, 1, 1, 4, 1, 1, 4]\n",
      "[3, 3, 3, 3, 3, 3, 3, 3, 3, 4, 5, 3, 3, 4, 3]\n",
      "[5, 5, 5, 5, 5, 5, 5, 5, 5, 5, 5, 5, 5, 5, 5]\n",
      "[1, 1, 1, 1, 1, 1, 1, 1, 1, 1, 1, 1, 1, 1, 1]\n",
      "[5, 3, 5, 5, 5, 5, 5, 5, 5, 5, 5, 5, 5, 5, 5]\n",
      "[0, 0, 0, 0, 0, 0, 0, 0, 0, 0, 4, 0, 0, 0, 0]\n",
      "[1, 3, 3, 3, 3, 3, 3, 1, 1, 3, 3, 3, 3, 3, 3]\n",
      "[5, 5, 5, 5, 5, 5, 5, 5, 5, 5, 5, 5, 5, 5, 5]\n",
      "[3, 3, 3, 3, 3, 3, 3, 3, 3, 3, 3, 3, 3, 3, 3]\n",
      "[3, 3, 3, 3, 3, 3, 3, 3, 3, 3, 3, 3, 3, 3, 3]\n",
      "[2, 2, 2, 2, 5, 2, 2, 2, 2, 2, 2, 2, 2, 2, 2]\n",
      "[4, 0, 0, 0, 4, 4, 4, 0, 4, 4, 4, 0, 0, 4, 4]\n",
      "[1, 3, 5, 3, 3, 5, 3, 1, 5, 3, 3, 3, 3, 3, 3]\n",
      "[5, 5, 5, 5, 5, 5, 5, 5, 5, 5, 5, 5, 5, 5, 5]\n",
      "[3, 1, 1, 3, 1, 4, 3, 3, 1, 1, 1, 3, 3, 3, 3]\n",
      "[3, 3, 3, 3, 3, 3, 3, 3, 3, 1, 3, 3, 3, 3, 3]\n",
      "[2, 3, 3, 2, 3, 3, 3, 3, 3, 3, 2, 3, 3, 3, 3]\n",
      "[2, 3, 3, 2, 2, 2, 2, 2, 2, 2, 2, 3, 2, 2, 3]\n",
      "[3, 3, 3, 3, 3, 3, 3, 3, 3, 3, 3, 3, 3, 3, 3]\n",
      "[1, 1, 3, 3, 1, 3, 1, 3, 1, 1, 3, 1, 1, 1, 1]\n",
      "[3, 5, 3, 5, 5, 3, 3, 3, 3, 3, 2, 3, 3, 3, 3]\n",
      "[3, 3, 3, 3, 3, 3, 3, 3, 3, 3, 3, 3, 3, 3, 3]\n",
      "[3, 3, 3, 3, 3, 3, 3, 3, 3, 3, 3, 3, 3, 3, 3]\n",
      "[3, 3, 3, 3, 3, 3, 3, 3, 3, 3, 3, 3, 3, 3, 3]\n",
      "[4, 4, 4, 4, 4, 4, 4, 4, 4, 4, 4, 4, 4, 4, 4]\n",
      "[5, 5, 5, 5, 5, 5, 5, 5, 5, 5, 5, 5, 5, 5, 5]\n",
      "[3, 3, 3, 3, 3, 3, 3, 3, 3, 3, 3, 3, 3, 3, 3]\n",
      "[5, 5, 5, 5, 5, 5, 5, 5, 5, 5, 5, 5, 5, 5, 5]\n",
      "[5, 5, 5, 5, 5, 5, 5, 5, 5, 5, 3, 5, 5, 5, 5]\n",
      "[4, 4, 4, 4, 4, 4, 4, 4, 4, 4, 4, 4, 4, 4, 4]\n",
      "[3, 3, 3, 3, 3, 3, 3, 3, 3, 3, 3, 3, 5, 3, 3]\n",
      "[3, 3, 3, 3, 3, 3, 3, 3, 3, 3, 3, 3, 3, 3, 3]\n",
      "[3, 3, 3, 3, 3, 3, 3, 3, 3, 4, 5, 3, 3, 4, 3]\n",
      "[3, 1, 1, 1, 1, 1, 1, 4, 1, 1, 3, 4, 1, 1, 1]\n",
      "[2, 2, 2, 2, 2, 2, 2, 2, 2, 2, 2, 2, 2, 2, 2]\n",
      "[3, 3, 1, 3, 3, 3, 3, 3, 1, 3, 3, 3, 3, 3, 1]\n",
      "[5, 5, 5, 5, 5, 5, 5, 5, 5, 5, 5, 5, 5, 5, 5]\n",
      "[3, 3, 3, 3, 3, 3, 3, 3, 3, 3, 3, 3, 3, 3, 3]\n",
      "[5, 5, 5, 5, 5, 5, 5, 5, 5, 5, 5, 5, 5, 5, 5]\n",
      "[4, 3, 4, 3, 4, 3, 5, 5, 4, 3, 3, 3, 3, 4, 3]\n",
      "[4, 5, 5, 4, 5, 5, 5, 5, 4, 5, 5, 4, 5, 4, 4]\n",
      "[5, 5, 5, 5, 5, 5, 5, 5, 5, 5, 5, 5, 5, 5, 5]\n",
      "[5, 5, 5, 5, 5, 5, 5, 5, 5, 5, 5, 5, 5, 3, 3]\n",
      "[5, 5, 5, 5, 5, 5, 5, 5, 5, 5, 5, 5, 5, 5, 5]\n",
      "[3, 3, 3, 3, 3, 3, 3, 3, 3, 3, 3, 3, 3, 3, 3]\n",
      "[3, 3, 3, 3, 3, 3, 3, 3, 3, 3, 3, 3, 3, 3, 5]\n",
      "[5, 5, 5, 5, 5, 5, 5, 5, 5, 5, 5, 5, 5, 5, 5]\n",
      "[2, 2, 3, 2, 3, 3, 2, 2, 2, 2, 3, 3, 2, 2, 2]\n",
      "[2, 2, 2, 2, 2, 2, 2, 2, 2, 2, 2, 2, 2, 2, 2]\n",
      "[3, 5, 5, 5, 5, 5, 5, 5, 5, 5, 5, 3, 5, 3, 5]\n",
      "[1, 1, 1, 1, 1, 1, 1, 1, 1, 1, 1, 1, 3, 1, 1]\n",
      "[4, 4, 4, 4, 4, 4, 4, 4, 4, 4, 4, 4, 4, 4, 4]\n",
      "[3, 3, 3, 3, 3, 3, 3, 3, 3, 3, 3, 3, 3, 3, 3]\n",
      "[3, 3, 3, 3, 3, 3, 3, 3, 3, 3, 3, 3, 3, 3, 3]\n",
      "[3, 4, 3, 3, 0, 0, 4, 0, 3, 0, 3, 0, 0, 4, 4]\n",
      "[3, 3, 3, 3, 3, 3, 3, 3, 3, 3, 3, 3, 3, 3, 3]\n",
      "[3, 3, 3, 3, 3, 3, 3, 3, 3, 3, 3, 3, 3, 3, 3]\n",
      "[3, 2, 5, 5, 2, 3, 5, 5, 5, 5, 2, 1, 3, 1, 5]\n",
      "[4, 4, 4, 4, 4, 4, 4, 4, 4, 0, 4, 4, 0, 4, 0]\n",
      "[3, 3, 3, 3, 3, 3, 3, 3, 3, 3, 3, 3, 3, 3, 3]\n",
      "[3, 1, 1, 3, 3, 3, 1, 3, 3, 3, 1, 3, 1, 3, 3]\n",
      "[3, 3, 3, 3, 3, 3, 3, 3, 3, 3, 3, 3, 3, 3, 3]\n",
      "[5, 4, 0, 0, 1, 0, 3, 4, 3, 5, 1, 5, 4, 1, 5]\n",
      "[2, 2, 2, 2, 2, 2, 2, 2, 2, 2, 2, 2, 2, 2, 2]\n",
      "[3, 3, 3, 3, 3, 3, 3, 3, 3, 3, 3, 3, 3, 3, 3]\n",
      "[3, 3, 3, 3, 3, 3, 3, 3, 3, 3, 3, 3, 3, 3, 3]\n",
      "[4, 0, 0, 0, 4, 4, 0, 0, 0, 0, 4, 0, 0, 0, 0]\n",
      "[2, 2, 2, 2, 2, 2, 2, 2, 2, 2, 2, 2, 2, 2, 2]\n",
      "[3, 3, 3, 3, 3, 3, 3, 3, 3, 3, 3, 3, 3, 3, 3]\n",
      "[3, 3, 5, 3, 5, 3, 3, 3, 3, 3, 3, 3, 3, 3, 3]\n",
      "[3, 3, 3, 3, 3, 3, 3, 3, 3, 3, 3, 3, 3, 3, 3]\n",
      "[4, 4, 4, 4, 4, 4, 4, 4, 4, 4, 4, 4, 4, 4, 4]\n",
      "[3, 3, 4, 3, 3, 3, 4, 3, 3, 3, 4, 3, 4, 3, 3]\n",
      "[3, 3, 3, 3, 3, 3, 3, 3, 3, 3, 3, 3, 3, 3, 3]\n",
      "[1, 1, 1, 1, 3, 1, 1, 1, 1, 1, 3, 1, 1, 1, 1]\n",
      "[3, 3, 5, 5, 5, 5, 5, 5, 5, 5, 5, 5, 5, 3, 3]\n",
      "[1, 3, 3, 3, 3, 3, 3, 1, 1, 1, 3, 3, 3, 1, 1]\n",
      "[3, 3, 1, 1, 1, 1, 1, 3, 1, 1, 1, 1, 1, 1, 3]\n",
      "[2, 2, 2, 2, 2, 2, 2, 2, 2, 2, 2, 2, 2, 2, 2]\n",
      "[5, 5, 5, 5, 5, 5, 5, 5, 5, 5, 5, 5, 5, 5, 5]\n",
      "[1, 1, 1, 1, 1, 1, 1, 1, 1, 3, 1, 3, 5, 1, 1]\n",
      "[3, 3, 3, 3, 3, 3, 3, 3, 3, 3, 3, 3, 3, 3, 3]\n",
      "[5, 3, 5, 5, 5, 3, 5, 5, 5, 5, 3, 3, 3, 3, 5]\n",
      "[4, 4, 4, 0, 4, 4, 4, 4, 4, 4, 4, 0, 0, 4, 4]\n",
      "[3, 3, 5, 3, 5, 5, 5, 5, 3, 3, 5, 3, 5, 3, 5]\n",
      "[5, 5, 5, 5, 5, 5, 5, 5, 5, 5, 5, 5, 5, 5, 5]\n",
      "[1, 3, 3, 3, 1, 3, 3, 3, 3, 1, 3, 1, 3, 1, 3]\n",
      "[4, 4, 4, 4, 4, 4, 4, 4, 4, 4, 4, 4, 4, 4, 4]\n",
      "[5, 5, 5, 5, 5, 5, 5, 5, 5, 5, 5, 5, 5, 5, 5]\n",
      "[5, 3, 5, 5, 3, 3, 5, 5, 5, 3, 5, 5, 3, 5, 3]\n",
      "[3, 3, 4, 3, 0, 4, 4, 0, 3, 4, 3, 0, 0, 4, 3]\n",
      "[3, 3, 3, 3, 3, 3, 3, 3, 3, 3, 3, 3, 3, 3, 3]\n",
      "[3, 3, 5, 3, 5, 3, 3, 3, 5, 3, 5, 3, 3, 3, 5]\n",
      "[3, 5, 3, 5, 5, 5, 3, 5, 3, 3, 3, 3, 3, 3, 5]\n",
      "[1, 1, 1, 1, 1, 4, 1, 1, 1, 1, 1, 1, 1, 1, 1]\n",
      "[1, 1, 1, 1, 1, 1, 1, 1, 1, 1, 3, 1, 1, 1, 1]\n",
      "[1, 3, 3, 3, 3, 3, 3, 3, 3, 3, 3, 3, 3, 3, 3]\n",
      "[5, 5, 5, 5, 5, 5, 5, 5, 5, 5, 5, 5, 5, 3, 5]\n",
      "[0, 0, 0, 0, 0, 0, 0, 0, 0, 0, 0, 0, 0, 0, 0]\n",
      "[1, 1, 1, 1, 1, 1, 1, 1, 1, 1, 1, 1, 1, 1, 1]\n",
      "[5, 5, 5, 5, 5, 5, 5, 5, 5, 5, 5, 3, 5, 5, 5]\n",
      "[2, 2, 2, 2, 2, 2, 2, 2, 2, 2, 2, 2, 2, 2, 2]\n",
      "[1, 1, 1, 1, 3, 1, 1, 1, 1, 1, 1, 1, 3, 1, 1]\n",
      "[4, 4, 4, 4, 4, 4, 4, 4, 0, 4, 4, 4, 4, 4, 4]\n",
      "[4, 4, 3, 3, 4, 3, 1, 4, 4, 3, 3, 3, 0, 4, 3]\n",
      "[4, 4, 4, 4, 4, 4, 4, 4, 4, 4, 4, 4, 4, 4, 4]\n",
      "[3, 3, 3, 3, 3, 3, 3, 3, 3, 3, 3, 3, 3, 3, 3]\n",
      "[5, 5, 5, 5, 5, 5, 5, 5, 5, 5, 5, 5, 5, 5, 5]\n",
      "[3, 3, 3, 3, 3, 1, 3, 3, 3, 3, 3, 3, 3, 3, 3]\n",
      "[0, 0, 0, 0, 4, 4, 4, 0, 0, 0, 4, 0, 0, 0, 0]\n",
      "[3, 3, 3, 3, 3, 3, 3, 3, 3, 3, 3, 3, 3, 3, 3]\n",
      "[4, 4, 4, 4, 4, 4, 4, 0, 4, 0, 4, 4, 0, 4, 4]\n",
      "[0, 0, 0, 4, 4, 0, 0, 0, 0, 0, 0, 0, 0, 4, 0]\n",
      "[4, 4, 4, 4, 4, 4, 4, 4, 0, 4, 4, 4, 4, 4, 4]\n",
      "[0, 0, 0, 0, 4, 0, 0, 0, 0, 0, 0, 0, 0, 0, 0]\n",
      "[2, 3, 3, 3, 3, 3, 3, 3, 3, 2, 3, 3, 3, 3, 3]\n",
      "[4, 4, 4, 4, 4, 4, 4, 4, 4, 4, 4, 4, 4, 4, 4]\n",
      "[5, 5, 5, 5, 5, 5, 5, 5, 5, 5, 5, 5, 5, 5, 5]\n",
      "[5, 5, 5, 5, 5, 5, 5, 5, 5, 5, 5, 5, 5, 5, 5]\n",
      "[0, 4, 0, 4, 4, 4, 4, 4, 4, 4, 4, 0, 0, 0, 4]\n",
      "[0, 0, 0, 0, 0, 0, 0, 0, 0, 0, 0, 0, 0, 0, 0]\n",
      "[3, 3, 3, 3, 3, 1, 1, 3, 3, 3, 3, 3, 3, 3, 3]\n",
      "[4, 4, 4, 4, 4, 4, 4, 4, 4, 4, 4, 4, 4, 4, 4]\n",
      "[3, 3, 3, 3, 3, 3, 3, 3, 3, 3, 3, 3, 3, 3, 3]\n",
      "[3, 3, 3, 3, 3, 3, 3, 3, 3, 3, 3, 3, 3, 3, 3]\n",
      "[3, 3, 3, 3, 3, 3, 3, 3, 3, 3, 3, 3, 3, 3, 3]\n",
      "[5, 5, 5, 5, 5, 5, 5, 5, 5, 5, 5, 5, 5, 5, 5]\n",
      "[5, 5, 3, 5, 5, 3, 5, 3, 5, 3, 3, 3, 3, 5, 5]\n",
      "[3, 3, 3, 3, 3, 3, 3, 3, 3, 3, 3, 3, 3, 3, 3]\n",
      "[4, 4, 4, 4, 4, 4, 4, 4, 4, 4, 4, 4, 4, 4, 4]\n",
      "[4, 4, 4, 4, 4, 4, 4, 4, 4, 4, 3, 4, 4, 4, 4]\n",
      "[3, 3, 3, 3, 3, 3, 3, 3, 3, 3, 3, 3, 3, 3, 3]\n",
      "[0, 4, 4, 4, 0, 4, 0, 0, 0, 0, 4, 4, 4, 4, 0]\n",
      "[3, 5, 4, 2, 3, 2, 5, 5, 4, 2, 3, 2, 2, 4, 2]\n",
      "[2, 2, 3, 2, 2, 2, 2, 2, 2, 2, 2, 2, 2, 2, 2]\n",
      "[4, 4, 4, 4, 4, 4, 4, 4, 4, 4, 4, 4, 4, 4, 4]\n",
      "[1, 1, 1, 1, 1, 1, 1, 1, 1, 1, 1, 1, 1, 1, 1]\n",
      "[3, 3, 3, 3, 3, 3, 3, 3, 3, 3, 2, 3, 3, 3, 3]\n",
      "[5, 5, 3, 5, 5, 5, 5, 5, 5, 5, 5, 5, 5, 5, 5]\n",
      "[5, 5, 5, 5, 5, 5, 5, 5, 5, 5, 5, 5, 5, 5, 5]\n",
      "[5, 3, 5, 5, 5, 5, 5, 5, 3, 3, 3, 3, 3, 3, 3]\n",
      "[0, 0, 4, 4, 0, 0, 0, 4, 0, 0, 4, 0, 4, 0, 0]\n",
      "[4, 4, 0, 4, 4, 4, 4, 4, 4, 4, 4, 4, 0, 4, 4]\n",
      "[3, 3, 3, 3, 3, 3, 3, 3, 3, 3, 3, 3, 3, 3, 3]\n",
      "[4, 4, 4, 4, 4, 4, 4, 4, 4, 4, 4, 4, 4, 4, 4]\n",
      "[3, 3, 3, 3, 3, 3, 3, 3, 3, 3, 3, 3, 3, 3, 3]\n",
      "[1, 1, 1, 1, 1, 1, 1, 1, 1, 1, 1, 1, 1, 1, 1]\n",
      "[1, 3, 1, 3, 1, 3, 1, 3, 1, 3, 1, 3, 3, 3, 1]\n",
      "[3, 3, 3, 3, 3, 3, 3, 3, 3, 3, 3, 3, 3, 3, 3]\n",
      "[3, 3, 3, 3, 3, 3, 3, 3, 3, 3, 3, 3, 3, 3, 3]\n",
      "[2, 3, 3, 2, 3, 2, 3, 2, 3, 3, 2, 2, 3, 3, 3]\n",
      "[3, 5, 3, 3, 3, 3, 5, 5, 5, 3, 3, 5, 5, 3, 3]\n",
      "[4, 4, 4, 0, 4, 4, 4, 4, 4, 0, 4, 4, 0, 4, 4]\n",
      "[3, 3, 5, 3, 5, 5, 5, 3, 5, 3, 3, 5, 3, 3, 3]\n",
      "[1, 1, 1, 1, 1, 3, 1, 1, 1, 1, 3, 1, 3, 1, 1]\n",
      "[4, 0, 0, 0, 4, 0, 4, 4, 0, 0, 4, 4, 4, 4, 4]\n",
      "[4, 4, 4, 4, 4, 4, 4, 4, 4, 4, 4, 4, 4, 4, 4]\n",
      "[3, 3, 3, 3, 3, 3, 3, 3, 3, 3, 3, 3, 3, 3, 3]\n",
      "[3, 3, 3, 3, 3, 3, 3, 3, 3, 3, 3, 3, 3, 3, 3]\n",
      "[3, 3, 3, 3, 3, 3, 3, 3, 3, 3, 3, 3, 3, 3, 3]\n",
      "[1, 1, 1, 1, 1, 1, 1, 1, 1, 1, 1, 1, 1, 1, 1]\n",
      "[5, 5, 5, 5, 3, 5, 5, 5, 5, 5, 5, 3, 5, 5, 5]\n",
      "[1, 1, 3, 3, 3, 3, 3, 1, 1, 3, 3, 3, 3, 1, 1]\n",
      "[3, 3, 3, 3, 3, 3, 3, 3, 3, 3, 3, 3, 3, 3, 3]\n",
      "[3, 2, 2, 3, 2, 2, 3, 2, 3, 3, 2, 2, 2, 3, 2]\n",
      "[4, 4, 0, 0, 4, 4, 4, 4, 0, 4, 4, 0, 0, 4, 4]\n",
      "[5, 5, 5, 5, 5, 5, 5, 5, 5, 5, 5, 5, 5, 5, 5]\n",
      "[3, 1, 3, 5, 3, 3, 1, 3, 1, 3, 3, 3, 3, 1, 3]\n",
      "[5, 5, 5, 5, 5, 5, 5, 5, 5, 5, 5, 5, 5, 5, 5]\n",
      "[3, 3, 3, 3, 3, 3, 3, 3, 3, 3, 3, 3, 3, 3, 3]\n",
      "[3, 3, 3, 4, 3, 3, 3, 3, 4, 3, 3, 3, 3, 3, 3]\n",
      "[5, 5, 5, 5, 5, 5, 5, 5, 5, 5, 5, 5, 5, 5, 5]\n",
      "[2, 2, 2, 2, 2, 2, 2, 2, 2, 2, 2, 2, 2, 2, 2]\n",
      "[0, 0, 0, 0, 0, 0, 0, 0, 0, 0, 0, 0, 0, 0, 0]\n",
      "[3, 3, 3, 5, 3, 3, 3, 3, 3, 3, 3, 3, 3, 3, 3]\n",
      "[0, 4, 4, 4, 4, 4, 0, 4, 4, 4, 4, 4, 4, 4, 4]\n",
      "[1, 1, 1, 1, 1, 1, 1, 1, 1, 1, 1, 1, 1, 1, 1]\n",
      "[5, 5, 5, 5, 5, 5, 5, 5, 5, 5, 5, 5, 5, 5, 5]\n",
      "[5, 5, 5, 5, 5, 5, 5, 5, 5, 5, 5, 5, 5, 5, 5]\n",
      "[1, 3, 1, 1, 3, 1, 3, 3, 3, 1, 3, 3, 3, 3, 1]\n",
      "[1, 1, 1, 1, 3, 1, 1, 1, 3, 1, 5, 1, 1, 1, 1]\n",
      "[0, 0, 0, 0, 0, 0, 0, 0, 0, 0, 0, 0, 0, 0, 0]\n",
      "[2, 2, 2, 2, 2, 2, 2, 2, 2, 2, 2, 2, 2, 2, 2]\n",
      "[4, 4, 4, 4, 4, 4, 4, 4, 0, 4, 4, 4, 4, 4, 4]\n",
      "[3, 3, 3, 3, 3, 3, 3, 3, 3, 3, 3, 3, 3, 3, 3]\n",
      "[2, 2, 2, 2, 2, 2, 2, 2, 2, 2, 2, 2, 2, 2, 2]\n",
      "[3, 3, 3, 3, 5, 3, 3, 3, 3, 3, 3, 3, 3, 3, 3]\n",
      "[3, 3, 3, 5, 5, 3, 5, 3, 3, 3, 3, 3, 3, 3, 3]\n",
      "[2, 2, 2, 2, 2, 2, 2, 2, 2, 2, 2, 2, 2, 2, 2]\n",
      "[2, 2, 2, 2, 3, 2, 2, 2, 2, 2, 2, 3, 2, 3, 2]\n",
      "[3, 3, 3, 1, 3, 3, 3, 1, 1, 3, 3, 3, 3, 3, 3]\n",
      "[2, 2, 2, 2, 2, 2, 2, 2, 2, 2, 2, 2, 2, 2, 2]\n",
      "[2, 2, 3, 3, 2, 3, 2, 2, 2, 3, 3, 3, 3, 3, 2]\n",
      "[0, 4, 0, 4, 0, 4, 4, 0, 4, 0, 4, 4, 0, 0, 4]\n",
      "[5, 5, 5, 5, 5, 5, 5, 5, 5, 5, 3, 3, 5, 5, 5]\n",
      "[5, 5, 3, 5, 5, 5, 5, 3, 5, 3, 3, 3, 5, 3, 5]\n",
      "[1, 1, 4, 4, 1, 4, 1, 1, 4, 1, 1, 4, 1, 1, 1]\n",
      "[5, 5, 5, 5, 5, 5, 5, 5, 5, 5, 5, 5, 5, 5, 5]\n",
      "[3, 3, 3, 3, 3, 3, 3, 3, 3, 3, 3, 3, 3, 3, 3]\n",
      "[3, 3, 3, 3, 3, 3, 3, 3, 3, 3, 3, 3, 3, 3, 3]\n",
      "[3, 5, 3, 5, 5, 3, 5, 3, 3, 3, 3, 3, 3, 3, 3]\n",
      "[2, 2, 2, 2, 2, 2, 2, 2, 2, 2, 2, 2, 2, 2, 2]\n",
      "[5, 5, 5, 5, 5, 5, 5, 5, 5, 5, 5, 5, 5, 5, 5]\n",
      "[2, 2, 2, 2, 2, 2, 2, 2, 2, 2, 2, 2, 2, 2, 2]\n",
      "[5, 5, 5, 5, 5, 5, 5, 5, 5, 5, 5, 5, 5, 5, 5]\n",
      "[5, 5, 5, 5, 5, 5, 5, 5, 5, 5, 5, 5, 5, 5, 5]\n",
      "[5, 3, 5, 3, 5, 5, 3, 5, 5, 5, 5, 4, 3, 4, 5]\n",
      "[3, 3, 3, 3, 3, 3, 3, 3, 3, 3, 3, 3, 3, 3, 3]\n",
      "[4, 0, 0, 0, 0, 4, 0, 0, 0, 0, 4, 0, 0, 4, 4]\n",
      "[3, 3, 3, 3, 3, 3, 3, 3, 3, 3, 3, 3, 3, 3, 3]\n",
      "[2, 3, 3, 3, 2, 2, 3, 2, 2, 3, 2, 2, 3, 2, 3]\n",
      "[3, 5, 1, 5, 5, 3, 5, 3, 5, 1, 3, 3, 3, 3, 5]\n",
      "[5, 5, 5, 5, 5, 5, 5, 5, 5, 5, 5, 5, 5, 5, 5]\n",
      "[4, 4, 4, 4, 4, 4, 4, 4, 4, 4, 4, 0, 0, 4, 4]\n",
      "[3, 1, 3, 3, 3, 1, 1, 1, 3, 3, 1, 3, 3, 3, 3]\n",
      "[1, 1, 1, 1, 1, 3, 1, 1, 1, 1, 3, 1, 3, 3, 1]\n",
      "[3, 1, 3, 3, 3, 3, 3, 1, 3, 3, 3, 3, 3, 3, 3]\n",
      "[3, 3, 3, 3, 3, 3, 3, 3, 3, 3, 3, 3, 3, 3, 3]\n",
      "[2, 2, 2, 2, 2, 2, 2, 2, 2, 2, 2, 2, 2, 2, 2]\n",
      "[0, 4, 4, 4, 4, 0, 4, 0, 4, 4, 4, 0, 0, 0, 4]\n",
      "[3, 3, 3, 3, 3, 3, 3, 3, 3, 3, 3, 3, 3, 3, 3]\n",
      "[5, 5, 5, 5, 5, 5, 5, 5, 5, 5, 5, 5, 5, 5, 5]\n",
      "[4, 4, 4, 4, 4, 4, 4, 4, 4, 4, 4, 4, 4, 4, 4]\n",
      "[1, 1, 1, 1, 1, 3, 1, 1, 1, 1, 1, 1, 3, 1, 1]\n",
      "[4, 4, 4, 4, 4, 4, 4, 4, 4, 4, 4, 4, 4, 4, 4]\n",
      "[3, 3, 3, 3, 3, 3, 3, 3, 3, 3, 3, 3, 3, 3, 3]\n",
      "[3, 3, 3, 3, 3, 3, 3, 3, 3, 3, 3, 3, 3, 3, 3]\n",
      "[2, 2, 2, 2, 2, 2, 2, 2, 2, 2, 2, 2, 2, 2, 2]\n",
      "[3, 3, 3, 3, 3, 3, 3, 3, 3, 3, 3, 3, 3, 3, 3]\n",
      "[3, 3, 3, 3, 3, 3, 3, 3, 3, 0, 3, 1, 3, 3, 2]\n",
      "[3, 3, 3, 3, 3, 3, 3, 3, 3, 3, 3, 3, 3, 3, 3]\n",
      "[2, 2, 2, 2, 2, 3, 2, 2, 2, 2, 2, 2, 2, 2, 2]\n",
      "[2, 2, 2, 2, 2, 2, 2, 2, 2, 2, 2, 2, 2, 2, 2]\n",
      "[3, 3, 3, 3, 3, 1, 1, 1, 1, 1, 3, 3, 1, 3, 1]\n",
      "[3, 3, 3, 3, 3, 3, 3, 3, 3, 3, 3, 3, 3, 3, 3]\n",
      "[3, 1, 3, 1, 3, 1, 1, 1, 1, 3, 3, 1, 3, 3, 1]\n",
      "[5, 5, 5, 5, 5, 5, 5, 5, 5, 5, 5, 5, 5, 5, 5]\n",
      "[5, 5, 5, 5, 5, 5, 5, 5, 5, 5, 5, 5, 5, 5, 5]\n",
      "[5, 5, 5, 5, 5, 5, 5, 5, 5, 5, 5, 5, 5, 5, 5]\n",
      "[1, 1, 1, 1, 1, 1, 1, 1, 1, 1, 1, 3, 1, 1, 1]\n",
      "[5, 5, 5, 5, 5, 5, 5, 5, 5, 5, 5, 5, 5, 5, 5]\n",
      "[1, 1, 3, 1, 3, 3, 3, 3, 1, 1, 3, 1, 1, 1, 1]\n",
      "[3, 3, 3, 3, 3, 3, 3, 3, 3, 3, 3, 3, 3, 3, 3]\n",
      "[3, 3, 3, 3, 3, 3, 3, 3, 3, 3, 3, 3, 3, 3, 3]\n",
      "[5, 5, 2, 5, 5, 5, 5, 5, 5, 5, 5, 5, 2, 5, 5]\n",
      "[4, 4, 4, 4, 4, 4, 4, 4, 4, 4, 4, 4, 4, 4, 4]\n",
      "[5, 5, 5, 5, 5, 5, 5, 5, 5, 5, 5, 5, 5, 5, 5]\n",
      "[4, 4, 4, 4, 4, 4, 4, 4, 4, 4, 4, 4, 4, 4, 4]\n",
      "[3, 3, 3, 3, 3, 3, 3, 3, 3, 3, 3, 3, 3, 3, 3]\n",
      "[5, 5, 5, 5, 5, 5, 5, 5, 5, 5, 5, 5, 5, 5, 5]\n",
      "[1, 1, 1, 1, 1, 4, 1, 1, 1, 1, 3, 1, 1, 1, 1]\n",
      "[1, 1, 3, 1, 3, 3, 3, 1, 1, 3, 3, 1, 3, 3, 1]\n",
      "[0, 0, 0, 0, 0, 0, 4, 0, 0, 0, 4, 0, 0, 0, 0]\n",
      "[4, 0, 4, 0, 0, 4, 4, 0, 4, 0, 4, 4, 4, 4, 4]\n",
      "[4, 4, 4, 4, 4, 4, 4, 4, 4, 4, 4, 4, 4, 4, 4]\n",
      "[4, 4, 4, 4, 4, 4, 4, 4, 4, 4, 4, 4, 4, 4, 4]\n",
      "[3, 3, 3, 3, 3, 3, 3, 3, 3, 3, 3, 3, 3, 3, 3]\n",
      "[3, 3, 3, 1, 1, 3, 3, 3, 1, 3, 3, 3, 3, 3, 1]\n",
      "[4, 4, 4, 4, 4, 4, 4, 3, 4, 4, 4, 4, 4, 4, 4]\n",
      "[2, 2, 2, 2, 2, 2, 2, 2, 2, 2, 2, 2, 2, 2, 2]\n",
      "[3, 3, 3, 3, 3, 3, 3, 3, 3, 3, 3, 3, 3, 3, 3]\n",
      "[4, 0, 0, 0, 4, 4, 4, 0, 0, 0, 4, 4, 0, 4, 0]\n",
      "[3, 3, 3, 3, 3, 3, 3, 3, 3, 3, 3, 3, 3, 3, 3]\n",
      "[4, 4, 4, 4, 4, 4, 4, 4, 4, 4, 4, 4, 0, 4, 4]\n",
      "[1, 1, 1, 3, 1, 3, 1, 1, 3, 1, 3, 1, 3, 3, 1]\n",
      "[4, 4, 4, 4, 4, 4, 4, 4, 4, 4, 4, 4, 4, 4, 4]\n",
      "[3, 3, 3, 3, 3, 3, 3, 3, 3, 3, 3, 3, 3, 3, 3]\n",
      "[5, 5, 5, 5, 5, 5, 5, 5, 5, 5, 5, 3, 5, 5, 5]\n",
      "[2, 2, 2, 2, 2, 2, 2, 2, 2, 2, 2, 2, 2, 2, 2]\n",
      "[4, 4, 4, 4, 4, 4, 4, 4, 4, 4, 4, 4, 4, 4, 4]\n",
      "[0, 0, 0, 0, 0, 0, 0, 0, 0, 0, 0, 0, 0, 0, 0]\n",
      "[3, 3, 3, 3, 3, 3, 3, 3, 3, 3, 3, 3, 3, 3, 3]\n",
      "[4, 4, 4, 4, 4, 4, 4, 4, 4, 4, 4, 4, 4, 4, 4]\n",
      "[4, 4, 1, 4, 4, 4, 4, 4, 4, 4, 1, 1, 4, 4, 4]\n",
      "[3, 3, 3, 3, 3, 3, 3, 3, 3, 3, 3, 3, 3, 3, 3]\n",
      "[3, 3, 3, 3, 3, 3, 3, 3, 3, 3, 3, 3, 3, 3, 3]\n",
      "[3, 3, 3, 3, 3, 3, 3, 1, 3, 3, 3, 3, 3, 3, 3]\n",
      "[2, 2, 3, 3, 2, 2, 2, 2, 3, 2, 3, 2, 2, 3, 3]\n",
      "[1, 1, 1, 3, 1, 4, 1, 1, 1, 1, 1, 1, 1, 1, 1]\n",
      "[1, 1, 1, 5, 5, 5, 1, 1, 5, 1, 1, 5, 3, 1, 5]\n",
      "[0, 0, 0, 0, 0, 0, 0, 0, 0, 0, 0, 0, 0, 0, 0]\n",
      "[4, 4, 4, 4, 4, 4, 4, 4, 4, 4, 4, 4, 4, 4, 4]\n",
      "[5, 5, 5, 5, 5, 5, 5, 5, 5, 5, 5, 5, 5, 5, 5]\n",
      "[4, 4, 4, 4, 4, 4, 4, 0, 4, 4, 4, 4, 4, 4, 4]\n",
      "[3, 3, 3, 3, 3, 3, 3, 2, 3, 3, 2, 3, 2, 3, 3]\n",
      "[0, 0, 4, 0, 0, 0, 0, 0, 0, 0, 0, 0, 0, 0, 0]\n",
      "[4, 4, 4, 4, 4, 4, 4, 4, 4, 4, 4, 4, 4, 4, 4]\n",
      "[3, 3, 3, 3, 3, 3, 3, 3, 3, 3, 3, 3, 3, 3, 3]\n",
      "[4, 4, 3, 1, 3, 1, 1, 1, 4, 3, 1, 4, 1, 1, 1]\n",
      "[3, 3, 3, 3, 1, 3, 3, 1, 3, 3, 3, 3, 3, 3, 3]\n",
      "[3, 3, 3, 3, 3, 3, 3, 3, 3, 3, 3, 3, 3, 3, 3]\n",
      "[3, 3, 3, 3, 3, 3, 3, 3, 3, 3, 1, 1, 3, 3, 3]\n",
      "[5, 5, 5, 5, 5, 5, 5, 5, 5, 5, 5, 5, 5, 5, 5]\n",
      "[4, 4, 4, 4, 4, 4, 4, 4, 4, 4, 4, 4, 4, 4, 4]\n",
      "[0, 0, 0, 0, 4, 4, 4, 0, 0, 0, 4, 0, 0, 4, 4]\n",
      "[2, 2, 2, 2, 2, 2, 2, 2, 2, 2, 2, 2, 2, 2, 2]\n",
      "[2, 2, 3, 3, 2, 2, 2, 2, 3, 2, 3, 2, 2, 3, 3]\n",
      "[4, 4, 0, 4, 4, 4, 4, 0, 0, 4, 4, 4, 0, 4, 4]\n",
      "[3, 1, 3, 3, 3, 3, 3, 3, 1, 3, 3, 1, 3, 3, 1]\n",
      "[4, 4, 4, 0, 4, 0, 4, 0, 0, 4, 4, 0, 0, 4, 0]\n",
      "[0, 0, 0, 0, 0, 4, 0, 0, 0, 0, 4, 0, 0, 4, 0]\n",
      "[4, 4, 4, 4, 4, 4, 1, 1, 4, 4, 4, 4, 0, 1, 4]\n",
      "[2, 2, 2, 2, 2, 2, 2, 2, 2, 2, 2, 2, 2, 2, 2]\n",
      "[1, 3, 3, 1, 1, 1, 1, 1, 1, 1, 1, 1, 1, 1, 1]\n",
      "[0, 0, 0, 0, 0, 0, 0, 0, 0, 0, 0, 0, 0, 0, 0]\n",
      "[3, 3, 3, 3, 3, 3, 3, 3, 3, 3, 3, 3, 3, 3, 3]\n",
      "[3, 3, 1, 3, 3, 3, 3, 3, 3, 3, 3, 3, 3, 3, 3]\n",
      "[3, 3, 3, 3, 3, 3, 3, 3, 3, 3, 3, 3, 3, 3, 3]\n",
      "[5, 5, 5, 5, 5, 5, 5, 5, 5, 5, 5, 5, 5, 5, 5]\n",
      "[3, 5, 5, 5, 5, 3, 5, 3, 5, 5, 3, 3, 5, 5, 5]\n",
      "[3, 3, 3, 3, 3, 3, 3, 3, 3, 3, 3, 3, 3, 3, 3]\n",
      "[3, 1, 1, 3, 3, 1, 1, 3, 3, 3, 3, 1, 3, 3, 3]\n",
      "[3, 3, 3, 3, 3, 3, 3, 3, 3, 3, 3, 3, 3, 3, 3]\n",
      "[3, 3, 3, 3, 3, 3, 3, 3, 3, 3, 3, 3, 3, 3, 3]\n",
      "[3, 5, 3, 0, 4, 4, 4, 0, 0, 4, 4, 0, 3, 4, 4]\n",
      "[2, 2, 2, 2, 2, 2, 2, 2, 2, 2, 2, 2, 2, 2, 2]\n",
      "[1, 3, 1, 1, 3, 1, 1, 3, 1, 3, 3, 1, 1, 3, 3]\n",
      "[0, 0, 0, 0, 0, 0, 0, 0, 0, 0, 0, 0, 0, 0, 0]\n",
      "[5, 5, 5, 5, 5, 5, 5, 5, 5, 5, 5, 5, 5, 5, 5]\n",
      "[1, 1, 1, 1, 1, 1, 3, 1, 1, 1, 1, 1, 1, 1, 1]\n",
      "[4, 4, 4, 4, 4, 4, 4, 4, 4, 4, 4, 4, 4, 4, 4]\n",
      "[4, 4, 4, 4, 4, 4, 4, 4, 4, 4, 4, 4, 4, 4, 4]\n",
      "[3, 3, 3, 3, 3, 3, 3, 3, 3, 3, 3, 3, 3, 3, 3]\n",
      "[3, 5, 5, 5, 5, 5, 3, 5, 5, 5, 3, 5, 5, 5, 3]\n",
      "[3, 5, 5, 5, 5, 5, 5, 5, 5, 5, 5, 5, 5, 5, 5]\n",
      "[3, 3, 3, 3, 3, 3, 3, 3, 3, 3, 3, 3, 3, 3, 3]\n",
      "[0, 0, 0, 0, 0, 0, 0, 0, 0, 0, 0, 0, 0, 0, 0]\n",
      "[0, 0, 0, 0, 0, 0, 0, 0, 0, 0, 0, 0, 0, 0, 0]\n",
      "[4, 4, 4, 4, 4, 4, 4, 4, 4, 4, 4, 4, 4, 4, 4]\n",
      "[3, 3, 3, 3, 3, 3, 3, 3, 3, 3, 3, 3, 3, 3, 3]\n",
      "[4, 4, 4, 4, 4, 4, 4, 4, 4, 4, 4, 4, 4, 4, 4]\n",
      "[3, 1, 1, 4, 3, 3, 1, 1, 1, 4, 3, 3, 4, 1, 3]\n",
      "[1, 4, 4, 1, 4, 5, 1, 1, 4, 4, 1, 4, 4, 4, 4]\n",
      "[5, 5, 5, 3, 5, 5, 5, 5, 5, 5, 5, 3, 5, 3, 5]\n",
      "[2, 2, 2, 2, 2, 2, 2, 2, 2, 2, 2, 2, 2, 2, 2]\n",
      "[1, 1, 1, 1, 1, 1, 1, 1, 1, 1, 1, 1, 1, 1, 1]\n",
      "[5, 5, 5, 5, 5, 5, 5, 5, 5, 5, 5, 5, 5, 5, 5]\n",
      "[3, 3, 3, 3, 3, 3, 3, 3, 3, 3, 3, 3, 3, 3, 3]\n",
      "[2, 2, 2, 2, 2, 2, 2, 2, 2, 2, 2, 2, 2, 2, 2]\n",
      "[3, 3, 1, 3, 3, 3, 1, 3, 3, 1, 3, 3, 3, 3, 3]\n",
      "[3, 3, 3, 3, 3, 2, 3, 3, 3, 3, 3, 3, 5, 3, 5]\n",
      "[2, 2, 2, 2, 2, 2, 2, 2, 2, 2, 2, 2, 2, 2, 2]\n",
      "[3, 3, 3, 3, 3, 3, 2, 3, 3, 3, 3, 3, 3, 3, 3]\n",
      "[2, 2, 2, 2, 2, 2, 2, 2, 2, 2, 2, 2, 2, 2, 2]\n",
      "[2, 2, 3, 2, 2, 2, 2, 2, 3, 2, 3, 3, 3, 3, 2]\n",
      "[5, 5, 5, 5, 5, 5, 5, 5, 5, 5, 5, 5, 5, 5, 5]\n",
      "[3, 3, 3, 3, 3, 3, 3, 3, 3, 3, 3, 3, 3, 3, 3]\n",
      "[0, 0, 0, 0, 0, 0, 0, 0, 4, 0, 0, 0, 0, 0, 0]\n",
      "[5, 5, 5, 5, 5, 5, 5, 5, 5, 5, 5, 5, 5, 5, 5]\n",
      "[4, 0, 4, 4, 4, 4, 4, 4, 4, 4, 4, 4, 4, 4, 4]\n",
      "[3, 5, 5, 5, 5, 5, 5, 5, 5, 5, 5, 5, 5, 3, 5]\n",
      "[4, 4, 4, 4, 0, 4, 4, 0, 4, 4, 4, 0, 4, 4, 4]\n",
      "[4, 4, 0, 4, 4, 4, 4, 0, 4, 0, 4, 0, 4, 4, 4]\n",
      "[4, 4, 4, 4, 4, 4, 4, 4, 4, 4, 4, 4, 4, 4, 4]\n",
      "[2, 0, 0, 2, 3, 3, 3, 1, 2, 2, 1, 3, 1, 3, 0]\n",
      "[3, 4, 3, 4, 5, 5, 3, 4, 4, 4, 4, 4, 4, 4, 3]\n",
      "[0, 0, 0, 0, 0, 4, 0, 0, 0, 0, 0, 0, 0, 0, 0]\n",
      "[1, 3, 3, 3, 3, 3, 3, 3, 3, 3, 3, 3, 3, 3, 3]\n",
      "[0, 0, 5, 0, 5, 5, 5, 0, 0, 2, 0, 5, 0, 0, 0]\n",
      "[3, 3, 3, 3, 3, 3, 3, 3, 3, 3, 3, 3, 3, 3, 3]\n",
      "[3, 3, 3, 3, 3, 3, 3, 3, 3, 3, 3, 3, 3, 3, 3]\n",
      "[4, 4, 4, 4, 4, 4, 4, 4, 4, 4, 4, 4, 4, 4, 4]\n",
      "[5, 5, 5, 5, 5, 5, 5, 5, 5, 5, 5, 5, 3, 5, 5]\n",
      "[3, 3, 3, 3, 3, 3, 3, 3, 3, 3, 3, 3, 3, 3, 3]\n",
      "[3, 3, 5, 5, 5, 5, 5, 5, 3, 3, 5, 5, 5, 5, 3]\n",
      "[3, 1, 1, 1, 1, 3, 1, 1, 1, 1, 3, 1, 3, 1, 1]\n",
      "[1, 3, 3, 3, 3, 1, 3, 3, 3, 3, 1, 1, 3, 1, 3]\n",
      "[0, 4, 4, 4, 4, 4, 0, 0, 0, 4, 4, 4, 0, 4, 4]\n",
      "[5, 5, 5, 5, 5, 5, 5, 5, 5, 5, 5, 5, 5, 5, 5]\n",
      "[5, 5, 5, 5, 5, 5, 5, 5, 5, 5, 5, 5, 5, 5, 5]\n",
      "[1, 3, 1, 3, 1, 1, 3, 3, 3, 3, 1, 1, 3, 3, 1]\n",
      "[5, 5, 5, 5, 5, 5, 5, 5, 5, 5, 5, 5, 5, 5, 5]\n",
      "[3, 3, 3, 3, 3, 3, 3, 3, 3, 3, 3, 3, 2, 3, 3]\n",
      "[5, 5, 2, 5, 5, 5, 5, 5, 5, 5, 5, 5, 5, 5, 5]\n",
      "[4, 4, 4, 4, 4, 4, 4, 4, 4, 4, 4, 4, 4, 4, 4]\n",
      "[0, 0, 0, 0, 0, 4, 0, 0, 0, 0, 0, 0, 0, 4, 0]\n",
      "[5, 5, 5, 5, 5, 5, 5, 5, 5, 5, 5, 5, 5, 5, 5]\n",
      "[3, 3, 1, 3, 3, 3, 3, 3, 1, 3, 3, 3, 3, 1, 5]\n",
      "[3, 3, 3, 3, 3, 3, 3, 3, 3, 3, 3, 3, 3, 3, 3]\n",
      "[5, 5, 5, 5, 5, 5, 5, 5, 5, 5, 5, 5, 5, 5, 5]\n",
      "[4, 4, 4, 4, 4, 4, 4, 4, 4, 4, 4, 4, 4, 4, 4]\n",
      "[1, 1, 1, 1, 1, 1, 1, 1, 1, 1, 1, 1, 3, 1, 1]\n",
      "[5, 5, 5, 5, 5, 5, 5, 5, 5, 5, 5, 5, 5, 5, 5]\n",
      "[2, 3, 3, 3, 3, 3, 2, 2, 2, 2, 3, 2, 2, 2, 3]\n",
      "[3, 3, 3, 3, 3, 3, 3, 3, 3, 3, 3, 3, 3, 3, 3]\n",
      "[2, 2, 2, 2, 3, 3, 2, 2, 2, 2, 2, 3, 2, 3, 2]\n",
      "[0, 4, 4, 4, 4, 4, 4, 4, 4, 4, 4, 4, 4, 4, 4]\n",
      "[4, 4, 4, 4, 4, 4, 4, 4, 4, 4, 4, 4, 4, 4, 4]\n",
      "[0, 0, 0, 0, 0, 0, 0, 0, 0, 0, 0, 0, 0, 0, 0]\n",
      "[4, 4, 4, 4, 4, 4, 4, 4, 4, 4, 4, 0, 4, 4, 4]\n",
      "[5, 5, 5, 5, 5, 5, 3, 5, 5, 5, 5, 5, 5, 5, 5]\n",
      "[2, 2, 2, 2, 2, 2, 2, 2, 2, 2, 2, 2, 2, 2, 2]\n",
      "[5, 5, 5, 5, 5, 5, 5, 5, 5, 5, 5, 5, 5, 5, 5]\n",
      "[3, 3, 3, 3, 3, 3, 3, 5, 3, 3, 3, 3, 3, 3, 3]\n",
      "[2, 5, 5, 5, 5, 2, 5, 5, 5, 5, 2, 5, 5, 5, 5]\n",
      "[3, 3, 3, 3, 3, 3, 3, 3, 3, 3, 3, 3, 3, 3, 3]\n",
      "[1, 1, 3, 1, 1, 1, 1, 1, 3, 1, 3, 1, 3, 1, 3]\n",
      "[1, 1, 1, 1, 1, 1, 1, 5, 1, 1, 1, 1, 1, 1, 1]\n",
      "[3, 2, 3, 1, 3, 3, 2, 2, 1, 2, 2, 3, 2, 3, 3]\n",
      "[1, 1, 1, 1, 1, 3, 1, 1, 1, 1, 1, 1, 1, 1, 1]\n",
      "[3, 3, 3, 3, 3, 3, 3, 3, 3, 3, 3, 3, 3, 3, 3]\n",
      "[3, 3, 3, 3, 3, 3, 3, 3, 3, 3, 3, 3, 3, 3, 3]\n",
      "[2, 2, 2, 2, 2, 2, 2, 2, 2, 2, 2, 2, 2, 2, 2]\n",
      "[3, 3, 3, 3, 3, 3, 3, 3, 3, 3, 3, 3, 3, 3, 3]\n",
      "[5, 5, 5, 5, 5, 5, 5, 5, 5, 5, 5, 5, 5, 5, 5]\n",
      "[3, 5, 5, 3, 5, 5, 3, 5, 5, 5, 5, 5, 5, 3, 5]\n",
      "[3, 3, 3, 3, 3, 3, 3, 3, 3, 3, 3, 3, 3, 3, 3]\n",
      "[3, 3, 3, 3, 3, 3, 3, 1, 1, 3, 3, 3, 3, 3, 1]\n",
      "[1, 1, 1, 3, 1, 1, 1, 1, 1, 3, 3, 1, 1, 3, 1]\n",
      "[3, 3, 3, 5, 3, 3, 3, 3, 3, 3, 3, 3, 3, 3, 3]\n",
      "[3, 3, 3, 1, 1, 3, 3, 1, 3, 3, 3, 3, 3, 1, 1]\n",
      "[4, 4, 4, 4, 4, 4, 4, 4, 4, 4, 4, 4, 4, 4, 4]\n",
      "[3, 3, 3, 3, 3, 3, 3, 2, 3, 3, 3, 3, 3, 3, 3]\n",
      "[3, 3, 3, 3, 3, 3, 3, 3, 3, 3, 3, 3, 3, 3, 3]\n",
      "[2, 2, 2, 2, 2, 2, 2, 2, 2, 2, 2, 2, 2, 2, 2]\n",
      "[4, 4, 4, 4, 4, 4, 4, 4, 4, 4, 4, 4, 4, 4, 4]\n",
      "[0, 4, 4, 0, 0, 4, 0, 0, 0, 0, 4, 0, 4, 0, 0]\n",
      "[2, 3, 2, 3, 3, 3, 2, 2, 3, 2, 2, 2, 2, 2, 3]\n",
      "[0, 0, 0, 0, 0, 4, 0, 0, 0, 4, 4, 0, 0, 4, 4]\n",
      "[3, 3, 3, 3, 3, 3, 3, 3, 3, 3, 3, 3, 3, 3, 3]\n",
      "[3, 3, 3, 3, 3, 3, 3, 3, 3, 3, 3, 3, 3, 3, 3]\n",
      "[3, 3, 3, 3, 3, 3, 3, 3, 3, 3, 3, 3, 3, 3, 3]\n",
      "[5, 5, 5, 5, 5, 5, 5, 5, 5, 5, 5, 5, 5, 5, 5]\n",
      "[5, 5, 5, 5, 5, 0, 5, 5, 5, 5, 5, 5, 5, 5, 5]\n",
      "[1, 1, 1, 1, 1, 1, 1, 1, 1, 1, 1, 1, 1, 1, 1]\n",
      "[0, 0, 0, 0, 0, 0, 0, 0, 0, 0, 0, 0, 0, 0, 0]\n",
      "[3, 3, 3, 3, 3, 3, 3, 3, 3, 3, 3, 3, 3, 3, 3]\n",
      "[5, 5, 5, 5, 5, 5, 5, 5, 5, 5, 5, 5, 5, 5, 3]\n",
      "[5, 5, 5, 5, 5, 5, 5, 5, 5, 5, 5, 5, 5, 5, 5]\n",
      "[2, 2, 3, 2, 2, 2, 2, 2, 2, 2, 2, 1, 2, 2, 2]\n",
      "[5, 5, 5, 5, 5, 5, 5, 5, 5, 5, 5, 5, 5, 5, 5]\n",
      "[3, 3, 1, 1, 3, 1, 3, 3, 1, 1, 3, 4, 1, 3, 3]\n",
      "[3, 3, 3, 1, 3, 3, 3, 1, 3, 3, 3, 3, 3, 3, 3]\n",
      "[3, 3, 3, 3, 3, 3, 3, 3, 3, 3, 3, 3, 3, 3, 3]\n",
      "[5, 5, 5, 5, 5, 5, 5, 5, 5, 5, 5, 5, 5, 5, 5]\n",
      "[4, 4, 4, 4, 4, 4, 4, 4, 4, 4, 4, 4, 4, 4, 4]\n",
      "[3, 5, 5, 5, 5, 5, 3, 3, 5, 3, 3, 5, 5, 3, 5]\n",
      "[2, 2, 2, 2, 2, 2, 2, 2, 2, 2, 2, 2, 2, 2, 2]\n",
      "[2, 2, 2, 2, 2, 2, 2, 2, 2, 2, 2, 2, 2, 2, 2]\n",
      "[3, 3, 3, 3, 3, 3, 3, 3, 3, 3, 3, 3, 3, 3, 3]\n",
      "[2, 2, 5, 5, 1, 3, 2, 3, 3, 2, 5, 3, 3, 3, 3]\n",
      "[2, 2, 3, 5, 3, 3, 3, 5, 5, 3, 3, 3, 5, 3, 3]\n",
      "[3, 3, 3, 3, 3, 3, 3, 3, 3, 3, 3, 3, 3, 3, 3]\n",
      "[0, 0, 0, 4, 0, 0, 4, 4, 4, 4, 3, 4, 0, 0, 0]\n",
      "[1, 3, 3, 3, 3, 3, 3, 3, 1, 3, 3, 3, 1, 3, 3]\n",
      "[4, 4, 4, 0, 4, 4, 4, 0, 0, 0, 4, 4, 0, 4, 4]\n",
      "[3, 3, 3, 3, 3, 3, 3, 3, 3, 3, 3, 3, 3, 3, 3]\n",
      "[3, 3, 3, 3, 3, 3, 3, 3, 3, 3, 3, 3, 3, 3, 3]\n",
      "[3, 3, 3, 3, 3, 3, 3, 2, 3, 3, 3, 3, 3, 3, 3]\n",
      "[5, 5, 5, 5, 5, 5, 5, 5, 5, 5, 5, 5, 5, 5, 5]\n",
      "[5, 5, 5, 5, 5, 5, 5, 5, 5, 5, 5, 5, 5, 5, 5]\n",
      "[4, 4, 4, 4, 4, 4, 4, 4, 4, 4, 4, 4, 4, 4, 4]\n",
      "[3, 3, 3, 3, 3, 3, 3, 3, 3, 3, 3, 3, 3, 3, 3]\n",
      "[1, 3, 3, 1, 3, 1, 3, 2, 1, 3, 3, 3, 3, 3, 1]\n",
      "[4, 4, 4, 0, 4, 4, 4, 4, 4, 4, 4, 4, 4, 4, 4]\n",
      "[5, 5, 5, 5, 5, 5, 5, 5, 5, 5, 5, 5, 5, 5, 5]\n",
      "[3, 3, 5, 3, 3, 3, 5, 5, 3, 3, 5, 5, 5, 3, 3]\n",
      "[3, 3, 3, 3, 3, 3, 3, 3, 3, 3, 3, 3, 3, 3, 3]\n",
      "[5, 5, 5, 5, 5, 5, 5, 5, 5, 5, 5, 5, 5, 5, 5]\n",
      "[1, 1, 1, 1, 1, 1, 1, 1, 1, 1, 1, 1, 1, 1, 1]\n"
     ]
    },
    {
     "name": "stdout",
     "output_type": "stream",
     "text": [
      "[4, 4, 4, 4, 4, 4, 4, 4, 4, 4, 4, 4, 4, 4, 4]\n",
      "[5, 5, 5, 5, 5, 5, 5, 5, 5, 5, 5, 5, 5, 5, 3]\n",
      "[2, 2, 2, 2, 2, 2, 2, 2, 2, 2, 2, 2, 2, 2, 2]\n",
      "[4, 4, 4, 0, 4, 4, 4, 4, 4, 4, 4, 4, 0, 4, 4]\n",
      "[2, 2, 2, 2, 2, 2, 2, 2, 2, 2, 2, 2, 2, 3, 2]\n",
      "[3, 1, 3, 3, 3, 3, 3, 3, 1, 3, 3, 3, 3, 3, 1]\n",
      "[3, 3, 1, 1, 1, 3, 1, 1, 3, 1, 3, 1, 3, 1, 3]\n",
      "[3, 3, 3, 3, 3, 3, 3, 3, 3, 3, 3, 3, 3, 3, 3]\n",
      "[4, 4, 4, 4, 4, 4, 4, 4, 4, 4, 4, 4, 4, 4, 4]\n",
      "[2, 2, 2, 2, 2, 2, 2, 2, 2, 2, 2, 2, 2, 2, 2]\n",
      "[3, 3, 3, 2, 2, 2, 2, 2, 3, 2, 3, 3, 3, 2, 2]\n",
      "[3, 3, 3, 3, 3, 2, 3, 3, 3, 3, 3, 3, 3, 3, 3]\n",
      "[3, 3, 3, 3, 3, 3, 3, 3, 3, 3, 3, 3, 3, 3, 3]\n",
      "[2, 3, 3, 3, 3, 2, 2, 2, 3, 3, 3, 2, 2, 3, 3]\n",
      "[3, 3, 3, 3, 3, 3, 3, 3, 3, 3, 3, 3, 3, 3, 3]\n",
      "[5, 5, 5, 5, 5, 5, 5, 5, 5, 5, 5, 5, 5, 5, 5]\n",
      "[3, 3, 3, 3, 3, 2, 2, 3, 3, 3, 2, 3, 3, 3, 3]\n",
      "[3, 3, 3, 3, 3, 3, 3, 3, 3, 3, 3, 3, 3, 3, 3]\n",
      "[3, 3, 3, 3, 3, 3, 3, 3, 3, 3, 3, 3, 3, 3, 3]\n",
      "[4, 4, 4, 4, 4, 4, 4, 4, 4, 4, 4, 4, 4, 4, 4]\n",
      "[4, 4, 4, 4, 4, 4, 4, 4, 4, 4, 4, 4, 4, 4, 4]\n",
      "[5, 5, 5, 5, 5, 5, 5, 5, 5, 5, 5, 5, 5, 5, 5]\n",
      "[2, 2, 2, 2, 2, 2, 2, 2, 2, 2, 2, 2, 2, 2, 2]\n",
      "[2, 2, 2, 2, 2, 2, 2, 2, 2, 2, 2, 2, 2, 2, 2]\n",
      "[1, 1, 1, 1, 1, 1, 1, 1, 3, 1, 1, 1, 1, 1, 3]\n",
      "[4, 0, 0, 0, 0, 0, 4, 0, 0, 0, 4, 0, 0, 0, 0]\n",
      "[5, 5, 5, 5, 5, 5, 5, 5, 5, 5, 5, 5, 5, 5, 5]\n",
      "[0, 4, 0, 0, 0, 0, 0, 4, 0, 0, 0, 0, 0, 0, 4]\n",
      "[4, 0, 4, 4, 4, 4, 4, 0, 0, 0, 4, 4, 4, 4, 0]\n",
      "[1, 1, 1, 3, 3, 1, 3, 1, 3, 3, 5, 1, 3, 3, 1]\n",
      "[4, 0, 4, 0, 4, 0, 4, 4, 0, 0, 4, 4, 0, 0, 3]\n",
      "[5, 5, 5, 5, 5, 5, 5, 5, 5, 5, 5, 5, 5, 5, 5]\n",
      "[3, 3, 3, 3, 3, 3, 3, 3, 3, 3, 3, 3, 3, 3, 3]\n",
      "[4, 0, 0, 0, 0, 4, 4, 4, 0, 0, 0, 4, 0, 4, 4]\n",
      "[5, 5, 5, 5, 5, 5, 5, 5, 5, 5, 5, 5, 5, 5, 5]\n",
      "[1, 1, 1, 3, 3, 4, 4, 0, 1, 1, 1, 1, 3, 3, 3]\n",
      "[4, 3, 4, 4, 4, 4, 4, 4, 3, 4, 4, 4, 0, 4, 4]\n",
      "[4, 4, 4, 4, 4, 4, 4, 4, 4, 4, 4, 4, 4, 4, 4]\n",
      "[3, 3, 3, 3, 3, 3, 3, 3, 3, 3, 3, 3, 3, 3, 3]\n",
      "[0, 4, 4, 4, 4, 4, 4, 4, 4, 4, 4, 4, 4, 4, 4]\n",
      "[3, 4, 3, 4, 1, 4, 3, 3, 3, 4, 3, 1, 4, 4, 3]\n",
      "[5, 5, 5, 5, 5, 5, 5, 5, 5, 5, 5, 5, 5, 5, 5]\n",
      "[5, 5, 5, 5, 5, 5, 5, 5, 5, 5, 5, 5, 5, 5, 5]\n",
      "[3, 3, 3, 3, 3, 3, 3, 3, 3, 3, 3, 3, 3, 3, 3]\n",
      "[4, 0, 4, 4, 4, 4, 4, 4, 0, 0, 4, 4, 0, 4, 0]\n",
      "[4, 0, 4, 4, 3, 4, 4, 4, 4, 4, 4, 4, 4, 1, 4]\n",
      "[4, 4, 4, 4, 4, 4, 4, 4, 4, 4, 4, 4, 4, 4, 4]\n",
      "[4, 4, 4, 4, 4, 4, 4, 4, 4, 4, 4, 4, 4, 4, 4]\n",
      "[3, 3, 3, 3, 3, 3, 3, 3, 3, 3, 3, 3, 3, 3, 3]\n",
      "[1, 1, 1, 1, 1, 1, 1, 1, 1, 1, 1, 1, 1, 1, 1]\n",
      "[5, 5, 5, 5, 5, 5, 5, 5, 5, 5, 5, 5, 5, 5, 5]\n",
      "[5, 5, 5, 5, 5, 3, 5, 5, 5, 5, 5, 5, 5, 5, 5]\n",
      "[1, 5, 1, 5, 1, 3, 3, 1, 3, 1, 5, 3, 1, 3, 5]\n",
      "[3, 3, 3, 3, 3, 3, 3, 3, 3, 3, 3, 3, 3, 3, 3]\n",
      "[4, 4, 4, 0, 4, 4, 4, 4, 4, 0, 4, 0, 0, 4, 4]\n",
      "[5, 5, 5, 5, 5, 5, 5, 5, 5, 5, 5, 5, 5, 3, 5]\n",
      "[3, 4, 3, 3, 3, 3, 3, 3, 4, 3, 3, 3, 3, 3, 3]\n",
      "[4, 4, 4, 4, 4, 4, 4, 1, 4, 4, 4, 4, 4, 4, 4]\n",
      "[0, 0, 0, 0, 0, 0, 0, 0, 0, 0, 0, 0, 0, 0, 0]\n",
      "[3, 3, 3, 3, 3, 3, 3, 3, 3, 3, 3, 3, 3, 3, 5]\n",
      "[3, 4, 2, 3, 3, 3, 3, 3, 3, 3, 3, 3, 3, 3, 3]\n",
      "[1, 3, 3, 1, 3, 3, 1, 3, 3, 1, 3, 3, 3, 3, 3]\n",
      "[4, 4, 4, 0, 0, 4, 4, 0, 0, 0, 4, 4, 4, 4, 4]\n",
      "[3, 3, 3, 3, 3, 3, 3, 3, 3, 3, 3, 3, 3, 3, 3]\n",
      "[5, 5, 5, 5, 5, 5, 5, 5, 5, 5, 5, 5, 5, 5, 5]\n",
      "[5, 5, 5, 5, 5, 5, 5, 5, 5, 5, 5, 5, 5, 5, 5]\n",
      "[1, 3, 3, 1, 1, 3, 1, 1, 1, 3, 3, 1, 3, 1, 1]\n",
      "[5, 5, 5, 5, 5, 5, 5, 5, 5, 5, 5, 5, 5, 5, 5]\n",
      "[5, 5, 5, 5, 5, 5, 5, 5, 5, 5, 5, 5, 5, 5, 5]\n",
      "[3, 2, 2, 3, 2, 3, 2, 3, 3, 2, 2, 3, 2, 2, 3]\n",
      "[5, 5, 5, 5, 5, 5, 5, 5, 5, 5, 5, 5, 5, 5, 5]\n",
      "[4, 0, 0, 0, 4, 4, 4, 0, 0, 4, 4, 0, 0, 4, 0]\n",
      "[4, 4, 4, 4, 4, 4, 4, 4, 0, 4, 4, 4, 4, 4, 4]\n",
      "[5, 5, 5, 5, 5, 5, 5, 5, 5, 5, 5, 5, 5, 5, 5]\n",
      "[2, 2, 2, 2, 2, 2, 2, 2, 2, 2, 2, 2, 2, 2, 2]\n",
      "[2, 2, 2, 2, 2, 2, 2, 2, 2, 2, 2, 2, 2, 2, 2]\n",
      "[4, 4, 3, 4, 3, 3, 3, 4, 4, 3, 3, 3, 3, 3, 3]\n",
      "[2, 2, 3, 2, 3, 2, 2, 2, 2, 2, 2, 2, 2, 2, 2]\n",
      "[2, 2, 2, 2, 2, 2, 2, 2, 2, 2, 2, 2, 2, 2, 2]\n",
      "[4, 4, 0, 0, 4, 4, 4, 4, 0, 0, 4, 0, 0, 0, 0]\n",
      "[3, 3, 3, 3, 3, 3, 3, 3, 3, 3, 3, 3, 3, 3, 3]\n",
      "[5, 5, 5, 5, 5, 5, 5, 5, 5, 5, 5, 5, 5, 5, 5]\n",
      "[1, 1, 3, 1, 1, 5, 3, 1, 1, 1, 3, 1, 3, 1, 1]\n",
      "[4, 4, 4, 4, 4, 4, 4, 4, 4, 4, 4, 4, 4, 4, 4]\n",
      "[0, 0, 0, 0, 0, 4, 0, 0, 0, 0, 4, 0, 0, 4, 0]\n",
      "[1, 3, 3, 1, 3, 3, 3, 3, 1, 3, 3, 1, 1, 1, 1]\n",
      "[5, 5, 5, 5, 5, 5, 5, 5, 5, 5, 5, 5, 5, 5, 5]\n",
      "[4, 4, 4, 4, 4, 4, 4, 4, 4, 4, 4, 4, 4, 4, 4]\n",
      "[3, 3, 3, 3, 3, 3, 3, 3, 3, 3, 3, 3, 3, 3, 3]\n",
      "[4, 0, 0, 0, 4, 3, 4, 0, 3, 3, 4, 0, 4, 4, 0]\n",
      "[3, 3, 3, 3, 3, 3, 3, 3, 3, 3, 3, 3, 3, 3, 3]\n",
      "[5, 5, 5, 5, 5, 5, 5, 5, 5, 5, 5, 5, 5, 5, 5]\n",
      "[4, 4, 4, 4, 4, 4, 4, 4, 4, 0, 4, 4, 0, 4, 4]\n",
      "[4, 4, 4, 4, 4, 4, 4, 4, 4, 4, 4, 4, 4, 4, 4]\n",
      "[5, 5, 5, 5, 5, 5, 5, 5, 5, 5, 5, 5, 5, 5, 5]\n",
      "[0, 0, 0, 0, 4, 4, 0, 0, 0, 4, 4, 4, 0, 4, 4]\n",
      "[3, 3, 3, 3, 3, 3, 3, 1, 3, 3, 3, 3, 3, 3, 3]\n",
      "[5, 5, 5, 5, 5, 5, 5, 5, 5, 5, 5, 5, 5, 5, 5]\n",
      "[1, 0, 3, 3, 1, 3, 3, 1, 1, 3, 3, 1, 0, 4, 3]\n",
      "[1, 1, 1, 1, 1, 1, 1, 1, 1, 1, 1, 1, 1, 1, 1]\n",
      "[4, 4, 4, 4, 4, 4, 4, 1, 4, 0, 5, 0, 4, 4, 0]\n",
      "[0, 0, 0, 0, 0, 0, 0, 0, 0, 0, 0, 1, 0, 0, 0]\n",
      "[1, 1, 3, 3, 1, 3, 1, 1, 3, 3, 3, 1, 1, 3, 3]\n",
      "[1, 1, 1, 1, 1, 1, 1, 1, 1, 1, 1, 1, 1, 1, 1]\n",
      "[5, 5, 5, 5, 5, 5, 5, 5, 5, 5, 5, 5, 5, 5, 5]\n",
      "[0, 0, 0, 0, 0, 0, 0, 0, 0, 0, 0, 0, 0, 0, 0]\n",
      "[4, 1, 3, 1, 4, 4, 4, 0, 0, 1, 1, 1, 1, 1, 1]\n",
      "[4, 4, 4, 4, 4, 4, 4, 4, 4, 4, 4, 4, 4, 0, 4]\n",
      "[5, 5, 5, 5, 5, 5, 5, 5, 5, 5, 5, 5, 5, 5, 5]\n",
      "[1, 3, 3, 3, 3, 0, 1, 3, 4, 3, 3, 3, 3, 3, 3]\n",
      "[5, 5, 5, 5, 5, 5, 5, 5, 5, 5, 5, 5, 5, 5, 5]\n",
      "[2, 2, 2, 2, 2, 2, 2, 2, 2, 2, 2, 2, 2, 2, 2]\n",
      "[4, 4, 4, 4, 4, 4, 4, 4, 4, 4, 4, 4, 4, 4, 4]\n",
      "[4, 0, 0, 0, 0, 0, 0, 0, 0, 0, 4, 0, 0, 4, 0]\n",
      "[5, 5, 5, 5, 5, 5, 5, 5, 5, 5, 5, 5, 5, 5, 5]\n",
      "[4, 4, 3, 4, 3, 3, 3, 3, 4, 3, 3, 3, 4, 4, 3]\n",
      "[2, 2, 3, 5, 3, 5, 2, 2, 2, 5, 2, 3, 5, 2, 5]\n",
      "[5, 5, 5, 5, 5, 5, 5, 5, 5, 5, 5, 5, 3, 3, 5]\n",
      "[3, 3, 3, 3, 3, 3, 3, 1, 3, 3, 3, 3, 3, 3, 3]\n",
      "[3, 3, 3, 3, 3, 3, 3, 3, 3, 3, 3, 3, 3, 3, 3]\n",
      "[3, 3, 3, 3, 3, 3, 3, 3, 3, 3, 3, 3, 3, 3, 3]\n",
      "[2, 2, 2, 2, 2, 2, 2, 2, 2, 2, 2, 2, 2, 2, 2]\n",
      "[4, 4, 4, 4, 4, 4, 4, 4, 4, 4, 4, 4, 4, 4, 4]\n",
      "[2, 2, 2, 2, 2, 2, 2, 2, 2, 2, 2, 2, 2, 2, 2]\n",
      "[3, 1, 3, 4, 3, 3, 3, 3, 3, 1, 3, 3, 4, 3, 3]\n",
      "[3, 3, 3, 1, 3, 3, 1, 3, 1, 3, 3, 1, 3, 1, 1]\n",
      "[2, 3, 3, 3, 3, 3, 2, 3, 3, 3, 2, 3, 3, 3, 3]\n",
      "[5, 5, 3, 5, 5, 5, 5, 5, 5, 5, 5, 5, 5, 5, 5]\n",
      "[3, 5, 5, 5, 5, 5, 5, 5, 5, 5, 5, 5, 5, 5, 5]\n",
      "[4, 4, 4, 4, 4, 4, 4, 4, 4, 4, 4, 4, 4, 4, 4]\n",
      "[1, 1, 1, 1, 1, 1, 1, 1, 1, 1, 1, 1, 1, 1, 1]\n",
      "[3, 3, 3, 3, 3, 3, 3, 3, 3, 3, 3, 3, 3, 3, 3]\n",
      "[3, 3, 3, 3, 3, 3, 3, 3, 3, 3, 3, 3, 3, 3, 3]\n",
      "[1, 1, 5, 5, 5, 5, 1, 5, 3, 1, 5, 1, 1, 1, 5]\n",
      "[5, 5, 3, 5, 5, 5, 5, 5, 5, 3, 3, 3, 5, 5, 5]\n",
      "[5, 5, 5, 5, 5, 5, 5, 5, 5, 5, 5, 5, 5, 5, 5]\n",
      "[3, 3, 3, 1, 3, 3, 3, 3, 3, 1, 3, 3, 3, 3, 3]\n",
      "[3, 3, 3, 3, 3, 3, 3, 1, 3, 3, 3, 3, 3, 3, 3]\n",
      "[2, 2, 2, 2, 2, 2, 2, 2, 2, 2, 2, 2, 2, 2, 2]\n",
      "[3, 3, 5, 3, 3, 3, 3, 3, 3, 3, 3, 3, 3, 3, 3]\n",
      "[5, 5, 5, 5, 5, 5, 5, 5, 5, 5, 5, 5, 5, 5, 5]\n",
      "[3, 3, 3, 3, 3, 3, 3, 3, 5, 3, 3, 3, 5, 3, 3]\n",
      "[3, 3, 3, 3, 3, 3, 3, 3, 3, 3, 3, 3, 3, 3, 3]\n",
      "[3, 2, 3, 2, 2, 3, 2, 3, 3, 2, 3, 3, 3, 3, 3]\n",
      "[3, 3, 3, 3, 3, 3, 3, 3, 3, 3, 3, 3, 3, 3, 3]\n",
      "[2, 3, 3, 3, 3, 3, 3, 3, 3, 3, 3, 3, 3, 3, 3]\n",
      "[3, 3, 3, 3, 3, 3, 3, 3, 3, 3, 3, 3, 3, 3, 3]\n",
      "[5, 5, 2, 5, 5, 5, 5, 5, 5, 5, 2, 5, 5, 5, 5]\n",
      "[5, 5, 5, 5, 5, 5, 5, 5, 5, 5, 5, 5, 5, 5, 5]\n",
      "[4, 4, 4, 4, 4, 4, 4, 4, 4, 4, 4, 4, 4, 4, 4]\n",
      "[3, 3, 3, 3, 3, 3, 3, 3, 4, 3, 3, 3, 3, 3, 3]\n",
      "[5, 5, 5, 5, 5, 5, 5, 5, 5, 5, 5, 5, 5, 5, 5]\n",
      "[5, 5, 5, 5, 5, 4, 5, 5, 5, 5, 5, 5, 5, 5, 5]\n",
      "[1, 1, 1, 1, 1, 1, 1, 1, 1, 1, 1, 1, 1, 1, 1]\n",
      "[1, 3, 1, 1, 1, 3, 1, 1, 1, 1, 1, 1, 1, 1, 1]\n",
      "[3, 3, 3, 3, 3, 3, 3, 3, 3, 3, 3, 3, 3, 3, 3]\n",
      "[5, 5, 5, 5, 5, 5, 5, 5, 5, 5, 5, 5, 5, 3, 5]\n",
      "[3, 3, 3, 3, 3, 3, 3, 3, 3, 3, 3, 3, 3, 3, 1]\n",
      "[5, 5, 5, 5, 5, 5, 5, 5, 5, 5, 5, 5, 5, 5, 5]\n",
      "[4, 4, 4, 0, 4, 4, 4, 4, 4, 0, 4, 4, 0, 4, 4]\n",
      "[2, 2, 2, 2, 2, 2, 2, 2, 2, 2, 2, 3, 2, 2, 2]\n",
      "[4, 4, 4, 4, 4, 4, 4, 4, 4, 4, 4, 4, 4, 4, 4]\n",
      "[2, 2, 3, 3, 2, 3, 3, 2, 2, 2, 3, 3, 2, 2, 0]\n",
      "[4, 4, 4, 4, 4, 4, 4, 4, 4, 4, 4, 4, 4, 4, 4]\n",
      "[4, 4, 4, 4, 4, 4, 4, 4, 4, 4, 4, 4, 4, 4, 4]\n",
      "[4, 0, 4, 0, 0, 4, 0, 0, 0, 4, 4, 4, 4, 4, 4]\n",
      "[3, 1, 1, 3, 3, 3, 1, 3, 1, 1, 3, 1, 3, 3, 3]\n",
      "[4, 4, 4, 4, 4, 4, 4, 4, 4, 4, 4, 4, 4, 4, 4]\n",
      "[5, 5, 5, 5, 5, 5, 5, 5, 5, 5, 5, 5, 5, 5, 5]\n",
      "[1, 1, 1, 1, 1, 1, 1, 1, 1, 1, 1, 3, 1, 1, 1]\n",
      "[2, 2, 2, 2, 2, 2, 2, 2, 2, 2, 2, 2, 2, 2, 2]\n",
      "[3, 3, 3, 3, 3, 3, 3, 3, 3, 3, 3, 3, 3, 3, 3]\n",
      "[3, 1, 3, 3, 3, 1, 3, 1, 3, 3, 3, 3, 3, 3, 3]\n",
      "[5, 5, 5, 5, 5, 5, 5, 5, 3, 5, 5, 5, 5, 5, 5]\n",
      "[2, 2, 2, 5, 5, 5, 2, 2, 2, 5, 2, 5, 5, 2, 2]\n",
      "[2, 2, 2, 2, 2, 2, 2, 2, 2, 2, 2, 2, 2, 2, 2]\n",
      "[3, 3, 3, 3, 3, 3, 3, 3, 3, 3, 3, 3, 3, 3, 3]\n",
      "[3, 3, 3, 3, 3, 3, 3, 3, 3, 3, 3, 3, 3, 3, 3]\n",
      "[3, 5, 5, 5, 5, 5, 5, 5, 5, 5, 5, 5, 5, 5, 5]\n",
      "[3, 3, 3, 3, 3, 3, 3, 3, 3, 3, 3, 3, 3, 3, 3]\n",
      "[3, 3, 3, 3, 3, 3, 3, 3, 3, 3, 3, 3, 3, 3, 3]\n",
      "[4, 4, 4, 4, 4, 4, 0, 4, 0, 0, 4, 4, 4, 4, 4]\n",
      "[1, 1, 1, 1, 1, 1, 1, 1, 1, 1, 1, 1, 1, 1, 1]\n",
      "[1, 1, 1, 1, 3, 1, 1, 1, 1, 3, 1, 1, 1, 1, 1]\n",
      "[3, 3, 3, 3, 3, 3, 3, 3, 3, 1, 3, 3, 1, 3, 3]\n",
      "[0, 0, 0, 0, 0, 4, 4, 0, 4, 0, 0, 0, 0, 4, 4]\n",
      "[3, 3, 3, 3, 3, 3, 3, 3, 5, 3, 3, 3, 3, 3, 3]\n",
      "[2, 2, 2, 2, 2, 2, 2, 2, 2, 2, 2, 2, 2, 2, 2]\n",
      "[3, 3, 5, 3, 3, 5, 3, 5, 3, 3, 3, 3, 3, 3, 3]\n",
      "[0, 0, 0, 0, 0, 0, 0, 0, 0, 0, 4, 0, 0, 0, 0]\n",
      "[4, 4, 4, 4, 4, 4, 4, 4, 4, 4, 4, 4, 4, 4, 4]\n",
      "[3, 3, 3, 3, 3, 3, 3, 3, 3, 3, 3, 3, 3, 3, 3]\n",
      "[1, 1, 1, 1, 1, 3, 1, 1, 1, 1, 3, 1, 1, 1, 1]\n",
      "[3, 3, 3, 3, 3, 3, 3, 3, 3, 3, 3, 3, 3, 3, 3]\n",
      "[3, 3, 3, 1, 3, 3, 3, 3, 3, 3, 3, 3, 3, 3, 3]\n",
      "[1, 1, 1, 1, 1, 1, 1, 1, 1, 1, 1, 1, 1, 1, 1]\n",
      "[5, 5, 5, 5, 5, 5, 5, 5, 5, 5, 5, 5, 5, 5, 5]\n",
      "[3, 3, 3, 3, 3, 3, 3, 3, 1, 3, 3, 3, 3, 3, 3]\n",
      "[5, 5, 5, 5, 5, 5, 5, 5, 5, 5, 5, 5, 5, 5, 5]\n",
      "[1, 3, 3, 3, 3, 3, 3, 3, 3, 3, 3, 3, 3, 3, 3]\n",
      "[3, 3, 3, 3, 3, 3, 3, 3, 3, 3, 3, 3, 3, 3, 3]\n",
      "[3, 3, 1, 1, 1, 3, 1, 1, 1, 1, 3, 3, 3, 1, 3]\n",
      "[3, 3, 3, 3, 3, 2, 3, 3, 2, 3, 2, 2, 2, 3, 3]\n",
      "[5, 3, 3, 5, 3, 5, 5, 3, 5, 5, 3, 5, 3, 3, 5]\n",
      "[1, 1, 1, 1, 1, 3, 1, 1, 1, 1, 1, 1, 1, 1, 1]\n",
      "[4, 4, 0, 0, 0, 4, 4, 0, 4, 0, 4, 0, 0, 4, 0]\n",
      "[3, 3, 3, 3, 3, 3, 3, 3, 3, 3, 3, 3, 3, 3, 3]\n",
      "[4, 4, 4, 4, 4, 4, 4, 4, 4, 0, 4, 4, 4, 4, 4]\n",
      "[5, 5, 5, 5, 5, 5, 5, 5, 5, 5, 5, 5, 5, 5, 5]\n",
      "[5, 2, 5, 5, 3, 2, 5, 5, 2, 5, 5, 3, 5, 5, 2]\n",
      "[2, 2, 2, 2, 2, 2, 2, 2, 2, 2, 2, 2, 2, 2, 2]\n",
      "[0, 0, 4, 0, 0, 4, 0, 0, 0, 0, 4, 4, 0, 4, 0]\n",
      "[2, 2, 2, 2, 2, 2, 2, 2, 2, 2, 2, 2, 2, 2, 2]\n",
      "[0, 0, 0, 0, 0, 0, 0, 0, 0, 0, 4, 0, 0, 0, 0]\n",
      "[3, 1, 1, 3, 3, 1, 1, 3, 3, 3, 3, 1, 3, 3, 1]\n",
      "[5, 3, 5, 3, 5, 5, 5, 5, 5, 5, 5, 3, 5, 5, 5]\n",
      "[5, 3, 5, 5, 5, 5, 5, 5, 5, 5, 5, 5, 5, 5, 5]\n",
      "[3, 3, 3, 3, 3, 3, 3, 3, 3, 3, 3, 3, 3, 3, 3]\n",
      "[5, 5, 3, 5, 5, 5, 5, 5, 3, 3, 3, 3, 5, 3, 5]\n",
      "[5, 5, 5, 5, 5, 5, 5, 5, 5, 5, 5, 5, 5, 5, 5]\n",
      "[5, 5, 5, 5, 5, 5, 5, 5, 5, 5, 5, 5, 5, 5, 5]\n",
      "[0, 0, 0, 0, 0, 0, 0, 0, 0, 0, 0, 0, 0, 0, 0]\n",
      "[0, 0, 0, 0, 4, 0, 0, 0, 4, 0, 0, 0, 0, 0, 0]\n",
      "[4, 4, 0, 4, 3, 4, 4, 4, 4, 0, 0, 5, 1, 4, 4]\n"
     ]
    }
   ],
   "source": [
    "length = predict_list[1].shape[0]\n",
    "final_predict =[]\n",
    "for i in range(length):\n",
    "    votes=[]\n",
    "    for j in range(n_estimaor):\n",
    "        v0 = np.argmax(predict_list[j][i])\n",
    "        votes.append(v0)\n",
    "    \n",
    "    print([i for i in (votes)])\n",
    "\n",
    "    \n",
    "    res = Counter(votes).most_common(1)[0][0]\n",
    "    \n",
    "    final_predict.append(res)\n"
   ]
  },
  {
   "cell_type": "code",
   "execution_count": 197,
   "metadata": {},
   "outputs": [
    {
     "data": {
      "text/plain": [
       "[4,\n",
       " 4,\n",
       " 1,\n",
       " 4,\n",
       " 1,\n",
       " 1,\n",
       " 1,\n",
       " 3,\n",
       " 3,\n",
       " 5,\n",
       " 4,\n",
       " 2,\n",
       " 3,\n",
       " 0,\n",
       " 5,\n",
       " 5,\n",
       " 0,\n",
       " 4,\n",
       " 1,\n",
       " 3,\n",
       " 1,\n",
       " 4,\n",
       " 4,\n",
       " 5,\n",
       " 2,\n",
       " 4,\n",
       " 3,\n",
       " 3,\n",
       " 2,\n",
       " 3,\n",
       " 3,\n",
       " 5,\n",
       " 5,\n",
       " 0,\n",
       " 1,\n",
       " 3,\n",
       " 3,\n",
       " 3,\n",
       " 5,\n",
       " 1,\n",
       " 4,\n",
       " 3,\n",
       " 4,\n",
       " 1,\n",
       " 3,\n",
       " 4,\n",
       " 4,\n",
       " 3,\n",
       " 3,\n",
       " 5,\n",
       " 4,\n",
       " 4,\n",
       " 0,\n",
       " 0,\n",
       " 3,\n",
       " 3,\n",
       " 4,\n",
       " 3,\n",
       " 3,\n",
       " 4,\n",
       " 0,\n",
       " 5,\n",
       " 4,\n",
       " 3,\n",
       " 3,\n",
       " 2,\n",
       " 3,\n",
       " 4,\n",
       " 4,\n",
       " 3,\n",
       " 3,\n",
       " 4,\n",
       " 2,\n",
       " 3,\n",
       " 3,\n",
       " 3,\n",
       " 3,\n",
       " 5,\n",
       " 3,\n",
       " 3,\n",
       " 3,\n",
       " 3,\n",
       " 5,\n",
       " 2,\n",
       " 4,\n",
       " 2,\n",
       " 5,\n",
       " 5,\n",
       " 3,\n",
       " 5,\n",
       " 3,\n",
       " 5,\n",
       " 3,\n",
       " 3,\n",
       " 5,\n",
       " 3,\n",
       " 2,\n",
       " 3,\n",
       " 4,\n",
       " 1,\n",
       " 3,\n",
       " 1,\n",
       " 4,\n",
       " 5,\n",
       " 1,\n",
       " 3,\n",
       " 2,\n",
       " 1,\n",
       " 3,\n",
       " 4,\n",
       " 3,\n",
       " 2,\n",
       " 4,\n",
       " 4,\n",
       " 1,\n",
       " 4,\n",
       " 4,\n",
       " 5,\n",
       " 1,\n",
       " 3,\n",
       " 4,\n",
       " 3,\n",
       " 3,\n",
       " 3,\n",
       " 5,\n",
       " 2,\n",
       " 4,\n",
       " 3,\n",
       " 1,\n",
       " 0,\n",
       " 1,\n",
       " 5,\n",
       " 1,\n",
       " 1,\n",
       " 3,\n",
       " 5,\n",
       " 5,\n",
       " 4,\n",
       " 3,\n",
       " 4,\n",
       " 5,\n",
       " 3,\n",
       " 1,\n",
       " 1,\n",
       " 4,\n",
       " 1,\n",
       " 4,\n",
       " 4,\n",
       " 2,\n",
       " 3,\n",
       " 3,\n",
       " 3,\n",
       " 4,\n",
       " 5,\n",
       " 3,\n",
       " 0,\n",
       " 3,\n",
       " 0,\n",
       " 5,\n",
       " 4,\n",
       " 4,\n",
       " 5,\n",
       " 5,\n",
       " 4,\n",
       " 2,\n",
       " 3,\n",
       " 1,\n",
       " 3,\n",
       " 5,\n",
       " 0,\n",
       " 3,\n",
       " 3,\n",
       " 3,\n",
       " 3,\n",
       " 1,\n",
       " 4,\n",
       " 3,\n",
       " 3,\n",
       " 3,\n",
       " 3,\n",
       " 5,\n",
       " 4,\n",
       " 5,\n",
       " 4,\n",
       " 2,\n",
       " 2,\n",
       " 4,\n",
       " 4,\n",
       " 1,\n",
       " 3,\n",
       " 5,\n",
       " 5,\n",
       " 0,\n",
       " 3,\n",
       " 2,\n",
       " 1,\n",
       " 1,\n",
       " 4,\n",
       " 1,\n",
       " 5,\n",
       " 3,\n",
       " 5,\n",
       " 1,\n",
       " 3,\n",
       " 3,\n",
       " 3,\n",
       " 4,\n",
       " 4,\n",
       " 4,\n",
       " 3,\n",
       " 5,\n",
       " 3,\n",
       " 4,\n",
       " 3,\n",
       " 5,\n",
       " 1,\n",
       " 4,\n",
       " 4,\n",
       " 4,\n",
       " 3,\n",
       " 5,\n",
       " 5,\n",
       " 3,\n",
       " 4,\n",
       " 4,\n",
       " 3,\n",
       " 3,\n",
       " 2,\n",
       " 3,\n",
       " 1,\n",
       " 3,\n",
       " 4,\n",
       " 5,\n",
       " 5,\n",
       " 3,\n",
       " 5,\n",
       " 1,\n",
       " 3,\n",
       " 3,\n",
       " 0,\n",
       " 5,\n",
       " 4,\n",
       " 2,\n",
       " 4,\n",
       " 4,\n",
       " 0,\n",
       " 3,\n",
       " 3,\n",
       " 4,\n",
       " 4,\n",
       " 3,\n",
       " 2,\n",
       " 5,\n",
       " 4,\n",
       " 5,\n",
       " 4,\n",
       " 3,\n",
       " 1,\n",
       " 5,\n",
       " 0,\n",
       " 1,\n",
       " 3,\n",
       " 3,\n",
       " 3,\n",
       " 3,\n",
       " 1,\n",
       " 5,\n",
       " 1,\n",
       " 2,\n",
       " 4,\n",
       " 5,\n",
       " 3,\n",
       " 5,\n",
       " 4,\n",
       " 4,\n",
       " 0,\n",
       " 3,\n",
       " 3,\n",
       " 3,\n",
       " 0,\n",
       " 4,\n",
       " 3,\n",
       " 2,\n",
       " 0,\n",
       " 4,\n",
       " 5,\n",
       " 4,\n",
       " 3,\n",
       " 4,\n",
       " 3,\n",
       " 3,\n",
       " 4,\n",
       " 3,\n",
       " 3,\n",
       " 3,\n",
       " 3,\n",
       " 1,\n",
       " 4,\n",
       " 2,\n",
       " 3,\n",
       " 4,\n",
       " 4,\n",
       " 2,\n",
       " 3,\n",
       " 3,\n",
       " 1,\n",
       " 2,\n",
       " 4,\n",
       " 0,\n",
       " 3,\n",
       " 4,\n",
       " 2,\n",
       " 4,\n",
       " 5,\n",
       " 3,\n",
       " 4,\n",
       " 3,\n",
       " 5,\n",
       " 3,\n",
       " 5,\n",
       " 4,\n",
       " 3,\n",
       " 3,\n",
       " 3,\n",
       " 3,\n",
       " 5,\n",
       " 1,\n",
       " 3,\n",
       " 1,\n",
       " 1,\n",
       " 4,\n",
       " 4,\n",
       " 0,\n",
       " 5,\n",
       " 1,\n",
       " 0,\n",
       " 3,\n",
       " 3,\n",
       " 1,\n",
       " 1,\n",
       " 2,\n",
       " 1,\n",
       " 3,\n",
       " 5,\n",
       " 2,\n",
       " 1,\n",
       " 0,\n",
       " 5,\n",
       " 3,\n",
       " 3,\n",
       " 1,\n",
       " 1,\n",
       " 3,\n",
       " 2,\n",
       " 5,\n",
       " 3,\n",
       " 3,\n",
       " 0,\n",
       " 1,\n",
       " 4,\n",
       " 2,\n",
       " 4,\n",
       " 4,\n",
       " 5,\n",
       " 5,\n",
       " 1,\n",
       " 5,\n",
       " 5,\n",
       " 1,\n",
       " 3,\n",
       " 3,\n",
       " 5,\n",
       " 1,\n",
       " 4,\n",
       " 4,\n",
       " 1,\n",
       " 5,\n",
       " 3,\n",
       " 4,\n",
       " 3,\n",
       " 3,\n",
       " 0,\n",
       " 5,\n",
       " 4,\n",
       " 1,\n",
       " 5,\n",
       " 5,\n",
       " 4,\n",
       " 3,\n",
       " 1,\n",
       " 3,\n",
       " 4,\n",
       " 1,\n",
       " 2,\n",
       " 3,\n",
       " 5,\n",
       " 4,\n",
       " 4,\n",
       " 0,\n",
       " 4,\n",
       " 3,\n",
       " 4,\n",
       " 1,\n",
       " 2,\n",
       " 2,\n",
       " 0,\n",
       " 3,\n",
       " 5,\n",
       " 3,\n",
       " 4,\n",
       " 5,\n",
       " 3,\n",
       " 4,\n",
       " 0,\n",
       " 3,\n",
       " 0,\n",
       " 3,\n",
       " 3,\n",
       " 4,\n",
       " 5,\n",
       " 4,\n",
       " 4,\n",
       " 5,\n",
       " 0,\n",
       " 3,\n",
       " 3,\n",
       " 4,\n",
       " 1,\n",
       " 1,\n",
       " 5,\n",
       " 5,\n",
       " 0,\n",
       " 3,\n",
       " 0,\n",
       " 1,\n",
       " 4,\n",
       " 4,\n",
       " 0,\n",
       " 3,\n",
       " 0,\n",
       " 4,\n",
       " 5,\n",
       " 2,\n",
       " 4,\n",
       " 3,\n",
       " 1,\n",
       " 5,\n",
       " 1,\n",
       " 1,\n",
       " 3,\n",
       " 5,\n",
       " 1,\n",
       " 5,\n",
       " 4,\n",
       " 3,\n",
       " 3,\n",
       " 2,\n",
       " 2,\n",
       " 3,\n",
       " 1,\n",
       " 0,\n",
       " 3,\n",
       " 5,\n",
       " 2,\n",
       " 4,\n",
       " 0,\n",
       " 4,\n",
       " 1,\n",
       " 3,\n",
       " 2,\n",
       " 3,\n",
       " 2,\n",
       " 1,\n",
       " 3,\n",
       " 5,\n",
       " 1,\n",
       " 1,\n",
       " 5,\n",
       " 1,\n",
       " 4,\n",
       " 4,\n",
       " 5,\n",
       " 4,\n",
       " 4,\n",
       " 3,\n",
       " 3,\n",
       " 3,\n",
       " 1,\n",
       " 4,\n",
       " 5,\n",
       " 5,\n",
       " 5,\n",
       " 3,\n",
       " 1,\n",
       " 3,\n",
       " 3,\n",
       " 3,\n",
       " 5,\n",
       " 3,\n",
       " 3,\n",
       " 5,\n",
       " 5,\n",
       " 3,\n",
       " 4,\n",
       " 5,\n",
       " 0,\n",
       " 5,\n",
       " 1,\n",
       " 5,\n",
       " 0,\n",
       " 2,\n",
       " 5,\n",
       " 3,\n",
       " 3,\n",
       " 4,\n",
       " 3,\n",
       " 1,\n",
       " 5,\n",
       " 4,\n",
       " 4,\n",
       " 4,\n",
       " 5,\n",
       " 2,\n",
       " 4,\n",
       " 3,\n",
       " 3,\n",
       " 2,\n",
       " 4,\n",
       " 5,\n",
       " 3,\n",
       " 5,\n",
       " 5,\n",
       " 4,\n",
       " 2,\n",
       " 0,\n",
       " 5,\n",
       " 2,\n",
       " 1,\n",
       " 3,\n",
       " 3,\n",
       " 4,\n",
       " 4,\n",
       " 4,\n",
       " 1,\n",
       " 4,\n",
       " 3,\n",
       " 3,\n",
       " 4,\n",
       " 4,\n",
       " 1,\n",
       " 5,\n",
       " 3,\n",
       " 3,\n",
       " 3,\n",
       " 0,\n",
       " 1,\n",
       " 3,\n",
       " 1,\n",
       " 1,\n",
       " 0,\n",
       " 5,\n",
       " 5,\n",
       " 5,\n",
       " 4,\n",
       " 2,\n",
       " 5,\n",
       " 1,\n",
       " 1,\n",
       " 5,\n",
       " 4,\n",
       " 5,\n",
       " 5,\n",
       " 1,\n",
       " 4,\n",
       " 4,\n",
       " 5,\n",
       " 1,\n",
       " 3,\n",
       " 3,\n",
       " 3,\n",
       " 4,\n",
       " 4,\n",
       " 1,\n",
       " 3,\n",
       " 4,\n",
       " 2,\n",
       " 3,\n",
       " 4,\n",
       " 4,\n",
       " 5,\n",
       " 1,\n",
       " 1,\n",
       " 4,\n",
       " 1,\n",
       " 3,\n",
       " 2,\n",
       " 0,\n",
       " 4,\n",
       " 5,\n",
       " 3,\n",
       " 1,\n",
       " 1,\n",
       " 4,\n",
       " 3,\n",
       " 2,\n",
       " 3,\n",
       " 5,\n",
       " 4,\n",
       " 3,\n",
       " 0,\n",
       " 2,\n",
       " 3,\n",
       " 3,\n",
       " 3,\n",
       " 0,\n",
       " 4,\n",
       " 3,\n",
       " 4,\n",
       " 4,\n",
       " 5,\n",
       " 4,\n",
       " 5,\n",
       " 3,\n",
       " 0,\n",
       " 1,\n",
       " 5,\n",
       " 3,\n",
       " 5,\n",
       " 1,\n",
       " 3,\n",
       " 4,\n",
       " 3,\n",
       " 3,\n",
       " 3,\n",
       " 4,\n",
       " 5,\n",
       " 2,\n",
       " 4,\n",
       " 5,\n",
       " 4,\n",
       " 3,\n",
       " 5,\n",
       " 3,\n",
       " 3,\n",
       " 2,\n",
       " 2,\n",
       " 4,\n",
       " 1,\n",
       " 5,\n",
       " 3,\n",
       " 4,\n",
       " 5,\n",
       " 3,\n",
       " 4,\n",
       " 3,\n",
       " 1,\n",
       " 1,\n",
       " 3,\n",
       " 3,\n",
       " 5,\n",
       " 3,\n",
       " 3,\n",
       " 3,\n",
       " 5,\n",
       " 5,\n",
       " 5,\n",
       " 4,\n",
       " 3,\n",
       " 1,\n",
       " 4,\n",
       " 4,\n",
       " 5,\n",
       " 2,\n",
       " 3,\n",
       " 3,\n",
       " 2,\n",
       " 1,\n",
       " 3,\n",
       " 3,\n",
       " 0,\n",
       " 5,\n",
       " 3,\n",
       " 3,\n",
       " 4,\n",
       " 0,\n",
       " 3,\n",
       " 3,\n",
       " 3,\n",
       " 5,\n",
       " 1,\n",
       " 5,\n",
       " 1,\n",
       " 4,\n",
       " 3,\n",
       " 4,\n",
       " 3,\n",
       " 3,\n",
       " 4,\n",
       " 0,\n",
       " 3,\n",
       " 3,\n",
       " 3,\n",
       " 3,\n",
       " 0,\n",
       " 4,\n",
       " 5,\n",
       " 3,\n",
       " 3,\n",
       " 0,\n",
       " 5,\n",
       " 3,\n",
       " 2,\n",
       " 4,\n",
       " 2,\n",
       " 1,\n",
       " 0,\n",
       " 4,\n",
       " 5,\n",
       " 3,\n",
       " 5,\n",
       " 1,\n",
       " 4,\n",
       " 5,\n",
       " 5,\n",
       " 5,\n",
       " 3,\n",
       " 3,\n",
       " 3,\n",
       " 1,\n",
       " 5,\n",
       " 0,\n",
       " 3,\n",
       " 5,\n",
       " 1,\n",
       " 5,\n",
       " 3,\n",
       " 1,\n",
       " 3,\n",
       " 0,\n",
       " 4,\n",
       " 4,\n",
       " 3,\n",
       " 5,\n",
       " 3,\n",
       " 4,\n",
       " 3,\n",
       " 5,\n",
       " 3,\n",
       " 2,\n",
       " 3,\n",
       " 0,\n",
       " 3,\n",
       " 3,\n",
       " 4,\n",
       " 3,\n",
       " 5,\n",
       " 1,\n",
       " 4,\n",
       " 3,\n",
       " 5,\n",
       " 5,\n",
       " 4,\n",
       " 1,\n",
       " 4,\n",
       " 5,\n",
       " 4,\n",
       " 4,\n",
       " 3,\n",
       " 3,\n",
       " 3,\n",
       " 1,\n",
       " 3,\n",
       " 1,\n",
       " 1,\n",
       " 0,\n",
       " 2,\n",
       " 3,\n",
       " 3,\n",
       " 4,\n",
       " 5,\n",
       " 4,\n",
       " 2,\n",
       " 4,\n",
       " 4,\n",
       " 4,\n",
       " 3,\n",
       " 0,\n",
       " 5,\n",
       " 3,\n",
       " 5,\n",
       " 1,\n",
       " 5,\n",
       " 5,\n",
       " 5,\n",
       " 1,\n",
       " 0,\n",
       " 3,\n",
       " 1,\n",
       " 2,\n",
       " 4,\n",
       " 5,\n",
       " 3,\n",
       " 4,\n",
       " 4,\n",
       " 1,\n",
       " 1,\n",
       " 3,\n",
       " 3,\n",
       " 3,\n",
       " 3,\n",
       " 0,\n",
       " 2,\n",
       " 5,\n",
       " 4,\n",
       " 1,\n",
       " 0,\n",
       " 3,\n",
       " 0,\n",
       " 4,\n",
       " 5,\n",
       " 0,\n",
       " 5,\n",
       " 3,\n",
       " 0,\n",
       " 3,\n",
       " 3,\n",
       " 2,\n",
       " 0,\n",
       " 4,\n",
       " 5,\n",
       " 3,\n",
       " 2,\n",
       " 3,\n",
       " 5,\n",
       " 3,\n",
       " 3,\n",
       " 5,\n",
       " 4,\n",
       " 3,\n",
       " 3,\n",
       " 4,\n",
       " 5,\n",
       " 4,\n",
       " 4,\n",
       " 3,\n",
       " 3,\n",
       " 1,\n",
       " 2,\n",
       " 4,\n",
       " 5,\n",
       " 5,\n",
       " 5,\n",
       " 2,\n",
       " 3,\n",
       " 5,\n",
       " 4,\n",
       " 3,\n",
       " 4,\n",
       " 3,\n",
       " 3,\n",
       " 3,\n",
       " 2,\n",
       " 1,\n",
       " 4,\n",
       " 3,\n",
       " 3,\n",
       " 5,\n",
       " 4,\n",
       " 4,\n",
       " 3,\n",
       " 3,\n",
       " 3,\n",
       " 2,\n",
       " 1,\n",
       " 3,\n",
       " 1,\n",
       " 4,\n",
       " 3,\n",
       " 5,\n",
       " 2,\n",
       " 3,\n",
       " 3,\n",
       " 5,\n",
       " 1,\n",
       " 3,\n",
       " 5,\n",
       " 3,\n",
       " 1,\n",
       " 2,\n",
       " 4,\n",
       " 4,\n",
       " 1,\n",
       " 3,\n",
       " 2,\n",
       " 3,\n",
       " 4,\n",
       " 0,\n",
       " 3,\n",
       " 3,\n",
       " 1,\n",
       " 3,\n",
       " 2,\n",
       " 2,\n",
       " 3,\n",
       " 0,\n",
       " 0,\n",
       " 3,\n",
       " 1,\n",
       " 5,\n",
       " 5,\n",
       " 1,\n",
       " 4,\n",
       " 3,\n",
       " 1,\n",
       " 3,\n",
       " 3,\n",
       " 2,\n",
       " 3,\n",
       " 0,\n",
       " 4,\n",
       " 4,\n",
       " 2,\n",
       " 1,\n",
       " 3,\n",
       " 2,\n",
       " 3,\n",
       " 0,\n",
       " 4,\n",
       " 1,\n",
       " 3,\n",
       " 4,\n",
       " 4,\n",
       " 5,\n",
       " 3,\n",
       " 5,\n",
       " 5,\n",
       " 3,\n",
       " 5,\n",
       " 4,\n",
       " 5,\n",
       " 2,\n",
       " 4,\n",
       " 0,\n",
       " 5,\n",
       " 3,\n",
       " 5,\n",
       " 0,\n",
       " 3,\n",
       " 4,\n",
       " 5,\n",
       " 4,\n",
       " 5,\n",
       " 5,\n",
       " 0,\n",
       " 1,\n",
       " 3,\n",
       " 3,\n",
       " 4,\n",
       " 4,\n",
       " 5,\n",
       " 3,\n",
       " 3,\n",
       " 3,\n",
       " 3,\n",
       " 1,\n",
       " 3,\n",
       " 5,\n",
       " 4,\n",
       " 3,\n",
       " 4,\n",
       " 1,\n",
       " 2,\n",
       " 3,\n",
       " 4,\n",
       " 5,\n",
       " 3,\n",
       " 0,\n",
       " 5,\n",
       " 5,\n",
       " 5,\n",
       " 3,\n",
       " 4,\n",
       " 5,\n",
       " 3,\n",
       " 2,\n",
       " 4,\n",
       " 1,\n",
       " 3,\n",
       " 5,\n",
       " 1,\n",
       " 2,\n",
       " 0,\n",
       " 5,\n",
       " 3,\n",
       " 1,\n",
       " 3,\n",
       " 5,\n",
       " 1,\n",
       " 5,\n",
       " 3,\n",
       " ...]"
      ]
     },
     "execution_count": 197,
     "metadata": {},
     "output_type": "execute_result"
    }
   ],
   "source": [
    "final_predict"
   ]
  },
  {
   "cell_type": "code",
   "execution_count": 198,
   "metadata": {},
   "outputs": [],
   "source": [
    "\n",
    "\n",
    "\n",
    "submission = pd.read_csv('./sample_submission.csv')\n",
    "submission['class'] = final_predict\n",
    "submission.to_csv('./ans.csv',index=False)"
   ]
  },
  {
   "cell_type": "code",
   "execution_count": 153,
   "metadata": {},
   "outputs": [
    {
     "data": {
      "text/plain": [
       "[<matplotlib.lines.Line2D at 0x121cbfeb8>]"
      ]
     },
     "execution_count": 153,
     "metadata": {},
     "output_type": "execute_result"
    },
    {
     "data": {
      "image/png": "[encoded data removed]",
      "text/plain": [
       "<matplotlib.figure.Figure at 0x11ff32978>"
      ]
     },
     "metadata": {},
     "output_type": "display_data"
    }
   ],
   "source": [
    "plt.plot(tr_acc,'.')"
   ]
  },
  {
   "cell_type": "code",
   "execution_count": 396,
   "metadata": {},
   "outputs": [
    {
     "name": "stdout",
     "output_type": "stream",
     "text": [
      "INFO:tensorflow:Restoring parameters from ./models/best_model.ckpt\n"
     ]
    }
   ],
   "source": [
    "sess = tf.Session()\n",
    "saver = tf.train.Saver()\n",
    "saver.restore(sess, \"./models/best_model.ckpt\")#到我們剛剛存檔的路徑將檔案叫出來，放入graph中對應的參數位置"
   ]
  },
  {
   "cell_type": "code",
   "execution_count": 157,
   "metadata": {},
   "outputs": [
    {
     "data": {
      "text/plain": [
       "0.60155520995334366"
      ]
     },
     "execution_count": 157,
     "metadata": {},
     "output_type": "execute_result"
    }
   ],
   "source": [
    "max(te_acc)"
   ]
  },
  {
   "cell_type": "code",
   "execution_count": 166,
   "metadata": {
    "scrolled": false
   },
   "outputs": [],
   "source": [
    "predict_list=[]\n",
    "te_pred = sess.run(y_pred, feed_dict={\n",
    "    input_data:test_data,\n",
    "    drp_rate: 0,\n",
    "    is_train: False\n",
    "})\n"
   ]
  },
  {
   "cell_type": "code",
   "execution_count": 167,
   "metadata": {},
   "outputs": [],
   "source": [
    "ans = np.argmax(te_pred, axis=1)"
   ]
  },
  {
   "cell_type": "code",
   "execution_count": 168,
   "metadata": {},
   "outputs": [],
   "source": [
    "submission = pd.read_csv('./sample_submission.csv')\n",
    "submission['class'] = ans"
   ]
  },
  {
   "cell_type": "code",
   "execution_count": 169,
   "metadata": {},
   "outputs": [],
   "source": [
    "submission.to_csv('./ans.csv',index=False)"
   ]
  },
  {
   "cell_type": "code",
   "execution_count": null,
   "metadata": {},
   "outputs": [],
   "source": []
  }
 ],
 "metadata": {
  "kernelspec": {
   "display_name": "Python 3",
   "language": "python",
   "name": "python3"
  },
  "language_info": {
   "codemirror_mode": {
    "name": "ipython",
    "version": 3
   },
   "file_extension": ".py",
   "mimetype": "text/x-python",
   "name": "python",
   "nbconvert_exporter": "python",
   "pygments_lexer": "ipython3",
   "version": "3.6.4"
  }
 },
 "nbformat": 4,
 "nbformat_minor": 2
}
